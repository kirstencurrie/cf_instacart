{
 "cells": [
  {
   "cell_type": "markdown",
   "id": "10917a6c-0fc3-4f77-a4d5-100dc2898b39",
   "metadata": {},
   "source": [
    "# Contents\n",
    "\n",
    "01. Importing Libraries\n",
    "02. Importing Datasets\n",
    "03. Lesson\n",
    "04. Exercise 4.5\n",
    "05. Export Cleaned Dataframes"
   ]
  },
  {
   "cell_type": "markdown",
   "id": "12c6e3ef-eb09-4971-ad87-294820bd58ff",
   "metadata": {
    "jp-MarkdownHeadingCollapsed": true
   },
   "source": [
    "# 01. Importing Libraries"
   ]
  },
  {
   "cell_type": "code",
   "execution_count": 21,
   "id": "1144a708-7400-46b3-a360-20a28222a1bc",
   "metadata": {
    "execution": {
     "iopub.execute_input": "2025-01-13T02:52:46.477289Z",
     "iopub.status.busy": "2025-01-13T02:52:46.476528Z",
     "iopub.status.idle": "2025-01-13T02:52:46.494368Z",
     "shell.execute_reply": "2025-01-13T02:52:46.493748Z",
     "shell.execute_reply.started": "2025-01-13T02:52:46.477264Z"
    }
   },
   "outputs": [],
   "source": [
    "import pandas as pd\n",
    "import numpy as np"
   ]
  },
  {
   "cell_type": "code",
   "execution_count": 22,
   "id": "f8e82935-b613-4853-b4c7-a7da1bb69c9e",
   "metadata": {
    "execution": {
     "iopub.execute_input": "2025-01-13T02:52:46.495472Z",
     "iopub.status.busy": "2025-01-13T02:52:46.495235Z",
     "iopub.status.idle": "2025-01-13T02:52:46.511778Z",
     "shell.execute_reply": "2025-01-13T02:52:46.511091Z",
     "shell.execute_reply.started": "2025-01-13T02:52:46.495452Z"
    }
   },
   "outputs": [
    {
     "name": "stdout",
     "output_type": "stream",
     "text": [
      "2.1.4\n",
      "1.26.4\n"
     ]
    }
   ],
   "source": [
    "# Confirming that pandas & numpy were imported by printing versions\n",
    "\n",
    "print(pd.__version__)\n",
    "print(np.__version__)"
   ]
  },
  {
   "cell_type": "markdown",
   "id": "cb36eb31-8315-4927-82ff-ec684815b87d",
   "metadata": {
    "jp-MarkdownHeadingCollapsed": true
   },
   "source": [
    "# 02. Importing Datasets"
   ]
  },
  {
   "cell_type": "code",
   "execution_count": 24,
   "id": "f1333968-2617-4ea6-90ce-0ad44495fd93",
   "metadata": {
    "execution": {
     "iopub.execute_input": "2025-01-13T02:52:46.538416Z",
     "iopub.status.busy": "2025-01-13T02:52:46.537689Z",
     "iopub.status.idle": "2025-01-13T02:52:46.555885Z",
     "shell.execute_reply": "2025-01-13T02:52:46.555184Z",
     "shell.execute_reply.started": "2025-01-13T02:52:46.538391Z"
    }
   },
   "outputs": [],
   "source": [
    "# Defines path as intro file path for Instacart project\n",
    "\n",
    "path = r'/home/0668a905-109d-4403-be59-0a04abf51dd9/Instacart Basket Analysis'"
   ]
  },
  {
   "cell_type": "code",
   "execution_count": 26,
   "id": "f3bc1bd5-a521-4ce9-a0c9-e7f07e186320",
   "metadata": {
    "execution": {
     "iopub.execute_input": "2025-01-13T02:52:46.588530Z",
     "iopub.status.busy": "2025-01-13T02:52:46.588271Z",
     "iopub.status.idle": "2025-01-13T02:52:46.700100Z",
     "shell.execute_reply": "2025-01-13T02:52:46.699468Z",
     "shell.execute_reply.started": "2025-01-13T02:52:46.588508Z"
    }
   },
   "outputs": [],
   "source": [
    "# Defines 'df_prods' (dataframe for products.csv) with shortened path (using os.path.join)\n",
    "\n",
    "df_prods = pd.read_csv(os.path.join(path, '02 Data', 'Original Data', 'products.csv'), index_col = False)"
   ]
  },
  {
   "cell_type": "code",
   "execution_count": 28,
   "id": "4b377bc5-de6f-4720-88a7-7eaf7113747f",
   "metadata": {
    "execution": {
     "iopub.execute_input": "2025-01-13T02:52:46.722515Z",
     "iopub.status.busy": "2025-01-13T02:52:46.722204Z",
     "iopub.status.idle": "2025-01-13T02:52:51.874353Z",
     "shell.execute_reply": "2025-01-13T02:52:51.873416Z",
     "shell.execute_reply.started": "2025-01-13T02:52:46.722498Z"
    }
   },
   "outputs": [],
   "source": [
    "# Defines 'df_ords' (dataframe for orders_wrangled.csv) with shortened path (using os.path.join)\n",
    "\n",
    "df_ords = pd.read_csv(os.path.join(path,'02 Data', 'Prepared Data', 'orders_wrangled.csv'), index_col = False)"
   ]
  },
  {
   "cell_type": "markdown",
   "id": "e828fbe9-b5e8-493a-bf45-d128819f72be",
   "metadata": {
    "jp-MarkdownHeadingCollapsed": true
   },
   "source": [
    "# 03. Lesson"
   ]
  },
  {
   "cell_type": "markdown",
   "id": "e0ace841-86de-461a-9c74-998491f3f89e",
   "metadata": {},
   "source": [
    "### Mixed Type Data"
   ]
  },
  {
   "cell_type": "code",
   "execution_count": 30,
   "id": "ef7c777b-2d7f-4e56-af81-a2a2fa98205d",
   "metadata": {
    "execution": {
     "iopub.execute_input": "2025-01-13T02:52:51.906501Z",
     "iopub.status.busy": "2025-01-13T02:52:51.906013Z",
     "iopub.status.idle": "2025-01-13T02:52:51.920621Z",
     "shell.execute_reply": "2025-01-13T02:52:51.919632Z",
     "shell.execute_reply.started": "2025-01-13T02:52:51.906477Z"
    }
   },
   "outputs": [],
   "source": [
    "# Create a dataframe\n",
    "\n",
    "df_test = pd.DataFrame()"
   ]
  },
  {
   "cell_type": "code",
   "execution_count": 32,
   "id": "cce54b63-2020-4642-9d4d-846cb9385506",
   "metadata": {
    "execution": {
     "iopub.execute_input": "2025-01-13T02:52:51.957492Z",
     "iopub.status.busy": "2025-01-13T02:52:51.957239Z",
     "iopub.status.idle": "2025-01-13T02:52:51.970362Z",
     "shell.execute_reply": "2025-01-13T02:52:51.969748Z",
     "shell.execute_reply.started": "2025-01-13T02:52:51.957471Z"
    }
   },
   "outputs": [],
   "source": [
    "# Create a mixed type column\n",
    "\n",
    "df_test['mix'] = ['a','b',1 , True]"
   ]
  },
  {
   "cell_type": "code",
   "execution_count": 34,
   "id": "4d20b77b-c56b-4667-acc0-dce72a02227a",
   "metadata": {
    "execution": {
     "iopub.execute_input": "2025-01-13T02:52:52.010450Z",
     "iopub.status.busy": "2025-01-13T02:52:52.009903Z",
     "iopub.status.idle": "2025-01-13T02:52:52.031655Z",
     "shell.execute_reply": "2025-01-13T02:52:52.030914Z",
     "shell.execute_reply.started": "2025-01-13T02:52:52.010425Z"
    }
   },
   "outputs": [
    {
     "data": {
      "text/html": [
       "<div>\n",
       "<style scoped>\n",
       "    .dataframe tbody tr th:only-of-type {\n",
       "        vertical-align: middle;\n",
       "    }\n",
       "\n",
       "    .dataframe tbody tr th {\n",
       "        vertical-align: top;\n",
       "    }\n",
       "\n",
       "    .dataframe thead th {\n",
       "        text-align: right;\n",
       "    }\n",
       "</style>\n",
       "<table border=\"1\" class=\"dataframe\">\n",
       "  <thead>\n",
       "    <tr style=\"text-align: right;\">\n",
       "      <th></th>\n",
       "      <th>mix</th>\n",
       "    </tr>\n",
       "  </thead>\n",
       "  <tbody>\n",
       "    <tr>\n",
       "      <th>0</th>\n",
       "      <td>a</td>\n",
       "    </tr>\n",
       "    <tr>\n",
       "      <th>1</th>\n",
       "      <td>b</td>\n",
       "    </tr>\n",
       "    <tr>\n",
       "      <th>2</th>\n",
       "      <td>1</td>\n",
       "    </tr>\n",
       "    <tr>\n",
       "      <th>3</th>\n",
       "      <td>True</td>\n",
       "    </tr>\n",
       "  </tbody>\n",
       "</table>\n",
       "</div>"
      ],
      "text/plain": [
       "    mix\n",
       "0     a\n",
       "1     b\n",
       "2     1\n",
       "3  True"
      ]
     },
     "execution_count": 34,
     "metadata": {},
     "output_type": "execute_result"
    }
   ],
   "source": [
    "# Prints df_test\n",
    "\n",
    "df_test.head()"
   ]
  },
  {
   "cell_type": "code",
   "execution_count": 36,
   "id": "65a5bdcf-653b-4aa7-90cb-ac2e98b1f739",
   "metadata": {
    "execution": {
     "iopub.execute_input": "2025-01-13T02:52:52.058045Z",
     "iopub.status.busy": "2025-01-13T02:52:52.057558Z",
     "iopub.status.idle": "2025-01-13T02:52:52.084759Z",
     "shell.execute_reply": "2025-01-13T02:52:52.083959Z",
     "shell.execute_reply.started": "2025-01-13T02:52:52.058019Z"
    }
   },
   "outputs": [
    {
     "name": "stdout",
     "output_type": "stream",
     "text": [
      "mix\n"
     ]
    }
   ],
   "source": [
    "# Checked for mixed types\n",
    "\n",
    "for col in df_test.columns.tolist():\n",
    "  weird = (df_test[[col]].map(type) != df_test[[col]].iloc[0].apply(type)).any(axis = 1)\n",
    "  if len (df_test[weird]) > 0:\n",
    "    print (col)"
   ]
  },
  {
   "cell_type": "code",
   "execution_count": 38,
   "id": "40b3aa18-abd6-429b-bad1-cf03d057911e",
   "metadata": {
    "execution": {
     "iopub.execute_input": "2025-01-13T02:52:52.111430Z",
     "iopub.status.busy": "2025-01-13T02:52:52.110904Z",
     "iopub.status.idle": "2025-01-13T02:52:52.125158Z",
     "shell.execute_reply": "2025-01-13T02:52:52.124319Z",
     "shell.execute_reply.started": "2025-01-13T02:52:52.111405Z"
    }
   },
   "outputs": [],
   "source": [
    "# Changes mix value to string\n",
    "\n",
    "df_test['mix'] = df_test['mix'].astype('str')"
   ]
  },
  {
   "cell_type": "markdown",
   "id": "5c10e451-f7b8-4839-8716-d0fe4501c819",
   "metadata": {},
   "source": [
    "### Missing Values"
   ]
  },
  {
   "cell_type": "code",
   "execution_count": 40,
   "id": "6f1be249-4bb5-4fae-9234-bf6dde5c78fc",
   "metadata": {
    "execution": {
     "iopub.execute_input": "2025-01-13T02:52:52.153186Z",
     "iopub.status.busy": "2025-01-13T02:52:52.152688Z",
     "iopub.status.idle": "2025-01-13T02:52:52.174971Z",
     "shell.execute_reply": "2025-01-13T02:52:52.174237Z",
     "shell.execute_reply.started": "2025-01-13T02:52:52.153160Z"
    }
   },
   "outputs": [
    {
     "data": {
      "text/plain": [
       "product_id        0\n",
       "product_name     16\n",
       "aisle_id          0\n",
       "department_id     0\n",
       "prices            0\n",
       "dtype: int64"
      ]
     },
     "execution_count": 40,
     "metadata": {},
     "output_type": "execute_result"
    }
   ],
   "source": [
    "# Uses isnull function to finding missing observations\n",
    "\n",
    "df_prods.isnull().sum()"
   ]
  },
  {
   "cell_type": "code",
   "execution_count": 42,
   "id": "7e492003-af56-4352-95a5-24ca29c424db",
   "metadata": {
    "execution": {
     "iopub.execute_input": "2025-01-13T02:52:52.210528Z",
     "iopub.status.busy": "2025-01-13T02:52:52.210138Z",
     "iopub.status.idle": "2025-01-13T02:52:52.236180Z",
     "shell.execute_reply": "2025-01-13T02:52:52.234609Z",
     "shell.execute_reply.started": "2025-01-13T02:52:52.210506Z"
    }
   },
   "outputs": [],
   "source": [
    "# Create subset of missing data\n",
    "\n",
    "df_nan = df_prods[df_prods['product_name'].isnull() == True]"
   ]
  },
  {
   "cell_type": "code",
   "execution_count": 44,
   "id": "35ea84f1-cfe4-4f4e-96a2-1502a0a4df3c",
   "metadata": {
    "execution": {
     "iopub.execute_input": "2025-01-13T02:52:52.282944Z",
     "iopub.status.busy": "2025-01-13T02:52:52.282422Z",
     "iopub.status.idle": "2025-01-13T02:52:52.303556Z",
     "shell.execute_reply": "2025-01-13T02:52:52.302922Z",
     "shell.execute_reply.started": "2025-01-13T02:52:52.282918Z"
    }
   },
   "outputs": [
    {
     "data": {
      "text/html": [
       "<div>\n",
       "<style scoped>\n",
       "    .dataframe tbody tr th:only-of-type {\n",
       "        vertical-align: middle;\n",
       "    }\n",
       "\n",
       "    .dataframe tbody tr th {\n",
       "        vertical-align: top;\n",
       "    }\n",
       "\n",
       "    .dataframe thead th {\n",
       "        text-align: right;\n",
       "    }\n",
       "</style>\n",
       "<table border=\"1\" class=\"dataframe\">\n",
       "  <thead>\n",
       "    <tr style=\"text-align: right;\">\n",
       "      <th></th>\n",
       "      <th>product_id</th>\n",
       "      <th>product_name</th>\n",
       "      <th>aisle_id</th>\n",
       "      <th>department_id</th>\n",
       "      <th>prices</th>\n",
       "    </tr>\n",
       "  </thead>\n",
       "  <tbody>\n",
       "    <tr>\n",
       "      <th>33</th>\n",
       "      <td>34</td>\n",
       "      <td>NaN</td>\n",
       "      <td>121</td>\n",
       "      <td>14</td>\n",
       "      <td>12.2</td>\n",
       "    </tr>\n",
       "    <tr>\n",
       "      <th>68</th>\n",
       "      <td>69</td>\n",
       "      <td>NaN</td>\n",
       "      <td>26</td>\n",
       "      <td>7</td>\n",
       "      <td>11.8</td>\n",
       "    </tr>\n",
       "    <tr>\n",
       "      <th>115</th>\n",
       "      <td>116</td>\n",
       "      <td>NaN</td>\n",
       "      <td>93</td>\n",
       "      <td>3</td>\n",
       "      <td>10.8</td>\n",
       "    </tr>\n",
       "    <tr>\n",
       "      <th>261</th>\n",
       "      <td>262</td>\n",
       "      <td>NaN</td>\n",
       "      <td>110</td>\n",
       "      <td>13</td>\n",
       "      <td>12.1</td>\n",
       "    </tr>\n",
       "    <tr>\n",
       "      <th>525</th>\n",
       "      <td>525</td>\n",
       "      <td>NaN</td>\n",
       "      <td>109</td>\n",
       "      <td>11</td>\n",
       "      <td>1.2</td>\n",
       "    </tr>\n",
       "    <tr>\n",
       "      <th>1511</th>\n",
       "      <td>1511</td>\n",
       "      <td>NaN</td>\n",
       "      <td>84</td>\n",
       "      <td>16</td>\n",
       "      <td>14.3</td>\n",
       "    </tr>\n",
       "    <tr>\n",
       "      <th>1780</th>\n",
       "      <td>1780</td>\n",
       "      <td>NaN</td>\n",
       "      <td>126</td>\n",
       "      <td>11</td>\n",
       "      <td>12.3</td>\n",
       "    </tr>\n",
       "    <tr>\n",
       "      <th>2240</th>\n",
       "      <td>2240</td>\n",
       "      <td>NaN</td>\n",
       "      <td>52</td>\n",
       "      <td>1</td>\n",
       "      <td>14.2</td>\n",
       "    </tr>\n",
       "    <tr>\n",
       "      <th>2586</th>\n",
       "      <td>2586</td>\n",
       "      <td>NaN</td>\n",
       "      <td>104</td>\n",
       "      <td>13</td>\n",
       "      <td>12.4</td>\n",
       "    </tr>\n",
       "    <tr>\n",
       "      <th>3159</th>\n",
       "      <td>3159</td>\n",
       "      <td>NaN</td>\n",
       "      <td>126</td>\n",
       "      <td>11</td>\n",
       "      <td>13.1</td>\n",
       "    </tr>\n",
       "    <tr>\n",
       "      <th>3230</th>\n",
       "      <td>3230</td>\n",
       "      <td>NaN</td>\n",
       "      <td>120</td>\n",
       "      <td>16</td>\n",
       "      <td>14.4</td>\n",
       "    </tr>\n",
       "    <tr>\n",
       "      <th>3736</th>\n",
       "      <td>3736</td>\n",
       "      <td>NaN</td>\n",
       "      <td>41</td>\n",
       "      <td>8</td>\n",
       "      <td>14.8</td>\n",
       "    </tr>\n",
       "    <tr>\n",
       "      <th>4283</th>\n",
       "      <td>4283</td>\n",
       "      <td>NaN</td>\n",
       "      <td>77</td>\n",
       "      <td>7</td>\n",
       "      <td>14.4</td>\n",
       "    </tr>\n",
       "    <tr>\n",
       "      <th>4790</th>\n",
       "      <td>4790</td>\n",
       "      <td>NaN</td>\n",
       "      <td>91</td>\n",
       "      <td>16</td>\n",
       "      <td>14.5</td>\n",
       "    </tr>\n",
       "    <tr>\n",
       "      <th>38187</th>\n",
       "      <td>38183</td>\n",
       "      <td>NaN</td>\n",
       "      <td>39</td>\n",
       "      <td>12</td>\n",
       "      <td>20.9</td>\n",
       "    </tr>\n",
       "    <tr>\n",
       "      <th>40444</th>\n",
       "      <td>40440</td>\n",
       "      <td>NaN</td>\n",
       "      <td>120</td>\n",
       "      <td>16</td>\n",
       "      <td>14.8</td>\n",
       "    </tr>\n",
       "  </tbody>\n",
       "</table>\n",
       "</div>"
      ],
      "text/plain": [
       "       product_id product_name  aisle_id  department_id  prices\n",
       "33             34          NaN       121             14    12.2\n",
       "68             69          NaN        26              7    11.8\n",
       "115           116          NaN        93              3    10.8\n",
       "261           262          NaN       110             13    12.1\n",
       "525           525          NaN       109             11     1.2\n",
       "1511         1511          NaN        84             16    14.3\n",
       "1780         1780          NaN       126             11    12.3\n",
       "2240         2240          NaN        52              1    14.2\n",
       "2586         2586          NaN       104             13    12.4\n",
       "3159         3159          NaN       126             11    13.1\n",
       "3230         3230          NaN       120             16    14.4\n",
       "3736         3736          NaN        41              8    14.8\n",
       "4283         4283          NaN        77              7    14.4\n",
       "4790         4790          NaN        91             16    14.5\n",
       "38187       38183          NaN        39             12    20.9\n",
       "40444       40440          NaN       120             16    14.8"
      ]
     },
     "execution_count": 44,
     "metadata": {},
     "output_type": "execute_result"
    }
   ],
   "source": [
    "# Prints df_nan\n",
    "\n",
    "df_nan"
   ]
  },
  {
   "cell_type": "code",
   "execution_count": 46,
   "id": "ce0a0093-e8ea-4fff-a5f5-7432f75d4027",
   "metadata": {
    "execution": {
     "iopub.execute_input": "2025-01-13T02:52:52.334604Z",
     "iopub.status.busy": "2025-01-13T02:52:52.334184Z",
     "iopub.status.idle": "2025-01-13T02:52:52.352233Z",
     "shell.execute_reply": "2025-01-13T02:52:52.351388Z",
     "shell.execute_reply.started": "2025-01-13T02:52:52.334579Z"
    }
   },
   "outputs": [
    {
     "data": {
      "text/plain": [
       "(49693, 5)"
      ]
     },
     "execution_count": 46,
     "metadata": {},
     "output_type": "execute_result"
    }
   ],
   "source": [
    "# Finds # of rows & columns of df_prods\n",
    "\n",
    "df_prods.shape"
   ]
  },
  {
   "cell_type": "code",
   "execution_count": 48,
   "id": "559cb38b-318b-4a24-8d32-28313bf0ea16",
   "metadata": {
    "execution": {
     "iopub.execute_input": "2025-01-13T02:52:52.381756Z",
     "iopub.status.busy": "2025-01-13T02:52:52.381152Z",
     "iopub.status.idle": "2025-01-13T02:52:52.404578Z",
     "shell.execute_reply": "2025-01-13T02:52:52.403857Z",
     "shell.execute_reply.started": "2025-01-13T02:52:52.381730Z"
    }
   },
   "outputs": [],
   "source": [
    "# Removes null data from product name (because these numerical values are more similar to strings)\n",
    "\n",
    "df_prods_clean = df_prods[df_prods['product_name'].isnull() == False]"
   ]
  },
  {
   "cell_type": "code",
   "execution_count": 50,
   "id": "138be5e3-85cb-484f-8e83-ece6157d8cf8",
   "metadata": {
    "execution": {
     "iopub.execute_input": "2025-01-13T02:52:52.447145Z",
     "iopub.status.busy": "2025-01-13T02:52:52.446876Z",
     "iopub.status.idle": "2025-01-13T02:52:52.465178Z",
     "shell.execute_reply": "2025-01-13T02:52:52.464395Z",
     "shell.execute_reply.started": "2025-01-13T02:52:52.447123Z"
    }
   },
   "outputs": [
    {
     "data": {
      "text/plain": [
       "(49677, 5)"
      ]
     },
     "execution_count": 50,
     "metadata": {},
     "output_type": "execute_result"
    }
   ],
   "source": [
    "# Finds # of rows & columns of df_prods_clean\n",
    "\n",
    "df_prods_clean.shape"
   ]
  },
  {
   "cell_type": "markdown",
   "id": "c16fcfed-41f2-4c36-bff7-0d666e1bb0d7",
   "metadata": {},
   "source": [
    "### Duplicates"
   ]
  },
  {
   "cell_type": "code",
   "execution_count": 52,
   "id": "59afcf94-aedf-400d-a9b8-4c69d3e9f541",
   "metadata": {
    "execution": {
     "iopub.execute_input": "2025-01-13T02:52:52.498231Z",
     "iopub.status.busy": "2025-01-13T02:52:52.497893Z",
     "iopub.status.idle": "2025-01-13T02:52:52.542683Z",
     "shell.execute_reply": "2025-01-13T02:52:52.541849Z",
     "shell.execute_reply.started": "2025-01-13T02:52:52.498206Z"
    }
   },
   "outputs": [],
   "source": [
    "# Searches for duplicate rows in df_prods_clean and defines these as df_dups\n",
    "\n",
    "df_dups = df_prods_clean[df_prods_clean.duplicated()]"
   ]
  },
  {
   "cell_type": "code",
   "execution_count": 54,
   "id": "863d0116-dc11-486f-a69b-e31b0f185617",
   "metadata": {
    "execution": {
     "iopub.execute_input": "2025-01-13T02:52:52.570302Z",
     "iopub.status.busy": "2025-01-13T02:52:52.569848Z",
     "iopub.status.idle": "2025-01-13T02:52:52.593839Z",
     "shell.execute_reply": "2025-01-13T02:52:52.593084Z",
     "shell.execute_reply.started": "2025-01-13T02:52:52.570278Z"
    }
   },
   "outputs": [
    {
     "data": {
      "text/html": [
       "<div>\n",
       "<style scoped>\n",
       "    .dataframe tbody tr th:only-of-type {\n",
       "        vertical-align: middle;\n",
       "    }\n",
       "\n",
       "    .dataframe tbody tr th {\n",
       "        vertical-align: top;\n",
       "    }\n",
       "\n",
       "    .dataframe thead th {\n",
       "        text-align: right;\n",
       "    }\n",
       "</style>\n",
       "<table border=\"1\" class=\"dataframe\">\n",
       "  <thead>\n",
       "    <tr style=\"text-align: right;\">\n",
       "      <th></th>\n",
       "      <th>product_id</th>\n",
       "      <th>product_name</th>\n",
       "      <th>aisle_id</th>\n",
       "      <th>department_id</th>\n",
       "      <th>prices</th>\n",
       "    </tr>\n",
       "  </thead>\n",
       "  <tbody>\n",
       "    <tr>\n",
       "      <th>462</th>\n",
       "      <td>462</td>\n",
       "      <td>Fiber 4g Gummy Dietary Supplement</td>\n",
       "      <td>70</td>\n",
       "      <td>11</td>\n",
       "      <td>4.8</td>\n",
       "    </tr>\n",
       "    <tr>\n",
       "      <th>18459</th>\n",
       "      <td>18458</td>\n",
       "      <td>Ranger IPA</td>\n",
       "      <td>27</td>\n",
       "      <td>5</td>\n",
       "      <td>9.2</td>\n",
       "    </tr>\n",
       "    <tr>\n",
       "      <th>26810</th>\n",
       "      <td>26808</td>\n",
       "      <td>Black House Coffee Roasty Stout Beer</td>\n",
       "      <td>27</td>\n",
       "      <td>5</td>\n",
       "      <td>13.4</td>\n",
       "    </tr>\n",
       "    <tr>\n",
       "      <th>35309</th>\n",
       "      <td>35306</td>\n",
       "      <td>Gluten Free Organic Peanut Butter &amp; Chocolate ...</td>\n",
       "      <td>121</td>\n",
       "      <td>14</td>\n",
       "      <td>6.8</td>\n",
       "    </tr>\n",
       "    <tr>\n",
       "      <th>35495</th>\n",
       "      <td>35491</td>\n",
       "      <td>Adore Forever Body Wash</td>\n",
       "      <td>127</td>\n",
       "      <td>11</td>\n",
       "      <td>9.9</td>\n",
       "    </tr>\n",
       "  </tbody>\n",
       "</table>\n",
       "</div>"
      ],
      "text/plain": [
       "       product_id                                       product_name  \\\n",
       "462           462                  Fiber 4g Gummy Dietary Supplement   \n",
       "18459       18458                                         Ranger IPA   \n",
       "26810       26808               Black House Coffee Roasty Stout Beer   \n",
       "35309       35306  Gluten Free Organic Peanut Butter & Chocolate ...   \n",
       "35495       35491                            Adore Forever Body Wash   \n",
       "\n",
       "       aisle_id  department_id  prices  \n",
       "462          70             11     4.8  \n",
       "18459        27              5     9.2  \n",
       "26810        27              5    13.4  \n",
       "35309       121             14     6.8  \n",
       "35495       127             11     9.9  "
      ]
     },
     "execution_count": 54,
     "metadata": {},
     "output_type": "execute_result"
    }
   ],
   "source": [
    "# Prints df_dups\n",
    "\n",
    "df_dups"
   ]
  },
  {
   "cell_type": "code",
   "execution_count": 56,
   "id": "5a7b8d94-ab79-4100-9270-da387a542904",
   "metadata": {
    "execution": {
     "iopub.execute_input": "2025-01-13T02:52:52.635931Z",
     "iopub.status.busy": "2025-01-13T02:52:52.634805Z",
     "iopub.status.idle": "2025-01-13T02:52:52.658389Z",
     "shell.execute_reply": "2025-01-13T02:52:52.657774Z",
     "shell.execute_reply.started": "2025-01-13T02:52:52.635891Z"
    }
   },
   "outputs": [
    {
     "data": {
      "text/plain": [
       "(49677, 5)"
      ]
     },
     "execution_count": 56,
     "metadata": {},
     "output_type": "execute_result"
    }
   ],
   "source": [
    "# Finds # of rows & columns in df_prods_clean\n",
    "\n",
    "df_prods_clean.shape"
   ]
  },
  {
   "cell_type": "code",
   "execution_count": 58,
   "id": "7b10b567-54fb-475e-97d7-8a2642334e28",
   "metadata": {
    "execution": {
     "iopub.execute_input": "2025-01-13T02:52:52.702562Z",
     "iopub.status.busy": "2025-01-13T02:52:52.702230Z",
     "iopub.status.idle": "2025-01-13T02:52:52.743777Z",
     "shell.execute_reply": "2025-01-13T02:52:52.743011Z",
     "shell.execute_reply.started": "2025-01-13T02:52:52.702488Z"
    }
   },
   "outputs": [],
   "source": [
    "# Drops duplicate rows from df_prods_clean and defines as df_prods_clean_no_dups\n",
    "\n",
    "df_prods_clean_no_dups = df_prods_clean.drop_duplicates()"
   ]
  },
  {
   "cell_type": "code",
   "execution_count": 60,
   "id": "5b00ef53-3375-4d8e-a2b2-f7fdcf18804e",
   "metadata": {
    "execution": {
     "iopub.execute_input": "2025-01-13T02:52:52.764069Z",
     "iopub.status.busy": "2025-01-13T02:52:52.763649Z",
     "iopub.status.idle": "2025-01-13T02:52:52.791070Z",
     "shell.execute_reply": "2025-01-13T02:52:52.790430Z",
     "shell.execute_reply.started": "2025-01-13T02:52:52.764051Z"
    }
   },
   "outputs": [
    {
     "data": {
      "text/plain": [
       "(49672, 5)"
      ]
     },
     "execution_count": 60,
     "metadata": {},
     "output_type": "execute_result"
    }
   ],
   "source": [
    "# Finds # of rows & columns in df_prods_clean_no_dups\n",
    "\n",
    "df_prods_clean_no_dups.shape"
   ]
  },
  {
   "cell_type": "markdown",
   "id": "88927c62-4013-4fcf-82a5-95f47cfcd7a3",
   "metadata": {
    "jp-MarkdownHeadingCollapsed": true
   },
   "source": [
    "# 04. Exercise 4.5"
   ]
  },
  {
   "cell_type": "markdown",
   "id": "e73f83c0-f1ed-4a0c-a3d2-b93815ade2b9",
   "metadata": {},
   "source": [
    "### Checking Descriptive Analysis "
   ]
  },
  {
   "cell_type": "code",
   "execution_count": 62,
   "id": "a5aab1aa-fe94-41ec-a03e-37ebf0687a35",
   "metadata": {
    "execution": {
     "iopub.execute_input": "2025-01-13T02:52:52.829450Z",
     "iopub.status.busy": "2025-01-13T02:52:52.828706Z",
     "iopub.status.idle": "2025-01-13T02:52:53.967409Z",
     "shell.execute_reply": "2025-01-13T02:52:53.966654Z",
     "shell.execute_reply.started": "2025-01-13T02:52:52.829423Z"
    }
   },
   "outputs": [
    {
     "data": {
      "text/html": [
       "<div>\n",
       "<style scoped>\n",
       "    .dataframe tbody tr th:only-of-type {\n",
       "        vertical-align: middle;\n",
       "    }\n",
       "\n",
       "    .dataframe tbody tr th {\n",
       "        vertical-align: top;\n",
       "    }\n",
       "\n",
       "    .dataframe thead th {\n",
       "        text-align: right;\n",
       "    }\n",
       "</style>\n",
       "<table border=\"1\" class=\"dataframe\">\n",
       "  <thead>\n",
       "    <tr style=\"text-align: right;\">\n",
       "      <th></th>\n",
       "      <th>Unnamed: 0</th>\n",
       "      <th>order_id</th>\n",
       "      <th>user_id</th>\n",
       "      <th>order_number</th>\n",
       "      <th>orders_day_of_week</th>\n",
       "      <th>order_hour_of_day</th>\n",
       "      <th>days_since_prior_order</th>\n",
       "    </tr>\n",
       "  </thead>\n",
       "  <tbody>\n",
       "    <tr>\n",
       "      <th>count</th>\n",
       "      <td>3.421083e+06</td>\n",
       "      <td>3.421083e+06</td>\n",
       "      <td>3.421083e+06</td>\n",
       "      <td>3.421083e+06</td>\n",
       "      <td>3.421083e+06</td>\n",
       "      <td>3.421083e+06</td>\n",
       "      <td>3.214874e+06</td>\n",
       "    </tr>\n",
       "    <tr>\n",
       "      <th>mean</th>\n",
       "      <td>1.710541e+06</td>\n",
       "      <td>1.710542e+06</td>\n",
       "      <td>1.029782e+05</td>\n",
       "      <td>1.715486e+01</td>\n",
       "      <td>2.776219e+00</td>\n",
       "      <td>1.345202e+01</td>\n",
       "      <td>1.111484e+01</td>\n",
       "    </tr>\n",
       "    <tr>\n",
       "      <th>std</th>\n",
       "      <td>9.875817e+05</td>\n",
       "      <td>9.875817e+05</td>\n",
       "      <td>5.953372e+04</td>\n",
       "      <td>1.773316e+01</td>\n",
       "      <td>2.046829e+00</td>\n",
       "      <td>4.226088e+00</td>\n",
       "      <td>9.206737e+00</td>\n",
       "    </tr>\n",
       "    <tr>\n",
       "      <th>min</th>\n",
       "      <td>0.000000e+00</td>\n",
       "      <td>1.000000e+00</td>\n",
       "      <td>1.000000e+00</td>\n",
       "      <td>1.000000e+00</td>\n",
       "      <td>0.000000e+00</td>\n",
       "      <td>0.000000e+00</td>\n",
       "      <td>0.000000e+00</td>\n",
       "    </tr>\n",
       "    <tr>\n",
       "      <th>25%</th>\n",
       "      <td>8.552705e+05</td>\n",
       "      <td>8.552715e+05</td>\n",
       "      <td>5.139400e+04</td>\n",
       "      <td>5.000000e+00</td>\n",
       "      <td>1.000000e+00</td>\n",
       "      <td>1.000000e+01</td>\n",
       "      <td>4.000000e+00</td>\n",
       "    </tr>\n",
       "    <tr>\n",
       "      <th>50%</th>\n",
       "      <td>1.710541e+06</td>\n",
       "      <td>1.710542e+06</td>\n",
       "      <td>1.026890e+05</td>\n",
       "      <td>1.100000e+01</td>\n",
       "      <td>3.000000e+00</td>\n",
       "      <td>1.300000e+01</td>\n",
       "      <td>7.000000e+00</td>\n",
       "    </tr>\n",
       "    <tr>\n",
       "      <th>75%</th>\n",
       "      <td>2.565812e+06</td>\n",
       "      <td>2.565812e+06</td>\n",
       "      <td>1.543850e+05</td>\n",
       "      <td>2.300000e+01</td>\n",
       "      <td>5.000000e+00</td>\n",
       "      <td>1.600000e+01</td>\n",
       "      <td>1.500000e+01</td>\n",
       "    </tr>\n",
       "    <tr>\n",
       "      <th>max</th>\n",
       "      <td>3.421082e+06</td>\n",
       "      <td>3.421083e+06</td>\n",
       "      <td>2.062090e+05</td>\n",
       "      <td>1.000000e+02</td>\n",
       "      <td>6.000000e+00</td>\n",
       "      <td>2.300000e+01</td>\n",
       "      <td>3.000000e+01</td>\n",
       "    </tr>\n",
       "  </tbody>\n",
       "</table>\n",
       "</div>"
      ],
      "text/plain": [
       "         Unnamed: 0      order_id       user_id  order_number  \\\n",
       "count  3.421083e+06  3.421083e+06  3.421083e+06  3.421083e+06   \n",
       "mean   1.710541e+06  1.710542e+06  1.029782e+05  1.715486e+01   \n",
       "std    9.875817e+05  9.875817e+05  5.953372e+04  1.773316e+01   \n",
       "min    0.000000e+00  1.000000e+00  1.000000e+00  1.000000e+00   \n",
       "25%    8.552705e+05  8.552715e+05  5.139400e+04  5.000000e+00   \n",
       "50%    1.710541e+06  1.710542e+06  1.026890e+05  1.100000e+01   \n",
       "75%    2.565812e+06  2.565812e+06  1.543850e+05  2.300000e+01   \n",
       "max    3.421082e+06  3.421083e+06  2.062090e+05  1.000000e+02   \n",
       "\n",
       "       orders_day_of_week  order_hour_of_day  days_since_prior_order  \n",
       "count        3.421083e+06       3.421083e+06            3.214874e+06  \n",
       "mean         2.776219e+00       1.345202e+01            1.111484e+01  \n",
       "std          2.046829e+00       4.226088e+00            9.206737e+00  \n",
       "min          0.000000e+00       0.000000e+00            0.000000e+00  \n",
       "25%          1.000000e+00       1.000000e+01            4.000000e+00  \n",
       "50%          3.000000e+00       1.300000e+01            7.000000e+00  \n",
       "75%          5.000000e+00       1.600000e+01            1.500000e+01  \n",
       "max          6.000000e+00       2.300000e+01            3.000000e+01  "
      ]
     },
     "execution_count": 62,
     "metadata": {},
     "output_type": "execute_result"
    }
   ],
   "source": [
    "# Descriptive analytics on df_ords dataframe\n",
    "\n",
    "df_ords.describe()"
   ]
  },
  {
   "cell_type": "markdown",
   "id": "2230d0b6-ff20-4e23-ae25-27409683ffec",
   "metadata": {},
   "source": [
    "#### Values that seem off in df_ords:\n",
    "\n",
    "1. All columns have the same count (3.421083e+06) except for days_since_prior_order (3.214874e+06); null values?\n",
    "2. orders_day_of_week has a min value of 0 (would expec this to be numbers 1 - 7)"
   ]
  },
  {
   "cell_type": "markdown",
   "id": "a04bded3-0c85-45db-809a-167fa95140e7",
   "metadata": {},
   "source": [
    "### Mixed Data Types"
   ]
  },
  {
   "cell_type": "code",
   "execution_count": 64,
   "id": "80f575db-88ad-4ed7-ad56-3f585b9c0904",
   "metadata": {
    "execution": {
     "iopub.execute_input": "2025-01-13T02:52:53.989715Z",
     "iopub.status.busy": "2025-01-13T02:52:53.989182Z",
     "iopub.status.idle": "2025-01-13T02:52:59.007938Z",
     "shell.execute_reply": "2025-01-13T02:52:59.007202Z",
     "shell.execute_reply.started": "2025-01-13T02:52:53.989692Z"
    }
   },
   "outputs": [],
   "source": [
    "# Checked for mixed data types in df_ords\n",
    "\n",
    "for col in df_ords.columns.tolist():\n",
    "  weird = (df_ords[[col]].map(type) != df_ords[[col]].iloc[0].apply(type)).any(axis = 1)\n",
    "  if len (df_ords[weird]) > 0:\n",
    "    print (col)"
   ]
  },
  {
   "cell_type": "markdown",
   "id": "55e63f26-8b80-4c61-9c29-269778d935a5",
   "metadata": {},
   "source": [
    "#### The mixed data type for loop does not print anything, meaning columns don't appear to have mixed data types."
   ]
  },
  {
   "cell_type": "markdown",
   "id": "e3d6ea9c-e331-47d4-bdbe-6bf6782960d0",
   "metadata": {},
   "source": [
    "### Missing Values"
   ]
  },
  {
   "cell_type": "code",
   "execution_count": 66,
   "id": "484c5906-f339-403a-b8db-5272921131a5",
   "metadata": {
    "execution": {
     "iopub.execute_input": "2025-01-13T02:52:59.035229Z",
     "iopub.status.busy": "2025-01-13T02:52:59.034880Z",
     "iopub.status.idle": "2025-01-13T02:52:59.334457Z",
     "shell.execute_reply": "2025-01-13T02:52:59.333740Z",
     "shell.execute_reply.started": "2025-01-13T02:52:59.035205Z"
    }
   },
   "outputs": [
    {
     "data": {
      "text/plain": [
       "Unnamed: 0                     0\n",
       "order_id                       0\n",
       "user_id                        0\n",
       "evaluation_set                 0\n",
       "order_number                   0\n",
       "orders_day_of_week             0\n",
       "order_hour_of_day              0\n",
       "days_since_prior_order    206209\n",
       "dtype: int64"
      ]
     },
     "execution_count": 66,
     "metadata": {},
     "output_type": "execute_result"
    }
   ],
   "source": [
    "# Uses isnull function to finding missing observations in df_ords\n",
    "\n",
    "df_ords.isnull().sum()"
   ]
  },
  {
   "cell_type": "code",
   "execution_count": 68,
   "id": "e6633cf0-dbca-4393-a1f0-677006b93bd5",
   "metadata": {
    "execution": {
     "iopub.execute_input": "2025-01-13T02:52:59.353372Z",
     "iopub.status.busy": "2025-01-13T02:52:59.353100Z",
     "iopub.status.idle": "2025-01-13T02:52:59.371759Z",
     "shell.execute_reply": "2025-01-13T02:52:59.371118Z",
     "shell.execute_reply.started": "2025-01-13T02:52:59.353347Z"
    }
   },
   "outputs": [
    {
     "data": {
      "text/plain": [
       "(3421083, 8)"
      ]
     },
     "execution_count": 68,
     "metadata": {},
     "output_type": "execute_result"
    }
   ],
   "source": [
    "# Finds # of rows & columns in the df_ords data set\n",
    "\n",
    "df_ords.shape"
   ]
  },
  {
   "cell_type": "code",
   "execution_count": 70,
   "id": "4c84a672-261d-45a8-850b-cbefe99d833c",
   "metadata": {
    "execution": {
     "iopub.execute_input": "2025-01-13T02:52:59.414948Z",
     "iopub.status.busy": "2025-01-13T02:52:59.414644Z",
     "iopub.status.idle": "2025-01-13T02:52:59.436314Z",
     "shell.execute_reply": "2025-01-13T02:52:59.435648Z",
     "shell.execute_reply.started": "2025-01-13T02:52:59.414923Z"
    }
   },
   "outputs": [
    {
     "data": {
      "text/plain": [
       "0.06027594185817766"
      ]
     },
     "execution_count": 70,
     "metadata": {},
     "output_type": "execute_result"
    }
   ],
   "source": [
    "# Checking percentage of \"O\" values in the entire df_ords dataframe\n",
    "\n",
    "206209/3421083"
   ]
  },
  {
   "cell_type": "markdown",
   "id": "3c415cbe-8367-4b9b-9554-a4fe73b47059",
   "metadata": {},
   "source": [
    "#### Days since prior order rows are about 6% of the total dataframe count. I will leave these values as 1) it represents more than 5% of the information and 2) we know \"0\" could represent an actual value, not just missing information. This could signify purchases were made by customeres on the same day, so in this case seem worth leaving."
   ]
  },
  {
   "cell_type": "markdown",
   "id": "b9dbad5e-78c7-4798-8b8d-5cc37ff54112",
   "metadata": {},
   "source": [
    "### Full Duplicate Values"
   ]
  },
  {
   "cell_type": "code",
   "execution_count": 72,
   "id": "ea057d4e-0daf-4f59-aeb2-9ddba0b38176",
   "metadata": {
    "execution": {
     "iopub.execute_input": "2025-01-13T02:52:59.473837Z",
     "iopub.status.busy": "2025-01-13T02:52:59.473598Z",
     "iopub.status.idle": "2025-01-13T02:53:01.692770Z",
     "shell.execute_reply": "2025-01-13T02:53:01.692061Z",
     "shell.execute_reply.started": "2025-01-13T02:52:59.473817Z"
    }
   },
   "outputs": [],
   "source": [
    "# Searches for duplicate rows in df_ords and defines these as df_dups\n",
    "\n",
    "df_dups = df_ords[df_ords.duplicated()]"
   ]
  },
  {
   "cell_type": "code",
   "execution_count": 74,
   "id": "03bfb2c7-ca0f-4934-8027-e846b98dd99c",
   "metadata": {
    "execution": {
     "iopub.execute_input": "2025-01-13T02:53:01.712535Z",
     "iopub.status.busy": "2025-01-13T02:53:01.712035Z",
     "iopub.status.idle": "2025-01-13T02:53:01.735477Z",
     "shell.execute_reply": "2025-01-13T02:53:01.734995Z",
     "shell.execute_reply.started": "2025-01-13T02:53:01.712509Z"
    }
   },
   "outputs": [
    {
     "data": {
      "text/html": [
       "<div>\n",
       "<style scoped>\n",
       "    .dataframe tbody tr th:only-of-type {\n",
       "        vertical-align: middle;\n",
       "    }\n",
       "\n",
       "    .dataframe tbody tr th {\n",
       "        vertical-align: top;\n",
       "    }\n",
       "\n",
       "    .dataframe thead th {\n",
       "        text-align: right;\n",
       "    }\n",
       "</style>\n",
       "<table border=\"1\" class=\"dataframe\">\n",
       "  <thead>\n",
       "    <tr style=\"text-align: right;\">\n",
       "      <th></th>\n",
       "      <th>Unnamed: 0</th>\n",
       "      <th>order_id</th>\n",
       "      <th>user_id</th>\n",
       "      <th>evaluation_set</th>\n",
       "      <th>order_number</th>\n",
       "      <th>orders_day_of_week</th>\n",
       "      <th>order_hour_of_day</th>\n",
       "      <th>days_since_prior_order</th>\n",
       "    </tr>\n",
       "  </thead>\n",
       "  <tbody>\n",
       "  </tbody>\n",
       "</table>\n",
       "</div>"
      ],
      "text/plain": [
       "Empty DataFrame\n",
       "Columns: [Unnamed: 0, order_id, user_id, evaluation_set, order_number, orders_day_of_week, order_hour_of_day, days_since_prior_order]\n",
       "Index: []"
      ]
     },
     "execution_count": 74,
     "metadata": {},
     "output_type": "execute_result"
    }
   ],
   "source": [
    "# Prints df_dups\n",
    "\n",
    "df_dups"
   ]
  },
  {
   "cell_type": "markdown",
   "id": "563ecee4-6ccc-49d7-9e3a-dc61932a4052",
   "metadata": {},
   "source": [
    "#### No full duplicate rows appear to be missing in the df_ords dataframe."
   ]
  },
  {
   "cell_type": "markdown",
   "id": "f2a3b58d-a3cb-46c2-a089-6dfb6ca9a268",
   "metadata": {
    "jp-MarkdownHeadingCollapsed": true
   },
   "source": [
    "# 05. Export Cleaned Dataframes"
   ]
  },
  {
   "cell_type": "code",
   "execution_count": 76,
   "id": "09971173-2228-4af0-ab62-5205b5d8619b",
   "metadata": {
    "execution": {
     "iopub.execute_input": "2025-01-13T02:53:01.763790Z",
     "iopub.status.busy": "2025-01-13T02:53:01.763531Z",
     "iopub.status.idle": "2025-01-13T02:53:10.547526Z",
     "shell.execute_reply": "2025-01-13T02:53:10.546691Z",
     "shell.execute_reply.started": "2025-01-13T02:53:01.763766Z"
    }
   },
   "outputs": [],
   "source": [
    "# Export cleaned df_ords data into the Prepared Data folder\n",
    "\n",
    "df_ords.to_csv(os.path.join(path, '02 Data','Prepared Data', 'orders_checked.csv'))"
   ]
  },
  {
   "cell_type": "code",
   "execution_count": 78,
   "id": "c00425f1-0297-4335-8584-65973a173728",
   "metadata": {
    "execution": {
     "iopub.execute_input": "2025-01-13T02:53:10.573522Z",
     "iopub.status.busy": "2025-01-13T02:53:10.573261Z",
     "iopub.status.idle": "2025-01-13T02:53:10.845082Z",
     "shell.execute_reply": "2025-01-13T02:53:10.844261Z",
     "shell.execute_reply.started": "2025-01-13T02:53:10.573504Z"
    }
   },
   "outputs": [],
   "source": [
    "# Export cleaned df_prods_clean_no_dups data into the Prepared Data folder\n",
    "\n",
    "df_prods_clean_no_dups.to_csv(os.path.join(path, '02 Data','Prepared Data', 'products_checked.csv'))"
   ]
  },
  {
   "cell_type": "code",
   "execution_count": 117,
   "id": "c6bcd12e-2dce-4715-bb35-aea48a30cf73",
   "metadata": {
    "execution": {
     "iopub.execute_input": "2025-01-13T02:55:04.951384Z",
     "iopub.status.busy": "2025-01-13T02:55:04.943397Z",
     "iopub.status.idle": "2025-01-13T02:55:04.975764Z",
     "shell.execute_reply": "2025-01-13T02:55:04.975078Z",
     "shell.execute_reply.started": "2025-01-13T02:55:04.951355Z"
    }
   },
   "outputs": [
    {
     "data": {
      "text/plain": [
       "(49672, 5)"
      ]
     },
     "execution_count": 117,
     "metadata": {},
     "output_type": "execute_result"
    }
   ],
   "source": [
    "df_prods_clean_no_dups.shape"
   ]
  }
 ],
 "metadata": {
  "kernelspec": {
   "display_name": "anaconda-2024.02-py310",
   "language": "python",
   "name": "conda-env-anaconda-2024.02-py310-py"
  },
  "language_info": {
   "codemirror_mode": {
    "name": "ipython",
    "version": 3
   },
   "file_extension": ".py",
   "mimetype": "text/x-python",
   "name": "python",
   "nbconvert_exporter": "python",
   "pygments_lexer": "ipython3",
   "version": "3.10.14"
  }
 },
 "nbformat": 4,
 "nbformat_minor": 5
}
