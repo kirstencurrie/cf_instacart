{
 "cells": [
  {
   "cell_type": "markdown",
   "id": "89cf0faa-d95d-4474-857a-1dab1f623fe1",
   "metadata": {},
   "source": [
    "# Contents\n",
    "01. Importing Libraries\n",
    "02. Importing Datasets\n",
    "03. Merging df_ords with df_ords_prior\n",
    "04. Export df_merged_large as pickle"
   ]
  },
  {
   "cell_type": "markdown",
   "id": "1ac24966-537d-4d37-bbe9-7fb18922ad01",
   "metadata": {
    "jp-MarkdownHeadingCollapsed": true
   },
   "source": [
    "# 01. Importing Libraries"
   ]
  },
  {
   "cell_type": "code",
   "execution_count": 8,
   "id": "39cc0197-8d85-47f1-ad36-a6adc2086bb3",
   "metadata": {
    "execution": {
     "iopub.execute_input": "2025-01-13T02:56:14.644108Z",
     "iopub.status.busy": "2025-01-13T02:56:14.643821Z",
     "iopub.status.idle": "2025-01-13T02:56:14.663209Z",
     "shell.execute_reply": "2025-01-13T02:56:14.662458Z",
     "shell.execute_reply.started": "2025-01-13T02:56:14.644079Z"
    }
   },
   "outputs": [],
   "source": [
    "import pandas as pd\n",
    "import numpy as np"
   ]
  },
  {
   "cell_type": "code",
   "execution_count": 9,
   "id": "125e2417-179f-44fe-94fc-36af290af3c7",
   "metadata": {
    "execution": {
     "iopub.execute_input": "2025-01-13T02:56:14.664922Z",
     "iopub.status.busy": "2025-01-13T02:56:14.664422Z",
     "iopub.status.idle": "2025-01-13T02:56:14.683193Z",
     "shell.execute_reply": "2025-01-13T02:56:14.682365Z",
     "shell.execute_reply.started": "2025-01-13T02:56:14.664895Z"
    }
   },
   "outputs": [
    {
     "name": "stdout",
     "output_type": "stream",
     "text": [
      "2.1.4\n",
      "1.26.4\n"
     ]
    }
   ],
   "source": [
    "# Confirming that pandas & numpy were imported by printing versions\n",
    "\n",
    "print(pd.__version__)\n",
    "print(np.__version__)"
   ]
  },
  {
   "cell_type": "markdown",
   "id": "b6259f39-5ce8-415f-943e-2cce20538ec1",
   "metadata": {
    "jp-MarkdownHeadingCollapsed": true
   },
   "source": [
    "# 02. Importing Datasets"
   ]
  },
  {
   "cell_type": "code",
   "execution_count": 11,
   "id": "4fdb1266-ff14-4116-9b2b-56d1ca8e1993",
   "metadata": {
    "execution": {
     "iopub.execute_input": "2025-01-13T02:56:14.729381Z",
     "iopub.status.busy": "2025-01-13T02:56:14.728940Z",
     "iopub.status.idle": "2025-01-13T02:56:14.742514Z",
     "shell.execute_reply": "2025-01-13T02:56:14.741508Z",
     "shell.execute_reply.started": "2025-01-13T02:56:14.729354Z"
    }
   },
   "outputs": [],
   "source": [
    "# Defines path as intro file path for Instacart project\n",
    "\n",
    "path = r'/home/0668a905-109d-4403-be59-0a04abf51dd9/Instacart Basket Analysis'"
   ]
  },
  {
   "cell_type": "code",
   "execution_count": 13,
   "id": "f2ebf34c-081e-4b1f-b2ac-5614288789e0",
   "metadata": {
    "execution": {
     "iopub.execute_input": "2025-01-13T02:56:14.776727Z",
     "iopub.status.busy": "2025-01-13T02:56:14.774979Z",
     "iopub.status.idle": "2025-01-13T02:56:22.168848Z",
     "shell.execute_reply": "2025-01-13T02:56:22.168192Z",
     "shell.execute_reply.started": "2025-01-13T02:56:14.776696Z"
    }
   },
   "outputs": [],
   "source": [
    "# Defines 'df_ords' (dataframe for orders_wrangled.csv) with shortened path (using os.path.join)\n",
    "\n",
    "df_ords = pd.read_csv(os.path.join(path,'02 Data', 'Prepared Data', 'orders_wrangled.csv'), index_col = False)"
   ]
  },
  {
   "cell_type": "code",
   "execution_count": 15,
   "id": "b513c9b0-8900-4ff2-9a7e-9394cd9aa350",
   "metadata": {
    "execution": {
     "iopub.execute_input": "2025-01-13T02:56:22.185188Z",
     "iopub.status.busy": "2025-01-13T02:56:22.184952Z",
     "iopub.status.idle": "2025-01-13T02:56:37.912861Z",
     "shell.execute_reply": "2025-01-13T02:56:37.912185Z",
     "shell.execute_reply.started": "2025-01-13T02:56:22.185170Z"
    }
   },
   "outputs": [],
   "source": [
    "# Defines 'df_ords_prior' \n",
    "\n",
    "df_ords_prior = pd.read_csv(os.path.join(path, '02 Data', 'Original Data', 'orders_products_prior.csv'), index_col = False)"
   ]
  },
  {
   "cell_type": "markdown",
   "id": "2a321dcf-38ee-4bcd-9e44-e8361ff9b11c",
   "metadata": {
    "jp-MarkdownHeadingCollapsed": true
   },
   "source": [
    "# 03. Merging df_ords with df_ords_prior"
   ]
  },
  {
   "cell_type": "code",
   "execution_count": 17,
   "id": "ce3238f3-5642-4aa7-9725-40a87238e21a",
   "metadata": {
    "execution": {
     "iopub.execute_input": "2025-01-13T02:56:37.930371Z",
     "iopub.status.busy": "2025-01-13T02:56:37.929946Z",
     "iopub.status.idle": "2025-01-13T02:56:37.962148Z",
     "shell.execute_reply": "2025-01-13T02:56:37.961536Z",
     "shell.execute_reply.started": "2025-01-13T02:56:37.930351Z"
    }
   },
   "outputs": [
    {
     "data": {
      "text/html": [
       "<div>\n",
       "<style scoped>\n",
       "    .dataframe tbody tr th:only-of-type {\n",
       "        vertical-align: middle;\n",
       "    }\n",
       "\n",
       "    .dataframe tbody tr th {\n",
       "        vertical-align: top;\n",
       "    }\n",
       "\n",
       "    .dataframe thead th {\n",
       "        text-align: right;\n",
       "    }\n",
       "</style>\n",
       "<table border=\"1\" class=\"dataframe\">\n",
       "  <thead>\n",
       "    <tr style=\"text-align: right;\">\n",
       "      <th></th>\n",
       "      <th>order_id</th>\n",
       "      <th>product_id</th>\n",
       "      <th>add_to_cart_order</th>\n",
       "      <th>reordered</th>\n",
       "    </tr>\n",
       "  </thead>\n",
       "  <tbody>\n",
       "    <tr>\n",
       "      <th>0</th>\n",
       "      <td>2</td>\n",
       "      <td>33120</td>\n",
       "      <td>1</td>\n",
       "      <td>1</td>\n",
       "    </tr>\n",
       "    <tr>\n",
       "      <th>1</th>\n",
       "      <td>2</td>\n",
       "      <td>28985</td>\n",
       "      <td>2</td>\n",
       "      <td>1</td>\n",
       "    </tr>\n",
       "    <tr>\n",
       "      <th>2</th>\n",
       "      <td>2</td>\n",
       "      <td>9327</td>\n",
       "      <td>3</td>\n",
       "      <td>0</td>\n",
       "    </tr>\n",
       "    <tr>\n",
       "      <th>3</th>\n",
       "      <td>2</td>\n",
       "      <td>45918</td>\n",
       "      <td>4</td>\n",
       "      <td>1</td>\n",
       "    </tr>\n",
       "    <tr>\n",
       "      <th>4</th>\n",
       "      <td>2</td>\n",
       "      <td>30035</td>\n",
       "      <td>5</td>\n",
       "      <td>0</td>\n",
       "    </tr>\n",
       "  </tbody>\n",
       "</table>\n",
       "</div>"
      ],
      "text/plain": [
       "   order_id  product_id  add_to_cart_order  reordered\n",
       "0         2       33120                  1          1\n",
       "1         2       28985                  2          1\n",
       "2         2        9327                  3          0\n",
       "3         2       45918                  4          1\n",
       "4         2       30035                  5          0"
      ]
     },
     "execution_count": 17,
     "metadata": {},
     "output_type": "execute_result"
    }
   ],
   "source": [
    "# Check the output\n",
    "\n",
    "df_ords_prior.head()"
   ]
  },
  {
   "cell_type": "code",
   "execution_count": 19,
   "id": "c1a55d19-6439-4aa4-9074-8e610e4c7263",
   "metadata": {
    "execution": {
     "iopub.execute_input": "2025-01-13T02:56:37.983821Z",
     "iopub.status.busy": "2025-01-13T02:56:37.983558Z",
     "iopub.status.idle": "2025-01-13T02:56:38.007329Z",
     "shell.execute_reply": "2025-01-13T02:56:38.006686Z",
     "shell.execute_reply.started": "2025-01-13T02:56:37.983796Z"
    }
   },
   "outputs": [
    {
     "data": {
      "text/plain": [
       "(32434489, 4)"
      ]
     },
     "execution_count": 19,
     "metadata": {},
     "output_type": "execute_result"
    }
   ],
   "source": [
    "# Check the shape of df_ords_prior\n",
    "\n",
    "df_ords_prior.shape"
   ]
  },
  {
   "cell_type": "code",
   "execution_count": 21,
   "id": "08214669-f6ca-4aaa-9864-0e7f52c4e608",
   "metadata": {
    "execution": {
     "iopub.execute_input": "2025-01-13T02:56:38.045266Z",
     "iopub.status.busy": "2025-01-13T02:56:38.045021Z",
     "iopub.status.idle": "2025-01-13T02:56:38.069136Z",
     "shell.execute_reply": "2025-01-13T02:56:38.068594Z",
     "shell.execute_reply.started": "2025-01-13T02:56:38.045244Z"
    }
   },
   "outputs": [
    {
     "data": {
      "text/plain": [
       "(3421083, 8)"
      ]
     },
     "execution_count": 21,
     "metadata": {},
     "output_type": "execute_result"
    }
   ],
   "source": [
    "# Check the shape of df_ords\n",
    "\n",
    "df_ords.shape"
   ]
  },
  {
   "cell_type": "code",
   "execution_count": null,
   "id": "b3571dfa-48c6-41b3-a65a-ff0a7a656d6c",
   "metadata": {
    "execution": {
     "iopub.execute_input": "2025-01-13T02:56:38.104161Z",
     "iopub.status.busy": "2025-01-13T02:56:38.103512Z"
    }
   },
   "outputs": [],
   "source": [
    "# Merge df_ords & df_ords_prior dataframes\n",
    "\n",
    "df_merged_large = df_ords.merge(df_ords_prior, on = 'order_id', indicator = True)"
   ]
  },
  {
   "cell_type": "code",
   "execution_count": null,
   "id": "dd07dc08-cc3d-42c1-8d40-ee35e7447471",
   "metadata": {},
   "outputs": [],
   "source": [
    "df_merged_large.head()"
   ]
  },
  {
   "cell_type": "code",
   "execution_count": null,
   "id": "49f9a63c-b017-483e-a160-b09a716a89e4",
   "metadata": {},
   "outputs": [],
   "source": [
    "df_merged_large['_merge'].value_counts()"
   ]
  },
  {
   "cell_type": "code",
   "execution_count": null,
   "id": "df05f206-042c-43ee-a616-c5cd5e58dde9",
   "metadata": {},
   "outputs": [],
   "source": [
    "# Check shape of df_merged_large\n",
    "\n",
    "df_merged_large.shape"
   ]
  },
  {
   "cell_type": "code",
   "execution_count": null,
   "id": "08093412-71a0-472d-988b-c9a22c171104",
   "metadata": {},
   "outputs": [],
   "source": [
    "# Reduce df_merged_large to 20%\n",
    "\n",
    "df_merged_large_reduced = df_merged_large.sample(frac=.20)"
   ]
  },
  {
   "cell_type": "markdown",
   "id": "2fc86ed1-e345-4d1c-9064-8d9de42b6621",
   "metadata": {
    "jp-MarkdownHeadingCollapsed": true
   },
   "source": [
    "# 04. Export df_merged_large as pickle"
   ]
  },
  {
   "cell_type": "code",
   "execution_count": null,
   "id": "5bb88269-a81e-4bf5-9920-cc3457151350",
   "metadata": {},
   "outputs": [],
   "source": [
    "# Export reduced dataset as pickle\n",
    "\n",
    "df_merged_large_reduced.to_pickle(os.path.join(path, '02 Data','Prepared Data', 'orders_products_combined.pkl'))"
   ]
  },
  {
   "cell_type": "code",
   "execution_count": null,
   "id": "68c4996a-80dc-4061-a3cd-2f48b84f574a",
   "metadata": {},
   "outputs": [],
   "source": [
    "# Export unreduced dataset as pickl\n",
    "\n",
    "df_merged_large.to_pickle(os.path.join(path, '02 Data', 'Prepared Data', 'orders_products_combined_large'))"
   ]
  }
 ],
 "metadata": {
  "kernelspec": {
   "display_name": "anaconda-2024.02-py310",
   "language": "python",
   "name": "conda-env-anaconda-2024.02-py310-py"
  },
  "language_info": {
   "codemirror_mode": {
    "name": "ipython",
    "version": 3
   },
   "file_extension": ".py",
   "mimetype": "text/x-python",
   "name": "python",
   "nbconvert_exporter": "python",
   "pygments_lexer": "ipython3",
   "version": "3.10.14"
  }
 },
 "nbformat": 4,
 "nbformat_minor": 5
}
