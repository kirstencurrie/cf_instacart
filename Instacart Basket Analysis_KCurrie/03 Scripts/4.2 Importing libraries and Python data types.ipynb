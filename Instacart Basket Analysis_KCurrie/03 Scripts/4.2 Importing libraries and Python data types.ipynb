{
 "cells": [
  {
   "cell_type": "markdown",
   "id": "bb91d39f-723d-4d0d-8b6e-003cfa6aad64",
   "metadata": {},
   "source": [
    "# Contents\n",
    "\n",
    "01. Importing Libraries\n",
    "02. Data Types "
   ]
  },
  {
   "cell_type": "markdown",
   "id": "e642b743-3ac3-45bc-95d0-c4c54e864cb2",
   "metadata": {
    "jp-MarkdownHeadingCollapsed": true
   },
   "source": [
    "# 01. Importing Libraries"
   ]
  },
  {
   "cell_type": "code",
   "execution_count": 2,
   "id": "270e4585-509e-4f80-b3ec-bdf00972e5d9",
   "metadata": {},
   "outputs": [
    {
     "name": "stdout",
     "output_type": "stream",
     "text": [
      "Retrieving notices: ...working... done\n",
      "Channels:\n",
      " - conda-forge\n",
      " - defaults\n",
      "Platform: linux-64\n",
      "Collecting package metadata (repodata.json): done\n",
      "Solving environment: done\n",
      "\n",
      "## Package Plan ##\n",
      "\n",
      "  environment location: /opt/conda/envs/anaconda-2024.02-py310\n",
      "\n",
      "  added / updated specs:\n",
      "    - numpy\n",
      "    - pandas\n",
      "\n",
      "\n",
      "The following packages will be UPDATED:\n",
      "\n",
      "  ca-certificates    pkgs/main::ca-certificates-2024.3.11-~ --> conda-forge::ca-certificates-2024.12.14-hbcca054_0 \n",
      "  certifi            pkgs/main/linux-64::certifi-2024.2.2-~ --> conda-forge/noarch::certifi-2024.12.14-pyhd8ed1ab_0 \n",
      "\n",
      "\n",
      "\n",
      "Downloading and Extracting Packages:\n",
      "\n",
      "Preparing transaction: done\n",
      "Verifying transaction: failed\n",
      "\n",
      "EnvironmentNotWritableError: The current user does not have write permissions to the target environment.\n",
      "  environment location: /opt/conda/envs/anaconda-2024.02-py310\n",
      "  uid: 1473097\n",
      "  gid: 60000\n",
      "\n",
      "\n"
     ]
    }
   ],
   "source": [
    "!conda install -c conda-forge pandas numpy -y"
   ]
  },
  {
   "cell_type": "code",
   "execution_count": 3,
   "id": "3fa94456-6f36-4203-ba10-2bf5d7e75d07",
   "metadata": {},
   "outputs": [],
   "source": [
    "import pandas as pd\n",
    "import numpy as np"
   ]
  },
  {
   "cell_type": "code",
   "execution_count": 4,
   "id": "d6171daf-6c84-4b9d-b87a-50483a8e8dfd",
   "metadata": {
    "jupyter": {
     "source_hidden": true
    },
    "scrolled": true
   },
   "outputs": [
    {
     "name": "stdout",
     "output_type": "stream",
     "text": [
      "   A  B\n",
      "0  1  4\n",
      "1  2  5\n",
      "2  3  6\n",
      "3.0\n"
     ]
    }
   ],
   "source": [
    "# Create a simple pandas DataFrame\n",
    "df = pd.DataFrame({'A': [1, 2, 3], 'B': [4, 5, 6]})\n",
    "print(df)\n",
    "\n",
    "# Use a numpy function\n",
    "arr = np.array([1, 2, 3, 4, 5])\n",
    "print(np.mean(arr))\n"
   ]
  },
  {
   "cell_type": "markdown",
   "id": "ec2cc877-54b4-4252-914e-18553551b68b",
   "metadata": {
    "jp-MarkdownHeadingCollapsed": true
   },
   "source": [
    "# 02. Data Types"
   ]
  },
  {
   "cell_type": "code",
   "execution_count": 6,
   "id": "170b6e08-e50a-49ed-a01e-a5a285ffa828",
   "metadata": {},
   "outputs": [],
   "source": [
    "# 1: Getting 100 with numeric variables \n",
    "\n",
    "x = 150"
   ]
  },
  {
   "cell_type": "code",
   "execution_count": 7,
   "id": "8c8f2869-3955-4b17-9cda-17091302f7fb",
   "metadata": {},
   "outputs": [],
   "source": [
    "y = 50"
   ]
  },
  {
   "cell_type": "code",
   "execution_count": 8,
   "id": "7a543513-e3e1-47fd-9ab0-54b33501ed3a",
   "metadata": {},
   "outputs": [
    {
     "name": "stdout",
     "output_type": "stream",
     "text": [
      "100\n"
     ]
    }
   ],
   "source": [
    "print(x - y)"
   ]
  },
  {
   "cell_type": "code",
   "execution_count": 9,
   "id": "c7848311-eeaa-43e6-b227-65d449b8156c",
   "metadata": {},
   "outputs": [],
   "source": [
    "# 2: Getting 100 with numeric variables\n",
    "\n",
    "z = 25//5"
   ]
  },
  {
   "cell_type": "code",
   "execution_count": 10,
   "id": "707a8de2-cf9e-4f30-be62-b642850aadea",
   "metadata": {},
   "outputs": [
    {
     "name": "stdout",
     "output_type": "stream",
     "text": [
      "5\n"
     ]
    }
   ],
   "source": [
    "print(z)"
   ]
  },
  {
   "cell_type": "code",
   "execution_count": 11,
   "id": "8bafc749-8da2-4544-9f9a-449d8c59f09f",
   "metadata": {},
   "outputs": [
    {
     "name": "stdout",
     "output_type": "stream",
     "text": [
      "100\n"
     ]
    }
   ],
   "source": [
    "print(z*y - x)"
   ]
  },
  {
   "cell_type": "code",
   "execution_count": 12,
   "id": "c0dc7c9d-b634-4cbd-82aa-6e5d776affde",
   "metadata": {},
   "outputs": [],
   "source": [
    "# 3: Getting 100 with numeric variables\n",
    "\n",
    "w = x + y"
   ]
  },
  {
   "cell_type": "code",
   "execution_count": 13,
   "id": "419245e0-c956-47ab-a752-2f1b36ab055e",
   "metadata": {},
   "outputs": [
    {
     "name": "stdout",
     "output_type": "stream",
     "text": [
      "100\n"
     ]
    }
   ],
   "source": [
    "print(w - (z*y - x))"
   ]
  },
  {
   "cell_type": "code",
   "execution_count": 14,
   "id": "c4c06f52-eac9-48e3-b5a5-377272727890",
   "metadata": {},
   "outputs": [],
   "source": [
    "# 1 Floating Point Variable\n",
    "\n",
    "l = 8.994"
   ]
  },
  {
   "cell_type": "code",
   "execution_count": 15,
   "id": "e608a09e-3c15-44ef-984f-14258cc448b3",
   "metadata": {},
   "outputs": [],
   "source": [
    "m = 2.566"
   ]
  },
  {
   "cell_type": "code",
   "execution_count": 16,
   "id": "6a236504-5885-4304-af76-63e3f50fe0f6",
   "metadata": {},
   "outputs": [
    {
     "name": "stdout",
     "output_type": "stream",
     "text": [
      "3.5050662509742794\n"
     ]
    }
   ],
   "source": [
    "print(l/m)"
   ]
  },
  {
   "cell_type": "code",
   "execution_count": 17,
   "id": "907db32c-8d4d-4d16-afcc-083e23caea97",
   "metadata": {},
   "outputs": [],
   "source": [
    "# 2 Floating Point Variable\n",
    "\n",
    "o = 6.9981345"
   ]
  },
  {
   "cell_type": "code",
   "execution_count": 18,
   "id": "75f6f851-9423-443c-8323-cba20f43f86d",
   "metadata": {},
   "outputs": [
    {
     "name": "stdout",
     "output_type": "stream",
     "text": [
      "0.5008572285906022\n"
     ]
    }
   ],
   "source": [
    "print(l/m/o)"
   ]
  },
  {
   "cell_type": "code",
   "execution_count": 58,
   "id": "4339a65e-c015-41a9-9157-9d566bf4b859",
   "metadata": {},
   "outputs": [
    {
     "data": {
      "text/plain": [
       "3.0"
      ]
     },
     "execution_count": 58,
     "metadata": {},
     "output_type": "execute_result"
    }
   ],
   "source": [
    "l//m"
   ]
  },
  {
   "cell_type": "code",
   "execution_count": 72,
   "id": "2ebe28a0-f8a2-4e32-b067-127767bca985",
   "metadata": {},
   "outputs": [
    {
     "data": {
      "text/plain": [
       "7"
      ]
     },
     "execution_count": 72,
     "metadata": {},
     "output_type": "execute_result"
    }
   ],
   "source": [
    "round(o)"
   ]
  },
  {
   "cell_type": "code",
   "execution_count": 70,
   "id": "ea644b8b-35a4-44c3-87a7-ae2dae95767c",
   "metadata": {},
   "outputs": [
    {
     "data": {
      "text/plain": [
       "7.0"
      ]
     },
     "execution_count": 70,
     "metadata": {},
     "output_type": "execute_result"
    }
   ],
   "source": [
    "round(o,2)"
   ]
  },
  {
   "cell_type": "code",
   "execution_count": 19,
   "id": "a63898f5-0a30-4da5-a25a-005d201d2925",
   "metadata": {},
   "outputs": [],
   "source": [
    "# 1 String Sentence\n",
    "\n",
    "a = 'Mary had a '"
   ]
  },
  {
   "cell_type": "code",
   "execution_count": 20,
   "id": "aa8cbab7-97ea-44df-936e-af628a128b3b",
   "metadata": {},
   "outputs": [],
   "source": [
    "b = 'little lamb'"
   ]
  },
  {
   "cell_type": "code",
   "execution_count": 21,
   "id": "693873a8-fc32-490e-9ffa-ed6bc774c7d5",
   "metadata": {},
   "outputs": [
    {
     "name": "stdout",
     "output_type": "stream",
     "text": [
      "Mary had a little lamb\n"
     ]
    }
   ],
   "source": [
    "print(a+b)"
   ]
  },
  {
   "cell_type": "code",
   "execution_count": 22,
   "id": "e5dff9df-91c6-463c-ba07-12b6acfe9c1b",
   "metadata": {},
   "outputs": [],
   "source": [
    "# 2 String Sentence\n",
    "\n",
    "c = 'Happy '"
   ]
  },
  {
   "cell_type": "code",
   "execution_count": 23,
   "id": "33c5ea22-4520-474d-b210-eb7f955042e2",
   "metadata": {},
   "outputs": [],
   "source": [
    "d = '2025'"
   ]
  },
  {
   "cell_type": "code",
   "execution_count": 24,
   "id": "d4dc13bd-d27e-4d91-a0ef-4ef600873d50",
   "metadata": {},
   "outputs": [],
   "source": [
    "e = '!'"
   ]
  },
  {
   "cell_type": "code",
   "execution_count": 25,
   "id": "2ab73b95-aabb-4cf3-a6e7-f6faff69eaad",
   "metadata": {},
   "outputs": [
    {
     "data": {
      "text/plain": [
       "'Happy 2025!'"
      ]
     },
     "execution_count": 25,
     "metadata": {},
     "output_type": "execute_result"
    }
   ],
   "source": [
    "c + d + e"
   ]
  },
  {
   "cell_type": "code",
   "execution_count": 26,
   "id": "81092180-c34f-403c-a458-35638fdbd028",
   "metadata": {},
   "outputs": [],
   "source": [
    "# Bonus Task\n",
    "\n",
    "k = 'kirsten'"
   ]
  },
  {
   "cell_type": "code",
   "execution_count": 27,
   "id": "bd786d37-ab8b-4ada-91fe-d174160023d4",
   "metadata": {},
   "outputs": [
    {
     "name": "stdout",
     "output_type": "stream",
     "text": [
      "kirstenkirstenkirstenkirstenkirstenkirstenkirstenkirstenkirstenkirstenkirstenkirstenkirstenkirstenkirstenkirstenkirstenkirstenkirstenkirstenkirstenkirstenkirstenkirstenkirstenkirstenkirstenkirstenkirstenkirstenkirstenkirstenkirstenkirstenkirstenkirstenkirstenkirstenkirstenkirstenkirstenkirstenkirstenkirstenkirstenkirstenkirstenkirstenkirstenkirstenkirstenkirstenkirstenkirstenkirstenkirstenkirstenkirstenkirstenkirstenkirstenkirstenkirstenkirstenkirstenkirstenkirstenkirstenkirstenkirstenkirstenkirstenkirstenkirstenkirstenkirstenkirstenkirstenkirstenkirstenkirstenkirstenkirstenkirstenkirstenkirstenkirstenkirstenkirstenkirstenkirstenkirstenkirstenkirstenkirstenkirstenkirstenkirstenkirstenkirsten\n"
     ]
    }
   ],
   "source": [
    "print(k * 100)"
   ]
  },
  {
   "cell_type": "code",
   "execution_count": null,
   "id": "5e2f8c4b-f67c-4dda-bb0f-fee86dd46cac",
   "metadata": {},
   "outputs": [],
   "source": []
  }
 ],
 "metadata": {
  "kernelspec": {
   "display_name": "anaconda-2024.02-py310",
   "language": "python",
   "name": "conda-env-anaconda-2024.02-py310-py"
  },
  "language_info": {
   "codemirror_mode": {
    "name": "ipython",
    "version": 3
   },
   "file_extension": ".py",
   "mimetype": "text/x-python",
   "name": "python",
   "nbconvert_exporter": "python",
   "pygments_lexer": "ipython3",
   "version": "3.10.14"
  }
 },
 "nbformat": 4,
 "nbformat_minor": 5
}
