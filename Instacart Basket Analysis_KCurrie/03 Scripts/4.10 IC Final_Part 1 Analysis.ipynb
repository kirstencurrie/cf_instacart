{
 "cells": [
  {
   "cell_type": "markdown",
   "id": "789a012e-485b-4a0f-b84e-c8ae91971746",
   "metadata": {},
   "source": [
    "# Contents\n",
    "01. Import Libraries\n",
    "02. Import Datasets\n",
    "03. 4.10 Final Analysis\n",
    "    -  PII Data\n",
    "    -   Regional Data Segmentation\n",
    "    -   Low Activity Customers\n",
    "    -   Customer Profiling Variables\n",
    "        1. Income Levels Profile\n",
    "        2. Time of Day Profile\n",
    "        3. Age Group Profile\n",
    "        4. Young Parent vs. Older Parent Profile\n",
    "    - Profile Aggregation\n",
    "    - Profile, Region, & Department Comparisons\n",
    "04. Export Final Dataframe \n",
    "     \n",
    "   "
   ]
  },
  {
   "cell_type": "markdown",
   "id": "a07c4b64-8a2f-419b-95d5-f3fe625a18b4",
   "metadata": {
    "jp-MarkdownHeadingCollapsed": true
   },
   "source": [
    "# 01. Import Libraries"
   ]
  },
  {
   "cell_type": "code",
   "execution_count": 22,
   "id": "26ae4b0a-fcda-42fc-8bf3-3f12ec8d7b38",
   "metadata": {
    "execution": {
     "iopub.execute_input": "2025-01-12T23:31:44.015739Z",
     "iopub.status.busy": "2025-01-12T23:31:44.015485Z",
     "iopub.status.idle": "2025-01-12T23:31:48.056901Z",
     "shell.execute_reply": "2025-01-12T23:31:48.056006Z",
     "shell.execute_reply.started": "2025-01-12T23:31:44.015722Z"
    }
   },
   "outputs": [
    {
     "name": "stdout",
     "output_type": "stream",
     "text": [
      "Defaulting to user installation because normal site-packages is not writeable\n",
      "Looking in links: /usr/share/pip-wheels\n",
      "Requirement already satisfied: seaborn in /opt/conda/envs/anaconda-2024.02-py310/lib/python3.10/site-packages (0.12.2)\n",
      "Requirement already satisfied: matplotlib in /opt/conda/envs/anaconda-2024.02-py310/lib/python3.10/site-packages (3.8.0)\n",
      "Requirement already satisfied: scipy in /opt/conda/envs/anaconda-2024.02-py310/lib/python3.10/site-packages (1.12.0)\n",
      "Requirement already satisfied: numpy!=1.24.0,>=1.17 in /opt/conda/envs/anaconda-2024.02-py310/lib/python3.10/site-packages (from seaborn) (1.26.4)\n",
      "Requirement already satisfied: pandas>=0.25 in /opt/conda/envs/anaconda-2024.02-py310/lib/python3.10/site-packages (from seaborn) (2.1.4)\n",
      "Requirement already satisfied: contourpy>=1.0.1 in /opt/conda/envs/anaconda-2024.02-py310/lib/python3.10/site-packages (from matplotlib) (1.2.0)\n",
      "Requirement already satisfied: cycler>=0.10 in /opt/conda/envs/anaconda-2024.02-py310/lib/python3.10/site-packages (from matplotlib) (0.11.0)\n",
      "Requirement already satisfied: fonttools>=4.22.0 in /opt/conda/envs/anaconda-2024.02-py310/lib/python3.10/site-packages (from matplotlib) (4.25.0)\n",
      "Requirement already satisfied: kiwisolver>=1.0.1 in /opt/conda/envs/anaconda-2024.02-py310/lib/python3.10/site-packages (from matplotlib) (1.4.4)\n",
      "Requirement already satisfied: packaging>=20.0 in /opt/conda/envs/anaconda-2024.02-py310/lib/python3.10/site-packages (from matplotlib) (23.2)\n",
      "Requirement already satisfied: pillow>=6.2.0 in /opt/conda/envs/anaconda-2024.02-py310/lib/python3.10/site-packages (from matplotlib) (10.2.0)\n",
      "Requirement already satisfied: pyparsing>=2.3.1 in /opt/conda/envs/anaconda-2024.02-py310/lib/python3.10/site-packages (from matplotlib) (3.0.9)\n",
      "Requirement already satisfied: python-dateutil>=2.7 in /opt/conda/envs/anaconda-2024.02-py310/lib/python3.10/site-packages (from matplotlib) (2.8.2)\n",
      "Requirement already satisfied: pytz>=2020.1 in /opt/conda/envs/anaconda-2024.02-py310/lib/python3.10/site-packages (from pandas>=0.25->seaborn) (2023.3.post1)\n",
      "Requirement already satisfied: tzdata>=2022.1 in /opt/conda/envs/anaconda-2024.02-py310/lib/python3.10/site-packages (from pandas>=0.25->seaborn) (2023.3)\n",
      "Requirement already satisfied: six>=1.5 in /opt/conda/envs/anaconda-2024.02-py310/lib/python3.10/site-packages (from python-dateutil>=2.7->matplotlib) (1.16.0)\n"
     ]
    }
   ],
   "source": [
    "!pip install seaborn matplotlib scipy"
   ]
  },
  {
   "cell_type": "code",
   "execution_count": 23,
   "id": "94471c71-c4e9-45c9-9050-47b74aa092c8",
   "metadata": {
    "execution": {
     "iopub.execute_input": "2025-01-12T23:31:48.058640Z",
     "iopub.status.busy": "2025-01-12T23:31:48.058308Z",
     "iopub.status.idle": "2025-01-12T23:31:50.215987Z",
     "shell.execute_reply": "2025-01-12T23:31:50.215295Z",
     "shell.execute_reply.started": "2025-01-12T23:31:48.058611Z"
    }
   },
   "outputs": [],
   "source": [
    "import pandas as pd\n",
    "import numpy as np\n",
    "import seaborn as sns\n",
    "import matplotlib.pyplot as plt\n",
    "import scipy"
   ]
  },
  {
   "cell_type": "markdown",
   "id": "752fbfd4-0391-42aa-ae3e-0c4554f5617b",
   "metadata": {
    "jp-MarkdownHeadingCollapsed": true
   },
   "source": [
    "# 02. Import Datasets"
   ]
  },
  {
   "cell_type": "code",
   "execution_count": 25,
   "id": "47b22d42-fc61-4714-a6dc-741bec238b2c",
   "metadata": {
    "execution": {
     "iopub.execute_input": "2025-01-12T23:31:50.231146Z",
     "iopub.status.busy": "2025-01-12T23:31:50.230846Z",
     "iopub.status.idle": "2025-01-12T23:31:50.251958Z",
     "shell.execute_reply": "2025-01-12T23:31:50.251332Z",
     "shell.execute_reply.started": "2025-01-12T23:31:50.231128Z"
    }
   },
   "outputs": [],
   "source": [
    "# Defines path as intro file path for Instacart project\n",
    "\n",
    "path = r'/home/0668a905-109d-4403-be59-0a04abf51dd9/Instacart Basket Analysis'"
   ]
  },
  {
   "cell_type": "code",
   "execution_count": 27,
   "id": "87f3ef6b-38e1-455a-b235-b11ab2554faa",
   "metadata": {
    "execution": {
     "iopub.execute_input": "2025-01-12T23:31:50.284424Z",
     "iopub.status.busy": "2025-01-12T23:31:50.284162Z",
     "iopub.status.idle": "2025-01-12T23:31:53.198995Z",
     "shell.execute_reply": "2025-01-12T23:31:53.198397Z",
     "shell.execute_reply.started": "2025-01-12T23:31:50.284406Z"
    }
   },
   "outputs": [],
   "source": [
    "# Imports latest customer_orders_products dataframe\n",
    "\n",
    "ords_prods_merge = pd.read_pickle(os.path.join(path,'02 Data','Prepared Data','orders_products_departments.pkl'))"
   ]
  },
  {
   "cell_type": "code",
   "execution_count": 29,
   "id": "905101a1-a52f-4cff-ab55-4aa302810224",
   "metadata": {
    "execution": {
     "iopub.execute_input": "2025-01-12T23:31:53.216239Z",
     "iopub.status.busy": "2025-01-12T23:31:53.215975Z",
     "iopub.status.idle": "2025-01-12T23:31:53.236117Z",
     "shell.execute_reply": "2025-01-12T23:31:53.235483Z",
     "shell.execute_reply.started": "2025-01-12T23:31:53.216220Z"
    }
   },
   "outputs": [],
   "source": [
    "# Set the display option to show all columns\n",
    "\n",
    "pd.set_option('display.max_columns', None)"
   ]
  },
  {
   "cell_type": "markdown",
   "id": "cc577334-da91-4b8b-8e3a-a384cb1bdbda",
   "metadata": {},
   "source": [
    "# 03. 4.10 Final Analysis"
   ]
  },
  {
   "cell_type": "markdown",
   "id": "cd024f3f-15bf-437a-a87e-398790f0f3b2",
   "metadata": {},
   "source": [
    "## PII Data\n",
    "\n",
    "Personal information (first name, last name) were removed in 4.9 Part 1 to protect consumer identity. "
   ]
  },
  {
   "cell_type": "code",
   "execution_count": 31,
   "id": "99c373ee-4762-4df1-8e7f-674a32c1bf80",
   "metadata": {
    "execution": {
     "iopub.execute_input": "2025-01-12T23:31:53.261869Z",
     "iopub.status.busy": "2025-01-12T23:31:53.261590Z",
     "iopub.status.idle": "2025-01-12T23:31:53.297030Z",
     "shell.execute_reply": "2025-01-12T23:31:53.296468Z",
     "shell.execute_reply.started": "2025-01-12T23:31:53.261844Z"
    }
   },
   "outputs": [
    {
     "data": {
      "text/html": [
       "<div>\n",
       "<style scoped>\n",
       "    .dataframe tbody tr th:only-of-type {\n",
       "        vertical-align: middle;\n",
       "    }\n",
       "\n",
       "    .dataframe tbody tr th {\n",
       "        vertical-align: top;\n",
       "    }\n",
       "\n",
       "    .dataframe thead th {\n",
       "        text-align: right;\n",
       "    }\n",
       "</style>\n",
       "<table border=\"1\" class=\"dataframe\">\n",
       "  <thead>\n",
       "    <tr style=\"text-align: right;\">\n",
       "      <th></th>\n",
       "      <th>order_id</th>\n",
       "      <th>user_id</th>\n",
       "      <th>order_number</th>\n",
       "      <th>orders_day_of_week</th>\n",
       "      <th>order_hour_of_day</th>\n",
       "      <th>days_since_prior_order</th>\n",
       "      <th>product_id</th>\n",
       "      <th>add_to_cart_order</th>\n",
       "      <th>reordered</th>\n",
       "      <th>product_name</th>\n",
       "      <th>aisle_id</th>\n",
       "      <th>department_id</th>\n",
       "      <th>prices</th>\n",
       "      <th>price_range_loc</th>\n",
       "      <th>busiest_day</th>\n",
       "      <th>busiest_days</th>\n",
       "      <th>busiest_period_of_day</th>\n",
       "      <th>max_order</th>\n",
       "      <th>loyalty_flag</th>\n",
       "      <th>mean_price</th>\n",
       "      <th>spender_flag</th>\n",
       "      <th>median_order</th>\n",
       "      <th>order_frequency_flag</th>\n",
       "      <th>gender</th>\n",
       "      <th>state_name</th>\n",
       "      <th>age_customer</th>\n",
       "      <th>date_joined</th>\n",
       "      <th>number_dependants</th>\n",
       "      <th>marital_status</th>\n",
       "      <th>income</th>\n",
       "      <th>department</th>\n",
       "    </tr>\n",
       "  </thead>\n",
       "  <tbody>\n",
       "    <tr>\n",
       "      <th>0</th>\n",
       "      <td>2617132</td>\n",
       "      <td>55630</td>\n",
       "      <td>6</td>\n",
       "      <td>2</td>\n",
       "      <td>15</td>\n",
       "      <td>5.0</td>\n",
       "      <td>31766</td>\n",
       "      <td>13</td>\n",
       "      <td>0</td>\n",
       "      <td>Cheese Pizza Snacks</td>\n",
       "      <td>129</td>\n",
       "      <td>1</td>\n",
       "      <td>14.3</td>\n",
       "      <td>Mid-range product</td>\n",
       "      <td>Regularly busy</td>\n",
       "      <td>Regularly busy</td>\n",
       "      <td>Most orders</td>\n",
       "      <td>50</td>\n",
       "      <td>Loyal customer</td>\n",
       "      <td>7.550000</td>\n",
       "      <td>Low spender</td>\n",
       "      <td>5.0</td>\n",
       "      <td>Frequent customer</td>\n",
       "      <td>Female</td>\n",
       "      <td>Rhode Island</td>\n",
       "      <td>29</td>\n",
       "      <td>10/5/2017</td>\n",
       "      <td>2</td>\n",
       "      <td>married</td>\n",
       "      <td>71955</td>\n",
       "      <td>frozen</td>\n",
       "    </tr>\n",
       "    <tr>\n",
       "      <th>47</th>\n",
       "      <td>1158288</td>\n",
       "      <td>55630</td>\n",
       "      <td>1</td>\n",
       "      <td>5</td>\n",
       "      <td>15</td>\n",
       "      <td>NaN</td>\n",
       "      <td>6377</td>\n",
       "      <td>5</td>\n",
       "      <td>0</td>\n",
       "      <td>Raspberry Chocolate Chip Gelato</td>\n",
       "      <td>37</td>\n",
       "      <td>1</td>\n",
       "      <td>5.0</td>\n",
       "      <td>Low-range product</td>\n",
       "      <td>Regularly busy</td>\n",
       "      <td>Regularly busy</td>\n",
       "      <td>Most orders</td>\n",
       "      <td>50</td>\n",
       "      <td>Loyal customer</td>\n",
       "      <td>7.550000</td>\n",
       "      <td>Low spender</td>\n",
       "      <td>5.0</td>\n",
       "      <td>Frequent customer</td>\n",
       "      <td>Female</td>\n",
       "      <td>Rhode Island</td>\n",
       "      <td>29</td>\n",
       "      <td>10/5/2017</td>\n",
       "      <td>2</td>\n",
       "      <td>married</td>\n",
       "      <td>71955</td>\n",
       "      <td>frozen</td>\n",
       "    </tr>\n",
       "    <tr>\n",
       "      <th>84</th>\n",
       "      <td>30342</td>\n",
       "      <td>168460</td>\n",
       "      <td>31</td>\n",
       "      <td>2</td>\n",
       "      <td>12</td>\n",
       "      <td>6.0</td>\n",
       "      <td>31766</td>\n",
       "      <td>13</td>\n",
       "      <td>1</td>\n",
       "      <td>Cheese Pizza Snacks</td>\n",
       "      <td>129</td>\n",
       "      <td>1</td>\n",
       "      <td>14.3</td>\n",
       "      <td>Mid-range product</td>\n",
       "      <td>Regularly busy</td>\n",
       "      <td>Regularly busy</td>\n",
       "      <td>Most orders</td>\n",
       "      <td>43</td>\n",
       "      <td>Loyal customer</td>\n",
       "      <td>7.696932</td>\n",
       "      <td>Low spender</td>\n",
       "      <td>7.0</td>\n",
       "      <td>Frequent customer</td>\n",
       "      <td>Female</td>\n",
       "      <td>Connecticut</td>\n",
       "      <td>75</td>\n",
       "      <td>2/1/2020</td>\n",
       "      <td>2</td>\n",
       "      <td>married</td>\n",
       "      <td>111758</td>\n",
       "      <td>frozen</td>\n",
       "    </tr>\n",
       "    <tr>\n",
       "      <th>120</th>\n",
       "      <td>1859900</td>\n",
       "      <td>168460</td>\n",
       "      <td>42</td>\n",
       "      <td>4</td>\n",
       "      <td>10</td>\n",
       "      <td>18.0</td>\n",
       "      <td>20995</td>\n",
       "      <td>10</td>\n",
       "      <td>1</td>\n",
       "      <td>Organic Broccoli Florets</td>\n",
       "      <td>116</td>\n",
       "      <td>1</td>\n",
       "      <td>8.3</td>\n",
       "      <td>Mid-range product</td>\n",
       "      <td>Least busy</td>\n",
       "      <td>Least busy days</td>\n",
       "      <td>Most orders</td>\n",
       "      <td>43</td>\n",
       "      <td>Loyal customer</td>\n",
       "      <td>7.696932</td>\n",
       "      <td>Low spender</td>\n",
       "      <td>7.0</td>\n",
       "      <td>Frequent customer</td>\n",
       "      <td>Female</td>\n",
       "      <td>Connecticut</td>\n",
       "      <td>75</td>\n",
       "      <td>2/1/2020</td>\n",
       "      <td>2</td>\n",
       "      <td>married</td>\n",
       "      <td>111758</td>\n",
       "      <td>frozen</td>\n",
       "    </tr>\n",
       "    <tr>\n",
       "      <th>121</th>\n",
       "      <td>2432960</td>\n",
       "      <td>168460</td>\n",
       "      <td>4</td>\n",
       "      <td>0</td>\n",
       "      <td>12</td>\n",
       "      <td>6.0</td>\n",
       "      <td>20995</td>\n",
       "      <td>23</td>\n",
       "      <td>0</td>\n",
       "      <td>Organic Broccoli Florets</td>\n",
       "      <td>116</td>\n",
       "      <td>1</td>\n",
       "      <td>8.3</td>\n",
       "      <td>Mid-range product</td>\n",
       "      <td>Busiest day</td>\n",
       "      <td>Busiest days</td>\n",
       "      <td>Most orders</td>\n",
       "      <td>43</td>\n",
       "      <td>Loyal customer</td>\n",
       "      <td>7.696932</td>\n",
       "      <td>Low spender</td>\n",
       "      <td>7.0</td>\n",
       "      <td>Frequent customer</td>\n",
       "      <td>Female</td>\n",
       "      <td>Connecticut</td>\n",
       "      <td>75</td>\n",
       "      <td>2/1/2020</td>\n",
       "      <td>2</td>\n",
       "      <td>married</td>\n",
       "      <td>111758</td>\n",
       "      <td>frozen</td>\n",
       "    </tr>\n",
       "  </tbody>\n",
       "</table>\n",
       "</div>"
      ],
      "text/plain": [
       "     order_id  user_id  order_number  orders_day_of_week  order_hour_of_day  \\\n",
       "0     2617132    55630             6                   2                 15   \n",
       "47    1158288    55630             1                   5                 15   \n",
       "84      30342   168460            31                   2                 12   \n",
       "120   1859900   168460            42                   4                 10   \n",
       "121   2432960   168460             4                   0                 12   \n",
       "\n",
       "     days_since_prior_order  product_id  add_to_cart_order  reordered  \\\n",
       "0                       5.0       31766                 13          0   \n",
       "47                      NaN        6377                  5          0   \n",
       "84                      6.0       31766                 13          1   \n",
       "120                    18.0       20995                 10          1   \n",
       "121                     6.0       20995                 23          0   \n",
       "\n",
       "                        product_name  aisle_id  department_id  prices  \\\n",
       "0                Cheese Pizza Snacks       129              1    14.3   \n",
       "47   Raspberry Chocolate Chip Gelato        37              1     5.0   \n",
       "84               Cheese Pizza Snacks       129              1    14.3   \n",
       "120         Organic Broccoli Florets       116              1     8.3   \n",
       "121         Organic Broccoli Florets       116              1     8.3   \n",
       "\n",
       "       price_range_loc     busiest_day     busiest_days busiest_period_of_day  \\\n",
       "0    Mid-range product  Regularly busy   Regularly busy           Most orders   \n",
       "47   Low-range product  Regularly busy   Regularly busy           Most orders   \n",
       "84   Mid-range product  Regularly busy   Regularly busy           Most orders   \n",
       "120  Mid-range product      Least busy  Least busy days           Most orders   \n",
       "121  Mid-range product     Busiest day     Busiest days           Most orders   \n",
       "\n",
       "     max_order    loyalty_flag  mean_price spender_flag  median_order  \\\n",
       "0           50  Loyal customer    7.550000  Low spender           5.0   \n",
       "47          50  Loyal customer    7.550000  Low spender           5.0   \n",
       "84          43  Loyal customer    7.696932  Low spender           7.0   \n",
       "120         43  Loyal customer    7.696932  Low spender           7.0   \n",
       "121         43  Loyal customer    7.696932  Low spender           7.0   \n",
       "\n",
       "    order_frequency_flag  gender    state_name  age_customer date_joined  \\\n",
       "0      Frequent customer  Female  Rhode Island            29   10/5/2017   \n",
       "47     Frequent customer  Female  Rhode Island            29   10/5/2017   \n",
       "84     Frequent customer  Female   Connecticut            75    2/1/2020   \n",
       "120    Frequent customer  Female   Connecticut            75    2/1/2020   \n",
       "121    Frequent customer  Female   Connecticut            75    2/1/2020   \n",
       "\n",
       "     number_dependants marital_status  income department  \n",
       "0                    2        married   71955     frozen  \n",
       "47                   2        married   71955     frozen  \n",
       "84                   2        married  111758     frozen  \n",
       "120                  2        married  111758     frozen  \n",
       "121                  2        married  111758     frozen  "
      ]
     },
     "execution_count": 31,
     "metadata": {},
     "output_type": "execute_result"
    }
   ],
   "source": [
    "# Provide overview of ords_prods_merge columns and output (no personal identifying information)\n",
    "\n",
    "ords_prods_merge.head()"
   ]
  },
  {
   "cell_type": "code",
   "execution_count": 382,
   "id": "c623142d-a9cb-4d1e-b430-c7218fb177e3",
   "metadata": {
    "execution": {
     "iopub.execute_input": "2025-01-13T03:18:01.665878Z",
     "iopub.status.busy": "2025-01-13T03:18:01.665586Z",
     "iopub.status.idle": "2025-01-13T03:18:01.671619Z",
     "shell.execute_reply": "2025-01-13T03:18:01.670896Z",
     "shell.execute_reply.started": "2025-01-13T03:18:01.665850Z"
    }
   },
   "outputs": [
    {
     "data": {
      "text/plain": [
       "(6480944, 33)"
      ]
     },
     "execution_count": 382,
     "metadata": {},
     "output_type": "execute_result"
    }
   ],
   "source": [
    "ords_prods_merge.shape"
   ]
  },
  {
   "cell_type": "markdown",
   "id": "38fc8365-ce14-43e3-8347-50d4ff1b9f45",
   "metadata": {
    "jp-MarkdownHeadingCollapsed": true
   },
   "source": [
    "## Regional Data Segmentation"
   ]
  },
  {
   "cell_type": "code",
   "execution_count": 33,
   "id": "b4306ae7-5e2b-4b83-baa8-ddbf64eeff30",
   "metadata": {
    "execution": {
     "iopub.execute_input": "2025-01-12T23:31:53.312157Z",
     "iopub.status.busy": "2025-01-12T23:31:53.311926Z",
     "iopub.status.idle": "2025-01-12T23:31:53.638156Z",
     "shell.execute_reply": "2025-01-12T23:31:53.637326Z",
     "shell.execute_reply.started": "2025-01-12T23:31:53.312141Z"
    }
   },
   "outputs": [],
   "source": [
    "# Using .loc function to create 'Northeast' within new 'Region' column\n",
    "\n",
    "ords_prods_merge.loc[ords_prods_merge['state_name'].isin(['Maine', 'New Hampshire', 'Vermont', 'Massachusetts', 'Rhode Island', 'Connecticut', 'New York', 'Pennsylvania', 'New Jersey']), 'region'] = 'Northeast'"
   ]
  },
  {
   "cell_type": "code",
   "execution_count": 35,
   "id": "b6628644-2b45-4670-8b25-370a9464529b",
   "metadata": {
    "execution": {
     "iopub.execute_input": "2025-01-12T23:31:53.662055Z",
     "iopub.status.busy": "2025-01-12T23:31:53.661638Z",
     "iopub.status.idle": "2025-01-12T23:31:54.106068Z",
     "shell.execute_reply": "2025-01-12T23:31:54.105456Z",
     "shell.execute_reply.started": "2025-01-12T23:31:53.662026Z"
    }
   },
   "outputs": [],
   "source": [
    "# Using .loc function to create 'Midwest' within new 'Region' column\n",
    "\n",
    "ords_prods_merge.loc[ords_prods_merge['state_name'].isin(['Wisconsin', 'Michigan', 'Illinois', 'Indiana', 'Ohio', 'North Dakota', 'South Dakota', 'Nebraska', 'Kansas', 'Minnesota', 'Iowa', 'Missouri']), 'region'] = 'Midwest'"
   ]
  },
  {
   "cell_type": "code",
   "execution_count": 37,
   "id": "5bb86dc1-a08e-43a5-875f-ddd0e6554c00",
   "metadata": {
    "execution": {
     "iopub.execute_input": "2025-01-12T23:31:54.123313Z",
     "iopub.status.busy": "2025-01-12T23:31:54.122969Z",
     "iopub.status.idle": "2025-01-12T23:31:54.404425Z",
     "shell.execute_reply": "2025-01-12T23:31:54.403797Z",
     "shell.execute_reply.started": "2025-01-12T23:31:54.123292Z"
    }
   },
   "outputs": [],
   "source": [
    "# Using .loc function to create 'South' within new 'Region' column\n",
    "\n",
    "ords_prods_merge.loc[ords_prods_merge['state_name'].isin(['Delaware', 'Maryland', 'District of Columbia', 'Virginia', 'West Virginia', 'North Carolina', 'South Carolina', 'Georgia', 'Florida', 'Kentucky', 'Tennessee', 'Mississippi', 'Alabama', 'Oklahoma', 'Texas', 'Arkansas', 'Louisiana']), 'region'] = 'South'"
   ]
  },
  {
   "cell_type": "code",
   "execution_count": 39,
   "id": "fe8592b4-ce91-47a5-82b0-7acca6377129",
   "metadata": {
    "execution": {
     "iopub.execute_input": "2025-01-12T23:31:54.420992Z",
     "iopub.status.busy": "2025-01-12T23:31:54.420744Z",
     "iopub.status.idle": "2025-01-12T23:31:54.654157Z",
     "shell.execute_reply": "2025-01-12T23:31:54.653531Z",
     "shell.execute_reply.started": "2025-01-12T23:31:54.420975Z"
    }
   },
   "outputs": [],
   "source": [
    "# Using .loc function to create 'West' within new 'Region' column\n",
    "\n",
    "ords_prods_merge.loc[ords_prods_merge['state_name'].isin(['Idaho', 'Montana', 'Wyoming', 'Nevada', 'Utah', 'Colorado', 'Arizona', 'New Mexico', 'Alaska', 'Washington', 'Oregon', 'California', 'Hawaii']), 'region'] = 'West'"
   ]
  },
  {
   "cell_type": "code",
   "execution_count": 41,
   "id": "61f7e7db-f8e4-4b28-9b66-a98fb46be696",
   "metadata": {
    "execution": {
     "iopub.execute_input": "2025-01-12T23:31:54.676717Z",
     "iopub.status.busy": "2025-01-12T23:31:54.676466Z",
     "iopub.status.idle": "2025-01-12T23:31:54.822573Z",
     "shell.execute_reply": "2025-01-12T23:31:54.821914Z",
     "shell.execute_reply.started": "2025-01-12T23:31:54.676699Z"
    }
   },
   "outputs": [
    {
     "data": {
      "text/html": [
       "<div>\n",
       "<style scoped>\n",
       "    .dataframe tbody tr th:only-of-type {\n",
       "        vertical-align: middle;\n",
       "    }\n",
       "\n",
       "    .dataframe tbody tr th {\n",
       "        vertical-align: top;\n",
       "    }\n",
       "\n",
       "    .dataframe thead th {\n",
       "        text-align: right;\n",
       "    }\n",
       "</style>\n",
       "<table border=\"1\" class=\"dataframe\">\n",
       "  <thead>\n",
       "    <tr style=\"text-align: right;\">\n",
       "      <th></th>\n",
       "      <th>state_name</th>\n",
       "      <th>region</th>\n",
       "    </tr>\n",
       "  </thead>\n",
       "  <tbody>\n",
       "    <tr>\n",
       "      <th>0</th>\n",
       "      <td>Rhode Island</td>\n",
       "      <td>Northeast</td>\n",
       "    </tr>\n",
       "    <tr>\n",
       "      <th>47</th>\n",
       "      <td>Rhode Island</td>\n",
       "      <td>Northeast</td>\n",
       "    </tr>\n",
       "    <tr>\n",
       "      <th>84</th>\n",
       "      <td>Connecticut</td>\n",
       "      <td>Northeast</td>\n",
       "    </tr>\n",
       "    <tr>\n",
       "      <th>120</th>\n",
       "      <td>Connecticut</td>\n",
       "      <td>Northeast</td>\n",
       "    </tr>\n",
       "    <tr>\n",
       "      <th>121</th>\n",
       "      <td>Connecticut</td>\n",
       "      <td>Northeast</td>\n",
       "    </tr>\n",
       "    <tr>\n",
       "      <th>...</th>\n",
       "      <td>...</td>\n",
       "      <td>...</td>\n",
       "    </tr>\n",
       "    <tr>\n",
       "      <th>6480836</th>\n",
       "      <td>South Dakota</td>\n",
       "      <td>Midwest</td>\n",
       "    </tr>\n",
       "    <tr>\n",
       "      <th>6480852</th>\n",
       "      <td>North Dakota</td>\n",
       "      <td>Midwest</td>\n",
       "    </tr>\n",
       "    <tr>\n",
       "      <th>6480863</th>\n",
       "      <td>Indiana</td>\n",
       "      <td>Midwest</td>\n",
       "    </tr>\n",
       "    <tr>\n",
       "      <th>6480918</th>\n",
       "      <td>Rhode Island</td>\n",
       "      <td>Northeast</td>\n",
       "    </tr>\n",
       "    <tr>\n",
       "      <th>6480939</th>\n",
       "      <td>California</td>\n",
       "      <td>West</td>\n",
       "    </tr>\n",
       "  </tbody>\n",
       "</table>\n",
       "<p>6480944 rows × 2 columns</p>\n",
       "</div>"
      ],
      "text/plain": [
       "           state_name     region\n",
       "0        Rhode Island  Northeast\n",
       "47       Rhode Island  Northeast\n",
       "84        Connecticut  Northeast\n",
       "120       Connecticut  Northeast\n",
       "121       Connecticut  Northeast\n",
       "...               ...        ...\n",
       "6480836  South Dakota    Midwest\n",
       "6480852  North Dakota    Midwest\n",
       "6480863       Indiana    Midwest\n",
       "6480918  Rhode Island  Northeast\n",
       "6480939    California       West\n",
       "\n",
       "[6480944 rows x 2 columns]"
      ]
     },
     "execution_count": 41,
     "metadata": {},
     "output_type": "execute_result"
    }
   ],
   "source": [
    "# Check output of new 'region' column\n",
    "\n",
    "ords_prods_merge[['state_name', 'region']]"
   ]
  },
  {
   "cell_type": "code",
   "execution_count": 43,
   "id": "c508b384-45a4-449d-a582-992ec90e59dc",
   "metadata": {
    "execution": {
     "iopub.execute_input": "2025-01-12T23:31:54.841580Z",
     "iopub.status.busy": "2025-01-12T23:31:54.841226Z",
     "iopub.status.idle": "2025-01-12T23:31:56.479760Z",
     "shell.execute_reply": "2025-01-12T23:31:56.479147Z",
     "shell.execute_reply.started": "2025-01-12T23:31:54.841557Z"
    }
   },
   "outputs": [],
   "source": [
    "# Create crosstab of 'region' and 'spender_flag' columns\n",
    "\n",
    "region_spending = pd.crosstab(ords_prods_merge['region'], ords_prods_merge['spender_flag'], dropna = False)"
   ]
  },
  {
   "cell_type": "code",
   "execution_count": 45,
   "id": "19159317-6a2f-4c21-ae37-df0bb53d79a7",
   "metadata": {
    "execution": {
     "iopub.execute_input": "2025-01-12T23:31:56.496153Z",
     "iopub.status.busy": "2025-01-12T23:31:56.495895Z",
     "iopub.status.idle": "2025-01-12T23:31:56.631888Z",
     "shell.execute_reply": "2025-01-12T23:31:56.631221Z",
     "shell.execute_reply.started": "2025-01-12T23:31:56.496135Z"
    }
   },
   "outputs": [
    {
     "data": {
      "text/html": [
       "<style type=\"text/css\">\n",
       "</style>\n",
       "<table id=\"T_0f234\">\n",
       "  <thead>\n",
       "    <tr>\n",
       "      <th class=\"index_name level0\" >spender_flag</th>\n",
       "      <th id=\"T_0f234_level0_col0\" class=\"col_heading level0 col0\" >High spender</th>\n",
       "      <th id=\"T_0f234_level0_col1\" class=\"col_heading level0 col1\" >Low spender</th>\n",
       "    </tr>\n",
       "    <tr>\n",
       "      <th class=\"index_name level0\" >region</th>\n",
       "      <th class=\"blank col0\" >&nbsp;</th>\n",
       "      <th class=\"blank col1\" >&nbsp;</th>\n",
       "    </tr>\n",
       "  </thead>\n",
       "  <tbody>\n",
       "    <tr>\n",
       "      <th id=\"T_0f234_level0_row0\" class=\"row_heading level0 row0\" >Midwest</th>\n",
       "      <td id=\"T_0f234_row0_col0\" class=\"data row0 col0\" >40,351</td>\n",
       "      <td id=\"T_0f234_row0_col1\" class=\"data row0 col1\" >1,479,527</td>\n",
       "    </tr>\n",
       "    <tr>\n",
       "      <th id=\"T_0f234_level0_row1\" class=\"row_heading level0 row1\" >Northeast</th>\n",
       "      <td id=\"T_0f234_row1_col0\" class=\"data row1 col0\" >25,449</td>\n",
       "      <td id=\"T_0f234_row1_col1\" class=\"data row1 col1\" >1,119,678</td>\n",
       "    </tr>\n",
       "    <tr>\n",
       "      <th id=\"T_0f234_level0_row2\" class=\"row_heading level0 row2\" >South</th>\n",
       "      <td id=\"T_0f234_row2_col0\" class=\"data row2 col0\" >51,737</td>\n",
       "      <td id=\"T_0f234_row2_col1\" class=\"data row2 col1\" >2,106,415</td>\n",
       "    </tr>\n",
       "    <tr>\n",
       "      <th id=\"T_0f234_level0_row3\" class=\"row_heading level0 row3\" >West</th>\n",
       "      <td id=\"T_0f234_row3_col0\" class=\"data row3 col0\" >40,470</td>\n",
       "      <td id=\"T_0f234_row3_col1\" class=\"data row3 col1\" >1,617,317</td>\n",
       "    </tr>\n",
       "  </tbody>\n",
       "</table>\n"
      ],
      "text/plain": [
       "<pandas.io.formats.style.Styler at 0x76b487dd36d0>"
      ]
     },
     "execution_count": 45,
     "metadata": {},
     "output_type": "execute_result"
    }
   ],
   "source": [
    "# Check output of region_spending crosstab (and add commas)\n",
    "\n",
    "region_spending.style.format('{:,.0f}')"
   ]
  },
  {
   "cell_type": "code",
   "execution_count": 47,
   "id": "a47944de-a457-4fb9-8436-89274ecb04f0",
   "metadata": {
    "execution": {
     "iopub.execute_input": "2025-01-12T23:31:56.648092Z",
     "iopub.status.busy": "2025-01-12T23:31:56.647726Z",
     "iopub.status.idle": "2025-01-12T23:31:56.980741Z",
     "shell.execute_reply": "2025-01-12T23:31:56.980048Z",
     "shell.execute_reply.started": "2025-01-12T23:31:56.648066Z"
    }
   },
   "outputs": [
    {
     "data": {
      "image/png": "[encoded data removed]",
      "text/plain": [
       "<Figure size 1000x600 with 1 Axes>"
      ]
     },
     "metadata": {},
     "output_type": "display_data"
    }
   ],
   "source": [
    "# Create a stacked bar chart of spender flag by region\n",
    "\n",
    "bar_region_spender = region_spending.plot(kind='bar', stacked=True, figsize=(10, 6))\n",
    "\n",
    "# Customize the chart\n",
    "plt.title('Spender Distribution by Region')\n",
    "plt.xlabel('Region')\n",
    "plt.ylabel('Number of Customers - in millions')\n",
    "plt.legend(title='Spender Flag')\n",
    "plt.xticks(rotation=45)\n",
    "\n",
    "# Add value labels on the bars\n",
    "for c in bar_region_spender.containers:\n",
    "    bar_region_spender.bar_label(c, fmt='%.0f', label_type='center')\n",
    "\n",
    "# Adjust layout and display the chart\n",
    "plt.tight_layout()"
   ]
  },
  {
   "cell_type": "markdown",
   "id": "17f11923-7940-404d-a33c-d9edce1a9824",
   "metadata": {},
   "source": [
    "### Notes:\n",
    "\n",
    "From checking the crosstab & stacked bar chart, we can see that the South has the highest number of High and Low spenders, followed by the West. The northeast has both the smallest number of high and low spenders."
   ]
  },
  {
   "cell_type": "code",
   "execution_count": 49,
   "id": "02a805a4-8ee0-4132-9f8b-b89f536b2943",
   "metadata": {
    "execution": {
     "iopub.execute_input": "2025-01-12T23:31:56.998462Z",
     "iopub.status.busy": "2025-01-12T23:31:56.998108Z",
     "iopub.status.idle": "2025-01-12T23:31:57.126239Z",
     "shell.execute_reply": "2025-01-12T23:31:57.125744Z",
     "shell.execute_reply.started": "2025-01-12T23:31:56.998443Z"
    }
   },
   "outputs": [],
   "source": [
    "# Export outside Jupyter in the form of an image file\n",
    "\n",
    "bar_region_spender.figure.savefig(os.path.join(path, '04 Analysis','Visualizations', 'bar_region_spender.png'))"
   ]
  },
  {
   "cell_type": "markdown",
   "id": "cb9e51be-f31f-40ea-bb67-4ab4955baada",
   "metadata": {
    "jp-MarkdownHeadingCollapsed": true
   },
   "source": [
    "## Low Activity Customers"
   ]
  },
  {
   "cell_type": "code",
   "execution_count": 51,
   "id": "477da0c6-edc6-47e6-8089-b54dcd0c01f9",
   "metadata": {
    "execution": {
     "iopub.execute_input": "2025-01-12T23:31:57.142267Z",
     "iopub.status.busy": "2025-01-12T23:31:57.141802Z",
     "iopub.status.idle": "2025-01-12T23:31:57.237063Z",
     "shell.execute_reply": "2025-01-12T23:31:57.236354Z",
     "shell.execute_reply.started": "2025-01-12T23:31:57.142249Z"
    }
   },
   "outputs": [],
   "source": [
    "# Apply .loc to create new column 'activity_flag' for \"Low activity\"\n",
    "\n",
    "ords_prods_merge.loc[ords_prods_merge['median_order'] < 5, 'activity_flag'] = 'Low activity'"
   ]
  },
  {
   "cell_type": "code",
   "execution_count": 53,
   "id": "da916c3a-e57d-446f-ac17-39d0d5b1787a",
   "metadata": {
    "execution": {
     "iopub.execute_input": "2025-01-12T23:31:57.254638Z",
     "iopub.status.busy": "2025-01-12T23:31:57.254379Z",
     "iopub.status.idle": "2025-01-12T23:31:57.362787Z",
     "shell.execute_reply": "2025-01-12T23:31:57.362195Z",
     "shell.execute_reply.started": "2025-01-12T23:31:57.254621Z"
    }
   },
   "outputs": [],
   "source": [
    "# Apply .loc to create new column 'activity_flag' for \"High activity\"\n",
    "\n",
    "ords_prods_merge.loc[ords_prods_merge['median_order'] >= 5, 'activity_flag'] = 'High activity'"
   ]
  },
  {
   "cell_type": "code",
   "execution_count": 55,
   "id": "7efcac8d-969a-4550-a5bd-3905ccd346bd",
   "metadata": {
    "execution": {
     "iopub.execute_input": "2025-01-12T23:31:57.380263Z",
     "iopub.status.busy": "2025-01-12T23:31:57.379994Z",
     "iopub.status.idle": "2025-01-12T23:31:57.501047Z",
     "shell.execute_reply": "2025-01-12T23:31:57.500400Z",
     "shell.execute_reply.started": "2025-01-12T23:31:57.380244Z"
    }
   },
   "outputs": [
    {
     "data": {
      "text/html": [
       "<div>\n",
       "<style scoped>\n",
       "    .dataframe tbody tr th:only-of-type {\n",
       "        vertical-align: middle;\n",
       "    }\n",
       "\n",
       "    .dataframe tbody tr th {\n",
       "        vertical-align: top;\n",
       "    }\n",
       "\n",
       "    .dataframe thead th {\n",
       "        text-align: right;\n",
       "    }\n",
       "</style>\n",
       "<table border=\"1\" class=\"dataframe\">\n",
       "  <thead>\n",
       "    <tr style=\"text-align: right;\">\n",
       "      <th></th>\n",
       "      <th>median_order</th>\n",
       "      <th>activity_flag</th>\n",
       "    </tr>\n",
       "  </thead>\n",
       "  <tbody>\n",
       "    <tr>\n",
       "      <th>0</th>\n",
       "      <td>5.0</td>\n",
       "      <td>High activity</td>\n",
       "    </tr>\n",
       "    <tr>\n",
       "      <th>47</th>\n",
       "      <td>5.0</td>\n",
       "      <td>High activity</td>\n",
       "    </tr>\n",
       "    <tr>\n",
       "      <th>84</th>\n",
       "      <td>7.0</td>\n",
       "      <td>High activity</td>\n",
       "    </tr>\n",
       "    <tr>\n",
       "      <th>120</th>\n",
       "      <td>7.0</td>\n",
       "      <td>High activity</td>\n",
       "    </tr>\n",
       "    <tr>\n",
       "      <th>121</th>\n",
       "      <td>7.0</td>\n",
       "      <td>High activity</td>\n",
       "    </tr>\n",
       "    <tr>\n",
       "      <th>...</th>\n",
       "      <td>...</td>\n",
       "      <td>...</td>\n",
       "    </tr>\n",
       "    <tr>\n",
       "      <th>6480836</th>\n",
       "      <td>2.5</td>\n",
       "      <td>Low activity</td>\n",
       "    </tr>\n",
       "    <tr>\n",
       "      <th>6480852</th>\n",
       "      <td>2.0</td>\n",
       "      <td>Low activity</td>\n",
       "    </tr>\n",
       "    <tr>\n",
       "      <th>6480863</th>\n",
       "      <td>27.0</td>\n",
       "      <td>High activity</td>\n",
       "    </tr>\n",
       "    <tr>\n",
       "      <th>6480918</th>\n",
       "      <td>30.0</td>\n",
       "      <td>High activity</td>\n",
       "    </tr>\n",
       "    <tr>\n",
       "      <th>6480939</th>\n",
       "      <td>3.0</td>\n",
       "      <td>Low activity</td>\n",
       "    </tr>\n",
       "  </tbody>\n",
       "</table>\n",
       "<p>6480944 rows × 2 columns</p>\n",
       "</div>"
      ],
      "text/plain": [
       "         median_order  activity_flag\n",
       "0                 5.0  High activity\n",
       "47                5.0  High activity\n",
       "84                7.0  High activity\n",
       "120               7.0  High activity\n",
       "121               7.0  High activity\n",
       "...               ...            ...\n",
       "6480836           2.5   Low activity\n",
       "6480852           2.0   Low activity\n",
       "6480863          27.0  High activity\n",
       "6480918          30.0  High activity\n",
       "6480939           3.0   Low activity\n",
       "\n",
       "[6480944 rows x 2 columns]"
      ]
     },
     "execution_count": 55,
     "metadata": {},
     "output_type": "execute_result"
    }
   ],
   "source": [
    "# Check output of activity_flag\n",
    "\n",
    "ords_prods_merge[['median_order', 'activity_flag']]"
   ]
  },
  {
   "cell_type": "code",
   "execution_count": 57,
   "id": "78dbab7a-22b2-48cf-a7a1-477733d00b10",
   "metadata": {
    "execution": {
     "iopub.execute_input": "2025-01-12T23:31:57.517933Z",
     "iopub.status.busy": "2025-01-12T23:31:57.517655Z",
     "iopub.status.idle": "2025-01-12T23:31:59.109931Z",
     "shell.execute_reply": "2025-01-12T23:31:59.109165Z",
     "shell.execute_reply.started": "2025-01-12T23:31:57.517908Z"
    }
   },
   "outputs": [],
   "source": [
    "# Create new dataframe 'ic_final' that filters out the 'Low activity' customers\n",
    "\n",
    "ic_final = ords_prods_merge[ords_prods_merge['activity_flag'] != 'Low activity']"
   ]
  },
  {
   "cell_type": "code",
   "execution_count": 59,
   "id": "d1e8106a-9769-4392-951b-88a771379545",
   "metadata": {
    "execution": {
     "iopub.execute_input": "2025-01-12T23:31:59.128916Z",
     "iopub.status.busy": "2025-01-12T23:31:59.128637Z",
     "iopub.status.idle": "2025-01-12T23:31:59.479846Z",
     "shell.execute_reply": "2025-01-12T23:31:59.479148Z",
     "shell.execute_reply.started": "2025-01-12T23:31:59.128897Z"
    }
   },
   "outputs": [
    {
     "name": "stdout",
     "output_type": "stream",
     "text": [
      "['High activity' 'Low activity' 'nan']\n"
     ]
    }
   ],
   "source": [
    "# Check if all values in 'activity_flag' are 'High activity'\n",
    "\n",
    "print(ords_prods_merge['activity_flag'].unique())"
   ]
  },
  {
   "cell_type": "code",
   "execution_count": 61,
   "id": "de7a4b30-5719-433a-93f7-08d55494fe76",
   "metadata": {
    "execution": {
     "iopub.execute_input": "2025-01-12T23:31:59.499413Z",
     "iopub.status.busy": "2025-01-12T23:31:59.499132Z",
     "iopub.status.idle": "2025-01-12T23:32:07.096002Z",
     "shell.execute_reply": "2025-01-12T23:32:07.095094Z",
     "shell.execute_reply.started": "2025-01-12T23:31:59.499396Z"
    }
   },
   "outputs": [],
   "source": [
    "# Export the high activity only dataframe as pickle\n",
    "\n",
    "ic_final.to_pickle(os.path.join(path, '02 Data','Prepared Data', 'ic_final.pkl'))"
   ]
  },
  {
   "cell_type": "markdown",
   "id": "5a6a9003-f3f8-4339-832f-a8044f04faf3",
   "metadata": {
    "jp-MarkdownHeadingCollapsed": true
   },
   "source": [
    "## Customer Profiling Variables\n",
    "\n",
    "The following customer profiles & distributions have been created for various cross-analyses:\n",
    "\n",
    "#### 1. Income Level Profile\n",
    "#### 2. Time of Day Profile\n",
    "#### 3. Age Group Profile\n",
    "#### 4. Young Parent vs. Older Parent Profile\n"
   ]
  },
  {
   "cell_type": "markdown",
   "id": "75643ad3-c5f7-4a1c-a454-8affca0a3c63",
   "metadata": {},
   "source": [
    "### 1. Income Levels Profile"
   ]
  },
  {
   "cell_type": "code",
   "execution_count": 63,
   "id": "652865ce-438c-4d9f-b2ee-b3d1ba958ad0",
   "metadata": {
    "execution": {
     "iopub.execute_input": "2025-01-12T23:32:07.117479Z",
     "iopub.status.busy": "2025-01-12T23:32:07.116981Z",
     "iopub.status.idle": "2025-01-12T23:32:07.226596Z",
     "shell.execute_reply": "2025-01-12T23:32:07.225293Z",
     "shell.execute_reply.started": "2025-01-12T23:32:07.117454Z"
    }
   },
   "outputs": [
    {
     "name": "stderr",
     "output_type": "stream",
     "text": [
      "/tmp/ipykernel_3256/833947117.py:3: SettingWithCopyWarning: \n",
      "A value is trying to be set on a copy of a slice from a DataFrame.\n",
      "Try using .loc[row_indexer,col_indexer] = value instead\n",
      "\n",
      "See the caveats in the documentation: https://pandas.pydata.org/pandas-docs/stable/user_guide/indexing.html#returning-a-view-versus-a-copy\n",
      "  ic_final.loc[ic_final['income'] < 50000, 'income_flag'] = 'Low Income'\n"
     ]
    }
   ],
   "source": [
    "# Using .loc function to create 'Low income' within new 'income_flag' column\n",
    "\n",
    "ic_final.loc[ic_final['income'] < 50000, 'income_flag'] = 'Low Income'"
   ]
  },
  {
   "cell_type": "code",
   "execution_count": 65,
   "id": "59eeff32-8b1b-4274-b7b5-4bb5716b00b5",
   "metadata": {
    "execution": {
     "iopub.execute_input": "2025-01-12T23:32:07.260624Z",
     "iopub.status.busy": "2025-01-12T23:32:07.260098Z",
     "iopub.status.idle": "2025-01-12T23:32:07.395677Z",
     "shell.execute_reply": "2025-01-12T23:32:07.394727Z",
     "shell.execute_reply.started": "2025-01-12T23:32:07.260596Z"
    }
   },
   "outputs": [],
   "source": [
    "# Using .loc function to create 'Mid income' within new 'income_flag' column\n",
    "\n",
    "ic_final.loc[(ic_final['income'] >= 50000) & (ic_final['income'] < 150000), 'income_flag'] = 'Mid Income'"
   ]
  },
  {
   "cell_type": "code",
   "execution_count": 67,
   "id": "d0e39d0c-7b5c-4ef0-a0f6-400b79e2d75c",
   "metadata": {
    "execution": {
     "iopub.execute_input": "2025-01-12T23:32:07.427916Z",
     "iopub.status.busy": "2025-01-12T23:32:07.426707Z",
     "iopub.status.idle": "2025-01-12T23:32:07.483107Z",
     "shell.execute_reply": "2025-01-12T23:32:07.482177Z",
     "shell.execute_reply.started": "2025-01-12T23:32:07.427885Z"
    }
   },
   "outputs": [],
   "source": [
    "# Using .loc function to create 'High income' within new 'income_flag' column\n",
    "\n",
    "ic_final.loc[ic_final['income'] > 150000, 'income_flag'] = 'High Income'"
   ]
  },
  {
   "cell_type": "code",
   "execution_count": 69,
   "id": "3cd588f3-fea0-4820-ae35-57f3e85e6fa4",
   "metadata": {
    "execution": {
     "iopub.execute_input": "2025-01-12T23:32:07.517048Z",
     "iopub.status.busy": "2025-01-12T23:32:07.516536Z",
     "iopub.status.idle": "2025-01-12T23:32:08.544600Z",
     "shell.execute_reply": "2025-01-12T23:32:08.543728Z",
     "shell.execute_reply.started": "2025-01-12T23:32:07.517022Z"
    },
    "scrolled": true
   },
   "outputs": [],
   "source": [
    "# Get value counts of Income_flag\n",
    "\n",
    "income_level_distribution = ic_final['income_flag'][ic_final['income_flag'] != 'nan'].value_counts()"
   ]
  },
  {
   "cell_type": "code",
   "execution_count": 409,
   "id": "081b0648-d80e-4a95-a5ee-45b5ee057af5",
   "metadata": {
    "execution": {
     "iopub.execute_input": "2025-01-13T04:29:00.172834Z",
     "iopub.status.busy": "2025-01-13T04:29:00.172530Z",
     "iopub.status.idle": "2025-01-13T04:29:00.492585Z",
     "shell.execute_reply": "2025-01-13T04:29:00.491900Z",
     "shell.execute_reply.started": "2025-01-13T04:29:00.172814Z"
    }
   },
   "outputs": [
    {
     "data": {
      "text/plain": [
       "income_flag\n",
       "Mid Income     4215215\n",
       "High Income     687403\n",
       "Low Income      626250\n",
       "nan                153\n",
       "Name: count, dtype: int64"
      ]
     },
     "execution_count": 409,
     "metadata": {},
     "output_type": "execute_result"
    }
   ],
   "source": [
    "# Check frequency of income_flag\n",
    "\n",
    "ic_final['income_flag'].value_counts(dropna = False)"
   ]
  },
  {
   "cell_type": "code",
   "execution_count": 71,
   "id": "10a65e15-5c52-44ee-9fde-7ba27ee98740",
   "metadata": {
    "execution": {
     "iopub.execute_input": "2025-01-12T23:32:08.574059Z",
     "iopub.status.busy": "2025-01-12T23:32:08.573101Z",
     "iopub.status.idle": "2025-01-12T23:32:08.896390Z",
     "shell.execute_reply": "2025-01-12T23:32:08.895532Z",
     "shell.execute_reply.started": "2025-01-12T23:32:08.574032Z"
    }
   },
   "outputs": [
    {
     "data": {
      "image/png": "[encoded data removed]",
      "text/plain": [
       "<Figure size 640x480 with 1 Axes>"
      ]
     },
     "metadata": {},
     "output_type": "display_data"
    }
   ],
   "source": [
    "# Create bar chart of income level distributions\n",
    "\n",
    "bar_income_level_distribution = income_level_distribution.plot.bar()\n",
    "plt.title('Distribution of Income Levels')\n",
    "plt.xlabel('')\n",
    "plt.ylabel('Count of Customers - in millions')\n",
    "plt.show()"
   ]
  },
  {
   "cell_type": "markdown",
   "id": "fdb54740-a132-4df6-abf7-e3e67e765c6c",
   "metadata": {
    "jp-MarkdownHeadingCollapsed": true
   },
   "source": [
    "### 2. Time of Day Profile"
   ]
  },
  {
   "cell_type": "code",
   "execution_count": 194,
   "id": "1dfa7697-5eb0-42d2-b011-f6ecdd709818",
   "metadata": {
    "execution": {
     "iopub.execute_input": "2025-01-12T23:36:47.803853Z",
     "iopub.status.busy": "2025-01-12T23:36:47.803600Z",
     "iopub.status.idle": "2025-01-12T23:36:47.971289Z",
     "shell.execute_reply": "2025-01-12T23:36:47.970527Z",
     "shell.execute_reply.started": "2025-01-12T23:36:47.803836Z"
    }
   },
   "outputs": [],
   "source": [
    "# Using .loc function to create 'Morning shopper' within new 'time_flag' column\n",
    "\n",
    "ic_final.loc[ic_final['order_hour_of_day'].isin([6,7,8,9,10,11]), 'time_flag'] = 'Morning shopper'"
   ]
  },
  {
   "cell_type": "code",
   "execution_count": 197,
   "id": "a01e5863-521f-4da4-a2e1-477272aff42b",
   "metadata": {
    "execution": {
     "iopub.execute_input": "2025-01-12T23:36:50.745573Z",
     "iopub.status.busy": "2025-01-12T23:36:50.745273Z",
     "iopub.status.idle": "2025-01-12T23:36:50.920307Z",
     "shell.execute_reply": "2025-01-12T23:36:50.919693Z",
     "shell.execute_reply.started": "2025-01-12T23:36:50.745550Z"
    }
   },
   "outputs": [],
   "source": [
    "# Using .loc function to create 'Afternoon shopper' within new 'time_flag' column\n",
    "\n",
    "ic_final.loc[ic_final['order_hour_of_day'].isin([12,13,14,15,16,17]), 'time_flag'] = 'Afternoon shopper'"
   ]
  },
  {
   "cell_type": "code",
   "execution_count": 200,
   "id": "7a130ecb-9697-477f-b560-08e771a12741",
   "metadata": {
    "execution": {
     "iopub.execute_input": "2025-01-12T23:36:52.468312Z",
     "iopub.status.busy": "2025-01-12T23:36:52.467949Z",
     "iopub.status.idle": "2025-01-12T23:36:52.583631Z",
     "shell.execute_reply": "2025-01-12T23:36:52.582945Z",
     "shell.execute_reply.started": "2025-01-12T23:36:52.468272Z"
    }
   },
   "outputs": [],
   "source": [
    "# Using .loc function to create 'Evening shopper' within new 'time_flag' column\n",
    "\n",
    "ic_final.loc[ic_final['order_hour_of_day'].isin([18,19,20,21,22,23]), 'time_flag'] = 'Evening shopper'"
   ]
  },
  {
   "cell_type": "code",
   "execution_count": 203,
   "id": "3cffcf51-bf94-421c-9238-b056ee07c319",
   "metadata": {
    "execution": {
     "iopub.execute_input": "2025-01-12T23:36:54.164063Z",
     "iopub.status.busy": "2025-01-12T23:36:54.163701Z",
     "iopub.status.idle": "2025-01-12T23:36:54.211575Z",
     "shell.execute_reply": "2025-01-12T23:36:54.210889Z",
     "shell.execute_reply.started": "2025-01-12T23:36:54.164043Z"
    }
   },
   "outputs": [],
   "source": [
    "# Using .loc function to create 'Insomniac shopper' within new 'time_flag' column\n",
    "\n",
    "ic_final.loc[ic_final['order_hour_of_day'].isin([0,1,2,3,4,5]), 'time_flag'] = 'Insomniac shopper'"
   ]
  },
  {
   "cell_type": "code",
   "execution_count": 206,
   "id": "1dc7a648-34c6-4df6-96fb-4f889029ecf8",
   "metadata": {
    "execution": {
     "iopub.execute_input": "2025-01-12T23:36:56.099900Z",
     "iopub.status.busy": "2025-01-12T23:36:56.099649Z",
     "iopub.status.idle": "2025-01-12T23:36:56.315082Z",
     "shell.execute_reply": "2025-01-12T23:36:56.314340Z",
     "shell.execute_reply.started": "2025-01-12T23:36:56.099882Z"
    },
    "scrolled": true
   },
   "outputs": [],
   "source": [
    "# Get value counts of time_flag\n",
    "\n",
    "time_of_day_distribution = ic_final['time_flag'].value_counts()"
   ]
  },
  {
   "cell_type": "code",
   "execution_count": 405,
   "id": "d2385a40-235f-4e14-8cfb-466c7dc67161",
   "metadata": {
    "execution": {
     "iopub.execute_input": "2025-01-13T04:27:07.980876Z",
     "iopub.status.busy": "2025-01-13T04:27:07.980575Z",
     "iopub.status.idle": "2025-01-13T04:27:08.279467Z",
     "shell.execute_reply": "2025-01-13T04:27:08.278814Z",
     "shell.execute_reply.started": "2025-01-13T04:27:07.980858Z"
    }
   },
   "outputs": [
    {
     "data": {
      "text/plain": [
       "time_flag\n",
       "Afternoon shopper    2620179\n",
       "Morning shopper      1825035\n",
       "Evening shopper       982538\n",
       "Insomniac shopper     101269\n",
       "Name: count, dtype: int64"
      ]
     },
     "execution_count": 405,
     "metadata": {},
     "output_type": "execute_result"
    }
   ],
   "source": [
    "# Check time_flag \n",
    "ic_final['time_flag'].value_counts(dropna = False)"
   ]
  },
  {
   "cell_type": "code",
   "execution_count": 235,
   "id": "bc4e94a3-ade0-4784-8c97-43f08f096776",
   "metadata": {
    "execution": {
     "iopub.execute_input": "2025-01-12T23:42:41.555700Z",
     "iopub.status.busy": "2025-01-12T23:42:41.555506Z",
     "iopub.status.idle": "2025-01-12T23:42:41.790292Z",
     "shell.execute_reply": "2025-01-12T23:42:41.789521Z",
     "shell.execute_reply.started": "2025-01-12T23:42:41.555682Z"
    }
   },
   "outputs": [
    {
     "name": "stderr",
     "output_type": "stream",
     "text": [
      "/tmp/ipykernel_3256/1620944192.py:21: UserWarning: set_ticklabels() should only be used with a fixed number of ticks, i.e. after set_ticks() or using a FixedLocator.\n",
      "  time_of_day_distribution_bar.set_yticklabels(['{:,}'.format(int(x)) for x in y_current_values])\n"
     ]
    },
    {
     "data": {
      "image/png": "[encoded data removed]",
      "text/plain": [
       "<Figure size 1000x600 with 1 Axes>"
      ]
     },
     "metadata": {},
     "output_type": "display_data"
    }
   ],
   "source": [
    "# Create bar chart of time of day shopping distributions\n",
    "\n",
    "# Set figure size to make it wider\n",
    "plt.figure(figsize=(10, 6)) \n",
    "\n",
    "time_of_day_distribution_bar = time_of_day_distribution.plot.bar(color='#FAF1E5')\n",
    "plt.title('Distribution of Shopping Times')\n",
    "plt.xlabel('')\n",
    "plt.ylabel('Count of Customers - in millions')\n",
    "\n",
    "# Disable scientific notation on the y-axis\n",
    "plt.ticklabel_format(style='plain', axis='y')  # Change 'axis' to 'x' if needed for x-axis\n",
    "\n",
    "# Set x-axis labels to be horizontal\n",
    "plt.xticks(rotation=0)\n",
    "\n",
    "# Format x-axis ticks with commas\n",
    "y_current_values = time_of_day_distribution_bar.get_yticks()  \n",
    "\n",
    "# Get current x-tick values\n",
    "time_of_day_distribution_bar.set_yticklabels(['{:,}'.format(int(x)) for x in y_current_values]) \n",
    "\n",
    "# Adjust layout to prevent clipping of labels\n",
    "plt.tight_layout()\n",
    "\n",
    "# Show the plot\n",
    "plt.show()"
   ]
  },
  {
   "cell_type": "code",
   "execution_count": 239,
   "id": "b5a67d9d-72f1-4cd5-8562-55426b89e9a1",
   "metadata": {
    "execution": {
     "iopub.execute_input": "2025-01-12T23:43:38.914007Z",
     "iopub.status.busy": "2025-01-12T23:43:38.913743Z",
     "iopub.status.idle": "2025-01-12T23:43:38.995350Z",
     "shell.execute_reply": "2025-01-12T23:43:38.994564Z",
     "shell.execute_reply.started": "2025-01-12T23:43:38.913988Z"
    }
   },
   "outputs": [],
   "source": [
    "# Export outside Jupyter in the form of an image file\n",
    "\n",
    "time_of_day_distribution_bar.figure.savefig(os.path.join(path, '04 Analysis','Visualizations', 'time_of_day_distribution_bar.png'))"
   ]
  },
  {
   "cell_type": "markdown",
   "id": "6d911256-4e55-4d5f-855a-1a2cc251f06b",
   "metadata": {
    "jp-MarkdownHeadingCollapsed": true
   },
   "source": [
    "### 3. Age Group Profile"
   ]
  },
  {
   "cell_type": "code",
   "execution_count": 85,
   "id": "c63765a1-7004-45e5-b4c3-878802760a8b",
   "metadata": {
    "execution": {
     "iopub.execute_input": "2025-01-12T23:32:10.786742Z",
     "iopub.status.busy": "2025-01-12T23:32:10.786283Z",
     "iopub.status.idle": "2025-01-12T23:32:10.813619Z",
     "shell.execute_reply": "2025-01-12T23:32:10.813086Z",
     "shell.execute_reply.started": "2025-01-12T23:32:10.786722Z"
    }
   },
   "outputs": [
    {
     "name": "stdout",
     "output_type": "stream",
     "text": [
      "min    18\n",
      "max    81\n",
      "Name: age_customer, dtype: int64\n"
     ]
    }
   ],
   "source": [
    "# Print min/max age of customers\n",
    "\n",
    "age_stats = ic_final['age_customer'].agg(['min', 'max'])\n",
    "print(age_stats)"
   ]
  },
  {
   "cell_type": "code",
   "execution_count": 87,
   "id": "b582dca5-8e5c-4cf9-b750-cc733b8a86e8",
   "metadata": {
    "execution": {
     "iopub.execute_input": "2025-01-12T23:32:10.830768Z",
     "iopub.status.busy": "2025-01-12T23:32:10.830507Z",
     "iopub.status.idle": "2025-01-12T23:32:10.914665Z",
     "shell.execute_reply": "2025-01-12T23:32:10.913961Z",
     "shell.execute_reply.started": "2025-01-12T23:32:10.830751Z"
    }
   },
   "outputs": [
    {
     "name": "stderr",
     "output_type": "stream",
     "text": [
      "/tmp/ipykernel_3256/2294367884.py:3: SettingWithCopyWarning: \n",
      "A value is trying to be set on a copy of a slice from a DataFrame.\n",
      "Try using .loc[row_indexer,col_indexer] = value instead\n",
      "\n",
      "See the caveats in the documentation: https://pandas.pydata.org/pandas-docs/stable/user_guide/indexing.html#returning-a-view-versus-a-copy\n",
      "  ic_final.loc[(ic_final['age_customer'] < 25), 'ages_flag'] = 'Under 25'\n"
     ]
    }
   ],
   "source": [
    "# Using .loc function to create 'Under 25' within new 'ages_flag' column\n",
    "\n",
    "ic_final.loc[(ic_final['age_customer'] < 25), 'ages_flag'] = 'Under 25'"
   ]
  },
  {
   "cell_type": "code",
   "execution_count": 89,
   "id": "dae8c785-c886-4aeb-9dc7-7d8ba5cf1682",
   "metadata": {
    "execution": {
     "iopub.execute_input": "2025-01-12T23:32:10.933952Z",
     "iopub.status.busy": "2025-01-12T23:32:10.933518Z",
     "iopub.status.idle": "2025-01-12T23:32:10.999704Z",
     "shell.execute_reply": "2025-01-12T23:32:10.999078Z",
     "shell.execute_reply.started": "2025-01-12T23:32:10.933927Z"
    }
   },
   "outputs": [],
   "source": [
    "# Using .loc function to create 'Adults 25 - 44' within new 'ages_flag' column\n",
    "\n",
    "ic_final.loc[(ic_final['age_customer'] >= 25) & (ic_final['age_customer'] < 44), 'ages_flag'] = 'Adults 25 - 44'"
   ]
  },
  {
   "cell_type": "code",
   "execution_count": 91,
   "id": "939720fb-7881-4068-9d1a-0c1802a46985",
   "metadata": {
    "execution": {
     "iopub.execute_input": "2025-01-12T23:32:11.018334Z",
     "iopub.status.busy": "2025-01-12T23:32:11.018095Z",
     "iopub.status.idle": "2025-01-12T23:32:11.079208Z",
     "shell.execute_reply": "2025-01-12T23:32:11.078569Z",
     "shell.execute_reply.started": "2025-01-12T23:32:11.018317Z"
    }
   },
   "outputs": [],
   "source": [
    "# Using .loc function to create 'Middle Aged 45 - 64' within new 'ages_flag' column\n",
    "\n",
    "ic_final.loc[(ic_final['age_customer'] >= 45) & (ic_final['age_customer'] < 64), 'ages_flag'] = 'Middle Aged 45 - 64'"
   ]
  },
  {
   "cell_type": "code",
   "execution_count": 93,
   "id": "88a813f2-0d79-4f0e-8872-3b4bd5d5c57d",
   "metadata": {
    "execution": {
     "iopub.execute_input": "2025-01-12T23:32:11.097669Z",
     "iopub.status.busy": "2025-01-12T23:32:11.097438Z",
     "iopub.status.idle": "2025-01-12T23:32:11.152633Z",
     "shell.execute_reply": "2025-01-12T23:32:11.151971Z",
     "shell.execute_reply.started": "2025-01-12T23:32:11.097652Z"
    }
   },
   "outputs": [],
   "source": [
    "# Using .loc function to create '50 year olds' within new 'ages_flag' column\n",
    "\n",
    "ic_final.loc[(ic_final['age_customer'] >= 65), 'ages_flag'] = 'Senior 65+'"
   ]
  },
  {
   "cell_type": "code",
   "execution_count": 95,
   "id": "0474e9aa-1976-4113-841f-453b9b11c114",
   "metadata": {
    "execution": {
     "iopub.execute_input": "2025-01-12T23:32:11.171490Z",
     "iopub.status.busy": "2025-01-12T23:32:11.170953Z",
     "iopub.status.idle": "2025-01-12T23:32:11.777593Z",
     "shell.execute_reply": "2025-01-12T23:32:11.777019Z",
     "shell.execute_reply.started": "2025-01-12T23:32:11.171463Z"
    }
   },
   "outputs": [],
   "source": [
    "# Get value counts of ages_flag\n",
    "\n",
    "ages_distribution = ic_final['ages_flag'][ic_final['ages_flag'] != 'nan'].value_counts()"
   ]
  },
  {
   "cell_type": "code",
   "execution_count": 401,
   "id": "a32fb603-1cc5-4d78-80e7-63acb48a63ce",
   "metadata": {
    "execution": {
     "iopub.execute_input": "2025-01-13T04:24:40.444365Z",
     "iopub.status.busy": "2025-01-13T04:24:40.444097Z",
     "iopub.status.idle": "2025-01-13T04:24:40.772660Z",
     "shell.execute_reply": "2025-01-13T04:24:40.772047Z",
     "shell.execute_reply.started": "2025-01-13T04:24:40.444347Z"
    }
   },
   "outputs": [
    {
     "data": {
      "text/plain": [
       "ages_flag\n",
       "Adults 25 - 44         1648049\n",
       "Middle Aged 45 - 64    1638069\n",
       "Senior 65+             1458587\n",
       "Under 25                607087\n",
       "nan                     177229\n",
       "Name: count, dtype: int64"
      ]
     },
     "execution_count": 401,
     "metadata": {},
     "output_type": "execute_result"
    }
   ],
   "source": [
    "# Check ages_flag\n",
    "\n",
    "ic_final['ages_flag'].value_counts(dropna = False)"
   ]
  },
  {
   "cell_type": "code",
   "execution_count": 243,
   "id": "0b649a31-432e-4365-9c58-8666997eddd0",
   "metadata": {
    "execution": {
     "iopub.execute_input": "2025-01-12T23:48:15.515457Z",
     "iopub.status.busy": "2025-01-12T23:48:15.515149Z",
     "iopub.status.idle": "2025-01-12T23:48:15.611187Z",
     "shell.execute_reply": "2025-01-12T23:48:15.610431Z",
     "shell.execute_reply.started": "2025-01-12T23:48:15.515435Z"
    }
   },
   "outputs": [
    {
     "data": {
      "image/png": "[encoded data removed]",
      "text/plain": [
       "<Figure size 640x480 with 1 Axes>"
      ]
     },
     "metadata": {},
     "output_type": "display_data"
    }
   ],
   "source": [
    "# Create bar chart of age group distributions\n",
    "\n",
    "ages_distribution_pie = ages_distribution.plot.pie(autopct='%1.1f%%', colors=['#0AAD0A','#FAF1E5','#FF7009','#BA0239','#FF7009'])\n",
    "plt.title('Distribution of Age Groups')\n",
    "plt.xlabel('')\n",
    "plt.ylabel('')\n",
    "plt.show()"
   ]
  },
  {
   "cell_type": "code",
   "execution_count": 246,
   "id": "3311b988-5dbc-4d26-ae0a-22dc237cee07",
   "metadata": {
    "execution": {
     "iopub.execute_input": "2025-01-12T23:48:39.053309Z",
     "iopub.status.busy": "2025-01-12T23:48:39.052745Z",
     "iopub.status.idle": "2025-01-12T23:48:39.108958Z",
     "shell.execute_reply": "2025-01-12T23:48:39.108276Z",
     "shell.execute_reply.started": "2025-01-12T23:48:39.053278Z"
    }
   },
   "outputs": [],
   "source": [
    "# Export outside Jupyter in the form of an image file\n",
    "\n",
    "ages_distribution_pie.figure.savefig(os.path.join(path, '04 Analysis','Visualizations', 'ages_distribution_pie.png'))"
   ]
  },
  {
   "cell_type": "markdown",
   "id": "1cc77ddd-7103-4864-977f-d2fcc87dc5c4",
   "metadata": {
    "jp-MarkdownHeadingCollapsed": true
   },
   "source": [
    "### 4. Young Parent vs. Older Parent Profile"
   ]
  },
  {
   "cell_type": "code",
   "execution_count": 99,
   "id": "9d392bdc-3ef8-442a-9c76-70fa75b9fa93",
   "metadata": {
    "execution": {
     "iopub.execute_input": "2025-01-12T23:32:11.912362Z",
     "iopub.status.busy": "2025-01-12T23:32:11.912122Z",
     "iopub.status.idle": "2025-01-12T23:32:12.064822Z",
     "shell.execute_reply": "2025-01-12T23:32:12.064074Z",
     "shell.execute_reply.started": "2025-01-12T23:32:11.912341Z"
    }
   },
   "outputs": [
    {
     "name": "stderr",
     "output_type": "stream",
     "text": [
      "/tmp/ipykernel_3256/2556975355.py:3: SettingWithCopyWarning: \n",
      "A value is trying to be set on a copy of a slice from a DataFrame.\n",
      "Try using .loc[row_indexer,col_indexer] = value instead\n",
      "\n",
      "See the caveats in the documentation: https://pandas.pydata.org/pandas-docs/stable/user_guide/indexing.html#returning-a-view-versus-a-copy\n",
      "  ic_final.loc[(ic_final['age_customer'] < 35) & (ic_final['number_dependants'].isin([1,2,3])), 'parent_age_flag'] = 'Young parent'\n"
     ]
    }
   ],
   "source": [
    "# Using .loc function to create 'Young parent' within new 'parent_age_flag' column\n",
    "\n",
    "ic_final.loc[(ic_final['age_customer'] < 35) & (ic_final['number_dependants'].isin([1,2,3])), 'parent_age_flag'] = 'Young parent'"
   ]
  },
  {
   "cell_type": "code",
   "execution_count": 101,
   "id": "debaf76e-f426-477c-ac00-f3280d8cd9eb",
   "metadata": {
    "execution": {
     "iopub.execute_input": "2025-01-12T23:32:12.084001Z",
     "iopub.status.busy": "2025-01-12T23:32:12.083746Z",
     "iopub.status.idle": "2025-01-12T23:32:12.206996Z",
     "shell.execute_reply": "2025-01-12T23:32:12.206409Z",
     "shell.execute_reply.started": "2025-01-12T23:32:12.083983Z"
    }
   },
   "outputs": [],
   "source": [
    "# Using .loc function to create 'Older parent' within new 'parent_age_flag' column\n",
    "\n",
    "ic_final.loc[(ic_final['age_customer'] >= 35) & (ic_final['age_customer'] < 60) & (ic_final['number_dependants'].isin([1,2,3])), 'parent_age_flag'] = 'Older parent'"
   ]
  },
  {
   "cell_type": "code",
   "execution_count": 103,
   "id": "44772f5d-cfae-4c04-b368-b6f7f34731bd",
   "metadata": {
    "execution": {
     "iopub.execute_input": "2025-01-12T23:32:12.228957Z",
     "iopub.status.busy": "2025-01-12T23:32:12.228221Z",
     "iopub.status.idle": "2025-01-12T23:32:12.338899Z",
     "shell.execute_reply": "2025-01-12T23:32:12.338218Z",
     "shell.execute_reply.started": "2025-01-12T23:32:12.228937Z"
    }
   },
   "outputs": [],
   "source": [
    "# Using .loc function to create 'Much older parent' within new 'parent_age_flag' column\n",
    "\n",
    "ic_final.loc[(ic_final['age_customer'] >= 60) & (ic_final['number_dependants'].isin([1,2,3])), 'parent_age_flag'] = 'Much older parent'"
   ]
  },
  {
   "cell_type": "code",
   "execution_count": 105,
   "id": "d0406f4e-02d2-4999-8fd6-34cc9bf6f30d",
   "metadata": {
    "execution": {
     "iopub.execute_input": "2025-01-12T23:32:12.358386Z",
     "iopub.status.busy": "2025-01-12T23:32:12.358145Z",
     "iopub.status.idle": "2025-01-12T23:32:12.455436Z",
     "shell.execute_reply": "2025-01-12T23:32:12.454801Z",
     "shell.execute_reply.started": "2025-01-12T23:32:12.358369Z"
    }
   },
   "outputs": [],
   "source": [
    "# Using .loc function to create 'Not a  parent' within new 'parent_age_flag' column\n",
    "\n",
    "ic_final.loc[(ic_final['number_dependants'].isin([0])), 'parent_age_flag'] = 'Not a parent'"
   ]
  },
  {
   "cell_type": "code",
   "execution_count": 107,
   "id": "a9507951-212f-4fdf-b224-5467fe7839da",
   "metadata": {
    "execution": {
     "iopub.execute_input": "2025-01-12T23:32:12.475245Z",
     "iopub.status.busy": "2025-01-12T23:32:12.474695Z",
     "iopub.status.idle": "2025-01-12T23:32:13.045113Z",
     "shell.execute_reply": "2025-01-12T23:32:13.044489Z",
     "shell.execute_reply.started": "2025-01-12T23:32:12.475216Z"
    }
   },
   "outputs": [],
   "source": [
    "# Get value counts of parent_age_flag\n",
    "\n",
    "parent_age_distribution = ic_final['parent_age_flag'][ic_final['parent_age_flag'] != 'Not a parent'].value_counts()"
   ]
  },
  {
   "cell_type": "code",
   "execution_count": 397,
   "id": "d1403364-3951-4687-afb3-530c919eec56",
   "metadata": {
    "execution": {
     "iopub.execute_input": "2025-01-13T04:20:32.466183Z",
     "iopub.status.busy": "2025-01-13T04:20:32.465761Z",
     "iopub.status.idle": "2025-01-13T04:20:32.777376Z",
     "shell.execute_reply": "2025-01-13T04:20:32.776696Z",
     "shell.execute_reply.started": "2025-01-13T04:20:32.466161Z"
    }
   },
   "outputs": [
    {
     "data": {
      "text/plain": [
       "parent_age_flag\n",
       "Older parent         1630958\n",
       "Much older parent    1414400\n",
       "Not a parent         1378588\n",
       "Young parent         1105075\n",
       "Name: count, dtype: int64"
      ]
     },
     "execution_count": 397,
     "metadata": {},
     "output_type": "execute_result"
    }
   ],
   "source": [
    "# Check frequency of parent_age_flag\n",
    "\n",
    "ic_final['parent_age_flag'].value_counts(dropna = False)"
   ]
  },
  {
   "cell_type": "code",
   "execution_count": 303,
   "id": "b807bdb8-bda2-46e9-abc2-e1be5ada2e86",
   "metadata": {
    "execution": {
     "iopub.execute_input": "2025-01-13T00:16:49.679110Z",
     "iopub.status.busy": "2025-01-13T00:16:49.678794Z",
     "iopub.status.idle": "2025-01-13T00:16:49.880251Z",
     "shell.execute_reply": "2025-01-13T00:16:49.879405Z",
     "shell.execute_reply.started": "2025-01-13T00:16:49.679022Z"
    }
   },
   "outputs": [
    {
     "name": "stderr",
     "output_type": "stream",
     "text": [
      "/tmp/ipykernel_3256/2713259271.py:26: UserWarning: set_ticklabels() should only be used with a fixed number of ticks, i.e. after set_ticks() or using a FixedLocator.\n",
      "  parent_age_groups_bar.set_yticklabels(['{:,}'.format(int(x)) for x in y_age_current_values])\n"
     ]
    },
    {
     "data": {
      "image/png": "[encoded data removed]",
      "text/plain": [
       "<Figure size 1000x600 with 1 Axes>"
      ]
     },
     "metadata": {},
     "output_type": "display_data"
    }
   ],
   "source": [
    "# Create bar chart of parent age distributions\n",
    "\n",
    "# Set figure size to make it wider\n",
    "plt.figure(figsize=(10, 6)) \n",
    "\n",
    "parent_age_groups_bar = parent_age_distribution.plot.bar(color=['#BA0239'])\n",
    "plt.title('Distribution of Parent Age Groups')\n",
    "plt.xlabel('')\n",
    "plt.ylabel('Count of Parents - in millions')\n",
    "\n",
    "# Custom x-axis labels\n",
    "age_custom_labels = ['Older Parent 35-59', 'Much Older Parent 60+', 'Young Parent <35'] \n",
    "# Define  custom labels\n",
    "parent_age_groups_bar.set_xticklabels(age_custom_labels)\n",
    "\n",
    "# Disable scientific notation on the y-axis\n",
    "plt.ticklabel_format(style='plain', axis='y')  \n",
    "\n",
    "# Set x-axis labels to be horizontal\n",
    "plt.xticks(rotation=0)\n",
    "\n",
    "# Format y-axis ticks with commas\n",
    "y_age_current_values = parent_age_groups_bar.get_yticks()  \n",
    "\n",
    "# Get current y-tick values\n",
    "parent_age_groups_bar.set_yticklabels(['{:,}'.format(int(x)) for x in y_age_current_values]) \n",
    "\n",
    "# Adjust layout to prevent clipping of labels\n",
    "plt.tight_layout()\n",
    "\n",
    "# Show the plot\n",
    "plt.show()"
   ]
  },
  {
   "cell_type": "code",
   "execution_count": 269,
   "id": "2d78a263-0c12-44a1-8786-9c51eb4716e5",
   "metadata": {
    "execution": {
     "iopub.execute_input": "2025-01-13T00:02:54.896272Z",
     "iopub.status.busy": "2025-01-13T00:02:54.896053Z",
     "iopub.status.idle": "2025-01-13T00:02:54.985821Z",
     "shell.execute_reply": "2025-01-13T00:02:54.985199Z",
     "shell.execute_reply.started": "2025-01-13T00:02:54.896252Z"
    }
   },
   "outputs": [],
   "source": [
    "# Export outside Jupyter in the form of an image file\n",
    "\n",
    "parent_age_groups_bar.figure.savefig(os.path.join(path, '04 Analysis','Visualizations', 'parent_age_groups_bar.png'))"
   ]
  },
  {
   "cell_type": "markdown",
   "id": "d212937f-9590-4e7c-b8cf-48508b3e373e",
   "metadata": {
    "execution": {
     "iopub.execute_input": "2025-01-12T18:54:05.977987Z",
     "iopub.status.busy": "2025-01-12T18:54:05.977715Z",
     "iopub.status.idle": "2025-01-12T18:54:06.000448Z",
     "shell.execute_reply": "2025-01-12T18:54:05.999725Z",
     "shell.execute_reply.started": "2025-01-12T18:54:05.977970Z"
    },
    "jp-MarkdownHeadingCollapsed": true
   },
   "source": [
    "## Profile Aggregation"
   ]
  },
  {
   "cell_type": "markdown",
   "id": "fc58e0d3-84b7-40be-9509-8f74dbe35435",
   "metadata": {},
   "source": [
    "### - Parent Age Groups by Usage & Expenditure"
   ]
  },
  {
   "cell_type": "code",
   "execution_count": 111,
   "id": "1d884be5-3176-4089-b3ef-eee2e1f47ec4",
   "metadata": {
    "execution": {
     "iopub.execute_input": "2025-01-12T23:32:13.226957Z",
     "iopub.status.busy": "2025-01-12T23:32:13.226520Z",
     "iopub.status.idle": "2025-01-12T23:32:13.764731Z",
     "shell.execute_reply": "2025-01-12T23:32:13.764151Z",
     "shell.execute_reply.started": "2025-01-12T23:32:13.226939Z"
    }
   },
   "outputs": [],
   "source": [
    "# Aggregate variables for parent age groups by usage & expenditure\n",
    "\n",
    "parent_age_agg = ic_final.groupby('parent_age_flag').agg({'order_number': ['max', 'min', 'mean'], 'prices': ['max', 'min', 'mean']})"
   ]
  },
  {
   "cell_type": "code",
   "execution_count": 113,
   "id": "0f410e2a-ec45-4c99-8407-42ab053d2e0b",
   "metadata": {
    "execution": {
     "iopub.execute_input": "2025-01-12T23:32:14.378845Z",
     "iopub.status.busy": "2025-01-12T23:32:14.378244Z",
     "iopub.status.idle": "2025-01-12T23:32:14.388740Z",
     "shell.execute_reply": "2025-01-12T23:32:14.388175Z",
     "shell.execute_reply.started": "2025-01-12T23:32:14.378816Z"
    }
   },
   "outputs": [
    {
     "data": {
      "text/html": [
       "<div>\n",
       "<style scoped>\n",
       "    .dataframe tbody tr th:only-of-type {\n",
       "        vertical-align: middle;\n",
       "    }\n",
       "\n",
       "    .dataframe tbody tr th {\n",
       "        vertical-align: top;\n",
       "    }\n",
       "\n",
       "    .dataframe thead tr th {\n",
       "        text-align: left;\n",
       "    }\n",
       "\n",
       "    .dataframe thead tr:last-of-type th {\n",
       "        text-align: right;\n",
       "    }\n",
       "</style>\n",
       "<table border=\"1\" class=\"dataframe\">\n",
       "  <thead>\n",
       "    <tr>\n",
       "      <th></th>\n",
       "      <th colspan=\"3\" halign=\"left\">order_number</th>\n",
       "      <th colspan=\"3\" halign=\"left\">prices</th>\n",
       "    </tr>\n",
       "    <tr>\n",
       "      <th></th>\n",
       "      <th>max</th>\n",
       "      <th>min</th>\n",
       "      <th>mean</th>\n",
       "      <th>max</th>\n",
       "      <th>min</th>\n",
       "      <th>mean</th>\n",
       "    </tr>\n",
       "    <tr>\n",
       "      <th>parent_age_flag</th>\n",
       "      <th></th>\n",
       "      <th></th>\n",
       "      <th></th>\n",
       "      <th></th>\n",
       "      <th></th>\n",
       "      <th></th>\n",
       "    </tr>\n",
       "  </thead>\n",
       "  <tbody>\n",
       "    <tr>\n",
       "      <th>Much older parent</th>\n",
       "      <td>98</td>\n",
       "      <td>1</td>\n",
       "      <td>14.002972</td>\n",
       "      <td>99999.0</td>\n",
       "      <td>1.0</td>\n",
       "      <td>11.599234</td>\n",
       "    </tr>\n",
       "    <tr>\n",
       "      <th>Not a parent</th>\n",
       "      <td>99</td>\n",
       "      <td>1</td>\n",
       "      <td>14.085771</td>\n",
       "      <td>99999.0</td>\n",
       "      <td>1.0</td>\n",
       "      <td>11.384678</td>\n",
       "    </tr>\n",
       "    <tr>\n",
       "      <th>Older parent</th>\n",
       "      <td>99</td>\n",
       "      <td>1</td>\n",
       "      <td>14.074329</td>\n",
       "      <td>99999.0</td>\n",
       "      <td>1.0</td>\n",
       "      <td>12.321063</td>\n",
       "    </tr>\n",
       "    <tr>\n",
       "      <th>Young parent</th>\n",
       "      <td>99</td>\n",
       "      <td>1</td>\n",
       "      <td>14.092892</td>\n",
       "      <td>99999.0</td>\n",
       "      <td>1.0</td>\n",
       "      <td>12.535662</td>\n",
       "    </tr>\n",
       "  </tbody>\n",
       "</table>\n",
       "</div>"
      ],
      "text/plain": [
       "                  order_number                  prices                \n",
       "                           max min       mean      max  min       mean\n",
       "parent_age_flag                                                       \n",
       "Much older parent           98   1  14.002972  99999.0  1.0  11.599234\n",
       "Not a parent                99   1  14.085771  99999.0  1.0  11.384678\n",
       "Older parent                99   1  14.074329  99999.0  1.0  12.321063\n",
       "Young parent                99   1  14.092892  99999.0  1.0  12.535662"
      ]
     },
     "execution_count": 113,
     "metadata": {},
     "output_type": "execute_result"
    }
   ],
   "source": [
    "# Check parent_age_agg output\n",
    "\n",
    "parent_age_agg"
   ]
  },
  {
   "cell_type": "markdown",
   "id": "f62a99f7-e521-4410-9e0d-e80e2e301581",
   "metadata": {},
   "source": [
    "### - Time of Day Shoppers by Usage & Expenditure"
   ]
  },
  {
   "cell_type": "code",
   "execution_count": 115,
   "id": "300031f1-fc1c-445b-b4a6-86fd09eaaa0c",
   "metadata": {
    "execution": {
     "iopub.execute_input": "2025-01-12T23:32:14.469667Z",
     "iopub.status.busy": "2025-01-12T23:32:14.469183Z",
     "iopub.status.idle": "2025-01-12T23:32:15.043784Z",
     "shell.execute_reply": "2025-01-12T23:32:15.043159Z",
     "shell.execute_reply.started": "2025-01-12T23:32:14.469648Z"
    }
   },
   "outputs": [],
   "source": [
    "# Aggregate variables for time of day shoppers by usage & expenditure\n",
    "\n",
    "time_of_day_agg = ic_final.groupby('time_flag').agg({'order_number': ['max', 'min', 'mean'], 'prices': ['max', 'min', 'mean']})"
   ]
  },
  {
   "cell_type": "code",
   "execution_count": 117,
   "id": "265ab372-061f-4c54-bbe0-73383239271c",
   "metadata": {
    "execution": {
     "iopub.execute_input": "2025-01-12T23:32:15.112512Z",
     "iopub.status.busy": "2025-01-12T23:32:15.112221Z",
     "iopub.status.idle": "2025-01-12T23:32:15.122507Z",
     "shell.execute_reply": "2025-01-12T23:32:15.121848Z",
     "shell.execute_reply.started": "2025-01-12T23:32:15.112489Z"
    }
   },
   "outputs": [
    {
     "data": {
      "text/html": [
       "<div>\n",
       "<style scoped>\n",
       "    .dataframe tbody tr th:only-of-type {\n",
       "        vertical-align: middle;\n",
       "    }\n",
       "\n",
       "    .dataframe tbody tr th {\n",
       "        vertical-align: top;\n",
       "    }\n",
       "\n",
       "    .dataframe thead tr th {\n",
       "        text-align: left;\n",
       "    }\n",
       "\n",
       "    .dataframe thead tr:last-of-type th {\n",
       "        text-align: right;\n",
       "    }\n",
       "</style>\n",
       "<table border=\"1\" class=\"dataframe\">\n",
       "  <thead>\n",
       "    <tr>\n",
       "      <th></th>\n",
       "      <th colspan=\"3\" halign=\"left\">order_number</th>\n",
       "      <th colspan=\"3\" halign=\"left\">prices</th>\n",
       "    </tr>\n",
       "    <tr>\n",
       "      <th></th>\n",
       "      <th>max</th>\n",
       "      <th>min</th>\n",
       "      <th>mean</th>\n",
       "      <th>max</th>\n",
       "      <th>min</th>\n",
       "      <th>mean</th>\n",
       "    </tr>\n",
       "    <tr>\n",
       "      <th>time_flag</th>\n",
       "      <th></th>\n",
       "      <th></th>\n",
       "      <th></th>\n",
       "      <th></th>\n",
       "      <th></th>\n",
       "      <th></th>\n",
       "    </tr>\n",
       "  </thead>\n",
       "  <tbody>\n",
       "    <tr>\n",
       "      <th>Afternoon shopper</th>\n",
       "      <td>99</td>\n",
       "      <td>1</td>\n",
       "      <td>13.701145</td>\n",
       "      <td>99999.0</td>\n",
       "      <td>1.0</td>\n",
       "      <td>12.097051</td>\n",
       "    </tr>\n",
       "    <tr>\n",
       "      <th>Evening shopper</th>\n",
       "      <td>95</td>\n",
       "      <td>1</td>\n",
       "      <td>13.473267</td>\n",
       "      <td>99999.0</td>\n",
       "      <td>1.0</td>\n",
       "      <td>12.331640</td>\n",
       "    </tr>\n",
       "    <tr>\n",
       "      <th>Insomniac shopper</th>\n",
       "      <td>85</td>\n",
       "      <td>1</td>\n",
       "      <td>13.231265</td>\n",
       "      <td>99999.0</td>\n",
       "      <td>1.0</td>\n",
       "      <td>11.828138</td>\n",
       "    </tr>\n",
       "    <tr>\n",
       "      <th>Morning shopper</th>\n",
       "      <td>99</td>\n",
       "      <td>1</td>\n",
       "      <td>14.945058</td>\n",
       "      <td>99999.0</td>\n",
       "      <td>1.0</td>\n",
       "      <td>11.527534</td>\n",
       "    </tr>\n",
       "  </tbody>\n",
       "</table>\n",
       "</div>"
      ],
      "text/plain": [
       "                  order_number                  prices                \n",
       "                           max min       mean      max  min       mean\n",
       "time_flag                                                             \n",
       "Afternoon shopper           99   1  13.701145  99999.0  1.0  12.097051\n",
       "Evening shopper             95   1  13.473267  99999.0  1.0  12.331640\n",
       "Insomniac shopper           85   1  13.231265  99999.0  1.0  11.828138\n",
       "Morning shopper             99   1  14.945058  99999.0  1.0  11.527534"
      ]
     },
     "execution_count": 117,
     "metadata": {},
     "output_type": "execute_result"
    }
   ],
   "source": [
    "# Check time_of_day_agg\n",
    "\n",
    "time_of_day_agg"
   ]
  },
  {
   "cell_type": "markdown",
   "id": "948e98f1-6c4a-4a53-9f2d-02b0b025c971",
   "metadata": {
    "execution": {
     "iopub.execute_input": "2025-01-12T06:35:09.252168Z",
     "iopub.status.busy": "2025-01-12T06:35:09.251787Z",
     "iopub.status.idle": "2025-01-12T06:35:09.255486Z",
     "shell.execute_reply": "2025-01-12T06:35:09.254606Z",
     "shell.execute_reply.started": "2025-01-12T06:35:09.252133Z"
    },
    "jp-MarkdownHeadingCollapsed": true
   },
   "source": [
    "## Profile, Region, & Department Comparisons"
   ]
  },
  {
   "cell_type": "markdown",
   "id": "c64d4cde-3768-46d6-9284-6e8938ac97bd",
   "metadata": {},
   "source": [
    "### - Age Groups vs Loyalty"
   ]
  },
  {
   "cell_type": "code",
   "execution_count": 275,
   "id": "e1a83dc4-3cbe-4302-9e9e-b57ffcc40916",
   "metadata": {
    "execution": {
     "iopub.execute_input": "2025-01-13T00:09:40.790710Z",
     "iopub.status.busy": "2025-01-13T00:09:40.790415Z",
     "iopub.status.idle": "2025-01-13T00:09:45.022783Z",
     "shell.execute_reply": "2025-01-13T00:09:45.021909Z",
     "shell.execute_reply.started": "2025-01-13T00:09:40.790690Z"
    }
   },
   "outputs": [],
   "source": [
    "# Create crosstab of 'ages_flag' and 'loyalty_flag' columns\n",
    "\n",
    "age_group_loyalty = pd.crosstab(\n",
    "    ic_final['ages_flag'][ic_final['ages_flag'] != 'nan'], \n",
    "    ic_final['loyalty_flag'][ic_final['loyalty_flag'] != 'nan'], \n",
    "    dropna=True\n",
    ")"
   ]
  },
  {
   "cell_type": "code",
   "execution_count": 278,
   "id": "86c55d6d-3af9-484e-a1ab-88989ec4cb8a",
   "metadata": {
    "execution": {
     "iopub.execute_input": "2025-01-13T00:09:48.420696Z",
     "iopub.status.busy": "2025-01-13T00:09:48.420138Z",
     "iopub.status.idle": "2025-01-13T00:09:48.427460Z",
     "shell.execute_reply": "2025-01-13T00:09:48.426792Z",
     "shell.execute_reply.started": "2025-01-13T00:09:48.420672Z"
    }
   },
   "outputs": [
    {
     "data": {
      "text/html": [
       "<style type=\"text/css\">\n",
       "</style>\n",
       "<table id=\"T_a3a4c\">\n",
       "  <thead>\n",
       "    <tr>\n",
       "      <th class=\"index_name level0\" >loyalty_flag</th>\n",
       "      <th id=\"T_a3a4c_level0_col0\" class=\"col_heading level0 col0\" >Loyal customer</th>\n",
       "      <th id=\"T_a3a4c_level0_col1\" class=\"col_heading level0 col1\" >New customer</th>\n",
       "      <th id=\"T_a3a4c_level0_col2\" class=\"col_heading level0 col2\" >Regular customer</th>\n",
       "    </tr>\n",
       "    <tr>\n",
       "      <th class=\"index_name level0\" >ages_flag</th>\n",
       "      <th class=\"blank col0\" >&nbsp;</th>\n",
       "      <th class=\"blank col1\" >&nbsp;</th>\n",
       "      <th class=\"blank col2\" >&nbsp;</th>\n",
       "    </tr>\n",
       "  </thead>\n",
       "  <tbody>\n",
       "    <tr>\n",
       "      <th id=\"T_a3a4c_level0_row0\" class=\"row_heading level0 row0\" >Adults 25 - 44</th>\n",
       "      <td id=\"T_a3a4c_row0_col0\" class=\"data row0 col0\" >385,155</td>\n",
       "      <td id=\"T_a3a4c_row0_col1\" class=\"data row0 col1\" >364,374</td>\n",
       "      <td id=\"T_a3a4c_row0_col2\" class=\"data row0 col2\" >898,520</td>\n",
       "    </tr>\n",
       "    <tr>\n",
       "      <th id=\"T_a3a4c_level0_row1\" class=\"row_heading level0 row1\" >Middle Aged 45 - 64</th>\n",
       "      <td id=\"T_a3a4c_row1_col0\" class=\"data row1 col0\" >383,680</td>\n",
       "      <td id=\"T_a3a4c_row1_col1\" class=\"data row1 col1\" >364,220</td>\n",
       "      <td id=\"T_a3a4c_row1_col2\" class=\"data row1 col2\" >890,169</td>\n",
       "    </tr>\n",
       "    <tr>\n",
       "      <th id=\"T_a3a4c_level0_row2\" class=\"row_heading level0 row2\" >Senior 65+</th>\n",
       "      <td id=\"T_a3a4c_row2_col0\" class=\"data row2 col0\" >337,275</td>\n",
       "      <td id=\"T_a3a4c_row2_col1\" class=\"data row2 col1\" >325,228</td>\n",
       "      <td id=\"T_a3a4c_row2_col2\" class=\"data row2 col2\" >796,084</td>\n",
       "    </tr>\n",
       "    <tr>\n",
       "      <th id=\"T_a3a4c_level0_row3\" class=\"row_heading level0 row3\" >Under 25</th>\n",
       "      <td id=\"T_a3a4c_row3_col0\" class=\"data row3 col0\" >139,665</td>\n",
       "      <td id=\"T_a3a4c_row3_col1\" class=\"data row3 col1\" >134,777</td>\n",
       "      <td id=\"T_a3a4c_row3_col2\" class=\"data row3 col2\" >332,645</td>\n",
       "    </tr>\n",
       "  </tbody>\n",
       "</table>\n"
      ],
      "text/plain": [
       "<pandas.io.formats.style.Styler at 0x76b39c063400>"
      ]
     },
     "execution_count": 278,
     "metadata": {},
     "output_type": "execute_result"
    }
   ],
   "source": [
    "# Check output of age_group_loyalty crosstab (and add commas)\n",
    "\n",
    "age_group_loyalty.style.format('{:,.0f}')"
   ]
  },
  {
   "cell_type": "code",
   "execution_count": 345,
   "id": "584060aa-44a7-4643-b50a-81d007da9d1e",
   "metadata": {
    "execution": {
     "iopub.execute_input": "2025-01-13T00:25:58.407458Z",
     "iopub.status.busy": "2025-01-13T00:25:58.407154Z",
     "iopub.status.idle": "2025-01-13T00:25:58.667004Z",
     "shell.execute_reply": "2025-01-13T00:25:58.666166Z",
     "shell.execute_reply.started": "2025-01-13T00:25:58.407437Z"
    }
   },
   "outputs": [
    {
     "name": "stderr",
     "output_type": "stream",
     "text": [
      "/tmp/ipykernel_3256/3249054568.py:25: UserWarning: set_ticklabels() should only be used with a fixed number of ticks, i.e. after set_ticks() or using a FixedLocator.\n",
      "  ax.set_yticklabels(['{:,}'.format(int(x)) for x in y_aloyal_current_values])\n"
     ]
    },
    {
     "data": {
      "image/png": "[encoded data removed]",
      "text/plain": [
       "<Figure size 1600x600 with 1 Axes>"
      ]
     },
     "metadata": {},
     "output_type": "display_data"
    }
   ],
   "source": [
    "# Create grouped bar plot of age group and loyalty\n",
    "\n",
    "# Create figure and axes with more width\n",
    "fig, ax = plt.subplots(figsize=(16, 6))\n",
    "\n",
    "# Define a list of colors for each loyalty flag\n",
    "age_loyalty_colors = ['#FF7009', '#003D29', '#0AAD0A']\n",
    "\n",
    "# Create grouped bar plot of age group and loyalty\n",
    "age_group_loyalty_bar = age_group_loyalty.plot(kind='bar', color=age_loyalty_colors, ax=ax)\n",
    "\n",
    "# Customize the plot\n",
    "ax.set_title('Loyalty Distribution by Age Group', fontsize=14)\n",
    "ax.set_xlabel('')\n",
    "ax.set_ylabel('Count of Customers', fontsize=12)\n",
    "\n",
    "# Adjust legend\n",
    "ax.legend(title='Loyalty Flag', bbox_to_anchor=(1.05, 1), loc='upper left', fontsize=10)\n",
    "\n",
    "# Set x-axis labels to be slightly rotated and adjust font size\n",
    "plt.xticks(rotation=0, fontsize=10)\n",
    "\n",
    "# Format y-axis ticks with commas\n",
    "y_aloyal_current_values = ax.get_yticks()  \n",
    "ax.set_yticklabels(['{:,}'.format(int(x)) for x in y_aloyal_current_values])\n",
    "\n",
    "# Adjust layout and show plot\n",
    "plt.tight_layout()\n",
    "plt.show()"
   ]
  },
  {
   "cell_type": "code",
   "execution_count": 348,
   "id": "4dc18e5f-411e-4dad-9267-6a74e559e9a6",
   "metadata": {
    "execution": {
     "iopub.execute_input": "2025-01-13T00:26:24.779922Z",
     "iopub.status.busy": "2025-01-13T00:26:24.779642Z",
     "iopub.status.idle": "2025-01-13T00:26:24.914646Z",
     "shell.execute_reply": "2025-01-13T00:26:24.913895Z",
     "shell.execute_reply.started": "2025-01-13T00:26:24.779901Z"
    }
   },
   "outputs": [],
   "source": [
    "# Export outside Jupyter in the form of an image file\n",
    "\n",
    "age_group_loyalty_bar.figure.savefig(os.path.join(path, '04 Analysis','Visualizations', 'age_group_loyalty_bar.png'))"
   ]
  },
  {
   "cell_type": "markdown",
   "id": "be46592c-d7b1-4402-b546-a80e8eeda0dd",
   "metadata": {},
   "source": [
    "### - Parent Ages vs Loyalty"
   ]
  },
  {
   "cell_type": "code",
   "execution_count": 123,
   "id": "6792fa9f-381c-429a-af5e-006a3f3b1fbd",
   "metadata": {
    "execution": {
     "iopub.execute_input": "2025-01-12T23:32:17.072845Z",
     "iopub.status.busy": "2025-01-12T23:32:17.072634Z",
     "iopub.status.idle": "2025-01-12T23:32:18.253570Z",
     "shell.execute_reply": "2025-01-12T23:32:18.252867Z",
     "shell.execute_reply.started": "2025-01-12T23:32:17.072827Z"
    }
   },
   "outputs": [],
   "source": [
    "# Create crosstab of 'parent_age_flag' and 'loyalty_flag' columns\n",
    "\n",
    "parent_age_loyalty = pd.crosstab(ic_final['parent_age_flag'], ic_final['loyalty_flag'], dropna = True)"
   ]
  },
  {
   "cell_type": "code",
   "execution_count": 124,
   "id": "cde72129-47b4-427e-9375-ca9b1efb7791",
   "metadata": {
    "execution": {
     "iopub.execute_input": "2025-01-12T23:32:18.255099Z",
     "iopub.status.busy": "2025-01-12T23:32:18.254517Z",
     "iopub.status.idle": "2025-01-12T23:32:18.261346Z",
     "shell.execute_reply": "2025-01-12T23:32:18.260635Z",
     "shell.execute_reply.started": "2025-01-12T23:32:18.255076Z"
    }
   },
   "outputs": [
    {
     "data": {
      "text/html": [
       "<style type=\"text/css\">\n",
       "</style>\n",
       "<table id=\"T_7a0ed\">\n",
       "  <thead>\n",
       "    <tr>\n",
       "      <th class=\"index_name level0\" >loyalty_flag</th>\n",
       "      <th id=\"T_7a0ed_level0_col0\" class=\"col_heading level0 col0\" >Loyal customer</th>\n",
       "      <th id=\"T_7a0ed_level0_col1\" class=\"col_heading level0 col1\" >New customer</th>\n",
       "      <th id=\"T_7a0ed_level0_col2\" class=\"col_heading level0 col2\" >Regular customer</th>\n",
       "    </tr>\n",
       "    <tr>\n",
       "      <th class=\"index_name level0\" >parent_age_flag</th>\n",
       "      <th class=\"blank col0\" >&nbsp;</th>\n",
       "      <th class=\"blank col1\" >&nbsp;</th>\n",
       "      <th class=\"blank col2\" >&nbsp;</th>\n",
       "    </tr>\n",
       "  </thead>\n",
       "  <tbody>\n",
       "    <tr>\n",
       "      <th id=\"T_7a0ed_level0_row0\" class=\"row_heading level0 row0\" >Much older parent</th>\n",
       "      <td id=\"T_7a0ed_row0_col0\" class=\"data row0 col0\" >328,678</td>\n",
       "      <td id=\"T_7a0ed_row0_col1\" class=\"data row0 col1\" >317,104</td>\n",
       "      <td id=\"T_7a0ed_row0_col2\" class=\"data row0 col2\" >768,618</td>\n",
       "    </tr>\n",
       "    <tr>\n",
       "      <th id=\"T_7a0ed_level0_row1\" class=\"row_heading level0 row1\" >Not a parent</th>\n",
       "      <td id=\"T_7a0ed_row1_col0\" class=\"data row1 col0\" >321,033</td>\n",
       "      <td id=\"T_7a0ed_row1_col1\" class=\"data row1 col1\" >306,357</td>\n",
       "      <td id=\"T_7a0ed_row1_col2\" class=\"data row1 col2\" >751,198</td>\n",
       "    </tr>\n",
       "    <tr>\n",
       "      <th id=\"T_7a0ed_level0_row2\" class=\"row_heading level0 row2\" >Older parent</th>\n",
       "      <td id=\"T_7a0ed_row2_col0\" class=\"data row2 col0\" >380,767</td>\n",
       "      <td id=\"T_7a0ed_row2_col1\" class=\"data row2 col1\" >359,857</td>\n",
       "      <td id=\"T_7a0ed_row2_col2\" class=\"data row2 col2\" >890,334</td>\n",
       "    </tr>\n",
       "    <tr>\n",
       "      <th id=\"T_7a0ed_level0_row3\" class=\"row_heading level0 row3\" >Young parent</th>\n",
       "      <td id=\"T_7a0ed_row3_col0\" class=\"data row3 col0\" >255,980</td>\n",
       "      <td id=\"T_7a0ed_row3_col1\" class=\"data row3 col1\" >244,468</td>\n",
       "      <td id=\"T_7a0ed_row3_col2\" class=\"data row3 col2\" >604,627</td>\n",
       "    </tr>\n",
       "  </tbody>\n",
       "</table>\n"
      ],
      "text/plain": [
       "<pandas.io.formats.style.Styler at 0x76b440407f10>"
      ]
     },
     "execution_count": 124,
     "metadata": {},
     "output_type": "execute_result"
    }
   ],
   "source": [
    "# Check output of age_group_loyalty crosstab (and add commas)\n",
    "\n",
    "parent_age_loyalty.style.format('{:,.0f}')"
   ]
  },
  {
   "cell_type": "code",
   "execution_count": 351,
   "id": "6d5050d5-1012-40d4-8f04-a2c21756ce55",
   "metadata": {
    "execution": {
     "iopub.execute_input": "2025-01-13T00:35:08.840926Z",
     "iopub.status.busy": "2025-01-13T00:35:08.840417Z",
     "iopub.status.idle": "2025-01-13T00:35:09.065322Z",
     "shell.execute_reply": "2025-01-13T00:35:09.064352Z",
     "shell.execute_reply.started": "2025-01-13T00:35:08.840888Z"
    }
   },
   "outputs": [
    {
     "name": "stderr",
     "output_type": "stream",
     "text": [
      "/tmp/ipykernel_3256/1625331635.py:25: UserWarning: set_ticklabels() should only be used with a fixed number of ticks, i.e. after set_ticks() or using a FixedLocator.\n",
      "  ax.set_yticklabels(['{:,}'.format(int(x)) for x in y_ployal_current_values])\n"
     ]
    },
    {
     "data": {
      "image/png": "[encoded data removed]",
      "text/plain": [
       "<Figure size 1600x600 with 1 Axes>"
      ]
     },
     "metadata": {},
     "output_type": "display_data"
    }
   ],
   "source": [
    "# Create grouped bar plot of parent ages and loyalty\n",
    "\n",
    "# Create figure and axes with more width\n",
    "fig, ax = plt.subplots(figsize=(16, 6))\n",
    "\n",
    "# Define a list of colors for each loyalty flag\n",
    "parent_loyalty_colors = ['#FF7009', '#003D29', '#0AAD0A']\n",
    "\n",
    "# Create grouped bar plot of age group and loyalty\n",
    "parent_group_loyalty_bar = parent_age_loyalty.plot(kind='bar', color=parent_loyalty_colors, ax=ax)\n",
    "\n",
    "# Customize the plot\n",
    "ax.set_title('Loyalty Distribution by Parent Ages', fontsize=14)\n",
    "ax.set_xlabel('')\n",
    "ax.set_ylabel('Count of Customers', fontsize=12)\n",
    "\n",
    "# Adjust legend\n",
    "ax.legend(title='Loyalty Flag', bbox_to_anchor=(1.05, 1), loc='upper left', fontsize=10)\n",
    "\n",
    "# Set x-axis labels to be slightly rotated and adjust font size\n",
    "plt.xticks(rotation=0, fontsize=10)\n",
    "\n",
    "# Format y-axis ticks with commas\n",
    "y_ployal_current_values = ax.get_yticks()  \n",
    "ax.set_yticklabels(['{:,}'.format(int(x)) for x in y_ployal_current_values])\n",
    "\n",
    "# Adjust layout and show plot\n",
    "plt.tight_layout()\n",
    "plt.show()"
   ]
  },
  {
   "cell_type": "code",
   "execution_count": 354,
   "id": "2124c0d6-de1d-4107-bd82-125c71807ea3",
   "metadata": {
    "execution": {
     "iopub.execute_input": "2025-01-13T00:35:45.893545Z",
     "iopub.status.busy": "2025-01-13T00:35:45.892939Z",
     "iopub.status.idle": "2025-01-13T00:35:46.006221Z",
     "shell.execute_reply": "2025-01-13T00:35:46.005537Z",
     "shell.execute_reply.started": "2025-01-13T00:35:45.893516Z"
    }
   },
   "outputs": [],
   "source": [
    "# Export outside Jupyter in the form of an image file\n",
    "\n",
    "parent_group_loyalty_bar.figure.savefig(os.path.join(path, '04 Analysis','Visualizations', 'parent_group_loyalty_bar.png'))"
   ]
  },
  {
   "cell_type": "code",
   "execution_count": 379,
   "id": "1e8acc59-2ecb-4985-9f6e-e3bd06a4f8cf",
   "metadata": {
    "execution": {
     "iopub.execute_input": "2025-01-13T03:15:49.344262Z",
     "iopub.status.busy": "2025-01-13T03:15:49.343995Z",
     "iopub.status.idle": "2025-01-13T03:15:49.360048Z",
     "shell.execute_reply": "2025-01-13T03:15:49.359491Z",
     "shell.execute_reply.started": "2025-01-13T03:15:49.344244Z"
    }
   },
   "outputs": [
    {
     "data": {
      "text/plain": [
       "(5529021, 37)"
      ]
     },
     "execution_count": 379,
     "metadata": {},
     "output_type": "execute_result"
    }
   ],
   "source": [
    "ic_final.shape"
   ]
  },
  {
   "cell_type": "markdown",
   "id": "2b3796d7-453a-4ff2-ad2e-c3c3fa2b51c1",
   "metadata": {
    "jp-MarkdownHeadingCollapsed": true
   },
   "source": [
    "# 04. Export Final Dataframe"
   ]
  },
  {
   "cell_type": "code",
   "execution_count": 365,
   "id": "81d87973-ebe8-4fd1-ad71-6d430afa8389",
   "metadata": {
    "execution": {
     "iopub.execute_input": "2025-01-13T01:07:11.913491Z",
     "iopub.status.busy": "2025-01-13T01:07:11.912195Z",
     "iopub.status.idle": "2025-01-13T01:07:19.691299Z",
     "shell.execute_reply": "2025-01-13T01:07:19.690564Z",
     "shell.execute_reply.started": "2025-01-13T01:07:11.913459Z"
    }
   },
   "outputs": [],
   "source": [
    "# Export ic_final as pickle\n",
    "\n",
    "ic_final.to_pickle(os.path.join(path, '02 Data', 'Prepared Data', 'ic_final.pkl'))"
   ]
  }
 ],
 "metadata": {
  "kernelspec": {
   "display_name": "anaconda-2024.02-py310",
   "language": "python",
   "name": "conda-env-anaconda-2024.02-py310-py"
  },
  "language_info": {
   "codemirror_mode": {
    "name": "ipython",
    "version": 3
   },
   "file_extension": ".py",
   "mimetype": "text/x-python",
   "name": "python",
   "nbconvert_exporter": "python",
   "pygments_lexer": "ipython3",
   "version": "3.10.14"
  }
 },
 "nbformat": 4,
 "nbformat_minor": 5
}
