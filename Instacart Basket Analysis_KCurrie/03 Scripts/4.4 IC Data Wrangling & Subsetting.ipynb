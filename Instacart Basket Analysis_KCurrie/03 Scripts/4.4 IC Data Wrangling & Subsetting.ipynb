{
 "cells": [
  {
   "cell_type": "markdown",
   "id": "d7b0822f-abc4-445b-a55a-eb28791a0bbd",
   "metadata": {},
   "source": [
    "# Contents\n",
    "\n",
    "01. Importing Libraries\n",
    "02. Data Types\n",
    "03. Data Wrangling Procedures\n",
    "04. Data Dictionaries\n",
    "05. Subsetting\n",
    "06. Exercise 4.4\n",
    "07. Exporting Dataframes"
   ]
  },
  {
   "cell_type": "markdown",
   "id": "8c0fad86-5381-4dd4-80d6-92ff263b7d14",
   "metadata": {
    "jp-MarkdownHeadingCollapsed": true
   },
   "source": [
    "# 01. Importing Libraries"
   ]
  },
  {
   "cell_type": "code",
   "execution_count": 28,
   "id": "f572edc2-852c-454c-bcfd-fca53846f150",
   "metadata": {
    "execution": {
     "iopub.execute_input": "2025-01-11T23:09:46.441282Z",
     "iopub.status.busy": "2025-01-11T23:09:46.440978Z",
     "iopub.status.idle": "2025-01-11T23:09:46.458177Z",
     "shell.execute_reply": "2025-01-11T23:09:46.457329Z",
     "shell.execute_reply.started": "2025-01-11T23:09:46.441258Z"
    }
   },
   "outputs": [],
   "source": [
    "import pandas as pd\n",
    "import numpy as npa"
   ]
  },
  {
   "cell_type": "code",
   "execution_count": 29,
   "id": "5e57495b-7355-4dee-87e8-9956feb4015f",
   "metadata": {
    "execution": {
     "iopub.execute_input": "2025-01-11T23:09:46.459762Z",
     "iopub.status.busy": "2025-01-11T23:09:46.459489Z",
     "iopub.status.idle": "2025-01-11T23:09:46.476379Z",
     "shell.execute_reply": "2025-01-11T23:09:46.475731Z",
     "shell.execute_reply.started": "2025-01-11T23:09:46.459739Z"
    }
   },
   "outputs": [
    {
     "name": "stdout",
     "output_type": "stream",
     "text": [
      "2.1.4\n",
      "1.26.4\n"
     ]
    }
   ],
   "source": [
    "# Confirming that pandas & numpy were imported by printing versions\n",
    "\n",
    "print(pd.__version__)\n",
    "print(np.__version__)"
   ]
  },
  {
   "cell_type": "markdown",
   "id": "8944446c-2310-48fd-bcec-5ab290855bc3",
   "metadata": {
    "jp-MarkdownHeadingCollapsed": true
   },
   "source": [
    "# 02. Importing Datasets"
   ]
  },
  {
   "cell_type": "code",
   "execution_count": 31,
   "id": "0cb570a1-d229-4d7d-8dd0-0e3860d45d89",
   "metadata": {
    "execution": {
     "iopub.execute_input": "2025-01-11T23:09:46.504584Z",
     "iopub.status.busy": "2025-01-11T23:09:46.504107Z",
     "iopub.status.idle": "2025-01-11T23:09:46.521972Z",
     "shell.execute_reply": "2025-01-11T23:09:46.521237Z",
     "shell.execute_reply.started": "2025-01-11T23:09:46.504555Z"
    }
   },
   "outputs": [],
   "source": [
    "# Defines path as intro file path for Instacart project\n",
    "\n",
    "path = r'/home/0668a905-109d-4403-be59-0a04abf51dd9/Instacart Basket Analysis'"
   ]
  },
  {
   "cell_type": "markdown",
   "id": "0ad4c7ed-d697-423b-a665-bad87f700bd6",
   "metadata": {},
   "source": [
    "### Import Orders Dataset"
   ]
  },
  {
   "cell_type": "code",
   "execution_count": 33,
   "id": "1e3fe9ca-88e8-4429-837e-c2a5ee85d5ff",
   "metadata": {
    "execution": {
     "iopub.execute_input": "2025-01-11T23:09:46.549572Z",
     "iopub.status.busy": "2025-01-11T23:09:46.549006Z",
     "iopub.status.idle": "2025-01-11T23:09:49.515444Z",
     "shell.execute_reply": "2025-01-11T23:09:49.514641Z",
     "shell.execute_reply.started": "2025-01-11T23:09:46.549544Z"
    }
   },
   "outputs": [],
   "source": [
    "# Defines 'df_ords' (dataframe for orders.csv) with shortened path (using os.path.join)\n",
    "\n",
    "df_ords = pd.read_csv(os.path.join(path,'02 Data', 'Original Data', 'orders.csv'), index_col = False)"
   ]
  },
  {
   "cell_type": "markdown",
   "id": "7b2dc208-ad91-482a-bc53-628c344cc1e0",
   "metadata": {},
   "source": [
    "### Import Products Dataset"
   ]
  },
  {
   "cell_type": "code",
   "execution_count": 35,
   "id": "19e63e5c-e03c-494e-ac36-4de483978ec1",
   "metadata": {
    "execution": {
     "iopub.execute_input": "2025-01-11T23:09:49.532893Z",
     "iopub.status.busy": "2025-01-11T23:09:49.532460Z",
     "iopub.status.idle": "2025-01-11T23:09:49.612281Z",
     "shell.execute_reply": "2025-01-11T23:09:49.611436Z",
     "shell.execute_reply.started": "2025-01-11T23:09:49.532864Z"
    }
   },
   "outputs": [],
   "source": [
    "# Defines 'df_prods' (dataframe for products.csv) with shortened path (using os.path.join)\n",
    "\n",
    "df_prods = pd.read_csv(os.path.join(path, '02 Data', 'Original Data', 'products.csv'), index_col = False)"
   ]
  },
  {
   "cell_type": "markdown",
   "id": "72f5b54f-c0cf-4ba4-9e9e-f9b86bdad13e",
   "metadata": {},
   "source": [
    "### Import Departments Dataset"
   ]
  },
  {
   "cell_type": "code",
   "execution_count": 37,
   "id": "53309376-dc02-4cc6-9953-df753745ec41",
   "metadata": {
    "execution": {
     "iopub.execute_input": "2025-01-11T23:09:49.631889Z",
     "iopub.status.busy": "2025-01-11T23:09:49.631593Z",
     "iopub.status.idle": "2025-01-11T23:09:49.652015Z",
     "shell.execute_reply": "2025-01-11T23:09:49.651131Z",
     "shell.execute_reply.started": "2025-01-11T23:09:49.631869Z"
    }
   },
   "outputs": [],
   "source": [
    "# Defines 'df_dep' (dataframe for departments.csv) with shortened path (using os.path.join)\n",
    "\n",
    "df_dep = pd.read_csv(os.path.join(path, '02 Data', 'Original Data', 'departments.csv'), index_col = False)"
   ]
  },
  {
   "cell_type": "markdown",
   "id": "ce780278-97be-40a6-89fd-faac5b532afe",
   "metadata": {
    "jp-MarkdownHeadingCollapsed": true
   },
   "source": [
    "# 03. Data Wrangling Procedures"
   ]
  },
  {
   "cell_type": "markdown",
   "id": "b1f12478-4ee3-4d9c-a293-b34eb2690838",
   "metadata": {},
   "source": [
    "### Drop Function Test"
   ]
  },
  {
   "cell_type": "code",
   "execution_count": 39,
   "id": "3f6f5fa7-8bd3-46c1-b04b-30f76eaddabc",
   "metadata": {
    "execution": {
     "iopub.execute_input": "2025-01-11T23:09:49.679700Z",
     "iopub.status.busy": "2025-01-11T23:09:49.679076Z",
     "iopub.status.idle": "2025-01-11T23:09:50.355682Z",
     "shell.execute_reply": "2025-01-11T23:09:50.354830Z",
     "shell.execute_reply.started": "2025-01-11T23:09:49.679669Z"
    }
   },
   "outputs": [
    {
     "data": {
      "text/html": [
       "<div>\n",
       "<style scoped>\n",
       "    .dataframe tbody tr th:only-of-type {\n",
       "        vertical-align: middle;\n",
       "    }\n",
       "\n",
       "    .dataframe tbody tr th {\n",
       "        vertical-align: top;\n",
       "    }\n",
       "\n",
       "    .dataframe thead th {\n",
       "        text-align: right;\n",
       "    }\n",
       "</style>\n",
       "<table border=\"1\" class=\"dataframe\">\n",
       "  <thead>\n",
       "    <tr style=\"text-align: right;\">\n",
       "      <th></th>\n",
       "      <th>order_id</th>\n",
       "      <th>user_id</th>\n",
       "      <th>order_number</th>\n",
       "      <th>order_dow</th>\n",
       "      <th>order_hour_of_day</th>\n",
       "      <th>days_since_prior_order</th>\n",
       "    </tr>\n",
       "  </thead>\n",
       "  <tbody>\n",
       "    <tr>\n",
       "      <th>0</th>\n",
       "      <td>2539329</td>\n",
       "      <td>1</td>\n",
       "      <td>1</td>\n",
       "      <td>2</td>\n",
       "      <td>8</td>\n",
       "      <td>NaN</td>\n",
       "    </tr>\n",
       "    <tr>\n",
       "      <th>1</th>\n",
       "      <td>2398795</td>\n",
       "      <td>1</td>\n",
       "      <td>2</td>\n",
       "      <td>3</td>\n",
       "      <td>7</td>\n",
       "      <td>15.0</td>\n",
       "    </tr>\n",
       "    <tr>\n",
       "      <th>2</th>\n",
       "      <td>473747</td>\n",
       "      <td>1</td>\n",
       "      <td>3</td>\n",
       "      <td>3</td>\n",
       "      <td>12</td>\n",
       "      <td>21.0</td>\n",
       "    </tr>\n",
       "    <tr>\n",
       "      <th>3</th>\n",
       "      <td>2254736</td>\n",
       "      <td>1</td>\n",
       "      <td>4</td>\n",
       "      <td>4</td>\n",
       "      <td>7</td>\n",
       "      <td>29.0</td>\n",
       "    </tr>\n",
       "    <tr>\n",
       "      <th>4</th>\n",
       "      <td>431534</td>\n",
       "      <td>1</td>\n",
       "      <td>5</td>\n",
       "      <td>4</td>\n",
       "      <td>15</td>\n",
       "      <td>28.0</td>\n",
       "    </tr>\n",
       "    <tr>\n",
       "      <th>...</th>\n",
       "      <td>...</td>\n",
       "      <td>...</td>\n",
       "      <td>...</td>\n",
       "      <td>...</td>\n",
       "      <td>...</td>\n",
       "      <td>...</td>\n",
       "    </tr>\n",
       "    <tr>\n",
       "      <th>3421078</th>\n",
       "      <td>2266710</td>\n",
       "      <td>206209</td>\n",
       "      <td>10</td>\n",
       "      <td>5</td>\n",
       "      <td>18</td>\n",
       "      <td>29.0</td>\n",
       "    </tr>\n",
       "    <tr>\n",
       "      <th>3421079</th>\n",
       "      <td>1854736</td>\n",
       "      <td>206209</td>\n",
       "      <td>11</td>\n",
       "      <td>4</td>\n",
       "      <td>10</td>\n",
       "      <td>30.0</td>\n",
       "    </tr>\n",
       "    <tr>\n",
       "      <th>3421080</th>\n",
       "      <td>626363</td>\n",
       "      <td>206209</td>\n",
       "      <td>12</td>\n",
       "      <td>1</td>\n",
       "      <td>12</td>\n",
       "      <td>18.0</td>\n",
       "    </tr>\n",
       "    <tr>\n",
       "      <th>3421081</th>\n",
       "      <td>2977660</td>\n",
       "      <td>206209</td>\n",
       "      <td>13</td>\n",
       "      <td>1</td>\n",
       "      <td>12</td>\n",
       "      <td>7.0</td>\n",
       "    </tr>\n",
       "    <tr>\n",
       "      <th>3421082</th>\n",
       "      <td>272231</td>\n",
       "      <td>206209</td>\n",
       "      <td>14</td>\n",
       "      <td>6</td>\n",
       "      <td>14</td>\n",
       "      <td>30.0</td>\n",
       "    </tr>\n",
       "  </tbody>\n",
       "</table>\n",
       "<p>3421083 rows × 6 columns</p>\n",
       "</div>"
      ],
      "text/plain": [
       "         order_id  user_id  order_number  order_dow  order_hour_of_day  \\\n",
       "0         2539329        1             1          2                  8   \n",
       "1         2398795        1             2          3                  7   \n",
       "2          473747        1             3          3                 12   \n",
       "3         2254736        1             4          4                  7   \n",
       "4          431534        1             5          4                 15   \n",
       "...           ...      ...           ...        ...                ...   \n",
       "3421078   2266710   206209            10          5                 18   \n",
       "3421079   1854736   206209            11          4                 10   \n",
       "3421080    626363   206209            12          1                 12   \n",
       "3421081   2977660   206209            13          1                 12   \n",
       "3421082    272231   206209            14          6                 14   \n",
       "\n",
       "         days_since_prior_order  \n",
       "0                           NaN  \n",
       "1                          15.0  \n",
       "2                          21.0  \n",
       "3                          29.0  \n",
       "4                          28.0  \n",
       "...                         ...  \n",
       "3421078                    29.0  \n",
       "3421079                    30.0  \n",
       "3421080                    18.0  \n",
       "3421081                     7.0  \n",
       "3421082                    30.0  \n",
       "\n",
       "[3421083 rows x 6 columns]"
      ]
     },
     "execution_count": 39,
     "metadata": {},
     "output_type": "execute_result"
    }
   ],
   "source": [
    "# Drops 'eval_set' from orders dataset (just a visual--df_ords not defined by this drop yet)\n",
    "\n",
    "df_ords.drop(columns = ['eval_set'])"
   ]
  },
  {
   "cell_type": "markdown",
   "id": "5625cb2d-224f-45d1-805b-9d0db0c96822",
   "metadata": {},
   "source": [
    "### Value Counts Test"
   ]
  },
  {
   "cell_type": "code",
   "execution_count": 41,
   "id": "edec7d32-0f44-420b-bdfc-f0add27baa84",
   "metadata": {
    "execution": {
     "iopub.execute_input": "2025-01-11T23:09:50.384097Z",
     "iopub.status.busy": "2025-01-11T23:09:50.383703Z",
     "iopub.status.idle": "2025-01-11T23:09:50.442031Z",
     "shell.execute_reply": "2025-01-11T23:09:50.441060Z",
     "shell.execute_reply.started": "2025-01-11T23:09:50.384068Z"
    }
   },
   "outputs": [
    {
     "data": {
      "text/plain": [
       "days_since_prior_order\n",
       "30.0    369323\n",
       "7.0     320608\n",
       "6.0     240013\n",
       "4.0     221696\n",
       "3.0     217005\n",
       "5.0     214503\n",
       "NaN     206209\n",
       "2.0     193206\n",
       "8.0     181717\n",
       "1.0     145247\n",
       "9.0     118188\n",
       "14.0    100230\n",
       "10.0     95186\n",
       "13.0     83214\n",
       "11.0     80970\n",
       "12.0     76146\n",
       "0.0      67755\n",
       "15.0     66579\n",
       "16.0     46941\n",
       "21.0     45470\n",
       "17.0     39245\n",
       "20.0     38527\n",
       "18.0     35881\n",
       "19.0     34384\n",
       "22.0     32012\n",
       "28.0     26777\n",
       "23.0     23885\n",
       "27.0     22013\n",
       "24.0     20712\n",
       "25.0     19234\n",
       "29.0     19191\n",
       "26.0     19016\n",
       "Name: count, dtype: int64"
      ]
     },
     "execution_count": 41,
     "metadata": {},
     "output_type": "execute_result"
    }
   ],
   "source": [
    "# Use value_counts function to look for missing values in the 'days_since_prior_order' column\n",
    "\n",
    "df_ords['days_since_prior_order'].value_counts(dropna = False)"
   ]
  },
  {
   "cell_type": "markdown",
   "id": "c660c44c-c974-482d-be45-b440c4d14cb5",
   "metadata": {},
   "source": [
    "### Renaming Columns"
   ]
  },
  {
   "cell_type": "code",
   "execution_count": 43,
   "id": "929cbec0-77cc-4227-afb1-496384ffa3f1",
   "metadata": {
    "execution": {
     "iopub.execute_input": "2025-01-11T23:09:50.464897Z",
     "iopub.status.busy": "2025-01-11T23:09:50.464554Z",
     "iopub.status.idle": "2025-01-11T23:09:50.482098Z",
     "shell.execute_reply": "2025-01-11T23:09:50.481380Z",
     "shell.execute_reply.started": "2025-01-11T23:09:50.464876Z"
    }
   },
   "outputs": [],
   "source": [
    "# renames the orders 'order_dow' column\n",
    "\n",
    "df_ords.rename(columns = {'order_dow' : 'orders_day_of_week'}, inplace = True)"
   ]
  },
  {
   "cell_type": "code",
   "execution_count": 45,
   "id": "dedb7c4d-69d5-49d3-9465-6ad2f972fe3f",
   "metadata": {
    "execution": {
     "iopub.execute_input": "2025-01-11T23:09:50.510914Z",
     "iopub.status.busy": "2025-01-11T23:09:50.510597Z",
     "iopub.status.idle": "2025-01-11T23:09:50.533623Z",
     "shell.execute_reply": "2025-01-11T23:09:50.532756Z",
     "shell.execute_reply.started": "2025-01-11T23:09:50.510894Z"
    }
   },
   "outputs": [
    {
     "data": {
      "text/html": [
       "<div>\n",
       "<style scoped>\n",
       "    .dataframe tbody tr th:only-of-type {\n",
       "        vertical-align: middle;\n",
       "    }\n",
       "\n",
       "    .dataframe tbody tr th {\n",
       "        vertical-align: top;\n",
       "    }\n",
       "\n",
       "    .dataframe thead th {\n",
       "        text-align: right;\n",
       "    }\n",
       "</style>\n",
       "<table border=\"1\" class=\"dataframe\">\n",
       "  <thead>\n",
       "    <tr style=\"text-align: right;\">\n",
       "      <th></th>\n",
       "      <th>order_id</th>\n",
       "      <th>user_id</th>\n",
       "      <th>eval_set</th>\n",
       "      <th>order_number</th>\n",
       "      <th>orders_day_of_week</th>\n",
       "      <th>order_hour_of_day</th>\n",
       "      <th>days_since_prior_order</th>\n",
       "    </tr>\n",
       "  </thead>\n",
       "  <tbody>\n",
       "    <tr>\n",
       "      <th>0</th>\n",
       "      <td>2539329</td>\n",
       "      <td>1</td>\n",
       "      <td>prior</td>\n",
       "      <td>1</td>\n",
       "      <td>2</td>\n",
       "      <td>8</td>\n",
       "      <td>NaN</td>\n",
       "    </tr>\n",
       "    <tr>\n",
       "      <th>1</th>\n",
       "      <td>2398795</td>\n",
       "      <td>1</td>\n",
       "      <td>prior</td>\n",
       "      <td>2</td>\n",
       "      <td>3</td>\n",
       "      <td>7</td>\n",
       "      <td>15.0</td>\n",
       "    </tr>\n",
       "    <tr>\n",
       "      <th>2</th>\n",
       "      <td>473747</td>\n",
       "      <td>1</td>\n",
       "      <td>prior</td>\n",
       "      <td>3</td>\n",
       "      <td>3</td>\n",
       "      <td>12</td>\n",
       "      <td>21.0</td>\n",
       "    </tr>\n",
       "    <tr>\n",
       "      <th>3</th>\n",
       "      <td>2254736</td>\n",
       "      <td>1</td>\n",
       "      <td>prior</td>\n",
       "      <td>4</td>\n",
       "      <td>4</td>\n",
       "      <td>7</td>\n",
       "      <td>29.0</td>\n",
       "    </tr>\n",
       "    <tr>\n",
       "      <th>4</th>\n",
       "      <td>431534</td>\n",
       "      <td>1</td>\n",
       "      <td>prior</td>\n",
       "      <td>5</td>\n",
       "      <td>4</td>\n",
       "      <td>15</td>\n",
       "      <td>28.0</td>\n",
       "    </tr>\n",
       "  </tbody>\n",
       "</table>\n",
       "</div>"
      ],
      "text/plain": [
       "   order_id  user_id eval_set  order_number  orders_day_of_week  \\\n",
       "0   2539329        1    prior             1                   2   \n",
       "1   2398795        1    prior             2                   3   \n",
       "2    473747        1    prior             3                   3   \n",
       "3   2254736        1    prior             4                   4   \n",
       "4    431534        1    prior             5                   4   \n",
       "\n",
       "   order_hour_of_day  days_since_prior_order  \n",
       "0                  8                     NaN  \n",
       "1                  7                    15.0  \n",
       "2                 12                    21.0  \n",
       "3                  7                    29.0  \n",
       "4                 15                    28.0  "
      ]
     },
     "execution_count": 45,
     "metadata": {},
     "output_type": "execute_result"
    }
   ],
   "source": [
    "# Prints first 5 rows of orders (to check changed 'order_dow' column name)\n",
    "\n",
    "df_ords.head() "
   ]
  },
  {
   "cell_type": "markdown",
   "id": "dbddf87e-fcd7-430d-9771-f87423ddacd8",
   "metadata": {},
   "source": [
    "### Changing a Variable's Data Type"
   ]
  },
  {
   "cell_type": "code",
   "execution_count": 47,
   "id": "323e675c-53b2-420e-b0d9-8b863a1e961e",
   "metadata": {
    "execution": {
     "iopub.execute_input": "2025-01-11T23:09:50.564215Z",
     "iopub.status.busy": "2025-01-11T23:09:50.563209Z",
     "iopub.status.idle": "2025-01-11T23:09:52.146749Z",
     "shell.execute_reply": "2025-01-11T23:09:52.145995Z",
     "shell.execute_reply.started": "2025-01-11T23:09:50.564181Z"
    }
   },
   "outputs": [],
   "source": [
    "# Changes the data type of the orders.csv to a string so that the describe function can ignore\n",
    "\n",
    "df_ords['order_id'] = df_ords['order_id'].astype('str')"
   ]
  },
  {
   "cell_type": "code",
   "execution_count": 49,
   "id": "42088ac2-416b-48b8-9eb4-c18538bba7b6",
   "metadata": {
    "execution": {
     "iopub.execute_input": "2025-01-11T23:09:52.165078Z",
     "iopub.status.busy": "2025-01-11T23:09:52.164746Z",
     "iopub.status.idle": "2025-01-11T23:09:52.183217Z",
     "shell.execute_reply": "2025-01-11T23:09:52.182427Z",
     "shell.execute_reply.started": "2025-01-11T23:09:52.165059Z"
    }
   },
   "outputs": [
    {
     "data": {
      "text/plain": [
       "dtype('O')"
      ]
     },
     "execution_count": 49,
     "metadata": {},
     "output_type": "execute_result"
    }
   ],
   "source": [
    "# prints only data type of the 'order_id' column\n",
    "\n",
    "df_ords['order_id'].dtype"
   ]
  },
  {
   "cell_type": "markdown",
   "id": "803368e8-d9f8-4ce4-aed2-c69056a12969",
   "metadata": {
    "jp-MarkdownHeadingCollapsed": true
   },
   "source": [
    "### Transposing Data, Indexing, & Creating Headers"
   ]
  },
  {
   "cell_type": "code",
   "execution_count": 51,
   "id": "79b772a7-94a3-4d62-8f2a-91bb25d66537",
   "metadata": {
    "execution": {
     "iopub.execute_input": "2025-01-11T23:09:52.215576Z",
     "iopub.status.busy": "2025-01-11T23:09:52.214985Z",
     "iopub.status.idle": "2025-01-11T23:09:52.243890Z",
     "shell.execute_reply": "2025-01-11T23:09:52.243277Z",
     "shell.execute_reply.started": "2025-01-11T23:09:52.215549Z"
    }
   },
   "outputs": [
    {
     "data": {
      "text/html": [
       "<div>\n",
       "<style scoped>\n",
       "    .dataframe tbody tr th:only-of-type {\n",
       "        vertical-align: middle;\n",
       "    }\n",
       "\n",
       "    .dataframe tbody tr th {\n",
       "        vertical-align: top;\n",
       "    }\n",
       "\n",
       "    .dataframe thead th {\n",
       "        text-align: right;\n",
       "    }\n",
       "</style>\n",
       "<table border=\"1\" class=\"dataframe\">\n",
       "  <thead>\n",
       "    <tr style=\"text-align: right;\">\n",
       "      <th></th>\n",
       "      <th>department_id</th>\n",
       "      <th>1</th>\n",
       "      <th>2</th>\n",
       "      <th>3</th>\n",
       "      <th>4</th>\n",
       "      <th>5</th>\n",
       "      <th>6</th>\n",
       "      <th>7</th>\n",
       "      <th>8</th>\n",
       "      <th>9</th>\n",
       "      <th>...</th>\n",
       "      <th>12</th>\n",
       "      <th>13</th>\n",
       "      <th>14</th>\n",
       "      <th>15</th>\n",
       "      <th>16</th>\n",
       "      <th>17</th>\n",
       "      <th>18</th>\n",
       "      <th>19</th>\n",
       "      <th>20</th>\n",
       "      <th>21</th>\n",
       "    </tr>\n",
       "  </thead>\n",
       "  <tbody>\n",
       "    <tr>\n",
       "      <th>0</th>\n",
       "      <td>department</td>\n",
       "      <td>frozen</td>\n",
       "      <td>other</td>\n",
       "      <td>bakery</td>\n",
       "      <td>produce</td>\n",
       "      <td>alcohol</td>\n",
       "      <td>international</td>\n",
       "      <td>beverages</td>\n",
       "      <td>pets</td>\n",
       "      <td>dry goods pasta</td>\n",
       "      <td>...</td>\n",
       "      <td>meat seafood</td>\n",
       "      <td>pantry</td>\n",
       "      <td>breakfast</td>\n",
       "      <td>canned goods</td>\n",
       "      <td>dairy eggs</td>\n",
       "      <td>household</td>\n",
       "      <td>babies</td>\n",
       "      <td>snacks</td>\n",
       "      <td>deli</td>\n",
       "      <td>missing</td>\n",
       "    </tr>\n",
       "  </tbody>\n",
       "</table>\n",
       "<p>1 rows × 22 columns</p>\n",
       "</div>"
      ],
      "text/plain": [
       "  department_id       1      2       3        4        5              6  \\\n",
       "0    department  frozen  other  bakery  produce  alcohol  international   \n",
       "\n",
       "           7     8                9  ...            12      13         14  \\\n",
       "0  beverages  pets  dry goods pasta  ...  meat seafood  pantry  breakfast   \n",
       "\n",
       "             15          16         17      18      19    20       21  \n",
       "0  canned goods  dairy eggs  household  babies  snacks  deli  missing  \n",
       "\n",
       "[1 rows x 22 columns]"
      ]
     },
     "execution_count": 51,
     "metadata": {},
     "output_type": "execute_result"
    }
   ],
   "source": [
    "# prints first 5 rows of departments dataset\n",
    "\n",
    "df_dep.head()"
   ]
  },
  {
   "cell_type": "code",
   "execution_count": 53,
   "id": "f9ceffb2-fc8b-4312-96b9-f9d4b1b5ced3",
   "metadata": {
    "execution": {
     "iopub.execute_input": "2025-01-11T23:09:52.270269Z",
     "iopub.status.busy": "2025-01-11T23:09:52.269591Z",
     "iopub.status.idle": "2025-01-11T23:09:52.293718Z",
     "shell.execute_reply": "2025-01-11T23:09:52.292965Z",
     "shell.execute_reply.started": "2025-01-11T23:09:52.270241Z"
    },
    "jupyter": {
     "source_hidden": true
    }
   },
   "outputs": [
    {
     "data": {
      "text/html": [
       "<div>\n",
       "<style scoped>\n",
       "    .dataframe tbody tr th:only-of-type {\n",
       "        vertical-align: middle;\n",
       "    }\n",
       "\n",
       "    .dataframe tbody tr th {\n",
       "        vertical-align: top;\n",
       "    }\n",
       "\n",
       "    .dataframe thead th {\n",
       "        text-align: right;\n",
       "    }\n",
       "</style>\n",
       "<table border=\"1\" class=\"dataframe\">\n",
       "  <thead>\n",
       "    <tr style=\"text-align: right;\">\n",
       "      <th></th>\n",
       "      <th>0</th>\n",
       "    </tr>\n",
       "  </thead>\n",
       "  <tbody>\n",
       "    <tr>\n",
       "      <th>department_id</th>\n",
       "      <td>department</td>\n",
       "    </tr>\n",
       "    <tr>\n",
       "      <th>1</th>\n",
       "      <td>frozen</td>\n",
       "    </tr>\n",
       "    <tr>\n",
       "      <th>2</th>\n",
       "      <td>other</td>\n",
       "    </tr>\n",
       "    <tr>\n",
       "      <th>3</th>\n",
       "      <td>bakery</td>\n",
       "    </tr>\n",
       "    <tr>\n",
       "      <th>4</th>\n",
       "      <td>produce</td>\n",
       "    </tr>\n",
       "    <tr>\n",
       "      <th>5</th>\n",
       "      <td>alcohol</td>\n",
       "    </tr>\n",
       "    <tr>\n",
       "      <th>6</th>\n",
       "      <td>international</td>\n",
       "    </tr>\n",
       "    <tr>\n",
       "      <th>7</th>\n",
       "      <td>beverages</td>\n",
       "    </tr>\n",
       "    <tr>\n",
       "      <th>8</th>\n",
       "      <td>pets</td>\n",
       "    </tr>\n",
       "    <tr>\n",
       "      <th>9</th>\n",
       "      <td>dry goods pasta</td>\n",
       "    </tr>\n",
       "    <tr>\n",
       "      <th>10</th>\n",
       "      <td>bulk</td>\n",
       "    </tr>\n",
       "    <tr>\n",
       "      <th>11</th>\n",
       "      <td>personal care</td>\n",
       "    </tr>\n",
       "    <tr>\n",
       "      <th>12</th>\n",
       "      <td>meat seafood</td>\n",
       "    </tr>\n",
       "    <tr>\n",
       "      <th>13</th>\n",
       "      <td>pantry</td>\n",
       "    </tr>\n",
       "    <tr>\n",
       "      <th>14</th>\n",
       "      <td>breakfast</td>\n",
       "    </tr>\n",
       "    <tr>\n",
       "      <th>15</th>\n",
       "      <td>canned goods</td>\n",
       "    </tr>\n",
       "    <tr>\n",
       "      <th>16</th>\n",
       "      <td>dairy eggs</td>\n",
       "    </tr>\n",
       "    <tr>\n",
       "      <th>17</th>\n",
       "      <td>household</td>\n",
       "    </tr>\n",
       "    <tr>\n",
       "      <th>18</th>\n",
       "      <td>babies</td>\n",
       "    </tr>\n",
       "    <tr>\n",
       "      <th>19</th>\n",
       "      <td>snacks</td>\n",
       "    </tr>\n",
       "    <tr>\n",
       "      <th>20</th>\n",
       "      <td>deli</td>\n",
       "    </tr>\n",
       "    <tr>\n",
       "      <th>21</th>\n",
       "      <td>missing</td>\n",
       "    </tr>\n",
       "  </tbody>\n",
       "</table>\n",
       "</div>"
      ],
      "text/plain": [
       "                             0\n",
       "department_id       department\n",
       "1                       frozen\n",
       "2                        other\n",
       "3                       bakery\n",
       "4                      produce\n",
       "5                      alcohol\n",
       "6                international\n",
       "7                    beverages\n",
       "8                         pets\n",
       "9              dry goods pasta\n",
       "10                        bulk\n",
       "11               personal care\n",
       "12                meat seafood\n",
       "13                      pantry\n",
       "14                   breakfast\n",
       "15                canned goods\n",
       "16                  dairy eggs\n",
       "17                   household\n",
       "18                      babies\n",
       "19                      snacks\n",
       "20                        deli\n",
       "21                     missing"
      ]
     },
     "execution_count": 53,
     "metadata": {},
     "output_type": "execute_result"
    }
   ],
   "source": [
    "# Transposes departments table rows into columns (only visual--not actually changing dataframe)\n",
    "\n",
    "df_dep.T"
   ]
  },
  {
   "cell_type": "code",
   "execution_count": 55,
   "id": "2633fa55-747c-48b1-8934-2f75ad47a301",
   "metadata": {
    "execution": {
     "iopub.execute_input": "2025-01-11T23:09:52.332772Z",
     "iopub.status.busy": "2025-01-11T23:09:52.332586Z",
     "iopub.status.idle": "2025-01-11T23:09:52.346668Z",
     "shell.execute_reply": "2025-01-11T23:09:52.345871Z",
     "shell.execute_reply.started": "2025-01-11T23:09:52.332756Z"
    }
   },
   "outputs": [],
   "source": [
    "# Creating new dataframe df_dep_t to the transposed data format so that it can be used for analysis\n",
    "\n",
    "df_dep_t = df_dep.T"
   ]
  },
  {
   "cell_type": "code",
   "execution_count": 57,
   "id": "e5a9afe5-ecd5-4b57-96bf-cb6bfc2f7bf5",
   "metadata": {
    "execution": {
     "iopub.execute_input": "2025-01-11T23:09:53.216136Z",
     "iopub.status.busy": "2025-01-11T23:09:53.215470Z",
     "iopub.status.idle": "2025-01-11T23:09:53.222544Z",
     "shell.execute_reply": "2025-01-11T23:09:53.221910Z",
     "shell.execute_reply.started": "2025-01-11T23:09:53.216112Z"
    },
    "jupyter": {
     "source_hidden": true
    }
   },
   "outputs": [
    {
     "data": {
      "text/html": [
       "<div>\n",
       "<style scoped>\n",
       "    .dataframe tbody tr th:only-of-type {\n",
       "        vertical-align: middle;\n",
       "    }\n",
       "\n",
       "    .dataframe tbody tr th {\n",
       "        vertical-align: top;\n",
       "    }\n",
       "\n",
       "    .dataframe thead th {\n",
       "        text-align: right;\n",
       "    }\n",
       "</style>\n",
       "<table border=\"1\" class=\"dataframe\">\n",
       "  <thead>\n",
       "    <tr style=\"text-align: right;\">\n",
       "      <th></th>\n",
       "      <th>0</th>\n",
       "    </tr>\n",
       "  </thead>\n",
       "  <tbody>\n",
       "    <tr>\n",
       "      <th>department_id</th>\n",
       "      <td>department</td>\n",
       "    </tr>\n",
       "    <tr>\n",
       "      <th>1</th>\n",
       "      <td>frozen</td>\n",
       "    </tr>\n",
       "    <tr>\n",
       "      <th>2</th>\n",
       "      <td>other</td>\n",
       "    </tr>\n",
       "    <tr>\n",
       "      <th>3</th>\n",
       "      <td>bakery</td>\n",
       "    </tr>\n",
       "    <tr>\n",
       "      <th>4</th>\n",
       "      <td>produce</td>\n",
       "    </tr>\n",
       "    <tr>\n",
       "      <th>5</th>\n",
       "      <td>alcohol</td>\n",
       "    </tr>\n",
       "    <tr>\n",
       "      <th>6</th>\n",
       "      <td>international</td>\n",
       "    </tr>\n",
       "    <tr>\n",
       "      <th>7</th>\n",
       "      <td>beverages</td>\n",
       "    </tr>\n",
       "    <tr>\n",
       "      <th>8</th>\n",
       "      <td>pets</td>\n",
       "    </tr>\n",
       "    <tr>\n",
       "      <th>9</th>\n",
       "      <td>dry goods pasta</td>\n",
       "    </tr>\n",
       "    <tr>\n",
       "      <th>10</th>\n",
       "      <td>bulk</td>\n",
       "    </tr>\n",
       "    <tr>\n",
       "      <th>11</th>\n",
       "      <td>personal care</td>\n",
       "    </tr>\n",
       "    <tr>\n",
       "      <th>12</th>\n",
       "      <td>meat seafood</td>\n",
       "    </tr>\n",
       "    <tr>\n",
       "      <th>13</th>\n",
       "      <td>pantry</td>\n",
       "    </tr>\n",
       "    <tr>\n",
       "      <th>14</th>\n",
       "      <td>breakfast</td>\n",
       "    </tr>\n",
       "    <tr>\n",
       "      <th>15</th>\n",
       "      <td>canned goods</td>\n",
       "    </tr>\n",
       "    <tr>\n",
       "      <th>16</th>\n",
       "      <td>dairy eggs</td>\n",
       "    </tr>\n",
       "    <tr>\n",
       "      <th>17</th>\n",
       "      <td>household</td>\n",
       "    </tr>\n",
       "    <tr>\n",
       "      <th>18</th>\n",
       "      <td>babies</td>\n",
       "    </tr>\n",
       "    <tr>\n",
       "      <th>19</th>\n",
       "      <td>snacks</td>\n",
       "    </tr>\n",
       "    <tr>\n",
       "      <th>20</th>\n",
       "      <td>deli</td>\n",
       "    </tr>\n",
       "    <tr>\n",
       "      <th>21</th>\n",
       "      <td>missing</td>\n",
       "    </tr>\n",
       "  </tbody>\n",
       "</table>\n",
       "</div>"
      ],
      "text/plain": [
       "                             0\n",
       "department_id       department\n",
       "1                       frozen\n",
       "2                        other\n",
       "3                       bakery\n",
       "4                      produce\n",
       "5                      alcohol\n",
       "6                international\n",
       "7                    beverages\n",
       "8                         pets\n",
       "9              dry goods pasta\n",
       "10                        bulk\n",
       "11               personal care\n",
       "12                meat seafood\n",
       "13                      pantry\n",
       "14                   breakfast\n",
       "15                canned goods\n",
       "16                  dairy eggs\n",
       "17                   household\n",
       "18                      babies\n",
       "19                      snacks\n",
       "20                        deli\n",
       "21                     missing"
      ]
     },
     "execution_count": 57,
     "metadata": {},
     "output_type": "execute_result"
    }
   ],
   "source": [
    "# prints df_dep_t for test\n",
    "\n",
    "df_dep_t"
   ]
  },
  {
   "cell_type": "code",
   "execution_count": 59,
   "id": "c907a04c-c285-4f0e-9bc2-456966d71165",
   "metadata": {
    "execution": {
     "iopub.execute_input": "2025-01-11T23:09:53.328016Z",
     "iopub.status.busy": "2025-01-11T23:09:53.327600Z",
     "iopub.status.idle": "2025-01-11T23:09:53.337929Z",
     "shell.execute_reply": "2025-01-11T23:09:53.337355Z",
     "shell.execute_reply.started": "2025-01-11T23:09:53.327986Z"
    },
    "jupyter": {
     "source_hidden": true
    }
   },
   "outputs": [
    {
     "data": {
      "text/html": [
       "<div>\n",
       "<style scoped>\n",
       "    .dataframe tbody tr th:only-of-type {\n",
       "        vertical-align: middle;\n",
       "    }\n",
       "\n",
       "    .dataframe tbody tr th {\n",
       "        vertical-align: top;\n",
       "    }\n",
       "\n",
       "    .dataframe thead th {\n",
       "        text-align: right;\n",
       "    }\n",
       "</style>\n",
       "<table border=\"1\" class=\"dataframe\">\n",
       "  <thead>\n",
       "    <tr style=\"text-align: right;\">\n",
       "      <th></th>\n",
       "      <th>index</th>\n",
       "      <th>0</th>\n",
       "    </tr>\n",
       "  </thead>\n",
       "  <tbody>\n",
       "    <tr>\n",
       "      <th>0</th>\n",
       "      <td>department_id</td>\n",
       "      <td>department</td>\n",
       "    </tr>\n",
       "    <tr>\n",
       "      <th>1</th>\n",
       "      <td>1</td>\n",
       "      <td>frozen</td>\n",
       "    </tr>\n",
       "    <tr>\n",
       "      <th>2</th>\n",
       "      <td>2</td>\n",
       "      <td>other</td>\n",
       "    </tr>\n",
       "    <tr>\n",
       "      <th>3</th>\n",
       "      <td>3</td>\n",
       "      <td>bakery</td>\n",
       "    </tr>\n",
       "    <tr>\n",
       "      <th>4</th>\n",
       "      <td>4</td>\n",
       "      <td>produce</td>\n",
       "    </tr>\n",
       "    <tr>\n",
       "      <th>5</th>\n",
       "      <td>5</td>\n",
       "      <td>alcohol</td>\n",
       "    </tr>\n",
       "    <tr>\n",
       "      <th>6</th>\n",
       "      <td>6</td>\n",
       "      <td>international</td>\n",
       "    </tr>\n",
       "    <tr>\n",
       "      <th>7</th>\n",
       "      <td>7</td>\n",
       "      <td>beverages</td>\n",
       "    </tr>\n",
       "    <tr>\n",
       "      <th>8</th>\n",
       "      <td>8</td>\n",
       "      <td>pets</td>\n",
       "    </tr>\n",
       "    <tr>\n",
       "      <th>9</th>\n",
       "      <td>9</td>\n",
       "      <td>dry goods pasta</td>\n",
       "    </tr>\n",
       "    <tr>\n",
       "      <th>10</th>\n",
       "      <td>10</td>\n",
       "      <td>bulk</td>\n",
       "    </tr>\n",
       "    <tr>\n",
       "      <th>11</th>\n",
       "      <td>11</td>\n",
       "      <td>personal care</td>\n",
       "    </tr>\n",
       "    <tr>\n",
       "      <th>12</th>\n",
       "      <td>12</td>\n",
       "      <td>meat seafood</td>\n",
       "    </tr>\n",
       "    <tr>\n",
       "      <th>13</th>\n",
       "      <td>13</td>\n",
       "      <td>pantry</td>\n",
       "    </tr>\n",
       "    <tr>\n",
       "      <th>14</th>\n",
       "      <td>14</td>\n",
       "      <td>breakfast</td>\n",
       "    </tr>\n",
       "    <tr>\n",
       "      <th>15</th>\n",
       "      <td>15</td>\n",
       "      <td>canned goods</td>\n",
       "    </tr>\n",
       "    <tr>\n",
       "      <th>16</th>\n",
       "      <td>16</td>\n",
       "      <td>dairy eggs</td>\n",
       "    </tr>\n",
       "    <tr>\n",
       "      <th>17</th>\n",
       "      <td>17</td>\n",
       "      <td>household</td>\n",
       "    </tr>\n",
       "    <tr>\n",
       "      <th>18</th>\n",
       "      <td>18</td>\n",
       "      <td>babies</td>\n",
       "    </tr>\n",
       "    <tr>\n",
       "      <th>19</th>\n",
       "      <td>19</td>\n",
       "      <td>snacks</td>\n",
       "    </tr>\n",
       "    <tr>\n",
       "      <th>20</th>\n",
       "      <td>20</td>\n",
       "      <td>deli</td>\n",
       "    </tr>\n",
       "    <tr>\n",
       "      <th>21</th>\n",
       "      <td>21</td>\n",
       "      <td>missing</td>\n",
       "    </tr>\n",
       "  </tbody>\n",
       "</table>\n",
       "</div>"
      ],
      "text/plain": [
       "            index                0\n",
       "0   department_id       department\n",
       "1               1           frozen\n",
       "2               2            other\n",
       "3               3           bakery\n",
       "4               4          produce\n",
       "5               5          alcohol\n",
       "6               6    international\n",
       "7               7        beverages\n",
       "8               8             pets\n",
       "9               9  dry goods pasta\n",
       "10             10             bulk\n",
       "11             11    personal care\n",
       "12             12     meat seafood\n",
       "13             13           pantry\n",
       "14             14        breakfast\n",
       "15             15     canned goods\n",
       "16             16       dairy eggs\n",
       "17             17        household\n",
       "18             18           babies\n",
       "19             19           snacks\n",
       "20             20             deli\n",
       "21             21          missing"
      ]
     },
     "execution_count": 59,
     "metadata": {},
     "output_type": "execute_result"
    }
   ],
   "source": [
    "# Adds index to dept data frame\n",
    "\n",
    "df_dep_t.reset_index()"
   ]
  },
  {
   "cell_type": "code",
   "execution_count": 61,
   "id": "ff24b45f-e4bc-4520-b2f8-1c7bae4295d4",
   "metadata": {
    "execution": {
     "iopub.execute_input": "2025-01-11T23:09:53.431263Z",
     "iopub.status.busy": "2025-01-11T23:09:53.430631Z",
     "iopub.status.idle": "2025-01-11T23:09:53.434615Z",
     "shell.execute_reply": "2025-01-11T23:09:53.433856Z",
     "shell.execute_reply.started": "2025-01-11T23:09:53.431239Z"
    }
   },
   "outputs": [],
   "source": [
    "# Takes the first row of df_dep_t for the header\n",
    "\n",
    "new_header = df_dep_t.iloc[0]"
   ]
  },
  {
   "cell_type": "code",
   "execution_count": 63,
   "id": "76075af4-5536-455d-b1fc-28b1d8f2e4d5",
   "metadata": {
    "execution": {
     "iopub.execute_input": "2025-01-11T23:09:53.523507Z",
     "iopub.status.busy": "2025-01-11T23:09:53.522837Z",
     "iopub.status.idle": "2025-01-11T23:09:53.528454Z",
     "shell.execute_reply": "2025-01-11T23:09:53.527863Z",
     "shell.execute_reply.started": "2025-01-11T23:09:53.523485Z"
    }
   },
   "outputs": [
    {
     "data": {
      "text/plain": [
       "0    department\n",
       "Name: department_id, dtype: object"
      ]
     },
     "execution_count": 63,
     "metadata": {},
     "output_type": "execute_result"
    }
   ],
   "source": [
    "# Prints new_header\n",
    "\n",
    "new_header"
   ]
  },
  {
   "cell_type": "code",
   "execution_count": 65,
   "id": "386e422f-c871-4eb7-8045-fa19486bfae7",
   "metadata": {
    "execution": {
     "iopub.execute_input": "2025-01-11T23:09:53.625488Z",
     "iopub.status.busy": "2025-01-11T23:09:53.624970Z",
     "iopub.status.idle": "2025-01-11T23:09:53.628828Z",
     "shell.execute_reply": "2025-01-11T23:09:53.628100Z",
     "shell.execute_reply.started": "2025-01-11T23:09:53.625467Z"
    }
   },
   "outputs": [],
   "source": [
    "# Deletes first row of df_dep_t and defines as new data frame\n",
    "\n",
    "df_dep_t_new = df_dep_t[1:]"
   ]
  },
  {
   "cell_type": "code",
   "execution_count": 67,
   "id": "5dc50e57-5303-4f95-8610-c59371df0156",
   "metadata": {
    "execution": {
     "iopub.execute_input": "2025-01-11T23:09:53.717326Z",
     "iopub.status.busy": "2025-01-11T23:09:53.716729Z",
     "iopub.status.idle": "2025-01-11T23:09:53.723884Z",
     "shell.execute_reply": "2025-01-11T23:09:53.723418Z",
     "shell.execute_reply.started": "2025-01-11T23:09:53.717303Z"
    }
   },
   "outputs": [
    {
     "data": {
      "text/html": [
       "<div>\n",
       "<style scoped>\n",
       "    .dataframe tbody tr th:only-of-type {\n",
       "        vertical-align: middle;\n",
       "    }\n",
       "\n",
       "    .dataframe tbody tr th {\n",
       "        vertical-align: top;\n",
       "    }\n",
       "\n",
       "    .dataframe thead th {\n",
       "        text-align: right;\n",
       "    }\n",
       "</style>\n",
       "<table border=\"1\" class=\"dataframe\">\n",
       "  <thead>\n",
       "    <tr style=\"text-align: right;\">\n",
       "      <th></th>\n",
       "      <th>0</th>\n",
       "    </tr>\n",
       "  </thead>\n",
       "  <tbody>\n",
       "    <tr>\n",
       "      <th>1</th>\n",
       "      <td>frozen</td>\n",
       "    </tr>\n",
       "    <tr>\n",
       "      <th>2</th>\n",
       "      <td>other</td>\n",
       "    </tr>\n",
       "    <tr>\n",
       "      <th>3</th>\n",
       "      <td>bakery</td>\n",
       "    </tr>\n",
       "    <tr>\n",
       "      <th>4</th>\n",
       "      <td>produce</td>\n",
       "    </tr>\n",
       "    <tr>\n",
       "      <th>5</th>\n",
       "      <td>alcohol</td>\n",
       "    </tr>\n",
       "    <tr>\n",
       "      <th>6</th>\n",
       "      <td>international</td>\n",
       "    </tr>\n",
       "    <tr>\n",
       "      <th>7</th>\n",
       "      <td>beverages</td>\n",
       "    </tr>\n",
       "    <tr>\n",
       "      <th>8</th>\n",
       "      <td>pets</td>\n",
       "    </tr>\n",
       "    <tr>\n",
       "      <th>9</th>\n",
       "      <td>dry goods pasta</td>\n",
       "    </tr>\n",
       "    <tr>\n",
       "      <th>10</th>\n",
       "      <td>bulk</td>\n",
       "    </tr>\n",
       "    <tr>\n",
       "      <th>11</th>\n",
       "      <td>personal care</td>\n",
       "    </tr>\n",
       "    <tr>\n",
       "      <th>12</th>\n",
       "      <td>meat seafood</td>\n",
       "    </tr>\n",
       "    <tr>\n",
       "      <th>13</th>\n",
       "      <td>pantry</td>\n",
       "    </tr>\n",
       "    <tr>\n",
       "      <th>14</th>\n",
       "      <td>breakfast</td>\n",
       "    </tr>\n",
       "    <tr>\n",
       "      <th>15</th>\n",
       "      <td>canned goods</td>\n",
       "    </tr>\n",
       "    <tr>\n",
       "      <th>16</th>\n",
       "      <td>dairy eggs</td>\n",
       "    </tr>\n",
       "    <tr>\n",
       "      <th>17</th>\n",
       "      <td>household</td>\n",
       "    </tr>\n",
       "    <tr>\n",
       "      <th>18</th>\n",
       "      <td>babies</td>\n",
       "    </tr>\n",
       "    <tr>\n",
       "      <th>19</th>\n",
       "      <td>snacks</td>\n",
       "    </tr>\n",
       "    <tr>\n",
       "      <th>20</th>\n",
       "      <td>deli</td>\n",
       "    </tr>\n",
       "    <tr>\n",
       "      <th>21</th>\n",
       "      <td>missing</td>\n",
       "    </tr>\n",
       "  </tbody>\n",
       "</table>\n",
       "</div>"
      ],
      "text/plain": [
       "                  0\n",
       "1            frozen\n",
       "2             other\n",
       "3            bakery\n",
       "4           produce\n",
       "5           alcohol\n",
       "6     international\n",
       "7         beverages\n",
       "8              pets\n",
       "9   dry goods pasta\n",
       "10             bulk\n",
       "11    personal care\n",
       "12     meat seafood\n",
       "13           pantry\n",
       "14        breakfast\n",
       "15     canned goods\n",
       "16       dairy eggs\n",
       "17        household\n",
       "18           babies\n",
       "19           snacks\n",
       "20             deli\n",
       "21          missing"
      ]
     },
     "execution_count": 67,
     "metadata": {},
     "output_type": "execute_result"
    }
   ],
   "source": [
    "# Prints df_dep_t_new\n",
    "\n",
    "df_dep_t_new"
   ]
  },
  {
   "cell_type": "code",
   "execution_count": 69,
   "id": "89df6050-6cf9-437a-a39a-5c4e8aeb2ae6",
   "metadata": {
    "execution": {
     "iopub.execute_input": "2025-01-11T23:09:53.852589Z",
     "iopub.status.busy": "2025-01-11T23:09:53.852094Z",
     "iopub.status.idle": "2025-01-11T23:09:53.858716Z",
     "shell.execute_reply": "2025-01-11T23:09:53.857742Z",
     "shell.execute_reply.started": "2025-01-11T23:09:53.852559Z"
    }
   },
   "outputs": [],
   "source": [
    "# Sets new_header as header of df_dep_t_new\n",
    "\n",
    "df_dep_t_new.columns = new_header"
   ]
  },
  {
   "cell_type": "code",
   "execution_count": 71,
   "id": "0a696eaf-7223-4fd1-b080-d4b484e557b0",
   "metadata": {
    "execution": {
     "iopub.execute_input": "2025-01-11T23:09:54.067619Z",
     "iopub.status.busy": "2025-01-11T23:09:54.066858Z",
     "iopub.status.idle": "2025-01-11T23:09:54.076994Z",
     "shell.execute_reply": "2025-01-11T23:09:54.076237Z",
     "shell.execute_reply.started": "2025-01-11T23:09:54.067588Z"
    },
    "scrolled": true
   },
   "outputs": [
    {
     "data": {
      "text/html": [
       "<div>\n",
       "<style scoped>\n",
       "    .dataframe tbody tr th:only-of-type {\n",
       "        vertical-align: middle;\n",
       "    }\n",
       "\n",
       "    .dataframe tbody tr th {\n",
       "        vertical-align: top;\n",
       "    }\n",
       "\n",
       "    .dataframe thead th {\n",
       "        text-align: right;\n",
       "    }\n",
       "</style>\n",
       "<table border=\"1\" class=\"dataframe\">\n",
       "  <thead>\n",
       "    <tr style=\"text-align: right;\">\n",
       "      <th>department_id</th>\n",
       "      <th>department</th>\n",
       "    </tr>\n",
       "  </thead>\n",
       "  <tbody>\n",
       "    <tr>\n",
       "      <th>1</th>\n",
       "      <td>frozen</td>\n",
       "    </tr>\n",
       "    <tr>\n",
       "      <th>2</th>\n",
       "      <td>other</td>\n",
       "    </tr>\n",
       "    <tr>\n",
       "      <th>3</th>\n",
       "      <td>bakery</td>\n",
       "    </tr>\n",
       "    <tr>\n",
       "      <th>4</th>\n",
       "      <td>produce</td>\n",
       "    </tr>\n",
       "    <tr>\n",
       "      <th>5</th>\n",
       "      <td>alcohol</td>\n",
       "    </tr>\n",
       "    <tr>\n",
       "      <th>6</th>\n",
       "      <td>international</td>\n",
       "    </tr>\n",
       "    <tr>\n",
       "      <th>7</th>\n",
       "      <td>beverages</td>\n",
       "    </tr>\n",
       "    <tr>\n",
       "      <th>8</th>\n",
       "      <td>pets</td>\n",
       "    </tr>\n",
       "    <tr>\n",
       "      <th>9</th>\n",
       "      <td>dry goods pasta</td>\n",
       "    </tr>\n",
       "    <tr>\n",
       "      <th>10</th>\n",
       "      <td>bulk</td>\n",
       "    </tr>\n",
       "    <tr>\n",
       "      <th>11</th>\n",
       "      <td>personal care</td>\n",
       "    </tr>\n",
       "    <tr>\n",
       "      <th>12</th>\n",
       "      <td>meat seafood</td>\n",
       "    </tr>\n",
       "    <tr>\n",
       "      <th>13</th>\n",
       "      <td>pantry</td>\n",
       "    </tr>\n",
       "    <tr>\n",
       "      <th>14</th>\n",
       "      <td>breakfast</td>\n",
       "    </tr>\n",
       "    <tr>\n",
       "      <th>15</th>\n",
       "      <td>canned goods</td>\n",
       "    </tr>\n",
       "    <tr>\n",
       "      <th>16</th>\n",
       "      <td>dairy eggs</td>\n",
       "    </tr>\n",
       "    <tr>\n",
       "      <th>17</th>\n",
       "      <td>household</td>\n",
       "    </tr>\n",
       "    <tr>\n",
       "      <th>18</th>\n",
       "      <td>babies</td>\n",
       "    </tr>\n",
       "    <tr>\n",
       "      <th>19</th>\n",
       "      <td>snacks</td>\n",
       "    </tr>\n",
       "    <tr>\n",
       "      <th>20</th>\n",
       "      <td>deli</td>\n",
       "    </tr>\n",
       "    <tr>\n",
       "      <th>21</th>\n",
       "      <td>missing</td>\n",
       "    </tr>\n",
       "  </tbody>\n",
       "</table>\n",
       "</div>"
      ],
      "text/plain": [
       "department_id       department\n",
       "1                       frozen\n",
       "2                        other\n",
       "3                       bakery\n",
       "4                      produce\n",
       "5                      alcohol\n",
       "6                international\n",
       "7                    beverages\n",
       "8                         pets\n",
       "9              dry goods pasta\n",
       "10                        bulk\n",
       "11               personal care\n",
       "12                meat seafood\n",
       "13                      pantry\n",
       "14                   breakfast\n",
       "15                canned goods\n",
       "16                  dairy eggs\n",
       "17                   household\n",
       "18                      babies\n",
       "19                      snacks\n",
       "20                        deli\n",
       "21                     missing"
      ]
     },
     "execution_count": 71,
     "metadata": {},
     "output_type": "execute_result"
    }
   ],
   "source": [
    "# Prints df_dep_t_new\n",
    "\n",
    "df_dep_t_new"
   ]
  },
  {
   "cell_type": "markdown",
   "id": "904d5e57-fc3c-49ef-8b1c-563f807e1da3",
   "metadata": {
    "jp-MarkdownHeadingCollapsed": true
   },
   "source": [
    "# 04. Data Dictionaries"
   ]
  },
  {
   "cell_type": "code",
   "execution_count": 73,
   "id": "9d00c089-b2d8-4246-92c5-fd1b56497170",
   "metadata": {
    "execution": {
     "iopub.execute_input": "2025-01-11T23:09:54.200135Z",
     "iopub.status.busy": "2025-01-11T23:09:54.199723Z",
     "iopub.status.idle": "2025-01-11T23:09:54.207400Z",
     "shell.execute_reply": "2025-01-11T23:09:54.206275Z",
     "shell.execute_reply.started": "2025-01-11T23:09:54.200102Z"
    }
   },
   "outputs": [],
   "source": [
    "# Turns df_dep_t_new into data dictionary\n",
    "\n",
    "data_dict = df_dep_t_new.to_dict('index')"
   ]
  },
  {
   "cell_type": "code",
   "execution_count": 75,
   "id": "3f1397f3-98ba-46ed-a7f9-6c0c26cd3077",
   "metadata": {
    "execution": {
     "iopub.execute_input": "2025-01-11T23:09:54.300438Z",
     "iopub.status.busy": "2025-01-11T23:09:54.299907Z",
     "iopub.status.idle": "2025-01-11T23:09:54.307957Z",
     "shell.execute_reply": "2025-01-11T23:09:54.307138Z",
     "shell.execute_reply.started": "2025-01-11T23:09:54.300406Z"
    }
   },
   "outputs": [
    {
     "data": {
      "text/plain": [
       "{'1': {'department': 'frozen'},\n",
       " '2': {'department': 'other'},\n",
       " '3': {'department': 'bakery'},\n",
       " '4': {'department': 'produce'},\n",
       " '5': {'department': 'alcohol'},\n",
       " '6': {'department': 'international'},\n",
       " '7': {'department': 'beverages'},\n",
       " '8': {'department': 'pets'},\n",
       " '9': {'department': 'dry goods pasta'},\n",
       " '10': {'department': 'bulk'},\n",
       " '11': {'department': 'personal care'},\n",
       " '12': {'department': 'meat seafood'},\n",
       " '13': {'department': 'pantry'},\n",
       " '14': {'department': 'breakfast'},\n",
       " '15': {'department': 'canned goods'},\n",
       " '16': {'department': 'dairy eggs'},\n",
       " '17': {'department': 'household'},\n",
       " '18': {'department': 'babies'},\n",
       " '19': {'department': 'snacks'},\n",
       " '20': {'department': 'deli'},\n",
       " '21': {'department': 'missing'}}"
      ]
     },
     "execution_count": 75,
     "metadata": {},
     "output_type": "execute_result"
    }
   ],
   "source": [
    "# Prints data_dict\n",
    "\n",
    "data_dict"
   ]
  },
  {
   "cell_type": "code",
   "execution_count": 77,
   "id": "07a03524-067c-43c2-9bf3-35be721db837",
   "metadata": {
    "execution": {
     "iopub.execute_input": "2025-01-11T23:09:54.430583Z",
     "iopub.status.busy": "2025-01-11T23:09:54.430281Z",
     "iopub.status.idle": "2025-01-11T23:09:54.440860Z",
     "shell.execute_reply": "2025-01-11T23:09:54.440289Z",
     "shell.execute_reply.started": "2025-01-11T23:09:54.430557Z"
    }
   },
   "outputs": [
    {
     "data": {
      "text/html": [
       "<div>\n",
       "<style scoped>\n",
       "    .dataframe tbody tr th:only-of-type {\n",
       "        vertical-align: middle;\n",
       "    }\n",
       "\n",
       "    .dataframe tbody tr th {\n",
       "        vertical-align: top;\n",
       "    }\n",
       "\n",
       "    .dataframe thead th {\n",
       "        text-align: right;\n",
       "    }\n",
       "</style>\n",
       "<table border=\"1\" class=\"dataframe\">\n",
       "  <thead>\n",
       "    <tr style=\"text-align: right;\">\n",
       "      <th></th>\n",
       "      <th>product_id</th>\n",
       "      <th>product_name</th>\n",
       "      <th>aisle_id</th>\n",
       "      <th>department_id</th>\n",
       "      <th>prices</th>\n",
       "    </tr>\n",
       "  </thead>\n",
       "  <tbody>\n",
       "    <tr>\n",
       "      <th>0</th>\n",
       "      <td>1</td>\n",
       "      <td>Chocolate Sandwich Cookies</td>\n",
       "      <td>61</td>\n",
       "      <td>19</td>\n",
       "      <td>5.8</td>\n",
       "    </tr>\n",
       "    <tr>\n",
       "      <th>1</th>\n",
       "      <td>2</td>\n",
       "      <td>All-Seasons Salt</td>\n",
       "      <td>104</td>\n",
       "      <td>13</td>\n",
       "      <td>9.3</td>\n",
       "    </tr>\n",
       "    <tr>\n",
       "      <th>2</th>\n",
       "      <td>3</td>\n",
       "      <td>Robust Golden Unsweetened Oolong Tea</td>\n",
       "      <td>94</td>\n",
       "      <td>7</td>\n",
       "      <td>4.5</td>\n",
       "    </tr>\n",
       "    <tr>\n",
       "      <th>3</th>\n",
       "      <td>4</td>\n",
       "      <td>Smart Ones Classic Favorites Mini Rigatoni Wit...</td>\n",
       "      <td>38</td>\n",
       "      <td>1</td>\n",
       "      <td>10.5</td>\n",
       "    </tr>\n",
       "    <tr>\n",
       "      <th>4</th>\n",
       "      <td>5</td>\n",
       "      <td>Green Chile Anytime Sauce</td>\n",
       "      <td>5</td>\n",
       "      <td>13</td>\n",
       "      <td>4.3</td>\n",
       "    </tr>\n",
       "  </tbody>\n",
       "</table>\n",
       "</div>"
      ],
      "text/plain": [
       "   product_id                                       product_name  aisle_id  \\\n",
       "0           1                         Chocolate Sandwich Cookies        61   \n",
       "1           2                                   All-Seasons Salt       104   \n",
       "2           3               Robust Golden Unsweetened Oolong Tea        94   \n",
       "3           4  Smart Ones Classic Favorites Mini Rigatoni Wit...        38   \n",
       "4           5                          Green Chile Anytime Sauce         5   \n",
       "\n",
       "   department_id  prices  \n",
       "0             19     5.8  \n",
       "1             13     9.3  \n",
       "2              7     4.5  \n",
       "3              1    10.5  \n",
       "4             13     4.3  "
      ]
     },
     "execution_count": 77,
     "metadata": {},
     "output_type": "execute_result"
    }
   ],
   "source": [
    "# Prints first 5 rows of df_prods\n",
    "\n",
    "df_prods.head()"
   ]
  },
  {
   "cell_type": "code",
   "execution_count": 79,
   "id": "756d2116-c8e7-4f92-9915-29b80cb8eea1",
   "metadata": {
    "execution": {
     "iopub.execute_input": "2025-01-11T23:09:54.516936Z",
     "iopub.status.busy": "2025-01-11T23:09:54.516560Z",
     "iopub.status.idle": "2025-01-11T23:09:54.520589Z",
     "shell.execute_reply": "2025-01-11T23:09:54.519804Z",
     "shell.execute_reply.started": "2025-01-11T23:09:54.516906Z"
    }
   },
   "outputs": [
    {
     "name": "stdout",
     "output_type": "stream",
     "text": [
      "{'department': 'snacks'}\n"
     ]
    }
   ],
   "source": [
    "# Prints department type from data dictionary by referencing department_id '19'\n",
    "\n",
    "print(data_dict.get('19'))"
   ]
  },
  {
   "cell_type": "markdown",
   "id": "f08c1ef6-772b-496e-bcd1-05166beb2ff6",
   "metadata": {
    "jp-MarkdownHeadingCollapsed": true
   },
   "source": [
    "# 05. Subsetting"
   ]
  },
  {
   "cell_type": "code",
   "execution_count": 81,
   "id": "a6d2dc63-ca54-4bc9-896c-cd6cbeb91b84",
   "metadata": {
    "execution": {
     "iopub.execute_input": "2025-01-11T23:09:54.601462Z",
     "iopub.status.busy": "2025-01-11T23:09:54.600855Z",
     "iopub.status.idle": "2025-01-11T23:09:54.608857Z",
     "shell.execute_reply": "2025-01-11T23:09:54.608274Z",
     "shell.execute_reply.started": "2025-01-11T23:09:54.601432Z"
    }
   },
   "outputs": [
    {
     "data": {
      "text/plain": [
       "0         True\n",
       "1        False\n",
       "2        False\n",
       "3        False\n",
       "4        False\n",
       "         ...  \n",
       "49688    False\n",
       "49689    False\n",
       "49690    False\n",
       "49691    False\n",
       "49692    False\n",
       "Name: department_id, Length: 49693, dtype: bool"
      ]
     },
     "execution_count": 81,
     "metadata": {},
     "output_type": "execute_result"
    }
   ],
   "source": [
    "# Use brackets to index df_prods 'department_id'\n",
    "\n",
    "df_prods['department_id']==19"
   ]
  },
  {
   "cell_type": "code",
   "execution_count": 83,
   "id": "bec9c404-dc12-413e-a55d-3e5bbc2fc2e9",
   "metadata": {
    "execution": {
     "iopub.execute_input": "2025-01-11T23:09:54.735332Z",
     "iopub.status.busy": "2025-01-11T23:09:54.734645Z",
     "iopub.status.idle": "2025-01-11T23:09:54.750475Z",
     "shell.execute_reply": "2025-01-11T23:09:54.749808Z",
     "shell.execute_reply.started": "2025-01-11T23:09:54.735301Z"
    },
    "jupyter": {
     "source_hidden": true
    }
   },
   "outputs": [
    {
     "data": {
      "text/html": [
       "<div>\n",
       "<style scoped>\n",
       "    .dataframe tbody tr th:only-of-type {\n",
       "        vertical-align: middle;\n",
       "    }\n",
       "\n",
       "    .dataframe tbody tr th {\n",
       "        vertical-align: top;\n",
       "    }\n",
       "\n",
       "    .dataframe thead th {\n",
       "        text-align: right;\n",
       "    }\n",
       "</style>\n",
       "<table border=\"1\" class=\"dataframe\">\n",
       "  <thead>\n",
       "    <tr style=\"text-align: right;\">\n",
       "      <th></th>\n",
       "      <th>product_id</th>\n",
       "      <th>product_name</th>\n",
       "      <th>aisle_id</th>\n",
       "      <th>department_id</th>\n",
       "      <th>prices</th>\n",
       "    </tr>\n",
       "  </thead>\n",
       "  <tbody>\n",
       "    <tr>\n",
       "      <th>0</th>\n",
       "      <td>1</td>\n",
       "      <td>Chocolate Sandwich Cookies</td>\n",
       "      <td>61</td>\n",
       "      <td>19</td>\n",
       "      <td>5.8</td>\n",
       "    </tr>\n",
       "    <tr>\n",
       "      <th>15</th>\n",
       "      <td>16</td>\n",
       "      <td>Mint Chocolate Flavored Syrup</td>\n",
       "      <td>103</td>\n",
       "      <td>19</td>\n",
       "      <td>5.2</td>\n",
       "    </tr>\n",
       "    <tr>\n",
       "      <th>24</th>\n",
       "      <td>25</td>\n",
       "      <td>Salted Caramel Lean Protein &amp; Fiber Bar</td>\n",
       "      <td>3</td>\n",
       "      <td>19</td>\n",
       "      <td>1.9</td>\n",
       "    </tr>\n",
       "    <tr>\n",
       "      <th>31</th>\n",
       "      <td>32</td>\n",
       "      <td>Nacho Cheese White Bean Chips</td>\n",
       "      <td>107</td>\n",
       "      <td>19</td>\n",
       "      <td>4.9</td>\n",
       "    </tr>\n",
       "    <tr>\n",
       "      <th>40</th>\n",
       "      <td>41</td>\n",
       "      <td>Organic Sourdough Einkorn Crackers Rosemary</td>\n",
       "      <td>78</td>\n",
       "      <td>19</td>\n",
       "      <td>6.5</td>\n",
       "    </tr>\n",
       "    <tr>\n",
       "      <th>...</th>\n",
       "      <td>...</td>\n",
       "      <td>...</td>\n",
       "      <td>...</td>\n",
       "      <td>...</td>\n",
       "      <td>...</td>\n",
       "    </tr>\n",
       "    <tr>\n",
       "      <th>49666</th>\n",
       "      <td>49662</td>\n",
       "      <td>Bacon Cheddar Pretzel Pieces</td>\n",
       "      <td>107</td>\n",
       "      <td>19</td>\n",
       "      <td>3.6</td>\n",
       "    </tr>\n",
       "    <tr>\n",
       "      <th>49669</th>\n",
       "      <td>49665</td>\n",
       "      <td>Super Dark Coconut Ash &amp; Banana Chocolate Bar</td>\n",
       "      <td>45</td>\n",
       "      <td>19</td>\n",
       "      <td>6.9</td>\n",
       "    </tr>\n",
       "    <tr>\n",
       "      <th>49670</th>\n",
       "      <td>49666</td>\n",
       "      <td>Ginger Snaps Snacking Cookies</td>\n",
       "      <td>61</td>\n",
       "      <td>19</td>\n",
       "      <td>5.2</td>\n",
       "    </tr>\n",
       "    <tr>\n",
       "      <th>49675</th>\n",
       "      <td>49671</td>\n",
       "      <td>Milk Chocolate Drops</td>\n",
       "      <td>45</td>\n",
       "      <td>19</td>\n",
       "      <td>3.0</td>\n",
       "    </tr>\n",
       "    <tr>\n",
       "      <th>49683</th>\n",
       "      <td>49679</td>\n",
       "      <td>Famous Chocolate Wafers</td>\n",
       "      <td>61</td>\n",
       "      <td>19</td>\n",
       "      <td>6.0</td>\n",
       "    </tr>\n",
       "  </tbody>\n",
       "</table>\n",
       "<p>6264 rows × 5 columns</p>\n",
       "</div>"
      ],
      "text/plain": [
       "       product_id                                   product_name  aisle_id  \\\n",
       "0               1                     Chocolate Sandwich Cookies        61   \n",
       "15             16                  Mint Chocolate Flavored Syrup       103   \n",
       "24             25        Salted Caramel Lean Protein & Fiber Bar         3   \n",
       "31             32                  Nacho Cheese White Bean Chips       107   \n",
       "40             41    Organic Sourdough Einkorn Crackers Rosemary        78   \n",
       "...           ...                                            ...       ...   \n",
       "49666       49662                   Bacon Cheddar Pretzel Pieces       107   \n",
       "49669       49665  Super Dark Coconut Ash & Banana Chocolate Bar        45   \n",
       "49670       49666                  Ginger Snaps Snacking Cookies        61   \n",
       "49675       49671                           Milk Chocolate Drops        45   \n",
       "49683       49679                        Famous Chocolate Wafers        61   \n",
       "\n",
       "       department_id  prices  \n",
       "0                 19     5.8  \n",
       "15                19     5.2  \n",
       "24                19     1.9  \n",
       "31                19     4.9  \n",
       "40                19     6.5  \n",
       "...              ...     ...  \n",
       "49666             19     3.6  \n",
       "49669             19     6.9  \n",
       "49670             19     5.2  \n",
       "49675             19     3.0  \n",
       "49683             19     6.0  \n",
       "\n",
       "[6264 rows x 5 columns]"
      ]
     },
     "execution_count": 83,
     "metadata": {},
     "output_type": "execute_result"
    }
   ],
   "source": [
    "# Prints df_prods and results only in department_id '19'\n",
    "\n",
    "df_prods[df_prods['department_id']==19]"
   ]
  },
  {
   "cell_type": "code",
   "execution_count": 85,
   "id": "31087998-1a81-4b21-8a23-3fa8c8ddfb72",
   "metadata": {
    "execution": {
     "iopub.execute_input": "2025-01-11T23:09:54.820939Z",
     "iopub.status.busy": "2025-01-11T23:09:54.820244Z",
     "iopub.status.idle": "2025-01-11T23:09:54.825465Z",
     "shell.execute_reply": "2025-01-11T23:09:54.824919Z",
     "shell.execute_reply.started": "2025-01-11T23:09:54.820908Z"
    }
   },
   "outputs": [],
   "source": [
    "# Creates a subset of df_prods 'department_id' as 'df_snacks'\n",
    "\n",
    "df_snacks =  df_prods[df_prods['department_id']==19]"
   ]
  },
  {
   "cell_type": "code",
   "execution_count": 87,
   "id": "de4e2625-1ba5-4861-9d19-5dcf5c77f12b",
   "metadata": {
    "execution": {
     "iopub.execute_input": "2025-01-11T23:09:54.906303Z",
     "iopub.status.busy": "2025-01-11T23:09:54.905980Z",
     "iopub.status.idle": "2025-01-11T23:09:54.914164Z",
     "shell.execute_reply": "2025-01-11T23:09:54.913600Z",
     "shell.execute_reply.started": "2025-01-11T23:09:54.906283Z"
    }
   },
   "outputs": [
    {
     "data": {
      "text/html": [
       "<div>\n",
       "<style scoped>\n",
       "    .dataframe tbody tr th:only-of-type {\n",
       "        vertical-align: middle;\n",
       "    }\n",
       "\n",
       "    .dataframe tbody tr th {\n",
       "        vertical-align: top;\n",
       "    }\n",
       "\n",
       "    .dataframe thead th {\n",
       "        text-align: right;\n",
       "    }\n",
       "</style>\n",
       "<table border=\"1\" class=\"dataframe\">\n",
       "  <thead>\n",
       "    <tr style=\"text-align: right;\">\n",
       "      <th></th>\n",
       "      <th>product_id</th>\n",
       "      <th>product_name</th>\n",
       "      <th>aisle_id</th>\n",
       "      <th>department_id</th>\n",
       "      <th>prices</th>\n",
       "    </tr>\n",
       "  </thead>\n",
       "  <tbody>\n",
       "    <tr>\n",
       "      <th>0</th>\n",
       "      <td>1</td>\n",
       "      <td>Chocolate Sandwich Cookies</td>\n",
       "      <td>61</td>\n",
       "      <td>19</td>\n",
       "      <td>5.8</td>\n",
       "    </tr>\n",
       "    <tr>\n",
       "      <th>15</th>\n",
       "      <td>16</td>\n",
       "      <td>Mint Chocolate Flavored Syrup</td>\n",
       "      <td>103</td>\n",
       "      <td>19</td>\n",
       "      <td>5.2</td>\n",
       "    </tr>\n",
       "    <tr>\n",
       "      <th>24</th>\n",
       "      <td>25</td>\n",
       "      <td>Salted Caramel Lean Protein &amp; Fiber Bar</td>\n",
       "      <td>3</td>\n",
       "      <td>19</td>\n",
       "      <td>1.9</td>\n",
       "    </tr>\n",
       "    <tr>\n",
       "      <th>31</th>\n",
       "      <td>32</td>\n",
       "      <td>Nacho Cheese White Bean Chips</td>\n",
       "      <td>107</td>\n",
       "      <td>19</td>\n",
       "      <td>4.9</td>\n",
       "    </tr>\n",
       "    <tr>\n",
       "      <th>40</th>\n",
       "      <td>41</td>\n",
       "      <td>Organic Sourdough Einkorn Crackers Rosemary</td>\n",
       "      <td>78</td>\n",
       "      <td>19</td>\n",
       "      <td>6.5</td>\n",
       "    </tr>\n",
       "  </tbody>\n",
       "</table>\n",
       "</div>"
      ],
      "text/plain": [
       "    product_id                                 product_name  aisle_id  \\\n",
       "0            1                   Chocolate Sandwich Cookies        61   \n",
       "15          16                Mint Chocolate Flavored Syrup       103   \n",
       "24          25      Salted Caramel Lean Protein & Fiber Bar         3   \n",
       "31          32                Nacho Cheese White Bean Chips       107   \n",
       "40          41  Organic Sourdough Einkorn Crackers Rosemary        78   \n",
       "\n",
       "    department_id  prices  \n",
       "0              19     5.8  \n",
       "15             19     5.2  \n",
       "24             19     1.9  \n",
       "31             19     4.9  \n",
       "40             19     6.5  "
      ]
     },
     "execution_count": 87,
     "metadata": {},
     "output_type": "execute_result"
    }
   ],
   "source": [
    "# Prints first 5 rows of df_snacks\n",
    "\n",
    "df_snacks.head()"
   ]
  },
  {
   "cell_type": "markdown",
   "id": "0b3e0f8f-01eb-44f8-b149-76108fe3445a",
   "metadata": {
    "jp-MarkdownHeadingCollapsed": true
   },
   "source": [
    "# 06. Exercise 4.4"
   ]
  },
  {
   "cell_type": "markdown",
   "id": "fbb37d41-5c74-45d8-af80-b0f3bfaa4219",
   "metadata": {},
   "source": [
    "### Find another identifer (user_id) in df_ords & change format"
   ]
  },
  {
   "cell_type": "code",
   "execution_count": 89,
   "id": "fd1c0014-8a79-4921-982e-160976b88007",
   "metadata": {
    "execution": {
     "iopub.execute_input": "2025-01-11T23:09:55.022582Z",
     "iopub.status.busy": "2025-01-11T23:09:55.021998Z",
     "iopub.status.idle": "2025-01-11T23:09:56.862780Z",
     "shell.execute_reply": "2025-01-11T23:09:56.862061Z",
     "shell.execute_reply.started": "2025-01-11T23:09:55.022553Z"
    }
   },
   "outputs": [],
   "source": [
    "# Changes 'user_id' in df_ords to a string\n",
    "\n",
    "df_ords['user_id'] = df_ords['user_id'].astype('str')"
   ]
  },
  {
   "cell_type": "code",
   "execution_count": 91,
   "id": "725d8b86-4726-4381-afa8-51a21fa8af23",
   "metadata": {
    "execution": {
     "iopub.execute_input": "2025-01-11T23:09:56.941323Z",
     "iopub.status.busy": "2025-01-11T23:09:56.940734Z",
     "iopub.status.idle": "2025-01-11T23:09:56.945980Z",
     "shell.execute_reply": "2025-01-11T23:09:56.945376Z",
     "shell.execute_reply.started": "2025-01-11T23:09:56.941298Z"
    }
   },
   "outputs": [
    {
     "data": {
      "text/plain": [
       "dtype('O')"
      ]
     },
     "execution_count": 91,
     "metadata": {},
     "output_type": "execute_result"
    }
   ],
   "source": [
    "# prints only data type of the 'user_id' column\n",
    "\n",
    "df_ords['user_id'].dtype"
   ]
  },
  {
   "cell_type": "markdown",
   "id": "6c6bd919-fce2-4d5f-ad69-1e5d9380f924",
   "metadata": {},
   "source": [
    "### Change column name in df_ords"
   ]
  },
  {
   "cell_type": "code",
   "execution_count": 93,
   "id": "b0f10cc3-9144-4b30-b305-7232e6a571d4",
   "metadata": {
    "execution": {
     "iopub.execute_input": "2025-01-11T23:09:57.027751Z",
     "iopub.status.busy": "2025-01-11T23:09:57.027329Z",
     "iopub.status.idle": "2025-01-11T23:09:57.032403Z",
     "shell.execute_reply": "2025-01-11T23:09:57.031670Z",
     "shell.execute_reply.started": "2025-01-11T23:09:57.027712Z"
    }
   },
   "outputs": [],
   "source": [
    "# renames the orders 'eval_set' column to 'evaluation_set'\n",
    "\n",
    "df_ords.rename(columns = {'eval_set' : 'evaluation_set'}, inplace = True)"
   ]
  },
  {
   "cell_type": "code",
   "execution_count": 95,
   "id": "ac22b795-5577-4551-83ef-b032424e0b47",
   "metadata": {
    "execution": {
     "iopub.execute_input": "2025-01-11T23:09:57.123258Z",
     "iopub.status.busy": "2025-01-11T23:09:57.122279Z",
     "iopub.status.idle": "2025-01-11T23:09:57.127638Z",
     "shell.execute_reply": "2025-01-11T23:09:57.127070Z",
     "shell.execute_reply.started": "2025-01-11T23:09:57.123224Z"
    }
   },
   "outputs": [
    {
     "data": {
      "text/plain": [
       "Index(['order_id', 'user_id', 'evaluation_set', 'order_number',\n",
       "       'orders_day_of_week', 'order_hour_of_day', 'days_since_prior_order'],\n",
       "      dtype='object')"
      ]
     },
     "execution_count": 95,
     "metadata": {},
     "output_type": "execute_result"
    }
   ],
   "source": [
    "# Prints df_ords column names\n",
    "\n",
    "df_ords.columns"
   ]
  },
  {
   "cell_type": "markdown",
   "id": "bb802dc0-bc46-4280-97ab-3b0621e0ec64",
   "metadata": {},
   "source": [
    "### Busiest period for placing orders is 10am"
   ]
  },
  {
   "cell_type": "code",
   "execution_count": 97,
   "id": "23c043f6-adbf-4182-8b46-a15ad1f22356",
   "metadata": {
    "execution": {
     "iopub.execute_input": "2025-01-11T23:09:57.215255Z",
     "iopub.status.busy": "2025-01-11T23:09:57.214750Z",
     "iopub.status.idle": "2025-01-11T23:09:57.236749Z",
     "shell.execute_reply": "2025-01-11T23:09:57.236021Z",
     "shell.execute_reply.started": "2025-01-11T23:09:57.215234Z"
    }
   },
   "outputs": [
    {
     "data": {
      "text/plain": [
       "order_hour_of_day\n",
       "10    288418\n",
       "11    284728\n",
       "15    283639\n",
       "14    283042\n",
       "13    277999\n",
       "12    272841\n",
       "16    272553\n",
       "9     257812\n",
       "17    228795\n",
       "18    182912\n",
       "8     178201\n",
       "19    140569\n",
       "20    104292\n",
       "7      91868\n",
       "21     78109\n",
       "22     61468\n",
       "23     40043\n",
       "6      30529\n",
       "0      22758\n",
       "1      12398\n",
       "5       9569\n",
       "2       7539\n",
       "4       5527\n",
       "3       5474\n",
       "Name: count, dtype: int64"
      ]
     },
     "execution_count": 97,
     "metadata": {},
     "output_type": "execute_result"
    }
   ],
   "source": [
    "# Use value_counts function to look for frequency of values in order_hour_of_day\n",
    "\n",
    "df_ords['order_hour_of_day'].value_counts(dropna = False)"
   ]
  },
  {
   "cell_type": "markdown",
   "id": "7f679714-e4b5-4ac9-b97f-87dd57fb6331",
   "metadata": {},
   "source": [
    "### The value of '4' in department_id is Produce"
   ]
  },
  {
   "cell_type": "code",
   "execution_count": 99,
   "id": "cee34f64-1d71-4454-8034-4db683bc488a",
   "metadata": {
    "execution": {
     "iopub.execute_input": "2025-01-11T23:09:57.318550Z",
     "iopub.status.busy": "2025-01-11T23:09:57.318213Z",
     "iopub.status.idle": "2025-01-11T23:09:57.323164Z",
     "shell.execute_reply": "2025-01-11T23:09:57.322430Z",
     "shell.execute_reply.started": "2025-01-11T23:09:57.318528Z"
    }
   },
   "outputs": [
    {
     "name": "stdout",
     "output_type": "stream",
     "text": [
      "{'department': 'produce'}\n"
     ]
    }
   ],
   "source": [
    "# Prints department type from data dictionary by referencing department_id '4'\n",
    "\n",
    "print(data_dict.get('4'))"
   ]
  },
  {
   "cell_type": "markdown",
   "id": "5963dd0d-daae-4ffd-9595-0368f45cf03b",
   "metadata": {},
   "source": [
    "### Subset of Breakfast Items Sales"
   ]
  },
  {
   "cell_type": "code",
   "execution_count": 101,
   "id": "395b8bd1-1ae6-4fcf-8f13-919b39b66960",
   "metadata": {
    "execution": {
     "iopub.execute_input": "2025-01-11T23:09:57.448236Z",
     "iopub.status.busy": "2025-01-11T23:09:57.447632Z",
     "iopub.status.idle": "2025-01-11T23:09:57.454783Z",
     "shell.execute_reply": "2025-01-11T23:09:57.453851Z",
     "shell.execute_reply.started": "2025-01-11T23:09:57.448203Z"
    }
   },
   "outputs": [],
   "source": [
    "# Creates a subset of df_prods 'department_id' as 'df_snacks'\n",
    "\n",
    "df_breakfast =  df_prods[df_prods['department_id']==14]"
   ]
  },
  {
   "cell_type": "code",
   "execution_count": 103,
   "id": "feda7929-4c9e-42d9-ba77-e072a02ff93d",
   "metadata": {
    "execution": {
     "iopub.execute_input": "2025-01-11T23:09:57.580400Z",
     "iopub.status.busy": "2025-01-11T23:09:57.579974Z",
     "iopub.status.idle": "2025-01-11T23:09:57.594667Z",
     "shell.execute_reply": "2025-01-11T23:09:57.594027Z",
     "shell.execute_reply.started": "2025-01-11T23:09:57.580370Z"
    }
   },
   "outputs": [
    {
     "data": {
      "text/html": [
       "<div>\n",
       "<style scoped>\n",
       "    .dataframe tbody tr th:only-of-type {\n",
       "        vertical-align: middle;\n",
       "    }\n",
       "\n",
       "    .dataframe tbody tr th {\n",
       "        vertical-align: top;\n",
       "    }\n",
       "\n",
       "    .dataframe thead th {\n",
       "        text-align: right;\n",
       "    }\n",
       "</style>\n",
       "<table border=\"1\" class=\"dataframe\">\n",
       "  <thead>\n",
       "    <tr style=\"text-align: right;\">\n",
       "      <th></th>\n",
       "      <th>product_id</th>\n",
       "      <th>product_name</th>\n",
       "      <th>aisle_id</th>\n",
       "      <th>department_id</th>\n",
       "      <th>prices</th>\n",
       "    </tr>\n",
       "  </thead>\n",
       "  <tbody>\n",
       "    <tr>\n",
       "      <th>27</th>\n",
       "      <td>28</td>\n",
       "      <td>Wheat Chex Cereal</td>\n",
       "      <td>121</td>\n",
       "      <td>14</td>\n",
       "      <td>10.1</td>\n",
       "    </tr>\n",
       "    <tr>\n",
       "      <th>33</th>\n",
       "      <td>34</td>\n",
       "      <td>NaN</td>\n",
       "      <td>121</td>\n",
       "      <td>14</td>\n",
       "      <td>12.2</td>\n",
       "    </tr>\n",
       "    <tr>\n",
       "      <th>67</th>\n",
       "      <td>68</td>\n",
       "      <td>Pancake Mix, Buttermilk</td>\n",
       "      <td>130</td>\n",
       "      <td>14</td>\n",
       "      <td>13.7</td>\n",
       "    </tr>\n",
       "    <tr>\n",
       "      <th>89</th>\n",
       "      <td>90</td>\n",
       "      <td>Smorz Cereal</td>\n",
       "      <td>121</td>\n",
       "      <td>14</td>\n",
       "      <td>3.9</td>\n",
       "    </tr>\n",
       "    <tr>\n",
       "      <th>210</th>\n",
       "      <td>211</td>\n",
       "      <td>Gluten Free Organic Cereal Coconut Maple Vanilla</td>\n",
       "      <td>130</td>\n",
       "      <td>14</td>\n",
       "      <td>3.6</td>\n",
       "    </tr>\n",
       "    <tr>\n",
       "      <th>...</th>\n",
       "      <td>...</td>\n",
       "      <td>...</td>\n",
       "      <td>...</td>\n",
       "      <td>...</td>\n",
       "      <td>...</td>\n",
       "    </tr>\n",
       "    <tr>\n",
       "      <th>49330</th>\n",
       "      <td>49326</td>\n",
       "      <td>Cereal Variety Fun Pack</td>\n",
       "      <td>121</td>\n",
       "      <td>14</td>\n",
       "      <td>9.1</td>\n",
       "    </tr>\n",
       "    <tr>\n",
       "      <th>49395</th>\n",
       "      <td>49391</td>\n",
       "      <td>Light and Fluffy Buttermilk Pancake Mix</td>\n",
       "      <td>130</td>\n",
       "      <td>14</td>\n",
       "      <td>2.0</td>\n",
       "    </tr>\n",
       "    <tr>\n",
       "      <th>49547</th>\n",
       "      <td>49543</td>\n",
       "      <td>Chocolate Cheerios Cereal</td>\n",
       "      <td>121</td>\n",
       "      <td>14</td>\n",
       "      <td>10.8</td>\n",
       "    </tr>\n",
       "    <tr>\n",
       "      <th>49637</th>\n",
       "      <td>49633</td>\n",
       "      <td>Shake 'N Pour Buttermilk Pancake Mix</td>\n",
       "      <td>130</td>\n",
       "      <td>14</td>\n",
       "      <td>14.2</td>\n",
       "    </tr>\n",
       "    <tr>\n",
       "      <th>49667</th>\n",
       "      <td>49663</td>\n",
       "      <td>Ultra Protein Power Crunch Peanut Butter N' Ho...</td>\n",
       "      <td>57</td>\n",
       "      <td>14</td>\n",
       "      <td>10.2</td>\n",
       "    </tr>\n",
       "  </tbody>\n",
       "</table>\n",
       "<p>1116 rows × 5 columns</p>\n",
       "</div>"
      ],
      "text/plain": [
       "       product_id                                       product_name  \\\n",
       "27             28                                  Wheat Chex Cereal   \n",
       "33             34                                                NaN   \n",
       "67             68                            Pancake Mix, Buttermilk   \n",
       "89             90                                       Smorz Cereal   \n",
       "210           211   Gluten Free Organic Cereal Coconut Maple Vanilla   \n",
       "...           ...                                                ...   \n",
       "49330       49326                            Cereal Variety Fun Pack   \n",
       "49395       49391            Light and Fluffy Buttermilk Pancake Mix   \n",
       "49547       49543                          Chocolate Cheerios Cereal   \n",
       "49637       49633               Shake 'N Pour Buttermilk Pancake Mix   \n",
       "49667       49663  Ultra Protein Power Crunch Peanut Butter N' Ho...   \n",
       "\n",
       "       aisle_id  department_id  prices  \n",
       "27          121             14    10.1  \n",
       "33          121             14    12.2  \n",
       "67          130             14    13.7  \n",
       "89          121             14     3.9  \n",
       "210         130             14     3.6  \n",
       "...         ...            ...     ...  \n",
       "49330       121             14     9.1  \n",
       "49395       130             14     2.0  \n",
       "49547       121             14    10.8  \n",
       "49637       130             14    14.2  \n",
       "49667        57             14    10.2  \n",
       "\n",
       "[1116 rows x 5 columns]"
      ]
     },
     "execution_count": 103,
     "metadata": {},
     "output_type": "execute_result"
    }
   ],
   "source": [
    "# Prints first and last 5 rows of the df_breakfast subset\n",
    "\n",
    "df_breakfast"
   ]
  },
  {
   "cell_type": "code",
   "execution_count": 105,
   "id": "e95460ae-d77b-4d97-9c78-655f7d97ef77",
   "metadata": {
    "execution": {
     "iopub.execute_input": "2025-01-11T23:09:57.679620Z",
     "iopub.status.busy": "2025-01-11T23:09:57.679412Z",
     "iopub.status.idle": "2025-01-11T23:09:57.695676Z",
     "shell.execute_reply": "2025-01-11T23:09:57.694869Z",
     "shell.execute_reply.started": "2025-01-11T23:09:57.679603Z"
    }
   },
   "outputs": [
    {
     "data": {
      "text/html": [
       "<div>\n",
       "<style scoped>\n",
       "    .dataframe tbody tr th:only-of-type {\n",
       "        vertical-align: middle;\n",
       "    }\n",
       "\n",
       "    .dataframe tbody tr th {\n",
       "        vertical-align: top;\n",
       "    }\n",
       "\n",
       "    .dataframe thead th {\n",
       "        text-align: right;\n",
       "    }\n",
       "</style>\n",
       "<table border=\"1\" class=\"dataframe\">\n",
       "  <thead>\n",
       "    <tr style=\"text-align: right;\">\n",
       "      <th></th>\n",
       "      <th>product_id</th>\n",
       "      <th>aisle_id</th>\n",
       "      <th>department_id</th>\n",
       "      <th>prices</th>\n",
       "    </tr>\n",
       "  </thead>\n",
       "  <tbody>\n",
       "    <tr>\n",
       "      <th>count</th>\n",
       "      <td>1116.000000</td>\n",
       "      <td>1116.000000</td>\n",
       "      <td>1116.0</td>\n",
       "      <td>1116.000000</td>\n",
       "    </tr>\n",
       "    <tr>\n",
       "      <th>mean</th>\n",
       "      <td>25464.490143</td>\n",
       "      <td>101.517921</td>\n",
       "      <td>14.0</td>\n",
       "      <td>7.848208</td>\n",
       "    </tr>\n",
       "    <tr>\n",
       "      <th>std</th>\n",
       "      <td>14271.353221</td>\n",
       "      <td>33.890362</td>\n",
       "      <td>0.0</td>\n",
       "      <td>3.971678</td>\n",
       "    </tr>\n",
       "    <tr>\n",
       "      <th>min</th>\n",
       "      <td>28.000000</td>\n",
       "      <td>48.000000</td>\n",
       "      <td>14.0</td>\n",
       "      <td>1.000000</td>\n",
       "    </tr>\n",
       "    <tr>\n",
       "      <th>25%</th>\n",
       "      <td>12754.250000</td>\n",
       "      <td>57.000000</td>\n",
       "      <td>14.0</td>\n",
       "      <td>4.400000</td>\n",
       "    </tr>\n",
       "    <tr>\n",
       "      <th>50%</th>\n",
       "      <td>26268.000000</td>\n",
       "      <td>121.000000</td>\n",
       "      <td>14.0</td>\n",
       "      <td>7.700000</td>\n",
       "    </tr>\n",
       "    <tr>\n",
       "      <th>75%</th>\n",
       "      <td>38035.250000</td>\n",
       "      <td>130.000000</td>\n",
       "      <td>14.0</td>\n",
       "      <td>11.300000</td>\n",
       "    </tr>\n",
       "    <tr>\n",
       "      <th>max</th>\n",
       "      <td>49663.000000</td>\n",
       "      <td>130.000000</td>\n",
       "      <td>14.0</td>\n",
       "      <td>14.900000</td>\n",
       "    </tr>\n",
       "  </tbody>\n",
       "</table>\n",
       "</div>"
      ],
      "text/plain": [
       "         product_id     aisle_id  department_id       prices\n",
       "count   1116.000000  1116.000000         1116.0  1116.000000\n",
       "mean   25464.490143   101.517921           14.0     7.848208\n",
       "std    14271.353221    33.890362            0.0     3.971678\n",
       "min       28.000000    48.000000           14.0     1.000000\n",
       "25%    12754.250000    57.000000           14.0     4.400000\n",
       "50%    26268.000000   121.000000           14.0     7.700000\n",
       "75%    38035.250000   130.000000           14.0    11.300000\n",
       "max    49663.000000   130.000000           14.0    14.900000"
      ]
     },
     "execution_count": 105,
     "metadata": {},
     "output_type": "execute_result"
    }
   ],
   "source": [
    "# Provides Descriptive Statistics of the df_breakfast subset\n",
    "\n",
    "df_breakfast.describe()"
   ]
  },
  {
   "cell_type": "markdown",
   "id": "c261269b-3a3d-4ba7-bf45-946bda007744",
   "metadata": {},
   "source": [
    "### Dinner Party Data Subset"
   ]
  },
  {
   "cell_type": "code",
   "execution_count": 107,
   "id": "8b3041e5-e44a-4312-9774-78e97e53b6c7",
   "metadata": {
    "execution": {
     "iopub.execute_input": "2025-01-11T23:09:57.820244Z",
     "iopub.status.busy": "2025-01-11T23:09:57.819805Z",
     "iopub.status.idle": "2025-01-11T23:09:57.827442Z",
     "shell.execute_reply": "2025-01-11T23:09:57.826677Z",
     "shell.execute_reply.started": "2025-01-11T23:09:57.820209Z"
    }
   },
   "outputs": [
    {
     "data": {
      "text/plain": [
       "{'1': {'department': 'frozen'},\n",
       " '2': {'department': 'other'},\n",
       " '3': {'department': 'bakery'},\n",
       " '4': {'department': 'produce'},\n",
       " '5': {'department': 'alcohol'},\n",
       " '6': {'department': 'international'},\n",
       " '7': {'department': 'beverages'},\n",
       " '8': {'department': 'pets'},\n",
       " '9': {'department': 'dry goods pasta'},\n",
       " '10': {'department': 'bulk'},\n",
       " '11': {'department': 'personal care'},\n",
       " '12': {'department': 'meat seafood'},\n",
       " '13': {'department': 'pantry'},\n",
       " '14': {'department': 'breakfast'},\n",
       " '15': {'department': 'canned goods'},\n",
       " '16': {'department': 'dairy eggs'},\n",
       " '17': {'department': 'household'},\n",
       " '18': {'department': 'babies'},\n",
       " '19': {'department': 'snacks'},\n",
       " '20': {'department': 'deli'},\n",
       " '21': {'department': 'missing'}}"
      ]
     },
     "execution_count": 107,
     "metadata": {},
     "output_type": "execute_result"
    }
   ],
   "source": [
    "# Prints Data Dictionary for reference\n",
    "\n",
    "data_dict"
   ]
  },
  {
   "cell_type": "code",
   "execution_count": 109,
   "id": "531d6795-1061-4996-87de-1ace20a728b8",
   "metadata": {
    "execution": {
     "iopub.execute_input": "2025-01-11T23:09:58.042604Z",
     "iopub.status.busy": "2025-01-11T23:09:58.042299Z",
     "iopub.status.idle": "2025-01-11T23:09:58.049673Z",
     "shell.execute_reply": "2025-01-11T23:09:58.048821Z",
     "shell.execute_reply.started": "2025-01-11T23:09:58.042576Z"
    }
   },
   "outputs": [],
   "source": [
    "# Creates dataframe subset for dinner party items alcohol(5), deli(20), beverages (7), & meat/seafood(12)\n",
    "\n",
    "df_dinnerparty = df_prods[df_prods['department_id'].isin([5,20,7,12])]"
   ]
  },
  {
   "cell_type": "code",
   "execution_count": 111,
   "id": "8d9ea38d-0808-43fb-8a80-b41f5b433928",
   "metadata": {
    "execution": {
     "iopub.execute_input": "2025-01-11T23:09:58.145603Z",
     "iopub.status.busy": "2025-01-11T23:09:58.144699Z",
     "iopub.status.idle": "2025-01-11T23:09:58.158596Z",
     "shell.execute_reply": "2025-01-11T23:09:58.157889Z",
     "shell.execute_reply.started": "2025-01-11T23:09:58.145572Z"
    }
   },
   "outputs": [
    {
     "data": {
      "text/html": [
       "<div>\n",
       "<style scoped>\n",
       "    .dataframe tbody tr th:only-of-type {\n",
       "        vertical-align: middle;\n",
       "    }\n",
       "\n",
       "    .dataframe tbody tr th {\n",
       "        vertical-align: top;\n",
       "    }\n",
       "\n",
       "    .dataframe thead th {\n",
       "        text-align: right;\n",
       "    }\n",
       "</style>\n",
       "<table border=\"1\" class=\"dataframe\">\n",
       "  <thead>\n",
       "    <tr style=\"text-align: right;\">\n",
       "      <th></th>\n",
       "      <th>product_id</th>\n",
       "      <th>product_name</th>\n",
       "      <th>aisle_id</th>\n",
       "      <th>department_id</th>\n",
       "      <th>prices</th>\n",
       "    </tr>\n",
       "  </thead>\n",
       "  <tbody>\n",
       "    <tr>\n",
       "      <th>2</th>\n",
       "      <td>3</td>\n",
       "      <td>Robust Golden Unsweetened Oolong Tea</td>\n",
       "      <td>94</td>\n",
       "      <td>7</td>\n",
       "      <td>4.5</td>\n",
       "    </tr>\n",
       "    <tr>\n",
       "      <th>6</th>\n",
       "      <td>7</td>\n",
       "      <td>Pure Coconut Water With Orange</td>\n",
       "      <td>98</td>\n",
       "      <td>7</td>\n",
       "      <td>4.4</td>\n",
       "    </tr>\n",
       "    <tr>\n",
       "      <th>9</th>\n",
       "      <td>10</td>\n",
       "      <td>Sparkling Orange Juice &amp; Prickly Pear Beverage</td>\n",
       "      <td>115</td>\n",
       "      <td>7</td>\n",
       "      <td>8.4</td>\n",
       "    </tr>\n",
       "    <tr>\n",
       "      <th>10</th>\n",
       "      <td>11</td>\n",
       "      <td>Peach Mango Juice</td>\n",
       "      <td>31</td>\n",
       "      <td>7</td>\n",
       "      <td>2.8</td>\n",
       "    </tr>\n",
       "    <tr>\n",
       "      <th>16</th>\n",
       "      <td>17</td>\n",
       "      <td>Rendered Duck Fat</td>\n",
       "      <td>35</td>\n",
       "      <td>12</td>\n",
       "      <td>17.1</td>\n",
       "    </tr>\n",
       "    <tr>\n",
       "      <th>...</th>\n",
       "      <td>...</td>\n",
       "      <td>...</td>\n",
       "      <td>...</td>\n",
       "      <td>...</td>\n",
       "      <td>...</td>\n",
       "    </tr>\n",
       "    <tr>\n",
       "      <th>49676</th>\n",
       "      <td>49672</td>\n",
       "      <td>Cafe Mocha K-Cup Packs</td>\n",
       "      <td>26</td>\n",
       "      <td>7</td>\n",
       "      <td>6.5</td>\n",
       "    </tr>\n",
       "    <tr>\n",
       "      <th>49679</th>\n",
       "      <td>49675</td>\n",
       "      <td>Cinnamon Dolce Keurig Brewed K Cups</td>\n",
       "      <td>26</td>\n",
       "      <td>7</td>\n",
       "      <td>14.0</td>\n",
       "    </tr>\n",
       "    <tr>\n",
       "      <th>49680</th>\n",
       "      <td>49676</td>\n",
       "      <td>Ultra Red Energy Drink</td>\n",
       "      <td>64</td>\n",
       "      <td>7</td>\n",
       "      <td>14.5</td>\n",
       "    </tr>\n",
       "    <tr>\n",
       "      <th>49686</th>\n",
       "      <td>49682</td>\n",
       "      <td>California Limeade</td>\n",
       "      <td>98</td>\n",
       "      <td>7</td>\n",
       "      <td>4.3</td>\n",
       "    </tr>\n",
       "    <tr>\n",
       "      <th>49688</th>\n",
       "      <td>49684</td>\n",
       "      <td>Vodka, Triple Distilled, Twist of Vanilla</td>\n",
       "      <td>124</td>\n",
       "      <td>5</td>\n",
       "      <td>5.3</td>\n",
       "    </tr>\n",
       "  </tbody>\n",
       "</table>\n",
       "<p>7650 rows × 5 columns</p>\n",
       "</div>"
      ],
      "text/plain": [
       "       product_id                                    product_name  aisle_id  \\\n",
       "2               3            Robust Golden Unsweetened Oolong Tea        94   \n",
       "6               7                  Pure Coconut Water With Orange        98   \n",
       "9              10  Sparkling Orange Juice & Prickly Pear Beverage       115   \n",
       "10             11                               Peach Mango Juice        31   \n",
       "16             17                               Rendered Duck Fat        35   \n",
       "...           ...                                             ...       ...   \n",
       "49676       49672                          Cafe Mocha K-Cup Packs        26   \n",
       "49679       49675             Cinnamon Dolce Keurig Brewed K Cups        26   \n",
       "49680       49676                          Ultra Red Energy Drink        64   \n",
       "49686       49682                              California Limeade        98   \n",
       "49688       49684       Vodka, Triple Distilled, Twist of Vanilla       124   \n",
       "\n",
       "       department_id  prices  \n",
       "2                  7     4.5  \n",
       "6                  7     4.4  \n",
       "9                  7     8.4  \n",
       "10                 7     2.8  \n",
       "16                12    17.1  \n",
       "...              ...     ...  \n",
       "49676              7     6.5  \n",
       "49679              7    14.0  \n",
       "49680              7    14.5  \n",
       "49686              7     4.3  \n",
       "49688              5     5.3  \n",
       "\n",
       "[7650 rows x 5 columns]"
      ]
     },
     "execution_count": 111,
     "metadata": {},
     "output_type": "execute_result"
    }
   ],
   "source": [
    "# Prints first and last 5 rows of df_dinnerparty\n",
    "\n",
    "df_dinnerparty"
   ]
  },
  {
   "cell_type": "markdown",
   "id": "c40bae30-f009-4cbb-8311-8672d6f0f653",
   "metadata": {},
   "source": [
    "### The df_dinnerparty subset dataframe has 7650 rows"
   ]
  },
  {
   "cell_type": "code",
   "execution_count": 113,
   "id": "cb7352f0-0995-435a-8b4d-31c604000231",
   "metadata": {
    "execution": {
     "iopub.execute_input": "2025-01-11T23:09:58.271532Z",
     "iopub.status.busy": "2025-01-11T23:09:58.271200Z",
     "iopub.status.idle": "2025-01-11T23:09:58.275918Z",
     "shell.execute_reply": "2025-01-11T23:09:58.275337Z",
     "shell.execute_reply.started": "2025-01-11T23:09:58.271510Z"
    }
   },
   "outputs": [
    {
     "data": {
      "text/plain": [
       "(7650, 5)"
      ]
     },
     "execution_count": 113,
     "metadata": {},
     "output_type": "execute_result"
    }
   ],
   "source": [
    "# Prints # of rows and columns of df_dinnerparty\n",
    "\n",
    "df_dinnerparty.shape"
   ]
  },
  {
   "cell_type": "markdown",
   "id": "529fa268-be61-4740-ba28-849533a4a4e6",
   "metadata": {},
   "source": [
    "### Extracted information on customer 1"
   ]
  },
  {
   "cell_type": "code",
   "execution_count": 115,
   "id": "7df3119a-bef5-4e83-b484-ed13d4f02c61",
   "metadata": {
    "execution": {
     "iopub.execute_input": "2025-01-11T23:09:58.404751Z",
     "iopub.status.busy": "2025-01-11T23:09:58.404420Z",
     "iopub.status.idle": "2025-01-11T23:09:58.605855Z",
     "shell.execute_reply": "2025-01-11T23:09:58.605093Z",
     "shell.execute_reply.started": "2025-01-11T23:09:58.404729Z"
    }
   },
   "outputs": [],
   "source": [
    "# Creates subset of customer 1 data (using '' because user_id was converted to string)\n",
    "\n",
    "df_customer1 = df_ords.loc[df_ords['user_id'] == '1']"
   ]
  },
  {
   "cell_type": "code",
   "execution_count": 117,
   "id": "6d4fba29-4631-4da7-81c9-b89814e94f9e",
   "metadata": {
    "execution": {
     "iopub.execute_input": "2025-01-11T23:09:58.729392Z",
     "iopub.status.busy": "2025-01-11T23:09:58.728992Z",
     "iopub.status.idle": "2025-01-11T23:09:58.735090Z",
     "shell.execute_reply": "2025-01-11T23:09:58.734316Z",
     "shell.execute_reply.started": "2025-01-11T23:09:58.729358Z"
    }
   },
   "outputs": [
    {
     "data": {
      "text/plain": [
       "(11, 7)"
      ]
     },
     "execution_count": 117,
     "metadata": {},
     "output_type": "execute_result"
    }
   ],
   "source": [
    "# prints # of rows, columns in df_customer1\n",
    "\n",
    "df_customer1.shape"
   ]
  },
  {
   "cell_type": "code",
   "execution_count": 119,
   "id": "83465119-ba80-4bf0-be1c-0cb10d89532f",
   "metadata": {
    "execution": {
     "iopub.execute_input": "2025-01-11T23:09:58.849202Z",
     "iopub.status.busy": "2025-01-11T23:09:58.848795Z",
     "iopub.status.idle": "2025-01-11T23:09:58.860503Z",
     "shell.execute_reply": "2025-01-11T23:09:58.859710Z",
     "shell.execute_reply.started": "2025-01-11T23:09:58.849171Z"
    }
   },
   "outputs": [
    {
     "data": {
      "text/html": [
       "<div>\n",
       "<style scoped>\n",
       "    .dataframe tbody tr th:only-of-type {\n",
       "        vertical-align: middle;\n",
       "    }\n",
       "\n",
       "    .dataframe tbody tr th {\n",
       "        vertical-align: top;\n",
       "    }\n",
       "\n",
       "    .dataframe thead th {\n",
       "        text-align: right;\n",
       "    }\n",
       "</style>\n",
       "<table border=\"1\" class=\"dataframe\">\n",
       "  <thead>\n",
       "    <tr style=\"text-align: right;\">\n",
       "      <th></th>\n",
       "      <th>order_id</th>\n",
       "      <th>user_id</th>\n",
       "      <th>evaluation_set</th>\n",
       "      <th>order_number</th>\n",
       "      <th>orders_day_of_week</th>\n",
       "      <th>order_hour_of_day</th>\n",
       "      <th>days_since_prior_order</th>\n",
       "    </tr>\n",
       "  </thead>\n",
       "  <tbody>\n",
       "    <tr>\n",
       "      <th>0</th>\n",
       "      <td>2539329</td>\n",
       "      <td>1</td>\n",
       "      <td>prior</td>\n",
       "      <td>1</td>\n",
       "      <td>2</td>\n",
       "      <td>8</td>\n",
       "      <td>NaN</td>\n",
       "    </tr>\n",
       "    <tr>\n",
       "      <th>1</th>\n",
       "      <td>2398795</td>\n",
       "      <td>1</td>\n",
       "      <td>prior</td>\n",
       "      <td>2</td>\n",
       "      <td>3</td>\n",
       "      <td>7</td>\n",
       "      <td>15.0</td>\n",
       "    </tr>\n",
       "    <tr>\n",
       "      <th>2</th>\n",
       "      <td>473747</td>\n",
       "      <td>1</td>\n",
       "      <td>prior</td>\n",
       "      <td>3</td>\n",
       "      <td>3</td>\n",
       "      <td>12</td>\n",
       "      <td>21.0</td>\n",
       "    </tr>\n",
       "    <tr>\n",
       "      <th>3</th>\n",
       "      <td>2254736</td>\n",
       "      <td>1</td>\n",
       "      <td>prior</td>\n",
       "      <td>4</td>\n",
       "      <td>4</td>\n",
       "      <td>7</td>\n",
       "      <td>29.0</td>\n",
       "    </tr>\n",
       "    <tr>\n",
       "      <th>4</th>\n",
       "      <td>431534</td>\n",
       "      <td>1</td>\n",
       "      <td>prior</td>\n",
       "      <td>5</td>\n",
       "      <td>4</td>\n",
       "      <td>15</td>\n",
       "      <td>28.0</td>\n",
       "    </tr>\n",
       "    <tr>\n",
       "      <th>5</th>\n",
       "      <td>3367565</td>\n",
       "      <td>1</td>\n",
       "      <td>prior</td>\n",
       "      <td>6</td>\n",
       "      <td>2</td>\n",
       "      <td>7</td>\n",
       "      <td>19.0</td>\n",
       "    </tr>\n",
       "    <tr>\n",
       "      <th>6</th>\n",
       "      <td>550135</td>\n",
       "      <td>1</td>\n",
       "      <td>prior</td>\n",
       "      <td>7</td>\n",
       "      <td>1</td>\n",
       "      <td>9</td>\n",
       "      <td>20.0</td>\n",
       "    </tr>\n",
       "    <tr>\n",
       "      <th>7</th>\n",
       "      <td>3108588</td>\n",
       "      <td>1</td>\n",
       "      <td>prior</td>\n",
       "      <td>8</td>\n",
       "      <td>1</td>\n",
       "      <td>14</td>\n",
       "      <td>14.0</td>\n",
       "    </tr>\n",
       "    <tr>\n",
       "      <th>8</th>\n",
       "      <td>2295261</td>\n",
       "      <td>1</td>\n",
       "      <td>prior</td>\n",
       "      <td>9</td>\n",
       "      <td>1</td>\n",
       "      <td>16</td>\n",
       "      <td>0.0</td>\n",
       "    </tr>\n",
       "    <tr>\n",
       "      <th>9</th>\n",
       "      <td>2550362</td>\n",
       "      <td>1</td>\n",
       "      <td>prior</td>\n",
       "      <td>10</td>\n",
       "      <td>4</td>\n",
       "      <td>8</td>\n",
       "      <td>30.0</td>\n",
       "    </tr>\n",
       "    <tr>\n",
       "      <th>10</th>\n",
       "      <td>1187899</td>\n",
       "      <td>1</td>\n",
       "      <td>train</td>\n",
       "      <td>11</td>\n",
       "      <td>4</td>\n",
       "      <td>8</td>\n",
       "      <td>14.0</td>\n",
       "    </tr>\n",
       "  </tbody>\n",
       "</table>\n",
       "</div>"
      ],
      "text/plain": [
       "   order_id user_id evaluation_set  order_number  orders_day_of_week  \\\n",
       "0   2539329       1          prior             1                   2   \n",
       "1   2398795       1          prior             2                   3   \n",
       "2    473747       1          prior             3                   3   \n",
       "3   2254736       1          prior             4                   4   \n",
       "4    431534       1          prior             5                   4   \n",
       "5   3367565       1          prior             6                   2   \n",
       "6    550135       1          prior             7                   1   \n",
       "7   3108588       1          prior             8                   1   \n",
       "8   2295261       1          prior             9                   1   \n",
       "9   2550362       1          prior            10                   4   \n",
       "10  1187899       1          train            11                   4   \n",
       "\n",
       "    order_hour_of_day  days_since_prior_order  \n",
       "0                   8                     NaN  \n",
       "1                   7                    15.0  \n",
       "2                  12                    21.0  \n",
       "3                   7                    29.0  \n",
       "4                  15                    28.0  \n",
       "5                   7                    19.0  \n",
       "6                   9                    20.0  \n",
       "7                  14                    14.0  \n",
       "8                  16                     0.0  \n",
       "9                   8                    30.0  \n",
       "10                  8                    14.0  "
      ]
     },
     "execution_count": 119,
     "metadata": {},
     "output_type": "execute_result"
    }
   ],
   "source": [
    "# Prints data on customer 1\n",
    "\n",
    "df_customer1"
   ]
  },
  {
   "cell_type": "markdown",
   "id": "c33ae83d-33e0-45ec-a807-d1477f831dd5",
   "metadata": {},
   "source": [
    "### Descriptive Statistics on Customer 1"
   ]
  },
  {
   "cell_type": "code",
   "execution_count": 121,
   "id": "7cb2cc44-83f8-4bc3-a354-dd1302e938b8",
   "metadata": {
    "execution": {
     "iopub.execute_input": "2025-01-11T23:09:58.980956Z",
     "iopub.status.busy": "2025-01-11T23:09:58.980440Z",
     "iopub.status.idle": "2025-01-11T23:09:58.995222Z",
     "shell.execute_reply": "2025-01-11T23:09:58.994461Z",
     "shell.execute_reply.started": "2025-01-11T23:09:58.980926Z"
    }
   },
   "outputs": [
    {
     "data": {
      "text/html": [
       "<div>\n",
       "<style scoped>\n",
       "    .dataframe tbody tr th:only-of-type {\n",
       "        vertical-align: middle;\n",
       "    }\n",
       "\n",
       "    .dataframe tbody tr th {\n",
       "        vertical-align: top;\n",
       "    }\n",
       "\n",
       "    .dataframe thead th {\n",
       "        text-align: right;\n",
       "    }\n",
       "</style>\n",
       "<table border=\"1\" class=\"dataframe\">\n",
       "  <thead>\n",
       "    <tr style=\"text-align: right;\">\n",
       "      <th></th>\n",
       "      <th>order_number</th>\n",
       "      <th>orders_day_of_week</th>\n",
       "      <th>order_hour_of_day</th>\n",
       "      <th>days_since_prior_order</th>\n",
       "    </tr>\n",
       "  </thead>\n",
       "  <tbody>\n",
       "    <tr>\n",
       "      <th>count</th>\n",
       "      <td>11.000000</td>\n",
       "      <td>11.000000</td>\n",
       "      <td>11.000000</td>\n",
       "      <td>10.000000</td>\n",
       "    </tr>\n",
       "    <tr>\n",
       "      <th>mean</th>\n",
       "      <td>6.000000</td>\n",
       "      <td>2.636364</td>\n",
       "      <td>10.090909</td>\n",
       "      <td>19.000000</td>\n",
       "    </tr>\n",
       "    <tr>\n",
       "      <th>std</th>\n",
       "      <td>3.316625</td>\n",
       "      <td>1.286291</td>\n",
       "      <td>3.477198</td>\n",
       "      <td>9.030811</td>\n",
       "    </tr>\n",
       "    <tr>\n",
       "      <th>min</th>\n",
       "      <td>1.000000</td>\n",
       "      <td>1.000000</td>\n",
       "      <td>7.000000</td>\n",
       "      <td>0.000000</td>\n",
       "    </tr>\n",
       "    <tr>\n",
       "      <th>25%</th>\n",
       "      <td>3.500000</td>\n",
       "      <td>1.500000</td>\n",
       "      <td>7.500000</td>\n",
       "      <td>14.250000</td>\n",
       "    </tr>\n",
       "    <tr>\n",
       "      <th>50%</th>\n",
       "      <td>6.000000</td>\n",
       "      <td>3.000000</td>\n",
       "      <td>8.000000</td>\n",
       "      <td>19.500000</td>\n",
       "    </tr>\n",
       "    <tr>\n",
       "      <th>75%</th>\n",
       "      <td>8.500000</td>\n",
       "      <td>4.000000</td>\n",
       "      <td>13.000000</td>\n",
       "      <td>26.250000</td>\n",
       "    </tr>\n",
       "    <tr>\n",
       "      <th>max</th>\n",
       "      <td>11.000000</td>\n",
       "      <td>4.000000</td>\n",
       "      <td>16.000000</td>\n",
       "      <td>30.000000</td>\n",
       "    </tr>\n",
       "  </tbody>\n",
       "</table>\n",
       "</div>"
      ],
      "text/plain": [
       "       order_number  orders_day_of_week  order_hour_of_day  \\\n",
       "count     11.000000           11.000000          11.000000   \n",
       "mean       6.000000            2.636364          10.090909   \n",
       "std        3.316625            1.286291           3.477198   \n",
       "min        1.000000            1.000000           7.000000   \n",
       "25%        3.500000            1.500000           7.500000   \n",
       "50%        6.000000            3.000000           8.000000   \n",
       "75%        8.500000            4.000000          13.000000   \n",
       "max       11.000000            4.000000          16.000000   \n",
       "\n",
       "       days_since_prior_order  \n",
       "count               10.000000  \n",
       "mean                19.000000  \n",
       "std                  9.030811  \n",
       "min                  0.000000  \n",
       "25%                 14.250000  \n",
       "50%                 19.500000  \n",
       "75%                 26.250000  \n",
       "max                 30.000000  "
      ]
     },
     "execution_count": 121,
     "metadata": {},
     "output_type": "execute_result"
    }
   ],
   "source": [
    "# Printing df_customer1 descriptive statistics\n",
    "\n",
    "df_customer1.describe()"
   ]
  },
  {
   "cell_type": "markdown",
   "id": "e196e6ba-39d5-4605-adc2-a52a6b76a686",
   "metadata": {
    "jp-MarkdownHeadingCollapsed": true
   },
   "source": [
    "# 07. Exporting Dataframes"
   ]
  },
  {
   "cell_type": "code",
   "execution_count": 123,
   "id": "bfbac5ca-3a34-4bc6-8fec-183a30a1ce0d",
   "metadata": {
    "execution": {
     "iopub.execute_input": "2025-01-11T23:09:59.069581Z",
     "iopub.status.busy": "2025-01-11T23:09:59.069216Z",
     "iopub.status.idle": "2025-01-11T23:10:09.794801Z",
     "shell.execute_reply": "2025-01-11T23:10:09.793812Z",
     "shell.execute_reply.started": "2025-01-11T23:09:59.069552Z"
    }
   },
   "outputs": [],
   "source": [
    "# Export \"wrangled\" df_ords data into the Prepared Data folder\n",
    "\n",
    "df_ords.to_csv(os.path.join(path, '02 Data','Prepared Data', 'orders_wrangled.csv'))"
   ]
  },
  {
   "cell_type": "code",
   "execution_count": 125,
   "id": "90373e92-a1f2-42b4-8ec6-e76264282350",
   "metadata": {
    "execution": {
     "iopub.execute_input": "2025-01-11T23:10:09.887337Z",
     "iopub.status.busy": "2025-01-11T23:10:09.886811Z",
     "iopub.status.idle": "2025-01-11T23:10:09.904243Z",
     "shell.execute_reply": "2025-01-11T23:10:09.903488Z",
     "shell.execute_reply.started": "2025-01-11T23:10:09.887307Z"
    }
   },
   "outputs": [],
   "source": [
    "# Export \"wrangled\" df_dep_t_new data into the Prepared Data folder\n",
    "\n",
    "df_dep_t_new.to_csv(os.path.join(path, '02 Data','Prepared Data', 'departments_wrangled.csv'))"
   ]
  },
  {
   "cell_type": "code",
   "execution_count": 182,
   "id": "0cd31182-e531-466c-87b9-30fd78f892cc",
   "metadata": {
    "execution": {
     "iopub.execute_input": "2025-01-11T23:14:13.255495Z",
     "iopub.status.busy": "2025-01-11T23:14:13.253769Z",
     "iopub.status.idle": "2025-01-11T23:14:13.273771Z",
     "shell.execute_reply": "2025-01-11T23:14:13.273030Z",
     "shell.execute_reply.started": "2025-01-11T23:14:13.255464Z"
    }
   },
   "outputs": [],
   "source": [
    "df_dep_t_new.to_pickle(os.path.join(path, '02 Data', 'Prepared Data', 'departments_wrangled.pkl'))"
   ]
  }
 ],
 "metadata": {
  "kernelspec": {
   "display_name": "anaconda-2024.02-py310",
   "language": "python",
   "name": "conda-env-anaconda-2024.02-py310-py"
  },
  "language_info": {
   "codemirror_mode": {
    "name": "ipython",
    "version": 3
   },
   "file_extension": ".py",
   "mimetype": "text/x-python",
   "name": "python",
   "nbconvert_exporter": "python",
   "pygments_lexer": "ipython3",
   "version": "3.10.14"
  }
 },
 "nbformat": 4,
 "nbformat_minor": 5
}
