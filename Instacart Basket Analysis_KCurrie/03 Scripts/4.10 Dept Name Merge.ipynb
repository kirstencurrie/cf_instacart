{
 "cells": [
  {
   "cell_type": "markdown",
   "id": "116a7195-6c11-44f1-ab0d-f09d44d21c22",
   "metadata": {},
   "source": [
    "# 01. Import Libraries"
   ]
  },
  {
   "cell_type": "code",
   "execution_count": 3,
   "id": "b5ef2680-3d0f-4a69-8519-1b6b2e1dc7a1",
   "metadata": {
    "execution": {
     "iopub.execute_input": "2025-01-12T00:29:01.776162Z",
     "iopub.status.busy": "2025-01-12T00:29:01.775795Z",
     "iopub.status.idle": "2025-01-12T00:29:01.779955Z",
     "shell.execute_reply": "2025-01-12T00:29:01.778967Z",
     "shell.execute_reply.started": "2025-01-12T00:29:01.776138Z"
    }
   },
   "outputs": [],
   "source": [
    "import pandas as pd\n",
    "import numpy as np"
   ]
  },
  {
   "cell_type": "markdown",
   "id": "11a7c9fe-7edb-405c-8984-bd795b291481",
   "metadata": {},
   "source": [
    "# 02. Import Datasets"
   ]
  },
  {
   "cell_type": "code",
   "execution_count": 10,
   "id": "41773a00-f386-4cc2-9d8b-e1822fb09a48",
   "metadata": {
    "execution": {
     "iopub.execute_input": "2025-01-12T00:29:54.882486Z",
     "iopub.status.busy": "2025-01-12T00:29:54.881801Z",
     "iopub.status.idle": "2025-01-12T00:29:54.886408Z",
     "shell.execute_reply": "2025-01-12T00:29:54.885058Z",
     "shell.execute_reply.started": "2025-01-12T00:29:54.882463Z"
    }
   },
   "outputs": [],
   "source": [
    "# Defines path as intro file path for Instacart project\n",
    "\n",
    "path = r'/home/0668a905-109d-4403-be59-0a04abf51dd9/Instacart Basket Analysis'"
   ]
  },
  {
   "cell_type": "code",
   "execution_count": 14,
   "id": "6ef1270d-5b32-400d-ac63-16294c56e5bf",
   "metadata": {
    "execution": {
     "iopub.execute_input": "2025-01-12T00:30:05.422760Z",
     "iopub.status.busy": "2025-01-12T00:30:05.422326Z",
     "iopub.status.idle": "2025-01-12T00:30:09.867335Z",
     "shell.execute_reply": "2025-01-12T00:30:09.866347Z",
     "shell.execute_reply.started": "2025-01-12T00:30:05.422727Z"
    }
   },
   "outputs": [],
   "source": [
    "# Imports latest customer_orders_products dataframe\n",
    "\n",
    "ords_prods_merge = pd.read_pickle(os.path.join(path,'02 Data','Prepared Data','customers_orders_products.pkl'))"
   ]
  },
  {
   "cell_type": "code",
   "execution_count": 17,
   "id": "d6a8f8fc-6c30-420a-8cc6-f0cc63935694",
   "metadata": {
    "execution": {
     "iopub.execute_input": "2025-01-12T00:30:21.207991Z",
     "iopub.status.busy": "2025-01-12T00:30:21.206185Z",
     "iopub.status.idle": "2025-01-12T00:30:21.213570Z",
     "shell.execute_reply": "2025-01-12T00:30:21.212896Z",
     "shell.execute_reply.started": "2025-01-12T00:30:21.207270Z"
    }
   },
   "outputs": [],
   "source": [
    "# Imports latest departments dataframe\n",
    "\n",
    "dept_name = pd.read_pickle(os.path.join(path, '02 Data', 'Prepared Data', 'departments_wrangled.pkl'))"
   ]
  },
  {
   "cell_type": "code",
   "execution_count": 39,
   "id": "5ee1605c-ace3-41fa-a40b-bbbcea5df2ff",
   "metadata": {
    "execution": {
     "iopub.execute_input": "2025-01-12T00:33:36.970929Z",
     "iopub.status.busy": "2025-01-12T00:33:36.970520Z",
     "iopub.status.idle": "2025-01-12T00:33:36.992610Z",
     "shell.execute_reply": "2025-01-12T00:33:36.991331Z",
     "shell.execute_reply.started": "2025-01-12T00:33:36.970908Z"
    }
   },
   "outputs": [],
   "source": [
    "# Set the display option to show all columns\n",
    "\n",
    "pd.set_option('display.max_columns', None)"
   ]
  },
  {
   "cell_type": "markdown",
   "id": "da2e870c-afdf-46f4-a216-48add1faadf1",
   "metadata": {},
   "source": [
    "# 03. Merge Datasets"
   ]
  },
  {
   "cell_type": "code",
   "execution_count": 28,
   "id": "9ef6428d-f037-4793-b3e7-605c50d64ae7",
   "metadata": {
    "execution": {
     "iopub.execute_input": "2025-01-12T00:31:44.228123Z",
     "iopub.status.busy": "2025-01-12T00:31:44.227443Z",
     "iopub.status.idle": "2025-01-12T00:31:44.295630Z",
     "shell.execute_reply": "2025-01-12T00:31:44.294631Z",
     "shell.execute_reply.started": "2025-01-12T00:31:44.228094Z"
    }
   },
   "outputs": [],
   "source": [
    "# Convert 'department_id' to int64 in both DataFrames\n",
    "\n",
    "ords_prods_merge['department_id'] = ords_prods_merge['department_id'].astype(int)\n",
    "dept_name.index = dept_name.index.astype(int)"
   ]
  },
  {
   "cell_type": "code",
   "execution_count": 32,
   "id": "ed0fe5ef-31b2-472a-b51b-172ac137422f",
   "metadata": {
    "execution": {
     "iopub.execute_input": "2025-01-12T00:32:26.179224Z",
     "iopub.status.busy": "2025-01-12T00:32:26.178871Z",
     "iopub.status.idle": "2025-01-12T00:32:41.991781Z",
     "shell.execute_reply": "2025-01-12T00:32:41.990834Z",
     "shell.execute_reply.started": "2025-01-12T00:32:26.179203Z"
    }
   },
   "outputs": [],
   "source": [
    "# Merge ords_prods_merge_high & dept_names\n",
    "\n",
    "ords_prods_dept_merge = ords_prods_merge.merge(dept_name, left_on='department_id', right_index=True)"
   ]
  },
  {
   "cell_type": "code",
   "execution_count": 42,
   "id": "b22dc82b-ad90-41e5-907d-677aafbd97a8",
   "metadata": {
    "execution": {
     "iopub.execute_input": "2025-01-12T00:33:39.915870Z",
     "iopub.status.busy": "2025-01-12T00:33:39.915485Z",
     "iopub.status.idle": "2025-01-12T00:33:39.961807Z",
     "shell.execute_reply": "2025-01-12T00:33:39.961170Z",
     "shell.execute_reply.started": "2025-01-12T00:33:39.915843Z"
    }
   },
   "outputs": [
    {
     "data": {
      "text/html": [
       "<div>\n",
       "<style scoped>\n",
       "    .dataframe tbody tr th:only-of-type {\n",
       "        vertical-align: middle;\n",
       "    }\n",
       "\n",
       "    .dataframe tbody tr th {\n",
       "        vertical-align: top;\n",
       "    }\n",
       "\n",
       "    .dataframe thead th {\n",
       "        text-align: right;\n",
       "    }\n",
       "</style>\n",
       "<table border=\"1\" class=\"dataframe\">\n",
       "  <thead>\n",
       "    <tr style=\"text-align: right;\">\n",
       "      <th></th>\n",
       "      <th>order_id</th>\n",
       "      <th>user_id</th>\n",
       "      <th>order_number</th>\n",
       "      <th>orders_day_of_week</th>\n",
       "      <th>order_hour_of_day</th>\n",
       "      <th>days_since_prior_order</th>\n",
       "      <th>product_id</th>\n",
       "      <th>add_to_cart_order</th>\n",
       "      <th>reordered</th>\n",
       "      <th>product_name</th>\n",
       "      <th>aisle_id</th>\n",
       "      <th>department_id</th>\n",
       "      <th>prices</th>\n",
       "      <th>price_range_loc</th>\n",
       "      <th>busiest_day</th>\n",
       "      <th>busiest_days</th>\n",
       "      <th>busiest_period_of_day</th>\n",
       "      <th>max_order</th>\n",
       "      <th>loyalty_flag</th>\n",
       "      <th>mean_price</th>\n",
       "      <th>spender_flag</th>\n",
       "      <th>median_order</th>\n",
       "      <th>order_frequency_flag</th>\n",
       "      <th>gender</th>\n",
       "      <th>state_name</th>\n",
       "      <th>age_customer</th>\n",
       "      <th>date_joined</th>\n",
       "      <th>number_dependants</th>\n",
       "      <th>marital_status</th>\n",
       "      <th>income</th>\n",
       "      <th>department</th>\n",
       "    </tr>\n",
       "  </thead>\n",
       "  <tbody>\n",
       "    <tr>\n",
       "      <th>0</th>\n",
       "      <td>2617132</td>\n",
       "      <td>55630</td>\n",
       "      <td>6</td>\n",
       "      <td>2</td>\n",
       "      <td>15</td>\n",
       "      <td>5.0</td>\n",
       "      <td>31766</td>\n",
       "      <td>13</td>\n",
       "      <td>0</td>\n",
       "      <td>Cheese Pizza Snacks</td>\n",
       "      <td>129</td>\n",
       "      <td>1</td>\n",
       "      <td>14.3</td>\n",
       "      <td>Mid-range product</td>\n",
       "      <td>Regularly busy</td>\n",
       "      <td>Regularly busy</td>\n",
       "      <td>Most orders</td>\n",
       "      <td>50</td>\n",
       "      <td>Loyal customer</td>\n",
       "      <td>7.550000</td>\n",
       "      <td>Low spender</td>\n",
       "      <td>5.0</td>\n",
       "      <td>Frequent customer</td>\n",
       "      <td>Female</td>\n",
       "      <td>Rhode Island</td>\n",
       "      <td>29</td>\n",
       "      <td>10/5/2017</td>\n",
       "      <td>2</td>\n",
       "      <td>married</td>\n",
       "      <td>71955</td>\n",
       "      <td>frozen</td>\n",
       "    </tr>\n",
       "    <tr>\n",
       "      <th>47</th>\n",
       "      <td>1158288</td>\n",
       "      <td>55630</td>\n",
       "      <td>1</td>\n",
       "      <td>5</td>\n",
       "      <td>15</td>\n",
       "      <td>NaN</td>\n",
       "      <td>6377</td>\n",
       "      <td>5</td>\n",
       "      <td>0</td>\n",
       "      <td>Raspberry Chocolate Chip Gelato</td>\n",
       "      <td>37</td>\n",
       "      <td>1</td>\n",
       "      <td>5.0</td>\n",
       "      <td>Low-range product</td>\n",
       "      <td>Regularly busy</td>\n",
       "      <td>Regularly busy</td>\n",
       "      <td>Most orders</td>\n",
       "      <td>50</td>\n",
       "      <td>Loyal customer</td>\n",
       "      <td>7.550000</td>\n",
       "      <td>Low spender</td>\n",
       "      <td>5.0</td>\n",
       "      <td>Frequent customer</td>\n",
       "      <td>Female</td>\n",
       "      <td>Rhode Island</td>\n",
       "      <td>29</td>\n",
       "      <td>10/5/2017</td>\n",
       "      <td>2</td>\n",
       "      <td>married</td>\n",
       "      <td>71955</td>\n",
       "      <td>frozen</td>\n",
       "    </tr>\n",
       "    <tr>\n",
       "      <th>84</th>\n",
       "      <td>30342</td>\n",
       "      <td>168460</td>\n",
       "      <td>31</td>\n",
       "      <td>2</td>\n",
       "      <td>12</td>\n",
       "      <td>6.0</td>\n",
       "      <td>31766</td>\n",
       "      <td>13</td>\n",
       "      <td>1</td>\n",
       "      <td>Cheese Pizza Snacks</td>\n",
       "      <td>129</td>\n",
       "      <td>1</td>\n",
       "      <td>14.3</td>\n",
       "      <td>Mid-range product</td>\n",
       "      <td>Regularly busy</td>\n",
       "      <td>Regularly busy</td>\n",
       "      <td>Most orders</td>\n",
       "      <td>43</td>\n",
       "      <td>Loyal customer</td>\n",
       "      <td>7.696932</td>\n",
       "      <td>Low spender</td>\n",
       "      <td>7.0</td>\n",
       "      <td>Frequent customer</td>\n",
       "      <td>Female</td>\n",
       "      <td>Connecticut</td>\n",
       "      <td>75</td>\n",
       "      <td>2/1/2020</td>\n",
       "      <td>2</td>\n",
       "      <td>married</td>\n",
       "      <td>111758</td>\n",
       "      <td>frozen</td>\n",
       "    </tr>\n",
       "    <tr>\n",
       "      <th>120</th>\n",
       "      <td>1859900</td>\n",
       "      <td>168460</td>\n",
       "      <td>42</td>\n",
       "      <td>4</td>\n",
       "      <td>10</td>\n",
       "      <td>18.0</td>\n",
       "      <td>20995</td>\n",
       "      <td>10</td>\n",
       "      <td>1</td>\n",
       "      <td>Organic Broccoli Florets</td>\n",
       "      <td>116</td>\n",
       "      <td>1</td>\n",
       "      <td>8.3</td>\n",
       "      <td>Mid-range product</td>\n",
       "      <td>Least busy</td>\n",
       "      <td>Least busy days</td>\n",
       "      <td>Most orders</td>\n",
       "      <td>43</td>\n",
       "      <td>Loyal customer</td>\n",
       "      <td>7.696932</td>\n",
       "      <td>Low spender</td>\n",
       "      <td>7.0</td>\n",
       "      <td>Frequent customer</td>\n",
       "      <td>Female</td>\n",
       "      <td>Connecticut</td>\n",
       "      <td>75</td>\n",
       "      <td>2/1/2020</td>\n",
       "      <td>2</td>\n",
       "      <td>married</td>\n",
       "      <td>111758</td>\n",
       "      <td>frozen</td>\n",
       "    </tr>\n",
       "    <tr>\n",
       "      <th>121</th>\n",
       "      <td>2432960</td>\n",
       "      <td>168460</td>\n",
       "      <td>4</td>\n",
       "      <td>0</td>\n",
       "      <td>12</td>\n",
       "      <td>6.0</td>\n",
       "      <td>20995</td>\n",
       "      <td>23</td>\n",
       "      <td>0</td>\n",
       "      <td>Organic Broccoli Florets</td>\n",
       "      <td>116</td>\n",
       "      <td>1</td>\n",
       "      <td>8.3</td>\n",
       "      <td>Mid-range product</td>\n",
       "      <td>Busiest day</td>\n",
       "      <td>Busiest days</td>\n",
       "      <td>Most orders</td>\n",
       "      <td>43</td>\n",
       "      <td>Loyal customer</td>\n",
       "      <td>7.696932</td>\n",
       "      <td>Low spender</td>\n",
       "      <td>7.0</td>\n",
       "      <td>Frequent customer</td>\n",
       "      <td>Female</td>\n",
       "      <td>Connecticut</td>\n",
       "      <td>75</td>\n",
       "      <td>2/1/2020</td>\n",
       "      <td>2</td>\n",
       "      <td>married</td>\n",
       "      <td>111758</td>\n",
       "      <td>frozen</td>\n",
       "    </tr>\n",
       "  </tbody>\n",
       "</table>\n",
       "</div>"
      ],
      "text/plain": [
       "     order_id  user_id  order_number  orders_day_of_week  order_hour_of_day  \\\n",
       "0     2617132    55630             6                   2                 15   \n",
       "47    1158288    55630             1                   5                 15   \n",
       "84      30342   168460            31                   2                 12   \n",
       "120   1859900   168460            42                   4                 10   \n",
       "121   2432960   168460             4                   0                 12   \n",
       "\n",
       "     days_since_prior_order  product_id  add_to_cart_order  reordered  \\\n",
       "0                       5.0       31766                 13          0   \n",
       "47                      NaN        6377                  5          0   \n",
       "84                      6.0       31766                 13          1   \n",
       "120                    18.0       20995                 10          1   \n",
       "121                     6.0       20995                 23          0   \n",
       "\n",
       "                        product_name  aisle_id  department_id  prices  \\\n",
       "0                Cheese Pizza Snacks       129              1    14.3   \n",
       "47   Raspberry Chocolate Chip Gelato        37              1     5.0   \n",
       "84               Cheese Pizza Snacks       129              1    14.3   \n",
       "120         Organic Broccoli Florets       116              1     8.3   \n",
       "121         Organic Broccoli Florets       116              1     8.3   \n",
       "\n",
       "       price_range_loc     busiest_day     busiest_days busiest_period_of_day  \\\n",
       "0    Mid-range product  Regularly busy   Regularly busy           Most orders   \n",
       "47   Low-range product  Regularly busy   Regularly busy           Most orders   \n",
       "84   Mid-range product  Regularly busy   Regularly busy           Most orders   \n",
       "120  Mid-range product      Least busy  Least busy days           Most orders   \n",
       "121  Mid-range product     Busiest day     Busiest days           Most orders   \n",
       "\n",
       "     max_order    loyalty_flag  mean_price spender_flag  median_order  \\\n",
       "0           50  Loyal customer    7.550000  Low spender           5.0   \n",
       "47          50  Loyal customer    7.550000  Low spender           5.0   \n",
       "84          43  Loyal customer    7.696932  Low spender           7.0   \n",
       "120         43  Loyal customer    7.696932  Low spender           7.0   \n",
       "121         43  Loyal customer    7.696932  Low spender           7.0   \n",
       "\n",
       "    order_frequency_flag  gender    state_name  age_customer date_joined  \\\n",
       "0      Frequent customer  Female  Rhode Island            29   10/5/2017   \n",
       "47     Frequent customer  Female  Rhode Island            29   10/5/2017   \n",
       "84     Frequent customer  Female   Connecticut            75    2/1/2020   \n",
       "120    Frequent customer  Female   Connecticut            75    2/1/2020   \n",
       "121    Frequent customer  Female   Connecticut            75    2/1/2020   \n",
       "\n",
       "     number_dependants marital_status  income department  \n",
       "0                    2        married   71955     frozen  \n",
       "47                   2        married   71955     frozen  \n",
       "84                   2        married  111758     frozen  \n",
       "120                  2        married  111758     frozen  \n",
       "121                  2        married  111758     frozen  "
      ]
     },
     "execution_count": 42,
     "metadata": {},
     "output_type": "execute_result"
    }
   ],
   "source": [
    "# Check output\n",
    "\n",
    "ords_prods_dept_merge.head()"
   ]
  },
  {
   "cell_type": "markdown",
   "id": "530a08a2-7d2d-464d-8bb6-7cde496d8c55",
   "metadata": {},
   "source": [
    "# 04. Export Dataframe"
   ]
  },
  {
   "cell_type": "code",
   "execution_count": 54,
   "id": "6c252d14-6013-4907-a45f-fec9f9f1b79a",
   "metadata": {
    "execution": {
     "iopub.execute_input": "2025-01-12T00:37:15.023635Z",
     "iopub.status.busy": "2025-01-12T00:37:15.023322Z",
     "iopub.status.idle": "2025-01-12T00:37:20.135681Z",
     "shell.execute_reply": "2025-01-12T00:37:20.134868Z",
     "shell.execute_reply.started": "2025-01-12T00:37:15.023617Z"
    }
   },
   "outputs": [],
   "source": [
    "# Export merge ords_prods_dept_merge as pickle\n",
    "\n",
    "ords_prods_dept_merge.to_pickle(os.path.join(path, '02 Data', 'Prepared Data', 'orders_products_departments.pkl'))"
   ]
  }
 ],
 "metadata": {
  "kernelspec": {
   "display_name": "anaconda-2024.02-py310",
   "language": "python",
   "name": "conda-env-anaconda-2024.02-py310-py"
  },
  "language_info": {
   "codemirror_mode": {
    "name": "ipython",
    "version": 3
   },
   "file_extension": ".py",
   "mimetype": "text/x-python",
   "name": "python",
   "nbconvert_exporter": "python",
   "pygments_lexer": "ipython3",
   "version": "3.10.14"
  }
 },
 "nbformat": 4,
 "nbformat_minor": 5
}
