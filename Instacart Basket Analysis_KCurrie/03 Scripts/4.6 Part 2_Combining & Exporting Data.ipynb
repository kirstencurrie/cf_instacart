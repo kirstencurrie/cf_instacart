{
 "cells": [
  {
   "cell_type": "markdown",
   "id": "8a00f84b-63b6-40bd-a08d-76b6fe62d8be",
   "metadata": {},
   "source": [
    "# Contents\n",
    "01. Importing Libraries\n",
    "02. Importing Datasets\n",
    "03. Merging df_ords with products_checked\n",
    "    1. Check output & shape of datasets\n",
    "    2. Remove Columns & Change Datatypes\n",
    "    3. Merge Dataframes\n",
    "5. Export df_ords_prods_merged as pickle"
   ]
  },
  {
   "cell_type": "markdown",
   "id": "5579d063-c43c-412b-a63e-bf6a1713c666",
   "metadata": {
    "jp-MarkdownHeadingCollapsed": true
   },
   "source": [
    "# 01. Importing Libraries"
   ]
  },
  {
   "cell_type": "code",
   "execution_count": 11,
   "id": "51bbc0e2-83d4-4ec8-a937-e4d3be054c4e",
   "metadata": {
    "execution": {
     "iopub.execute_input": "2025-01-09T21:36:25.946935Z",
     "iopub.status.busy": "2025-01-09T21:36:25.946667Z",
     "iopub.status.idle": "2025-01-09T21:36:25.962986Z",
     "shell.execute_reply": "2025-01-09T21:36:25.962248Z",
     "shell.execute_reply.started": "2025-01-09T21:36:25.946916Z"
    }
   },
   "outputs": [],
   "source": [
    "import pandas as pd\n",
    "import numpy as np"
   ]
  },
  {
   "cell_type": "code",
   "execution_count": 12,
   "id": "c10038a0-8333-45dd-8913-37721512e1be",
   "metadata": {
    "execution": {
     "iopub.execute_input": "2025-01-09T21:36:25.964249Z",
     "iopub.status.busy": "2025-01-09T21:36:25.963959Z",
     "iopub.status.idle": "2025-01-09T21:36:25.981192Z",
     "shell.execute_reply": "2025-01-09T21:36:25.980483Z",
     "shell.execute_reply.started": "2025-01-09T21:36:25.964229Z"
    }
   },
   "outputs": [
    {
     "name": "stdout",
     "output_type": "stream",
     "text": [
      "2.1.4\n",
      "1.26.4\n"
     ]
    }
   ],
   "source": [
    "# Confirming that pandas & numpy were imported by printing versions\n",
    "\n",
    "print(pd.__version__)\n",
    "print(np.__version__)"
   ]
  },
  {
   "cell_type": "markdown",
   "id": "2177f443-ad42-4553-812e-214071ce13bd",
   "metadata": {
    "jp-MarkdownHeadingCollapsed": true
   },
   "source": [
    "# 02. Importing Datasets "
   ]
  },
  {
   "cell_type": "code",
   "execution_count": 14,
   "id": "6383a2ae-32e0-4e7e-aca7-63c026f165a2",
   "metadata": {
    "execution": {
     "iopub.execute_input": "2025-01-09T21:36:26.010264Z",
     "iopub.status.busy": "2025-01-09T21:36:26.009733Z",
     "iopub.status.idle": "2025-01-09T21:36:26.027684Z",
     "shell.execute_reply": "2025-01-09T21:36:26.025933Z",
     "shell.execute_reply.started": "2025-01-09T21:36:26.010240Z"
    }
   },
   "outputs": [],
   "source": [
    "# Defines path as intro file path for Instacart project\n",
    "\n",
    "path = r'/home/0668a905-109d-4403-be59-0a04abf51dd9/Instacart Basket Analysis'"
   ]
  },
  {
   "cell_type": "code",
   "execution_count": 16,
   "id": "6f9f5f28-a78f-46cb-951a-d4c4f91119b5",
   "metadata": {
    "execution": {
     "iopub.execute_input": "2025-01-09T21:36:26.049931Z",
     "iopub.status.busy": "2025-01-09T21:36:26.049629Z",
     "iopub.status.idle": "2025-01-09T21:36:27.221595Z",
     "shell.execute_reply": "2025-01-09T21:36:27.220852Z",
     "shell.execute_reply.started": "2025-01-09T21:36:26.049902Z"
    }
   },
   "outputs": [],
   "source": [
    "# Imports combined orders file\n",
    "\n",
    "df_ords = pd.read_pickle(os.path.join(path,'02 Data', 'Prepared Data', 'orders_products_combined.pkl'))"
   ]
  },
  {
   "cell_type": "code",
   "execution_count": 18,
   "id": "109a7577-f8d5-410b-81d5-ebc678218cf5",
   "metadata": {
    "execution": {
     "iopub.execute_input": "2025-01-09T21:36:27.239092Z",
     "iopub.status.busy": "2025-01-09T21:36:27.238738Z",
     "iopub.status.idle": "2025-01-09T21:36:27.331614Z",
     "shell.execute_reply": "2025-01-09T21:36:27.330974Z",
     "shell.execute_reply.started": "2025-01-09T21:36:27.239062Z"
    }
   },
   "outputs": [],
   "source": [
    "# Imports products_checked\n",
    "\n",
    "df_products = pd.read_csv(os.path.join(path,'02 Data', 'Prepared Data','products_checked.csv'), index_col = False)"
   ]
  },
  {
   "cell_type": "markdown",
   "id": "3f11d0fe-b578-466d-a9bb-c7f681651e9d",
   "metadata": {},
   "source": [
    "# 03. Merging df_ords with products_checked"
   ]
  },
  {
   "cell_type": "markdown",
   "id": "4a74eb61-5212-446c-9eb7-ec893260e133",
   "metadata": {},
   "source": [
    "### 1. Check output & shape of datasets"
   ]
  },
  {
   "cell_type": "code",
   "execution_count": 20,
   "id": "22878371-55bd-4590-8151-61cdae5db727",
   "metadata": {
    "execution": {
     "iopub.execute_input": "2025-01-09T21:36:27.349671Z",
     "iopub.status.busy": "2025-01-09T21:36:27.349406Z",
     "iopub.status.idle": "2025-01-09T21:36:27.387579Z",
     "shell.execute_reply": "2025-01-09T21:36:27.386695Z",
     "shell.execute_reply.started": "2025-01-09T21:36:27.349644Z"
    }
   },
   "outputs": [
    {
     "data": {
      "text/html": [
       "<div>\n",
       "<style scoped>\n",
       "    .dataframe tbody tr th:only-of-type {\n",
       "        vertical-align: middle;\n",
       "    }\n",
       "\n",
       "    .dataframe tbody tr th {\n",
       "        vertical-align: top;\n",
       "    }\n",
       "\n",
       "    .dataframe thead th {\n",
       "        text-align: right;\n",
       "    }\n",
       "</style>\n",
       "<table border=\"1\" class=\"dataframe\">\n",
       "  <thead>\n",
       "    <tr style=\"text-align: right;\">\n",
       "      <th></th>\n",
       "      <th>Unnamed: 0</th>\n",
       "      <th>order_id</th>\n",
       "      <th>user_id</th>\n",
       "      <th>evaluation_set</th>\n",
       "      <th>order_number</th>\n",
       "      <th>orders_day_of_week</th>\n",
       "      <th>order_hour_of_day</th>\n",
       "      <th>days_since_prior_order</th>\n",
       "      <th>product_id</th>\n",
       "      <th>add_to_cart_order</th>\n",
       "      <th>reordered</th>\n",
       "      <th>_merge</th>\n",
       "    </tr>\n",
       "  </thead>\n",
       "  <tbody>\n",
       "    <tr>\n",
       "      <th>8784638</th>\n",
       "      <td>927121</td>\n",
       "      <td>2617132</td>\n",
       "      <td>55630</td>\n",
       "      <td>prior</td>\n",
       "      <td>6</td>\n",
       "      <td>2</td>\n",
       "      <td>15</td>\n",
       "      <td>5.0</td>\n",
       "      <td>31766</td>\n",
       "      <td>13</td>\n",
       "      <td>0</td>\n",
       "      <td>both</td>\n",
       "    </tr>\n",
       "    <tr>\n",
       "      <th>22181492</th>\n",
       "      <td>2340400</td>\n",
       "      <td>868608</td>\n",
       "      <td>140899</td>\n",
       "      <td>prior</td>\n",
       "      <td>6</td>\n",
       "      <td>4</td>\n",
       "      <td>21</td>\n",
       "      <td>12.0</td>\n",
       "      <td>26410</td>\n",
       "      <td>7</td>\n",
       "      <td>1</td>\n",
       "      <td>both</td>\n",
       "    </tr>\n",
       "    <tr>\n",
       "      <th>20303653</th>\n",
       "      <td>2142460</td>\n",
       "      <td>1712432</td>\n",
       "      <td>128861</td>\n",
       "      <td>prior</td>\n",
       "      <td>1</td>\n",
       "      <td>4</td>\n",
       "      <td>13</td>\n",
       "      <td>NaN</td>\n",
       "      <td>37107</td>\n",
       "      <td>6</td>\n",
       "      <td>0</td>\n",
       "      <td>both</td>\n",
       "    </tr>\n",
       "    <tr>\n",
       "      <th>21784878</th>\n",
       "      <td>2298205</td>\n",
       "      <td>1761379</td>\n",
       "      <td>138404</td>\n",
       "      <td>prior</td>\n",
       "      <td>51</td>\n",
       "      <td>2</td>\n",
       "      <td>8</td>\n",
       "      <td>4.0</td>\n",
       "      <td>16837</td>\n",
       "      <td>7</td>\n",
       "      <td>1</td>\n",
       "      <td>both</td>\n",
       "    </tr>\n",
       "    <tr>\n",
       "      <th>20044216</th>\n",
       "      <td>2114200</td>\n",
       "      <td>2224303</td>\n",
       "      <td>127151</td>\n",
       "      <td>prior</td>\n",
       "      <td>8</td>\n",
       "      <td>1</td>\n",
       "      <td>17</td>\n",
       "      <td>5.0</td>\n",
       "      <td>27966</td>\n",
       "      <td>8</td>\n",
       "      <td>0</td>\n",
       "      <td>both</td>\n",
       "    </tr>\n",
       "  </tbody>\n",
       "</table>\n",
       "</div>"
      ],
      "text/plain": [
       "          Unnamed: 0  order_id  user_id evaluation_set  order_number  \\\n",
       "8784638       927121   2617132    55630          prior             6   \n",
       "22181492     2340400    868608   140899          prior             6   \n",
       "20303653     2142460   1712432   128861          prior             1   \n",
       "21784878     2298205   1761379   138404          prior            51   \n",
       "20044216     2114200   2224303   127151          prior             8   \n",
       "\n",
       "          orders_day_of_week  order_hour_of_day  days_since_prior_order  \\\n",
       "8784638                    2                 15                     5.0   \n",
       "22181492                   4                 21                    12.0   \n",
       "20303653                   4                 13                     NaN   \n",
       "21784878                   2                  8                     4.0   \n",
       "20044216                   1                 17                     5.0   \n",
       "\n",
       "          product_id  add_to_cart_order  reordered _merge  \n",
       "8784638        31766                 13          0   both  \n",
       "22181492       26410                  7          1   both  \n",
       "20303653       37107                  6          0   both  \n",
       "21784878       16837                  7          1   both  \n",
       "20044216       27966                  8          0   both  "
      ]
     },
     "execution_count": 20,
     "metadata": {},
     "output_type": "execute_result"
    }
   ],
   "source": [
    "# Check the output\n",
    "\n",
    "df_ords.head()"
   ]
  },
  {
   "cell_type": "code",
   "execution_count": 22,
   "id": "27bd035b-8a67-418d-9b86-2275603dda1f",
   "metadata": {
    "execution": {
     "iopub.execute_input": "2025-01-09T21:36:27.412279Z",
     "iopub.status.busy": "2025-01-09T21:36:27.411946Z",
     "iopub.status.idle": "2025-01-09T21:36:27.431200Z",
     "shell.execute_reply": "2025-01-09T21:36:27.430429Z",
     "shell.execute_reply.started": "2025-01-09T21:36:27.412258Z"
    }
   },
   "outputs": [
    {
     "data": {
      "text/plain": [
       "(6486898, 12)"
      ]
     },
     "execution_count": 22,
     "metadata": {},
     "output_type": "execute_result"
    }
   ],
   "source": [
    "# Check the shape\n",
    "\n",
    "df_ords.shape"
   ]
  },
  {
   "cell_type": "code",
   "execution_count": 24,
   "id": "353f4063-19cb-4860-8e79-e1166145e813",
   "metadata": {
    "execution": {
     "iopub.execute_input": "2025-01-09T21:36:27.462558Z",
     "iopub.status.busy": "2025-01-09T21:36:27.462237Z",
     "iopub.status.idle": "2025-01-09T21:36:27.483489Z",
     "shell.execute_reply": "2025-01-09T21:36:27.482725Z",
     "shell.execute_reply.started": "2025-01-09T21:36:27.462527Z"
    }
   },
   "outputs": [
    {
     "data": {
      "text/plain": [
       "(49672, 6)"
      ]
     },
     "execution_count": 24,
     "metadata": {},
     "output_type": "execute_result"
    }
   ],
   "source": [
    "# Check the shape of df_products\n",
    "\n",
    "df_products.shape"
   ]
  },
  {
   "cell_type": "code",
   "execution_count": 26,
   "id": "a437f2f1-e67a-4c04-a618-50e4c0a9da4f",
   "metadata": {
    "execution": {
     "iopub.execute_input": "2025-01-09T21:36:27.515744Z",
     "iopub.status.busy": "2025-01-09T21:36:27.515221Z",
     "iopub.status.idle": "2025-01-09T21:36:27.537902Z",
     "shell.execute_reply": "2025-01-09T21:36:27.537151Z",
     "shell.execute_reply.started": "2025-01-09T21:36:27.515720Z"
    }
   },
   "outputs": [
    {
     "data": {
      "text/html": [
       "<div>\n",
       "<style scoped>\n",
       "    .dataframe tbody tr th:only-of-type {\n",
       "        vertical-align: middle;\n",
       "    }\n",
       "\n",
       "    .dataframe tbody tr th {\n",
       "        vertical-align: top;\n",
       "    }\n",
       "\n",
       "    .dataframe thead th {\n",
       "        text-align: right;\n",
       "    }\n",
       "</style>\n",
       "<table border=\"1\" class=\"dataframe\">\n",
       "  <thead>\n",
       "    <tr style=\"text-align: right;\">\n",
       "      <th></th>\n",
       "      <th>Unnamed: 0</th>\n",
       "      <th>product_id</th>\n",
       "      <th>product_name</th>\n",
       "      <th>aisle_id</th>\n",
       "      <th>department_id</th>\n",
       "      <th>prices</th>\n",
       "    </tr>\n",
       "  </thead>\n",
       "  <tbody>\n",
       "    <tr>\n",
       "      <th>0</th>\n",
       "      <td>0</td>\n",
       "      <td>1</td>\n",
       "      <td>Chocolate Sandwich Cookies</td>\n",
       "      <td>61</td>\n",
       "      <td>19</td>\n",
       "      <td>5.8</td>\n",
       "    </tr>\n",
       "    <tr>\n",
       "      <th>1</th>\n",
       "      <td>1</td>\n",
       "      <td>2</td>\n",
       "      <td>All-Seasons Salt</td>\n",
       "      <td>104</td>\n",
       "      <td>13</td>\n",
       "      <td>9.3</td>\n",
       "    </tr>\n",
       "    <tr>\n",
       "      <th>2</th>\n",
       "      <td>2</td>\n",
       "      <td>3</td>\n",
       "      <td>Robust Golden Unsweetened Oolong Tea</td>\n",
       "      <td>94</td>\n",
       "      <td>7</td>\n",
       "      <td>4.5</td>\n",
       "    </tr>\n",
       "    <tr>\n",
       "      <th>3</th>\n",
       "      <td>3</td>\n",
       "      <td>4</td>\n",
       "      <td>Smart Ones Classic Favorites Mini Rigatoni Wit...</td>\n",
       "      <td>38</td>\n",
       "      <td>1</td>\n",
       "      <td>10.5</td>\n",
       "    </tr>\n",
       "    <tr>\n",
       "      <th>4</th>\n",
       "      <td>4</td>\n",
       "      <td>5</td>\n",
       "      <td>Green Chile Anytime Sauce</td>\n",
       "      <td>5</td>\n",
       "      <td>13</td>\n",
       "      <td>4.3</td>\n",
       "    </tr>\n",
       "  </tbody>\n",
       "</table>\n",
       "</div>"
      ],
      "text/plain": [
       "   Unnamed: 0  product_id                                       product_name  \\\n",
       "0           0           1                         Chocolate Sandwich Cookies   \n",
       "1           1           2                                   All-Seasons Salt   \n",
       "2           2           3               Robust Golden Unsweetened Oolong Tea   \n",
       "3           3           4  Smart Ones Classic Favorites Mini Rigatoni Wit...   \n",
       "4           4           5                          Green Chile Anytime Sauce   \n",
       "\n",
       "   aisle_id  department_id  prices  \n",
       "0        61             19     5.8  \n",
       "1       104             13     9.3  \n",
       "2        94              7     4.5  \n",
       "3        38              1    10.5  \n",
       "4         5             13     4.3  "
      ]
     },
     "execution_count": 26,
     "metadata": {},
     "output_type": "execute_result"
    }
   ],
   "source": [
    "# Check the output of df_products\n",
    "\n",
    "df_products.head()"
   ]
  },
  {
   "cell_type": "markdown",
   "id": "a286fbae-062e-4c86-87e5-9c8e2054cc8b",
   "metadata": {},
   "source": [
    "### 2. Remove Columns & Change Datatypes"
   ]
  },
  {
   "cell_type": "code",
   "execution_count": 28,
   "id": "18b53e4c-045e-487b-8b33-5e7719cb2d95",
   "metadata": {
    "execution": {
     "iopub.execute_input": "2025-01-09T21:36:27.573704Z",
     "iopub.status.busy": "2025-01-09T21:36:27.573155Z",
     "iopub.status.idle": "2025-01-09T21:36:27.852805Z",
     "shell.execute_reply": "2025-01-09T21:36:27.851578Z",
     "shell.execute_reply.started": "2025-01-09T21:36:27.573682Z"
    }
   },
   "outputs": [],
   "source": [
    "# Removes \"_merged\" column from df_ords\n",
    "\n",
    "df_ords = df_ords.drop(columns=['evaluation_set','_merge'])"
   ]
  },
  {
   "cell_type": "code",
   "execution_count": 30,
   "id": "9328e814-1a4f-463a-bc83-db80a4c8a631",
   "metadata": {
    "execution": {
     "iopub.execute_input": "2025-01-09T21:36:27.874787Z",
     "iopub.status.busy": "2025-01-09T21:36:27.874385Z",
     "iopub.status.idle": "2025-01-09T21:36:27.957291Z",
     "shell.execute_reply": "2025-01-09T21:36:27.956382Z",
     "shell.execute_reply.started": "2025-01-09T21:36:27.874756Z"
    }
   },
   "outputs": [],
   "source": [
    "# changes product_id to int32 in df_ords\n",
    "\n",
    "df_ords['product_id'] = df_ords['product_id'].astype('int32')"
   ]
  },
  {
   "cell_type": "code",
   "execution_count": 32,
   "id": "be0b7748-9017-4632-97df-77c009288f43",
   "metadata": {
    "execution": {
     "iopub.execute_input": "2025-01-09T21:36:27.975600Z",
     "iopub.status.busy": "2025-01-09T21:36:27.975326Z",
     "iopub.status.idle": "2025-01-09T21:36:27.999705Z",
     "shell.execute_reply": "2025-01-09T21:36:27.998748Z",
     "shell.execute_reply.started": "2025-01-09T21:36:27.975580Z"
    }
   },
   "outputs": [],
   "source": [
    "# change price columns to float32\n",
    "\n",
    "df_products['prices'] = df_products['prices'].astype('float32')"
   ]
  },
  {
   "cell_type": "code",
   "execution_count": 34,
   "id": "41d93a9a-243f-4437-9ffc-2ac8932d0875",
   "metadata": {
    "execution": {
     "iopub.execute_input": "2025-01-09T21:36:28.035925Z",
     "iopub.status.busy": "2025-01-09T21:36:28.035439Z",
     "iopub.status.idle": "2025-01-09T21:36:28.058119Z",
     "shell.execute_reply": "2025-01-09T21:36:28.057275Z",
     "shell.execute_reply.started": "2025-01-09T21:36:28.035882Z"
    }
   },
   "outputs": [],
   "source": [
    "# changes product_id to int32 in df_products\n",
    "\n",
    "df_products['product_id'] = df_products['product_id'].astype('int32')"
   ]
  },
  {
   "cell_type": "markdown",
   "id": "15634203-0129-4d6b-8bab-1cbbbce2ab41",
   "metadata": {},
   "source": [
    "### 3. Merge Dataframes"
   ]
  },
  {
   "cell_type": "code",
   "execution_count": 36,
   "id": "4791bc5e-a6ed-4bfa-8330-66448a4cedfc",
   "metadata": {
    "execution": {
     "iopub.execute_input": "2025-01-09T21:36:28.091497Z",
     "iopub.status.busy": "2025-01-09T21:36:28.091019Z",
     "iopub.status.idle": "2025-01-09T21:36:37.511982Z",
     "shell.execute_reply": "2025-01-09T21:36:37.511199Z",
     "shell.execute_reply.started": "2025-01-09T21:36:28.091454Z"
    }
   },
   "outputs": [],
   "source": [
    "# Merge df_ords_reduced & df_products dataframes\n",
    "\n",
    "df_ords_prods_merged = df_ords.merge(df_products, on = 'product_id', indicator = True)"
   ]
  },
  {
   "cell_type": "code",
   "execution_count": 38,
   "id": "a611f20c-29f3-41cb-b798-495fc8301884",
   "metadata": {
    "execution": {
     "iopub.execute_input": "2025-01-09T21:36:37.530793Z",
     "iopub.status.busy": "2025-01-09T21:36:37.530502Z",
     "iopub.status.idle": "2025-01-09T21:36:37.561851Z",
     "shell.execute_reply": "2025-01-09T21:36:37.561040Z",
     "shell.execute_reply.started": "2025-01-09T21:36:37.530773Z"
    }
   },
   "outputs": [
    {
     "data": {
      "text/html": [
       "<div>\n",
       "<style scoped>\n",
       "    .dataframe tbody tr th:only-of-type {\n",
       "        vertical-align: middle;\n",
       "    }\n",
       "\n",
       "    .dataframe tbody tr th {\n",
       "        vertical-align: top;\n",
       "    }\n",
       "\n",
       "    .dataframe thead th {\n",
       "        text-align: right;\n",
       "    }\n",
       "</style>\n",
       "<table border=\"1\" class=\"dataframe\">\n",
       "  <thead>\n",
       "    <tr style=\"text-align: right;\">\n",
       "      <th></th>\n",
       "      <th>Unnamed: 0_x</th>\n",
       "      <th>order_id</th>\n",
       "      <th>user_id</th>\n",
       "      <th>order_number</th>\n",
       "      <th>orders_day_of_week</th>\n",
       "      <th>order_hour_of_day</th>\n",
       "      <th>days_since_prior_order</th>\n",
       "      <th>product_id</th>\n",
       "      <th>add_to_cart_order</th>\n",
       "      <th>reordered</th>\n",
       "      <th>Unnamed: 0_y</th>\n",
       "      <th>product_name</th>\n",
       "      <th>aisle_id</th>\n",
       "      <th>department_id</th>\n",
       "      <th>prices</th>\n",
       "      <th>_merge</th>\n",
       "    </tr>\n",
       "  </thead>\n",
       "  <tbody>\n",
       "    <tr>\n",
       "      <th>0</th>\n",
       "      <td>927121</td>\n",
       "      <td>2617132</td>\n",
       "      <td>55630</td>\n",
       "      <td>6</td>\n",
       "      <td>2</td>\n",
       "      <td>15</td>\n",
       "      <td>5.0</td>\n",
       "      <td>31766</td>\n",
       "      <td>13</td>\n",
       "      <td>0</td>\n",
       "      <td>31768</td>\n",
       "      <td>Cheese Pizza Snacks</td>\n",
       "      <td>129</td>\n",
       "      <td>1</td>\n",
       "      <td>14.3</td>\n",
       "      <td>both</td>\n",
       "    </tr>\n",
       "    <tr>\n",
       "      <th>1</th>\n",
       "      <td>2792928</td>\n",
       "      <td>30342</td>\n",
       "      <td>168460</td>\n",
       "      <td>31</td>\n",
       "      <td>2</td>\n",
       "      <td>12</td>\n",
       "      <td>6.0</td>\n",
       "      <td>31766</td>\n",
       "      <td>13</td>\n",
       "      <td>1</td>\n",
       "      <td>31768</td>\n",
       "      <td>Cheese Pizza Snacks</td>\n",
       "      <td>129</td>\n",
       "      <td>1</td>\n",
       "      <td>14.3</td>\n",
       "      <td>both</td>\n",
       "    </tr>\n",
       "    <tr>\n",
       "      <th>2</th>\n",
       "      <td>2193387</td>\n",
       "      <td>3191294</td>\n",
       "      <td>132038</td>\n",
       "      <td>4</td>\n",
       "      <td>6</td>\n",
       "      <td>12</td>\n",
       "      <td>30.0</td>\n",
       "      <td>31766</td>\n",
       "      <td>4</td>\n",
       "      <td>0</td>\n",
       "      <td>31768</td>\n",
       "      <td>Cheese Pizza Snacks</td>\n",
       "      <td>129</td>\n",
       "      <td>1</td>\n",
       "      <td>14.3</td>\n",
       "      <td>both</td>\n",
       "    </tr>\n",
       "    <tr>\n",
       "      <th>3</th>\n",
       "      <td>700457</td>\n",
       "      <td>747623</td>\n",
       "      <td>42201</td>\n",
       "      <td>28</td>\n",
       "      <td>0</td>\n",
       "      <td>10</td>\n",
       "      <td>2.0</td>\n",
       "      <td>31766</td>\n",
       "      <td>10</td>\n",
       "      <td>1</td>\n",
       "      <td>31768</td>\n",
       "      <td>Cheese Pizza Snacks</td>\n",
       "      <td>129</td>\n",
       "      <td>1</td>\n",
       "      <td>14.3</td>\n",
       "      <td>both</td>\n",
       "    </tr>\n",
       "    <tr>\n",
       "      <th>4</th>\n",
       "      <td>214674</td>\n",
       "      <td>68597</td>\n",
       "      <td>12960</td>\n",
       "      <td>19</td>\n",
       "      <td>6</td>\n",
       "      <td>9</td>\n",
       "      <td>6.0</td>\n",
       "      <td>31766</td>\n",
       "      <td>16</td>\n",
       "      <td>1</td>\n",
       "      <td>31768</td>\n",
       "      <td>Cheese Pizza Snacks</td>\n",
       "      <td>129</td>\n",
       "      <td>1</td>\n",
       "      <td>14.3</td>\n",
       "      <td>both</td>\n",
       "    </tr>\n",
       "  </tbody>\n",
       "</table>\n",
       "</div>"
      ],
      "text/plain": [
       "   Unnamed: 0_x  order_id  user_id  order_number  orders_day_of_week  \\\n",
       "0        927121   2617132    55630             6                   2   \n",
       "1       2792928     30342   168460            31                   2   \n",
       "2       2193387   3191294   132038             4                   6   \n",
       "3        700457    747623    42201            28                   0   \n",
       "4        214674     68597    12960            19                   6   \n",
       "\n",
       "   order_hour_of_day  days_since_prior_order  product_id  add_to_cart_order  \\\n",
       "0                 15                     5.0       31766                 13   \n",
       "1                 12                     6.0       31766                 13   \n",
       "2                 12                    30.0       31766                  4   \n",
       "3                 10                     2.0       31766                 10   \n",
       "4                  9                     6.0       31766                 16   \n",
       "\n",
       "   reordered  Unnamed: 0_y         product_name  aisle_id  department_id  \\\n",
       "0          0         31768  Cheese Pizza Snacks       129              1   \n",
       "1          1         31768  Cheese Pizza Snacks       129              1   \n",
       "2          0         31768  Cheese Pizza Snacks       129              1   \n",
       "3          1         31768  Cheese Pizza Snacks       129              1   \n",
       "4          1         31768  Cheese Pizza Snacks       129              1   \n",
       "\n",
       "   prices _merge  \n",
       "0    14.3   both  \n",
       "1    14.3   both  \n",
       "2    14.3   both  \n",
       "3    14.3   both  \n",
       "4    14.3   both  "
      ]
     },
     "execution_count": 38,
     "metadata": {},
     "output_type": "execute_result"
    }
   ],
   "source": [
    "# Check merged output\n",
    "\n",
    "df_ords_prods_merged.head()"
   ]
  },
  {
   "cell_type": "code",
   "execution_count": 40,
   "id": "61ac1fbf-e4fe-489e-a541-ec709c1e020e",
   "metadata": {
    "execution": {
     "iopub.execute_input": "2025-01-09T21:36:37.595949Z",
     "iopub.status.busy": "2025-01-09T21:36:37.595633Z",
     "iopub.status.idle": "2025-01-09T21:36:37.648424Z",
     "shell.execute_reply": "2025-01-09T21:36:37.647710Z",
     "shell.execute_reply.started": "2025-01-09T21:36:37.595928Z"
    }
   },
   "outputs": [
    {
     "data": {
      "text/plain": [
       "_merge\n",
       "both          6480944\n",
       "left_only           0\n",
       "right_only          0\n",
       "Name: count, dtype: int64"
      ]
     },
     "execution_count": 40,
     "metadata": {},
     "output_type": "execute_result"
    }
   ],
   "source": [
    "# perform merge flag\n",
    "\n",
    "df_ords_prods_merged['_merge'].value_counts()"
   ]
  },
  {
   "cell_type": "code",
   "execution_count": 42,
   "id": "a384c0cc-d579-4aad-8317-07cc482bf8b8",
   "metadata": {
    "execution": {
     "iopub.execute_input": "2025-01-09T21:36:37.666361Z",
     "iopub.status.busy": "2025-01-09T21:36:37.666149Z",
     "iopub.status.idle": "2025-01-09T21:36:37.691075Z",
     "shell.execute_reply": "2025-01-09T21:36:37.690212Z",
     "shell.execute_reply.started": "2025-01-09T21:36:37.666343Z"
    }
   },
   "outputs": [
    {
     "data": {
      "text/plain": [
       "(6480944, 16)"
      ]
     },
     "execution_count": 42,
     "metadata": {},
     "output_type": "execute_result"
    }
   ],
   "source": [
    "# Check merged dataframe shape\n",
    "\n",
    "df_ords_prods_merged.shape"
   ]
  },
  {
   "cell_type": "markdown",
   "id": "796ba3d8-e05b-41b7-85ac-7df4d9a9cc2e",
   "metadata": {},
   "source": [
    "# 04. Export df_ords_prods_merged as pickle"
   ]
  },
  {
   "cell_type": "code",
   "execution_count": 44,
   "id": "d1946492-2155-4c77-9cdb-b651701445c8",
   "metadata": {
    "execution": {
     "iopub.execute_input": "2025-01-09T21:36:37.733744Z",
     "iopub.status.busy": "2025-01-09T21:36:37.733376Z",
     "iopub.status.idle": "2025-01-09T21:36:39.802548Z",
     "shell.execute_reply": "2025-01-09T21:36:39.801949Z",
     "shell.execute_reply.started": "2025-01-09T21:36:37.733720Z"
    }
   },
   "outputs": [],
   "source": [
    "# # Export as pickle\n",
    "\n",
    "df_ords_prods_merged.to_pickle(os.path.join(path, '02 Data','Prepared Data', 'orders_products_combined_large.pkl'))"
   ]
  }
 ],
 "metadata": {
  "kernelspec": {
   "display_name": "anaconda-2024.02-py310",
   "language": "python",
   "name": "conda-env-anaconda-2024.02-py310-py"
  },
  "language_info": {
   "codemirror_mode": {
    "name": "ipython",
    "version": 3
   },
   "file_extension": ".py",
   "mimetype": "text/x-python",
   "name": "python",
   "nbconvert_exporter": "python",
   "pygments_lexer": "ipython3",
   "version": "3.10.14"
  }
 },
 "nbformat": 4,
 "nbformat_minor": 5
}
