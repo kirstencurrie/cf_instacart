{
 "cells": [
  {
   "cell_type": "markdown",
   "id": "fcd5841e-b684-4186-817f-70982a4cfc48",
   "metadata": {},
   "source": [
    "# Contents\n",
    "01. Import Libraries\n",
    "02. Import Datasets\n",
    "03. Wrangle / Clean / Check New Customer Dataset\n",
    "04. Combine Data\n",
    "05. Export as Pickle"
   ]
  },
  {
   "cell_type": "markdown",
   "id": "0d5b1b31-e92f-40ab-960a-fa8377f7d123",
   "metadata": {
    "jp-MarkdownHeadingCollapsed": true
   },
   "source": [
    "# 01. Import Libraries"
   ]
  },
  {
   "cell_type": "code",
   "execution_count": 25,
   "id": "ca5de251-7b47-4302-b71f-8d3a8002bf8f",
   "metadata": {
    "execution": {
     "iopub.execute_input": "2025-01-11T01:11:53.848744Z",
     "iopub.status.busy": "2025-01-11T01:11:53.848483Z",
     "iopub.status.idle": "2025-01-11T01:11:58.572275Z",
     "shell.execute_reply": "2025-01-11T01:11:58.571382Z",
     "shell.execute_reply.started": "2025-01-11T01:11:53.848720Z"
    }
   },
   "outputs": [
    {
     "name": "stdout",
     "output_type": "stream",
     "text": [
      "Defaulting to user installation because normal site-packages is not writeable\n",
      "Looking in links: /usr/share/pip-wheels\n",
      "Requirement already satisfied: seaborn in /opt/conda/envs/anaconda-2024.02-py310/lib/python3.10/site-packages (0.12.2)\n",
      "Requirement already satisfied: matplotlib in /opt/conda/envs/anaconda-2024.02-py310/lib/python3.10/site-packages (3.8.0)\n",
      "Requirement already satisfied: scipy in /opt/conda/envs/anaconda-2024.02-py310/lib/python3.10/site-packages (1.12.0)\n",
      "Requirement already satisfied: numpy!=1.24.0,>=1.17 in /opt/conda/envs/anaconda-2024.02-py310/lib/python3.10/site-packages (from seaborn) (1.26.4)\n",
      "Requirement already satisfied: pandas>=0.25 in /opt/conda/envs/anaconda-2024.02-py310/lib/python3.10/site-packages (from seaborn) (2.1.4)\n",
      "Requirement already satisfied: contourpy>=1.0.1 in /opt/conda/envs/anaconda-2024.02-py310/lib/python3.10/site-packages (from matplotlib) (1.2.0)\n",
      "Requirement already satisfied: cycler>=0.10 in /opt/conda/envs/anaconda-2024.02-py310/lib/python3.10/site-packages (from matplotlib) (0.11.0)\n",
      "Requirement already satisfied: fonttools>=4.22.0 in /opt/conda/envs/anaconda-2024.02-py310/lib/python3.10/site-packages (from matplotlib) (4.25.0)\n",
      "Requirement already satisfied: kiwisolver>=1.0.1 in /opt/conda/envs/anaconda-2024.02-py310/lib/python3.10/site-packages (from matplotlib) (1.4.4)\n",
      "Requirement already satisfied: packaging>=20.0 in /opt/conda/envs/anaconda-2024.02-py310/lib/python3.10/site-packages (from matplotlib) (23.2)\n",
      "Requirement already satisfied: pillow>=6.2.0 in /opt/conda/envs/anaconda-2024.02-py310/lib/python3.10/site-packages (from matplotlib) (10.2.0)\n",
      "Requirement already satisfied: pyparsing>=2.3.1 in /opt/conda/envs/anaconda-2024.02-py310/lib/python3.10/site-packages (from matplotlib) (3.0.9)\n",
      "Requirement already satisfied: python-dateutil>=2.7 in /opt/conda/envs/anaconda-2024.02-py310/lib/python3.10/site-packages (from matplotlib) (2.8.2)\n",
      "Requirement already satisfied: pytz>=2020.1 in /opt/conda/envs/anaconda-2024.02-py310/lib/python3.10/site-packages (from pandas>=0.25->seaborn) (2023.3.post1)\n",
      "Requirement already satisfied: tzdata>=2022.1 in /opt/conda/envs/anaconda-2024.02-py310/lib/python3.10/site-packages (from pandas>=0.25->seaborn) (2023.3)\n",
      "Requirement already satisfied: six>=1.5 in /opt/conda/envs/anaconda-2024.02-py310/lib/python3.10/site-packages (from python-dateutil>=2.7->matplotlib) (1.16.0)\n"
     ]
    }
   ],
   "source": [
    "!pip install seaborn matplotlib scipy"
   ]
  },
  {
   "cell_type": "code",
   "execution_count": 26,
   "id": "2d17a1a5-8746-4172-9c84-9a5f776e7e8b",
   "metadata": {
    "execution": {
     "iopub.execute_input": "2025-01-11T01:11:58.573960Z",
     "iopub.status.busy": "2025-01-11T01:11:58.573496Z",
     "iopub.status.idle": "2025-01-11T01:12:00.965970Z",
     "shell.execute_reply": "2025-01-11T01:12:00.965343Z",
     "shell.execute_reply.started": "2025-01-11T01:11:58.573923Z"
    }
   },
   "outputs": [],
   "source": [
    "import pandas as pd\n",
    "import numpy as np\n",
    "import seaborn as sns\n",
    "import matplotlib.pyplot as plt\n",
    "import scipy"
   ]
  },
  {
   "cell_type": "markdown",
   "id": "ef7e83ca-95e4-43c6-817b-95e684a7efda",
   "metadata": {
    "jp-MarkdownHeadingCollapsed": true
   },
   "source": [
    "# 02. Import Datasets"
   ]
  },
  {
   "cell_type": "code",
   "execution_count": 28,
   "id": "b1bbff76-0902-42d1-ac82-33613bf0558b",
   "metadata": {
    "execution": {
     "iopub.execute_input": "2025-01-11T01:12:00.983012Z",
     "iopub.status.busy": "2025-01-11T01:12:00.982326Z",
     "iopub.status.idle": "2025-01-11T01:12:01.001181Z",
     "shell.execute_reply": "2025-01-11T01:12:01.000367Z",
     "shell.execute_reply.started": "2025-01-11T01:12:00.982989Z"
    }
   },
   "outputs": [],
   "source": [
    "# Defines path as intro file path for Instacart project\n",
    "\n",
    "path = r'/home/0668a905-109d-4403-be59-0a04abf51dd9/Instacart Basket Analysis'"
   ]
  },
  {
   "cell_type": "code",
   "execution_count": 30,
   "id": "3280356e-4cc2-4d0b-bcf0-464cfda080bb",
   "metadata": {
    "execution": {
     "iopub.execute_input": "2025-01-11T01:12:01.030332Z",
     "iopub.status.busy": "2025-01-11T01:12:01.029959Z",
     "iopub.status.idle": "2025-01-11T01:12:04.368572Z",
     "shell.execute_reply": "2025-01-11T01:12:04.367668Z",
     "shell.execute_reply.started": "2025-01-11T01:12:01.030302Z"
    }
   },
   "outputs": [],
   "source": [
    "# Imports orders_products_aggregates dataframe\n",
    "\n",
    "ords_prods_merge = pd.read_pickle(os.path.join(path,'02 Data','Prepared Data','orders_products_aggregates.pkl'))"
   ]
  },
  {
   "cell_type": "code",
   "execution_count": 32,
   "id": "75fe1fd7-23bc-4368-9814-c806952bd99d",
   "metadata": {
    "execution": {
     "iopub.execute_input": "2025-01-11T01:12:04.399324Z",
     "iopub.status.busy": "2025-01-11T01:12:04.398915Z",
     "iopub.status.idle": "2025-01-11T01:12:04.767406Z",
     "shell.execute_reply": "2025-01-11T01:12:04.766727Z",
     "shell.execute_reply.started": "2025-01-11T01:12:04.399294Z"
    }
   },
   "outputs": [],
   "source": [
    "# Imports new customer dataframe\n",
    "\n",
    "df_customers = pd.read_csv(os.path.join(path, '02 Data', 'Original Data', 'customers.csv'))"
   ]
  },
  {
   "cell_type": "code",
   "execution_count": 34,
   "id": "a2a6762e-c834-4b7f-b77c-81de1de49fcd",
   "metadata": {
    "execution": {
     "iopub.execute_input": "2025-01-11T01:12:04.786845Z",
     "iopub.status.busy": "2025-01-11T01:12:04.786361Z",
     "iopub.status.idle": "2025-01-11T01:12:04.805150Z",
     "shell.execute_reply": "2025-01-11T01:12:04.804234Z",
     "shell.execute_reply.started": "2025-01-11T01:12:04.786820Z"
    }
   },
   "outputs": [],
   "source": [
    "# Remove scientific notation floats\n",
    "\n",
    "pd.set_option('display.float_format', '{:.2f}'.format)"
   ]
  },
  {
   "cell_type": "markdown",
   "id": "875302ed-5c70-46c5-8a27-67822f8b1376",
   "metadata": {
    "jp-MarkdownHeadingCollapsed": true
   },
   "source": [
    "# 03. Wrangle / Clean / Check New Customer Dataset"
   ]
  },
  {
   "cell_type": "markdown",
   "id": "b8ee94d3-5439-4fe3-807f-d81b91f50d87",
   "metadata": {},
   "source": [
    "## Review Data"
   ]
  },
  {
   "cell_type": "code",
   "execution_count": 36,
   "id": "29405a1d-4a07-4069-84c1-10e43481bb2d",
   "metadata": {
    "execution": {
     "iopub.execute_input": "2025-01-11T01:12:04.836805Z",
     "iopub.status.busy": "2025-01-11T01:12:04.836241Z",
     "iopub.status.idle": "2025-01-11T01:12:04.856470Z",
     "shell.execute_reply": "2025-01-11T01:12:04.855701Z",
     "shell.execute_reply.started": "2025-01-11T01:12:04.836772Z"
    }
   },
   "outputs": [
    {
     "data": {
      "text/plain": [
       "(206209, 10)"
      ]
     },
     "execution_count": 36,
     "metadata": {},
     "output_type": "execute_result"
    }
   ],
   "source": [
    "df_customers.shape"
   ]
  },
  {
   "cell_type": "code",
   "execution_count": 38,
   "id": "1322e3af-aded-422b-8fce-d2339892b1bd",
   "metadata": {
    "execution": {
     "iopub.execute_input": "2025-01-11T01:12:04.881004Z",
     "iopub.status.busy": "2025-01-11T01:12:04.880479Z",
     "iopub.status.idle": "2025-01-11T01:12:04.912443Z",
     "shell.execute_reply": "2025-01-11T01:12:04.911577Z",
     "shell.execute_reply.started": "2025-01-11T01:12:04.880981Z"
    }
   },
   "outputs": [
    {
     "data": {
      "text/html": [
       "<div>\n",
       "<style scoped>\n",
       "    .dataframe tbody tr th:only-of-type {\n",
       "        vertical-align: middle;\n",
       "    }\n",
       "\n",
       "    .dataframe tbody tr th {\n",
       "        vertical-align: top;\n",
       "    }\n",
       "\n",
       "    .dataframe thead th {\n",
       "        text-align: right;\n",
       "    }\n",
       "</style>\n",
       "<table border=\"1\" class=\"dataframe\">\n",
       "  <thead>\n",
       "    <tr style=\"text-align: right;\">\n",
       "      <th></th>\n",
       "      <th>user_id</th>\n",
       "      <th>First Name</th>\n",
       "      <th>Surnam</th>\n",
       "      <th>Gender</th>\n",
       "      <th>STATE</th>\n",
       "      <th>Age</th>\n",
       "      <th>date_joined</th>\n",
       "      <th>n_dependants</th>\n",
       "      <th>fam_status</th>\n",
       "      <th>income</th>\n",
       "    </tr>\n",
       "  </thead>\n",
       "  <tbody>\n",
       "    <tr>\n",
       "      <th>0</th>\n",
       "      <td>26711</td>\n",
       "      <td>Deborah</td>\n",
       "      <td>Esquivel</td>\n",
       "      <td>Female</td>\n",
       "      <td>Missouri</td>\n",
       "      <td>48</td>\n",
       "      <td>1/1/2017</td>\n",
       "      <td>3</td>\n",
       "      <td>married</td>\n",
       "      <td>165665</td>\n",
       "    </tr>\n",
       "    <tr>\n",
       "      <th>1</th>\n",
       "      <td>33890</td>\n",
       "      <td>Patricia</td>\n",
       "      <td>Hart</td>\n",
       "      <td>Female</td>\n",
       "      <td>New Mexico</td>\n",
       "      <td>36</td>\n",
       "      <td>1/1/2017</td>\n",
       "      <td>0</td>\n",
       "      <td>single</td>\n",
       "      <td>59285</td>\n",
       "    </tr>\n",
       "    <tr>\n",
       "      <th>2</th>\n",
       "      <td>65803</td>\n",
       "      <td>Kenneth</td>\n",
       "      <td>Farley</td>\n",
       "      <td>Male</td>\n",
       "      <td>Idaho</td>\n",
       "      <td>35</td>\n",
       "      <td>1/1/2017</td>\n",
       "      <td>2</td>\n",
       "      <td>married</td>\n",
       "      <td>99568</td>\n",
       "    </tr>\n",
       "    <tr>\n",
       "      <th>3</th>\n",
       "      <td>125935</td>\n",
       "      <td>Michelle</td>\n",
       "      <td>Hicks</td>\n",
       "      <td>Female</td>\n",
       "      <td>Iowa</td>\n",
       "      <td>40</td>\n",
       "      <td>1/1/2017</td>\n",
       "      <td>0</td>\n",
       "      <td>single</td>\n",
       "      <td>42049</td>\n",
       "    </tr>\n",
       "    <tr>\n",
       "      <th>4</th>\n",
       "      <td>130797</td>\n",
       "      <td>Ann</td>\n",
       "      <td>Gilmore</td>\n",
       "      <td>Female</td>\n",
       "      <td>Maryland</td>\n",
       "      <td>26</td>\n",
       "      <td>1/1/2017</td>\n",
       "      <td>1</td>\n",
       "      <td>married</td>\n",
       "      <td>40374</td>\n",
       "    </tr>\n",
       "  </tbody>\n",
       "</table>\n",
       "</div>"
      ],
      "text/plain": [
       "   user_id First Name    Surnam  Gender       STATE  Age date_joined  \\\n",
       "0    26711    Deborah  Esquivel  Female    Missouri   48    1/1/2017   \n",
       "1    33890   Patricia      Hart  Female  New Mexico   36    1/1/2017   \n",
       "2    65803    Kenneth    Farley    Male       Idaho   35    1/1/2017   \n",
       "3   125935   Michelle     Hicks  Female        Iowa   40    1/1/2017   \n",
       "4   130797        Ann   Gilmore  Female    Maryland   26    1/1/2017   \n",
       "\n",
       "   n_dependants fam_status  income  \n",
       "0             3    married  165665  \n",
       "1             0     single   59285  \n",
       "2             2    married   99568  \n",
       "3             0     single   42049  \n",
       "4             1    married   40374  "
      ]
     },
     "execution_count": 38,
     "metadata": {},
     "output_type": "execute_result"
    }
   ],
   "source": [
    "df_customers.head()"
   ]
  },
  {
   "cell_type": "code",
   "execution_count": 40,
   "id": "0c04a2b6-e5b8-455d-bf96-fe7e3741e0b2",
   "metadata": {
    "execution": {
     "iopub.execute_input": "2025-01-11T01:12:04.935359Z",
     "iopub.status.busy": "2025-01-11T01:12:04.934721Z",
     "iopub.status.idle": "2025-01-11T01:12:04.988084Z",
     "shell.execute_reply": "2025-01-11T01:12:04.987375Z",
     "shell.execute_reply.started": "2025-01-11T01:12:04.935336Z"
    }
   },
   "outputs": [
    {
     "data": {
      "text/html": [
       "<div>\n",
       "<style scoped>\n",
       "    .dataframe tbody tr th:only-of-type {\n",
       "        vertical-align: middle;\n",
       "    }\n",
       "\n",
       "    .dataframe tbody tr th {\n",
       "        vertical-align: top;\n",
       "    }\n",
       "\n",
       "    .dataframe thead th {\n",
       "        text-align: right;\n",
       "    }\n",
       "</style>\n",
       "<table border=\"1\" class=\"dataframe\">\n",
       "  <thead>\n",
       "    <tr style=\"text-align: right;\">\n",
       "      <th></th>\n",
       "      <th>user_id</th>\n",
       "      <th>Age</th>\n",
       "      <th>n_dependants</th>\n",
       "      <th>income</th>\n",
       "    </tr>\n",
       "  </thead>\n",
       "  <tbody>\n",
       "    <tr>\n",
       "      <th>count</th>\n",
       "      <td>206209.00</td>\n",
       "      <td>206209.00</td>\n",
       "      <td>206209.00</td>\n",
       "      <td>206209.00</td>\n",
       "    </tr>\n",
       "    <tr>\n",
       "      <th>mean</th>\n",
       "      <td>103105.00</td>\n",
       "      <td>49.50</td>\n",
       "      <td>1.50</td>\n",
       "      <td>94632.85</td>\n",
       "    </tr>\n",
       "    <tr>\n",
       "      <th>std</th>\n",
       "      <td>59527.56</td>\n",
       "      <td>18.48</td>\n",
       "      <td>1.12</td>\n",
       "      <td>42473.79</td>\n",
       "    </tr>\n",
       "    <tr>\n",
       "      <th>min</th>\n",
       "      <td>1.00</td>\n",
       "      <td>18.00</td>\n",
       "      <td>0.00</td>\n",
       "      <td>25903.00</td>\n",
       "    </tr>\n",
       "    <tr>\n",
       "      <th>25%</th>\n",
       "      <td>51553.00</td>\n",
       "      <td>33.00</td>\n",
       "      <td>0.00</td>\n",
       "      <td>59874.00</td>\n",
       "    </tr>\n",
       "    <tr>\n",
       "      <th>50%</th>\n",
       "      <td>103105.00</td>\n",
       "      <td>49.00</td>\n",
       "      <td>1.00</td>\n",
       "      <td>93547.00</td>\n",
       "    </tr>\n",
       "    <tr>\n",
       "      <th>75%</th>\n",
       "      <td>154657.00</td>\n",
       "      <td>66.00</td>\n",
       "      <td>3.00</td>\n",
       "      <td>124244.00</td>\n",
       "    </tr>\n",
       "    <tr>\n",
       "      <th>max</th>\n",
       "      <td>206209.00</td>\n",
       "      <td>81.00</td>\n",
       "      <td>3.00</td>\n",
       "      <td>593901.00</td>\n",
       "    </tr>\n",
       "  </tbody>\n",
       "</table>\n",
       "</div>"
      ],
      "text/plain": [
       "        user_id       Age  n_dependants    income\n",
       "count 206209.00 206209.00     206209.00 206209.00\n",
       "mean  103105.00     49.50          1.50  94632.85\n",
       "std    59527.56     18.48          1.12  42473.79\n",
       "min        1.00     18.00          0.00  25903.00\n",
       "25%    51553.00     33.00          0.00  59874.00\n",
       "50%   103105.00     49.00          1.00  93547.00\n",
       "75%   154657.00     66.00          3.00 124244.00\n",
       "max   206209.00     81.00          3.00 593901.00"
      ]
     },
     "execution_count": 40,
     "metadata": {},
     "output_type": "execute_result"
    }
   ],
   "source": [
    "df_customers.describe()"
   ]
  },
  {
   "cell_type": "markdown",
   "id": "b517bc21-920a-407d-9f21-8d47f6e5c4a9",
   "metadata": {},
   "source": [
    "## Rename Columns"
   ]
  },
  {
   "cell_type": "code",
   "execution_count": 42,
   "id": "192ddcc8-0da9-48e1-89ee-8ade9f09b04a",
   "metadata": {
    "execution": {
     "iopub.execute_input": "2025-01-11T01:12:05.006866Z",
     "iopub.status.busy": "2025-01-11T01:12:05.006633Z",
     "iopub.status.idle": "2025-01-11T01:12:05.024569Z",
     "shell.execute_reply": "2025-01-11T01:12:05.023754Z",
     "shell.execute_reply.started": "2025-01-11T01:12:05.006846Z"
    }
   },
   "outputs": [],
   "source": [
    "df_customers.rename(columns = {'Surnam' : 'last_name'}, inplace = True)"
   ]
  },
  {
   "cell_type": "code",
   "execution_count": 44,
   "id": "625b39fb-6137-4c62-9dc3-fd625cc86c56",
   "metadata": {
    "execution": {
     "iopub.execute_input": "2025-01-11T01:12:05.060019Z",
     "iopub.status.busy": "2025-01-11T01:12:05.059709Z",
     "iopub.status.idle": "2025-01-11T01:12:05.079397Z",
     "shell.execute_reply": "2025-01-11T01:12:05.078380Z",
     "shell.execute_reply.started": "2025-01-11T01:12:05.059992Z"
    }
   },
   "outputs": [],
   "source": [
    "df_customers.rename(columns = {'First Name' : 'first_name'}, inplace = True)"
   ]
  },
  {
   "cell_type": "code",
   "execution_count": 46,
   "id": "113d6657-235f-4898-a353-8fe160095076",
   "metadata": {
    "execution": {
     "iopub.execute_input": "2025-01-11T01:12:05.115674Z",
     "iopub.status.busy": "2025-01-11T01:12:05.114393Z",
     "iopub.status.idle": "2025-01-11T01:12:05.132860Z",
     "shell.execute_reply": "2025-01-11T01:12:05.132065Z",
     "shell.execute_reply.started": "2025-01-11T01:12:05.115639Z"
    }
   },
   "outputs": [],
   "source": [
    "df_customers.rename(columns = {'STATE' : 'state_name'}, inplace = True)"
   ]
  },
  {
   "cell_type": "code",
   "execution_count": 48,
   "id": "696db910-5165-4fa0-835c-9d8245b317fe",
   "metadata": {
    "execution": {
     "iopub.execute_input": "2025-01-11T01:12:05.165053Z",
     "iopub.status.busy": "2025-01-11T01:12:05.164645Z",
     "iopub.status.idle": "2025-01-11T01:12:05.183279Z",
     "shell.execute_reply": "2025-01-11T01:12:05.182399Z",
     "shell.execute_reply.started": "2025-01-11T01:12:05.165025Z"
    }
   },
   "outputs": [],
   "source": [
    "df_customers.rename(columns = {'Age' : 'age_customer'}, inplace = True)"
   ]
  },
  {
   "cell_type": "code",
   "execution_count": 50,
   "id": "44b33db9-b08f-4076-8a90-76aff13fb0e0",
   "metadata": {
    "execution": {
     "iopub.execute_input": "2025-01-11T01:12:05.218216Z",
     "iopub.status.busy": "2025-01-11T01:12:05.217673Z",
     "iopub.status.idle": "2025-01-11T01:12:05.238433Z",
     "shell.execute_reply": "2025-01-11T01:12:05.237350Z",
     "shell.execute_reply.started": "2025-01-11T01:12:05.218185Z"
    }
   },
   "outputs": [],
   "source": [
    "df_customers.rename(columns = {'fam_status' : 'marital_status'}, inplace = True)"
   ]
  },
  {
   "cell_type": "code",
   "execution_count": 52,
   "id": "8a8f39e3-45e2-4636-bfb6-134982c78262",
   "metadata": {
    "execution": {
     "iopub.execute_input": "2025-01-11T01:12:05.276391Z",
     "iopub.status.busy": "2025-01-11T01:12:05.275869Z",
     "iopub.status.idle": "2025-01-11T01:12:05.298529Z",
     "shell.execute_reply": "2025-01-11T01:12:05.297692Z",
     "shell.execute_reply.started": "2025-01-11T01:12:05.276368Z"
    }
   },
   "outputs": [],
   "source": [
    "df_customers.rename(columns = {'Gender' : 'gender'}, inplace = True)"
   ]
  },
  {
   "cell_type": "code",
   "execution_count": 54,
   "id": "97168649-5997-4751-b790-cbaf56e1ec38",
   "metadata": {
    "execution": {
     "iopub.execute_input": "2025-01-11T01:12:05.336197Z",
     "iopub.status.busy": "2025-01-11T01:12:05.335938Z",
     "iopub.status.idle": "2025-01-11T01:12:05.358039Z",
     "shell.execute_reply": "2025-01-11T01:12:05.357072Z",
     "shell.execute_reply.started": "2025-01-11T01:12:05.336176Z"
    }
   },
   "outputs": [],
   "source": [
    "df_customers.rename(columns = {'n_dependants' : 'number_dependants'}, inplace = True)"
   ]
  },
  {
   "cell_type": "code",
   "execution_count": 56,
   "id": "90a77454-6766-4b74-9ae5-616052811180",
   "metadata": {
    "execution": {
     "iopub.execute_input": "2025-01-11T01:12:05.395627Z",
     "iopub.status.busy": "2025-01-11T01:12:05.395000Z",
     "iopub.status.idle": "2025-01-11T01:12:05.420637Z",
     "shell.execute_reply": "2025-01-11T01:12:05.419918Z",
     "shell.execute_reply.started": "2025-01-11T01:12:05.395602Z"
    }
   },
   "outputs": [
    {
     "data": {
      "text/html": [
       "<div>\n",
       "<style scoped>\n",
       "    .dataframe tbody tr th:only-of-type {\n",
       "        vertical-align: middle;\n",
       "    }\n",
       "\n",
       "    .dataframe tbody tr th {\n",
       "        vertical-align: top;\n",
       "    }\n",
       "\n",
       "    .dataframe thead th {\n",
       "        text-align: right;\n",
       "    }\n",
       "</style>\n",
       "<table border=\"1\" class=\"dataframe\">\n",
       "  <thead>\n",
       "    <tr style=\"text-align: right;\">\n",
       "      <th></th>\n",
       "      <th>user_id</th>\n",
       "      <th>first_name</th>\n",
       "      <th>last_name</th>\n",
       "      <th>gender</th>\n",
       "      <th>state_name</th>\n",
       "      <th>age_customer</th>\n",
       "      <th>date_joined</th>\n",
       "      <th>number_dependants</th>\n",
       "      <th>marital_status</th>\n",
       "      <th>income</th>\n",
       "    </tr>\n",
       "  </thead>\n",
       "  <tbody>\n",
       "    <tr>\n",
       "      <th>0</th>\n",
       "      <td>26711</td>\n",
       "      <td>Deborah</td>\n",
       "      <td>Esquivel</td>\n",
       "      <td>Female</td>\n",
       "      <td>Missouri</td>\n",
       "      <td>48</td>\n",
       "      <td>1/1/2017</td>\n",
       "      <td>3</td>\n",
       "      <td>married</td>\n",
       "      <td>165665</td>\n",
       "    </tr>\n",
       "    <tr>\n",
       "      <th>1</th>\n",
       "      <td>33890</td>\n",
       "      <td>Patricia</td>\n",
       "      <td>Hart</td>\n",
       "      <td>Female</td>\n",
       "      <td>New Mexico</td>\n",
       "      <td>36</td>\n",
       "      <td>1/1/2017</td>\n",
       "      <td>0</td>\n",
       "      <td>single</td>\n",
       "      <td>59285</td>\n",
       "    </tr>\n",
       "    <tr>\n",
       "      <th>2</th>\n",
       "      <td>65803</td>\n",
       "      <td>Kenneth</td>\n",
       "      <td>Farley</td>\n",
       "      <td>Male</td>\n",
       "      <td>Idaho</td>\n",
       "      <td>35</td>\n",
       "      <td>1/1/2017</td>\n",
       "      <td>2</td>\n",
       "      <td>married</td>\n",
       "      <td>99568</td>\n",
       "    </tr>\n",
       "    <tr>\n",
       "      <th>3</th>\n",
       "      <td>125935</td>\n",
       "      <td>Michelle</td>\n",
       "      <td>Hicks</td>\n",
       "      <td>Female</td>\n",
       "      <td>Iowa</td>\n",
       "      <td>40</td>\n",
       "      <td>1/1/2017</td>\n",
       "      <td>0</td>\n",
       "      <td>single</td>\n",
       "      <td>42049</td>\n",
       "    </tr>\n",
       "    <tr>\n",
       "      <th>4</th>\n",
       "      <td>130797</td>\n",
       "      <td>Ann</td>\n",
       "      <td>Gilmore</td>\n",
       "      <td>Female</td>\n",
       "      <td>Maryland</td>\n",
       "      <td>26</td>\n",
       "      <td>1/1/2017</td>\n",
       "      <td>1</td>\n",
       "      <td>married</td>\n",
       "      <td>40374</td>\n",
       "    </tr>\n",
       "  </tbody>\n",
       "</table>\n",
       "</div>"
      ],
      "text/plain": [
       "   user_id first_name last_name  gender  state_name  age_customer date_joined  \\\n",
       "0    26711    Deborah  Esquivel  Female    Missouri            48    1/1/2017   \n",
       "1    33890   Patricia      Hart  Female  New Mexico            36    1/1/2017   \n",
       "2    65803    Kenneth    Farley    Male       Idaho            35    1/1/2017   \n",
       "3   125935   Michelle     Hicks  Female        Iowa            40    1/1/2017   \n",
       "4   130797        Ann   Gilmore  Female    Maryland            26    1/1/2017   \n",
       "\n",
       "   number_dependants marital_status  income  \n",
       "0                  3        married  165665  \n",
       "1                  0         single   59285  \n",
       "2                  2        married   99568  \n",
       "3                  0         single   42049  \n",
       "4                  1        married   40374  "
      ]
     },
     "execution_count": 56,
     "metadata": {},
     "output_type": "execute_result"
    }
   ],
   "source": [
    "# Check output of column name changes\n",
    "\n",
    "df_customers.head()"
   ]
  },
  {
   "cell_type": "markdown",
   "id": "39a86471-0915-43c3-af48-1271252b1cb9",
   "metadata": {},
   "source": [
    "## Eliminate Unnecessary Columns"
   ]
  },
  {
   "cell_type": "markdown",
   "id": "6283c963-0d73-421b-9647-651790fbfe51",
   "metadata": {},
   "source": [
    "Because the purpose of the report would not require customer name information and to further protect their data, 'first_name' & 'last_name\" columns will be removed from the dataset."
   ]
  },
  {
   "cell_type": "code",
   "execution_count": 58,
   "id": "32dc3672-c291-4fae-bde3-5c1811f153a4",
   "metadata": {
    "execution": {
     "iopub.execute_input": "2025-01-11T01:12:05.456449Z",
     "iopub.status.busy": "2025-01-11T01:12:05.456071Z",
     "iopub.status.idle": "2025-01-11T01:12:05.499406Z",
     "shell.execute_reply": "2025-01-11T01:12:05.498483Z",
     "shell.execute_reply.started": "2025-01-11T01:12:05.456413Z"
    },
    "jupyter": {
     "source_hidden": true
    }
   },
   "outputs": [
    {
     "data": {
      "text/html": [
       "<div>\n",
       "<style scoped>\n",
       "    .dataframe tbody tr th:only-of-type {\n",
       "        vertical-align: middle;\n",
       "    }\n",
       "\n",
       "    .dataframe tbody tr th {\n",
       "        vertical-align: top;\n",
       "    }\n",
       "\n",
       "    .dataframe thead th {\n",
       "        text-align: right;\n",
       "    }\n",
       "</style>\n",
       "<table border=\"1\" class=\"dataframe\">\n",
       "  <thead>\n",
       "    <tr style=\"text-align: right;\">\n",
       "      <th></th>\n",
       "      <th>user_id</th>\n",
       "      <th>gender</th>\n",
       "      <th>state_name</th>\n",
       "      <th>age_customer</th>\n",
       "      <th>date_joined</th>\n",
       "      <th>number_dependants</th>\n",
       "      <th>marital_status</th>\n",
       "      <th>income</th>\n",
       "    </tr>\n",
       "  </thead>\n",
       "  <tbody>\n",
       "    <tr>\n",
       "      <th>0</th>\n",
       "      <td>26711</td>\n",
       "      <td>Female</td>\n",
       "      <td>Missouri</td>\n",
       "      <td>48</td>\n",
       "      <td>1/1/2017</td>\n",
       "      <td>3</td>\n",
       "      <td>married</td>\n",
       "      <td>165665</td>\n",
       "    </tr>\n",
       "    <tr>\n",
       "      <th>1</th>\n",
       "      <td>33890</td>\n",
       "      <td>Female</td>\n",
       "      <td>New Mexico</td>\n",
       "      <td>36</td>\n",
       "      <td>1/1/2017</td>\n",
       "      <td>0</td>\n",
       "      <td>single</td>\n",
       "      <td>59285</td>\n",
       "    </tr>\n",
       "    <tr>\n",
       "      <th>2</th>\n",
       "      <td>65803</td>\n",
       "      <td>Male</td>\n",
       "      <td>Idaho</td>\n",
       "      <td>35</td>\n",
       "      <td>1/1/2017</td>\n",
       "      <td>2</td>\n",
       "      <td>married</td>\n",
       "      <td>99568</td>\n",
       "    </tr>\n",
       "    <tr>\n",
       "      <th>3</th>\n",
       "      <td>125935</td>\n",
       "      <td>Female</td>\n",
       "      <td>Iowa</td>\n",
       "      <td>40</td>\n",
       "      <td>1/1/2017</td>\n",
       "      <td>0</td>\n",
       "      <td>single</td>\n",
       "      <td>42049</td>\n",
       "    </tr>\n",
       "    <tr>\n",
       "      <th>4</th>\n",
       "      <td>130797</td>\n",
       "      <td>Female</td>\n",
       "      <td>Maryland</td>\n",
       "      <td>26</td>\n",
       "      <td>1/1/2017</td>\n",
       "      <td>1</td>\n",
       "      <td>married</td>\n",
       "      <td>40374</td>\n",
       "    </tr>\n",
       "    <tr>\n",
       "      <th>...</th>\n",
       "      <td>...</td>\n",
       "      <td>...</td>\n",
       "      <td>...</td>\n",
       "      <td>...</td>\n",
       "      <td>...</td>\n",
       "      <td>...</td>\n",
       "      <td>...</td>\n",
       "      <td>...</td>\n",
       "    </tr>\n",
       "    <tr>\n",
       "      <th>206204</th>\n",
       "      <td>168073</td>\n",
       "      <td>Female</td>\n",
       "      <td>North Carolina</td>\n",
       "      <td>44</td>\n",
       "      <td>4/1/2020</td>\n",
       "      <td>1</td>\n",
       "      <td>married</td>\n",
       "      <td>148828</td>\n",
       "    </tr>\n",
       "    <tr>\n",
       "      <th>206205</th>\n",
       "      <td>49635</td>\n",
       "      <td>Male</td>\n",
       "      <td>Hawaii</td>\n",
       "      <td>62</td>\n",
       "      <td>4/1/2020</td>\n",
       "      <td>3</td>\n",
       "      <td>married</td>\n",
       "      <td>168639</td>\n",
       "    </tr>\n",
       "    <tr>\n",
       "      <th>206206</th>\n",
       "      <td>135902</td>\n",
       "      <td>Female</td>\n",
       "      <td>Missouri</td>\n",
       "      <td>66</td>\n",
       "      <td>4/1/2020</td>\n",
       "      <td>2</td>\n",
       "      <td>married</td>\n",
       "      <td>53374</td>\n",
       "    </tr>\n",
       "    <tr>\n",
       "      <th>206207</th>\n",
       "      <td>81095</td>\n",
       "      <td>Female</td>\n",
       "      <td>California</td>\n",
       "      <td>27</td>\n",
       "      <td>4/1/2020</td>\n",
       "      <td>1</td>\n",
       "      <td>married</td>\n",
       "      <td>99799</td>\n",
       "    </tr>\n",
       "    <tr>\n",
       "      <th>206208</th>\n",
       "      <td>80148</td>\n",
       "      <td>Female</td>\n",
       "      <td>New York</td>\n",
       "      <td>55</td>\n",
       "      <td>4/1/2020</td>\n",
       "      <td>1</td>\n",
       "      <td>married</td>\n",
       "      <td>57095</td>\n",
       "    </tr>\n",
       "  </tbody>\n",
       "</table>\n",
       "<p>206209 rows × 8 columns</p>\n",
       "</div>"
      ],
      "text/plain": [
       "        user_id  gender      state_name  age_customer date_joined  \\\n",
       "0         26711  Female        Missouri            48    1/1/2017   \n",
       "1         33890  Female      New Mexico            36    1/1/2017   \n",
       "2         65803    Male           Idaho            35    1/1/2017   \n",
       "3        125935  Female            Iowa            40    1/1/2017   \n",
       "4        130797  Female        Maryland            26    1/1/2017   \n",
       "...         ...     ...             ...           ...         ...   \n",
       "206204   168073  Female  North Carolina            44    4/1/2020   \n",
       "206205    49635    Male          Hawaii            62    4/1/2020   \n",
       "206206   135902  Female        Missouri            66    4/1/2020   \n",
       "206207    81095  Female      California            27    4/1/2020   \n",
       "206208    80148  Female        New York            55    4/1/2020   \n",
       "\n",
       "        number_dependants marital_status  income  \n",
       "0                       3        married  165665  \n",
       "1                       0         single   59285  \n",
       "2                       2        married   99568  \n",
       "3                       0         single   42049  \n",
       "4                       1        married   40374  \n",
       "...                   ...            ...     ...  \n",
       "206204                  1        married  148828  \n",
       "206205                  3        married  168639  \n",
       "206206                  2        married   53374  \n",
       "206207                  1        married   99799  \n",
       "206208                  1        married   57095  \n",
       "\n",
       "[206209 rows x 8 columns]"
      ]
     },
     "execution_count": 58,
     "metadata": {},
     "output_type": "execute_result"
    }
   ],
   "source": [
    "# Test visual of removing 'first_name' and 'last_name'\n",
    "\n",
    "df_customers.drop(columns = ['first_name', 'last_name'])"
   ]
  },
  {
   "cell_type": "code",
   "execution_count": 60,
   "id": "1ffff377-d5e7-41b9-857f-a2fbd7f49abc",
   "metadata": {
    "execution": {
     "iopub.execute_input": "2025-01-11T01:12:05.521049Z",
     "iopub.status.busy": "2025-01-11T01:12:05.520754Z",
     "iopub.status.idle": "2025-01-11T01:12:05.551842Z",
     "shell.execute_reply": "2025-01-11T01:12:05.551085Z",
     "shell.execute_reply.started": "2025-01-11T01:12:05.521024Z"
    }
   },
   "outputs": [],
   "source": [
    "# Resave column drops as new df\n",
    "\n",
    "df_customers_2 = df_customers.drop(columns = ['first_name', 'last_name'])"
   ]
  },
  {
   "cell_type": "code",
   "execution_count": 62,
   "id": "0f9a10cc-14c8-40e4-a62c-9542ae63d4dc",
   "metadata": {
    "execution": {
     "iopub.execute_input": "2025-01-11T01:12:05.579470Z",
     "iopub.status.busy": "2025-01-11T01:12:05.578952Z",
     "iopub.status.idle": "2025-01-11T01:12:05.605304Z",
     "shell.execute_reply": "2025-01-11T01:12:05.604558Z",
     "shell.execute_reply.started": "2025-01-11T01:12:05.579438Z"
    }
   },
   "outputs": [
    {
     "data": {
      "text/html": [
       "<div>\n",
       "<style scoped>\n",
       "    .dataframe tbody tr th:only-of-type {\n",
       "        vertical-align: middle;\n",
       "    }\n",
       "\n",
       "    .dataframe tbody tr th {\n",
       "        vertical-align: top;\n",
       "    }\n",
       "\n",
       "    .dataframe thead th {\n",
       "        text-align: right;\n",
       "    }\n",
       "</style>\n",
       "<table border=\"1\" class=\"dataframe\">\n",
       "  <thead>\n",
       "    <tr style=\"text-align: right;\">\n",
       "      <th></th>\n",
       "      <th>user_id</th>\n",
       "      <th>gender</th>\n",
       "      <th>state_name</th>\n",
       "      <th>age_customer</th>\n",
       "      <th>date_joined</th>\n",
       "      <th>number_dependants</th>\n",
       "      <th>marital_status</th>\n",
       "      <th>income</th>\n",
       "    </tr>\n",
       "  </thead>\n",
       "  <tbody>\n",
       "    <tr>\n",
       "      <th>0</th>\n",
       "      <td>26711</td>\n",
       "      <td>Female</td>\n",
       "      <td>Missouri</td>\n",
       "      <td>48</td>\n",
       "      <td>1/1/2017</td>\n",
       "      <td>3</td>\n",
       "      <td>married</td>\n",
       "      <td>165665</td>\n",
       "    </tr>\n",
       "    <tr>\n",
       "      <th>1</th>\n",
       "      <td>33890</td>\n",
       "      <td>Female</td>\n",
       "      <td>New Mexico</td>\n",
       "      <td>36</td>\n",
       "      <td>1/1/2017</td>\n",
       "      <td>0</td>\n",
       "      <td>single</td>\n",
       "      <td>59285</td>\n",
       "    </tr>\n",
       "    <tr>\n",
       "      <th>2</th>\n",
       "      <td>65803</td>\n",
       "      <td>Male</td>\n",
       "      <td>Idaho</td>\n",
       "      <td>35</td>\n",
       "      <td>1/1/2017</td>\n",
       "      <td>2</td>\n",
       "      <td>married</td>\n",
       "      <td>99568</td>\n",
       "    </tr>\n",
       "    <tr>\n",
       "      <th>3</th>\n",
       "      <td>125935</td>\n",
       "      <td>Female</td>\n",
       "      <td>Iowa</td>\n",
       "      <td>40</td>\n",
       "      <td>1/1/2017</td>\n",
       "      <td>0</td>\n",
       "      <td>single</td>\n",
       "      <td>42049</td>\n",
       "    </tr>\n",
       "    <tr>\n",
       "      <th>4</th>\n",
       "      <td>130797</td>\n",
       "      <td>Female</td>\n",
       "      <td>Maryland</td>\n",
       "      <td>26</td>\n",
       "      <td>1/1/2017</td>\n",
       "      <td>1</td>\n",
       "      <td>married</td>\n",
       "      <td>40374</td>\n",
       "    </tr>\n",
       "  </tbody>\n",
       "</table>\n",
       "</div>"
      ],
      "text/plain": [
       "   user_id  gender  state_name  age_customer date_joined  number_dependants  \\\n",
       "0    26711  Female    Missouri            48    1/1/2017                  3   \n",
       "1    33890  Female  New Mexico            36    1/1/2017                  0   \n",
       "2    65803    Male       Idaho            35    1/1/2017                  2   \n",
       "3   125935  Female        Iowa            40    1/1/2017                  0   \n",
       "4   130797  Female    Maryland            26    1/1/2017                  1   \n",
       "\n",
       "  marital_status  income  \n",
       "0        married  165665  \n",
       "1         single   59285  \n",
       "2        married   99568  \n",
       "3         single   42049  \n",
       "4        married   40374  "
      ]
     },
     "execution_count": 62,
     "metadata": {},
     "output_type": "execute_result"
    }
   ],
   "source": [
    "# Check output\n",
    "\n",
    "df_customers_2.head()"
   ]
  },
  {
   "cell_type": "markdown",
   "id": "0c9f7b59-6afd-421f-8b29-38ebbd6c8c6b",
   "metadata": {},
   "source": [
    "## Check for Missing Data"
   ]
  },
  {
   "cell_type": "code",
   "execution_count": 64,
   "id": "b5a6cc01-1dbc-4b93-879a-ce316cedf7e3",
   "metadata": {
    "execution": {
     "iopub.execute_input": "2025-01-11T01:12:05.645087Z",
     "iopub.status.busy": "2025-01-11T01:12:05.644485Z",
     "iopub.status.idle": "2025-01-11T01:12:05.699368Z",
     "shell.execute_reply": "2025-01-11T01:12:05.698424Z",
     "shell.execute_reply.started": "2025-01-11T01:12:05.645063Z"
    }
   },
   "outputs": [
    {
     "name": "stdout",
     "output_type": "stream",
     "text": [
      "<class 'pandas.core.frame.DataFrame'>\n",
      "RangeIndex: 206209 entries, 0 to 206208\n",
      "Data columns (total 8 columns):\n",
      " #   Column             Non-Null Count   Dtype \n",
      "---  ------             --------------   ----- \n",
      " 0   user_id            206209 non-null  int64 \n",
      " 1   gender             206209 non-null  object\n",
      " 2   state_name         206209 non-null  object\n",
      " 3   age_customer       206209 non-null  int64 \n",
      " 4   date_joined        206209 non-null  object\n",
      " 5   number_dependants  206209 non-null  int64 \n",
      " 6   marital_status     206209 non-null  object\n",
      " 7   income             206209 non-null  int64 \n",
      "dtypes: int64(4), object(4)\n",
      "memory usage: 12.6+ MB\n"
     ]
    }
   ],
   "source": [
    "# Check data types & non-null counts\n",
    "\n",
    "df_customers_2.info()"
   ]
  },
  {
   "cell_type": "markdown",
   "id": "affb404c-7afa-419b-97e2-c4197f148764",
   "metadata": {},
   "source": [
    "#### Notes:\n",
    "\n",
    "There doesn't appear to be any missing or non-null variables in this data (only first name had missing data, but column was removed). So now will check for duplicates."
   ]
  },
  {
   "cell_type": "markdown",
   "id": "8cbb7091-73b8-4152-a9ff-f14722105518",
   "metadata": {},
   "source": [
    "## Check for Duplicates"
   ]
  },
  {
   "cell_type": "code",
   "execution_count": 66,
   "id": "44f838c8-ed71-45eb-9cf7-d7691db6c7a7",
   "metadata": {
    "execution": {
     "iopub.execute_input": "2025-01-11T01:12:05.724385Z",
     "iopub.status.busy": "2025-01-11T01:12:05.724158Z",
     "iopub.status.idle": "2025-01-11T01:12:05.837018Z",
     "shell.execute_reply": "2025-01-11T01:12:05.836357Z",
     "shell.execute_reply.started": "2025-01-11T01:12:05.724368Z"
    }
   },
   "outputs": [],
   "source": [
    "# Create a new subset for any duplicate rows\n",
    "\n",
    "df_dups = df_customers_2[df_customers_2.duplicated()]"
   ]
  },
  {
   "cell_type": "code",
   "execution_count": 68,
   "id": "d68c8d8b-1e13-451b-a8a9-c8136d11b0d4",
   "metadata": {
    "execution": {
     "iopub.execute_input": "2025-01-11T01:12:05.864571Z",
     "iopub.status.busy": "2025-01-11T01:12:05.864232Z",
     "iopub.status.idle": "2025-01-11T01:12:05.888193Z",
     "shell.execute_reply": "2025-01-11T01:12:05.887322Z",
     "shell.execute_reply.started": "2025-01-11T01:12:05.864539Z"
    }
   },
   "outputs": [
    {
     "data": {
      "text/html": [
       "<div>\n",
       "<style scoped>\n",
       "    .dataframe tbody tr th:only-of-type {\n",
       "        vertical-align: middle;\n",
       "    }\n",
       "\n",
       "    .dataframe tbody tr th {\n",
       "        vertical-align: top;\n",
       "    }\n",
       "\n",
       "    .dataframe thead th {\n",
       "        text-align: right;\n",
       "    }\n",
       "</style>\n",
       "<table border=\"1\" class=\"dataframe\">\n",
       "  <thead>\n",
       "    <tr style=\"text-align: right;\">\n",
       "      <th></th>\n",
       "      <th>user_id</th>\n",
       "      <th>gender</th>\n",
       "      <th>state_name</th>\n",
       "      <th>age_customer</th>\n",
       "      <th>date_joined</th>\n",
       "      <th>number_dependants</th>\n",
       "      <th>marital_status</th>\n",
       "      <th>income</th>\n",
       "    </tr>\n",
       "  </thead>\n",
       "  <tbody>\n",
       "  </tbody>\n",
       "</table>\n",
       "</div>"
      ],
      "text/plain": [
       "Empty DataFrame\n",
       "Columns: [user_id, gender, state_name, age_customer, date_joined, number_dependants, marital_status, income]\n",
       "Index: []"
      ]
     },
     "execution_count": 68,
     "metadata": {},
     "output_type": "execute_result"
    }
   ],
   "source": [
    "# Check output of duplicates df\n",
    "\n",
    "df_dups"
   ]
  },
  {
   "cell_type": "markdown",
   "id": "cf51cf27-1f91-4f9e-911d-ba3c4099deea",
   "metadata": {},
   "source": [
    "#### Notes:\n",
    "\n",
    "No duplicate rows appear so will continue with exploration."
   ]
  },
  {
   "cell_type": "markdown",
   "id": "e7bdaf4e-6f5f-4fa4-bac8-f2d3e5221b0e",
   "metadata": {},
   "source": [
    "## Check for Mixed Datatypes"
   ]
  },
  {
   "cell_type": "code",
   "execution_count": 70,
   "id": "73eee298-012d-4faa-8bca-5d78e2bf5ef5",
   "metadata": {
    "execution": {
     "iopub.execute_input": "2025-01-11T01:12:05.928832Z",
     "iopub.status.busy": "2025-01-11T01:12:05.928197Z",
     "iopub.status.idle": "2025-01-11T01:12:06.308856Z",
     "shell.execute_reply": "2025-01-11T01:12:06.308067Z",
     "shell.execute_reply.started": "2025-01-11T01:12:05.928801Z"
    }
   },
   "outputs": [],
   "source": [
    "# Check for mixed datatypes in the df_customers_2 df\n",
    "\n",
    "for col in df_customers_2.columns.tolist():\n",
    "  weird = (df_customers_2[[col]].map(type) != df_customers_2[[col]].iloc[0].apply(type)).any(axis = 1)\n",
    "  if len (df_customers_2[weird]) > 0:\n",
    "    print (col)"
   ]
  },
  {
   "cell_type": "markdown",
   "id": "3f409489-dfe2-4164-bbdd-dbde56d025b2",
   "metadata": {},
   "source": [
    "#### Notes:\n",
    "\n",
    "No mixed data types were reported.\n",
    "\n",
    "Next will check to make sure the variable key user_id matches the data type in the ords_prods_merge df"
   ]
  },
  {
   "cell_type": "code",
   "execution_count": 72,
   "id": "1e60bfa2-fe72-405e-a1c6-829dfdbfda8b",
   "metadata": {
    "execution": {
     "iopub.execute_input": "2025-01-11T01:12:06.329621Z",
     "iopub.status.busy": "2025-01-11T01:12:06.329302Z",
     "iopub.status.idle": "2025-01-11T01:12:06.350044Z",
     "shell.execute_reply": "2025-01-11T01:12:06.349198Z",
     "shell.execute_reply.started": "2025-01-11T01:12:06.329600Z"
    }
   },
   "outputs": [
    {
     "name": "stdout",
     "output_type": "stream",
     "text": [
      "<class 'pandas.core.frame.DataFrame'>\n",
      "RangeIndex: 6480944 entries, 0 to 6480943\n",
      "Data columns (total 23 columns):\n",
      " #   Column                  Dtype  \n",
      "---  ------                  -----  \n",
      " 0   order_id                int64  \n",
      " 1   user_id                 int64  \n",
      " 2   order_number            int64  \n",
      " 3   orders_day_of_week      int64  \n",
      " 4   order_hour_of_day       int64  \n",
      " 5   days_since_prior_order  float64\n",
      " 6   product_id              int32  \n",
      " 7   add_to_cart_order       int64  \n",
      " 8   reordered               int64  \n",
      " 9   product_name            object \n",
      " 10  aisle_id                int64  \n",
      " 11  department_id           int64  \n",
      " 12  prices                  float32\n",
      " 13  price_range_loc         object \n",
      " 14  busiest_day             object \n",
      " 15  busiest_days            object \n",
      " 16  busiest_period_of_day   object \n",
      " 17  max_order               int64  \n",
      " 18  loyalty_flag            object \n",
      " 19  mean_price              float32\n",
      " 20  spender_flag            object \n",
      " 21  median_order            float64\n",
      " 22  order_frequency_flag    object \n",
      "dtypes: float32(2), float64(2), int32(1), int64(10), object(8)\n",
      "memory usage: 1.0+ GB\n"
     ]
    }
   ],
   "source": [
    "# Check datatypes of the ords_prods_merge dataframe\n",
    "\n",
    "ords_prods_merge.info()"
   ]
  },
  {
   "cell_type": "code",
   "execution_count": 74,
   "id": "9158c968-fc04-44e9-8a98-ef80ea044e8c",
   "metadata": {
    "execution": {
     "iopub.execute_input": "2025-01-11T01:12:06.381410Z",
     "iopub.status.busy": "2025-01-11T01:12:06.380970Z",
     "iopub.status.idle": "2025-01-11T01:12:06.429411Z",
     "shell.execute_reply": "2025-01-11T01:12:06.428583Z",
     "shell.execute_reply.started": "2025-01-11T01:12:06.381386Z"
    }
   },
   "outputs": [
    {
     "name": "stdout",
     "output_type": "stream",
     "text": [
      "<class 'pandas.core.frame.DataFrame'>\n",
      "RangeIndex: 206209 entries, 0 to 206208\n",
      "Data columns (total 8 columns):\n",
      " #   Column             Non-Null Count   Dtype \n",
      "---  ------             --------------   ----- \n",
      " 0   user_id            206209 non-null  int64 \n",
      " 1   gender             206209 non-null  object\n",
      " 2   state_name         206209 non-null  object\n",
      " 3   age_customer       206209 non-null  int64 \n",
      " 4   date_joined        206209 non-null  object\n",
      " 5   number_dependants  206209 non-null  int64 \n",
      " 6   marital_status     206209 non-null  object\n",
      " 7   income             206209 non-null  int64 \n",
      "dtypes: int64(4), object(4)\n",
      "memory usage: 12.6+ MB\n"
     ]
    }
   ],
   "source": [
    "# Check datatypes of the df_customers_2 dataframe\n",
    "\n",
    "\n",
    "df_customers_2.info()"
   ]
  },
  {
   "cell_type": "markdown",
   "id": "fe3e72c8-22ce-4001-a7da-6573e7829f7e",
   "metadata": {},
   "source": [
    "#### Notes:\n",
    "\n",
    "user_id in both dataframes is the same dtype (int64), so no need to change any data types!"
   ]
  },
  {
   "cell_type": "markdown",
   "id": "7803f66d-7bbd-43ff-a969-f459c4a1ebab",
   "metadata": {},
   "source": [
    "## Check for Outliers"
   ]
  },
  {
   "cell_type": "code",
   "execution_count": 76,
   "id": "cb7b4932-4af8-41e2-9622-443e131cd200",
   "metadata": {
    "execution": {
     "iopub.execute_input": "2025-01-11T01:12:06.450525Z",
     "iopub.status.busy": "2025-01-11T01:12:06.449993Z",
     "iopub.status.idle": "2025-01-11T01:12:06.479897Z",
     "shell.execute_reply": "2025-01-11T01:12:06.479147Z",
     "shell.execute_reply.started": "2025-01-11T01:12:06.450495Z"
    }
   },
   "outputs": [
    {
     "data": {
      "text/plain": [
       "count   206209.00\n",
       "mean     94632.85\n",
       "std      42473.79\n",
       "min      25903.00\n",
       "25%      59874.00\n",
       "50%      93547.00\n",
       "75%     124244.00\n",
       "max     593901.00\n",
       "Name: income, dtype: float64"
      ]
     },
     "execution_count": 76,
     "metadata": {},
     "output_type": "execute_result"
    }
   ],
   "source": [
    "df_customers_2['income'].describe()"
   ]
  },
  {
   "cell_type": "markdown",
   "id": "8a812ab0-22e2-40f9-aa60-c80ce4bf1ddb",
   "metadata": {},
   "source": [
    "#### Notes:\n",
    "\n",
    "When using .describe() on dataframe above, both customer ages and number of dependents seemed reasonable, but the income seemed like it could have some outliers that might skew the dataset. Will investigate further with some basic statistical analysis."
   ]
  },
  {
   "cell_type": "code",
   "execution_count": 78,
   "id": "c355b81f-8638-417f-b4ef-fb947d1d6166",
   "metadata": {
    "execution": {
     "iopub.execute_input": "2025-01-11T01:12:06.501130Z",
     "iopub.status.busy": "2025-01-11T01:12:06.500802Z",
     "iopub.status.idle": "2025-01-11T01:12:06.519880Z",
     "shell.execute_reply": "2025-01-11T01:12:06.519266Z",
     "shell.execute_reply.started": "2025-01-11T01:12:06.501099Z"
    }
   },
   "outputs": [
    {
     "data": {
      "text/plain": [
       "94632.85254765795"
      ]
     },
     "execution_count": 78,
     "metadata": {},
     "output_type": "execute_result"
    }
   ],
   "source": [
    "# Check mean of income\n",
    "\n",
    "df_customers_2['income'].mean()"
   ]
  },
  {
   "cell_type": "code",
   "execution_count": 80,
   "id": "aa1a6982-7a2f-45db-a75c-a52497d6665b",
   "metadata": {
    "execution": {
     "iopub.execute_input": "2025-01-11T01:12:06.547071Z",
     "iopub.status.busy": "2025-01-11T01:12:06.546739Z",
     "iopub.status.idle": "2025-01-11T01:12:06.569558Z",
     "shell.execute_reply": "2025-01-11T01:12:06.568691Z",
     "shell.execute_reply.started": "2025-01-11T01:12:06.547016Z"
    }
   },
   "outputs": [
    {
     "data": {
      "text/plain": [
       "93547.0"
      ]
     },
     "execution_count": 80,
     "metadata": {},
     "output_type": "execute_result"
    }
   ],
   "source": [
    "# Check median of income\n",
    "\n",
    "df_customers_2['income'].median()"
   ]
  },
  {
   "cell_type": "code",
   "execution_count": 82,
   "id": "a6e9fa87-bedd-4b73-a2c1-7536253f0dcb",
   "metadata": {
    "execution": {
     "iopub.execute_input": "2025-01-11T01:12:06.597710Z",
     "iopub.status.busy": "2025-01-11T01:12:06.597298Z",
     "iopub.status.idle": "2025-01-11T01:12:06.615167Z",
     "shell.execute_reply": "2025-01-11T01:12:06.614194Z",
     "shell.execute_reply.started": "2025-01-11T01:12:06.597681Z"
    }
   },
   "outputs": [
    {
     "data": {
      "text/plain": [
       "593901"
      ]
     },
     "execution_count": 82,
     "metadata": {},
     "output_type": "execute_result"
    }
   ],
   "source": [
    "# Check max of income\n",
    "\n",
    "df_customers_2['income'].max()"
   ]
  },
  {
   "cell_type": "markdown",
   "id": "2bf30d86-c8ed-473f-b6d6-2733fa6aa589",
   "metadata": {},
   "source": [
    "#### Notes:\n",
    "\n",
    "$$593,901 is quite a lot bigger than the median income of $93,547, so will use a scatterplot to better visualize and see where to cut out some of the customer profiles."
   ]
  },
  {
   "cell_type": "code",
   "execution_count": 84,
   "id": "089f452a-89fd-48b9-b5fe-85af9516ebb0",
   "metadata": {
    "execution": {
     "iopub.execute_input": "2025-01-11T01:12:06.642291Z",
     "iopub.status.busy": "2025-01-11T01:12:06.641723Z",
     "iopub.status.idle": "2025-01-11T01:12:07.471717Z",
     "shell.execute_reply": "2025-01-11T01:12:07.470646Z",
     "shell.execute_reply.started": "2025-01-11T01:12:06.642268Z"
    }
   },
   "outputs": [
    {
     "data": {
      "text/plain": [
       "<Axes: xlabel='income', ylabel='income'>"
      ]
     },
     "execution_count": 84,
     "metadata": {},
     "output_type": "execute_result"
    },
    {
     "data": {
      "image/png": "[encoded data removed]",
      "text/plain": [
       "<Figure size 640x480 with 1 Axes>"
      ]
     },
     "metadata": {},
     "output_type": "display_data"
    }
   ],
   "source": [
    "# Create a scatterplot of the income column\n",
    "\n",
    "sns.scatterplot(x = 'income', y = 'income',data = df_customers_2)"
   ]
  },
  {
   "cell_type": "code",
   "execution_count": 86,
   "id": "26505658-617b-4733-9dad-c36e4db96062",
   "metadata": {
    "execution": {
     "iopub.execute_input": "2025-01-11T01:12:07.491207Z",
     "iopub.status.busy": "2025-01-11T01:12:07.490884Z",
     "iopub.status.idle": "2025-01-11T01:12:07.760070Z",
     "shell.execute_reply": "2025-01-11T01:12:07.759119Z",
     "shell.execute_reply.started": "2025-01-11T01:12:07.491180Z"
    }
   },
   "outputs": [
    {
     "data": {
      "text/plain": [
       "<Axes: ylabel='Frequency'>"
      ]
     },
     "execution_count": 86,
     "metadata": {},
     "output_type": "execute_result"
    },
    {
     "data": {
      "image/png": "[encoded data removed]",
      "text/plain": [
       "<Figure size 640x480 with 1 Axes>"
      ]
     },
     "metadata": {},
     "output_type": "display_data"
    }
   ],
   "source": [
    "# Create histogram of income column\n",
    "\n",
    "df_customers_2['income'].plot.hist(bins = 20)"
   ]
  },
  {
   "cell_type": "code",
   "execution_count": 88,
   "id": "81a163be-ba45-4789-bb89-ab290c9f8a52",
   "metadata": {
    "execution": {
     "iopub.execute_input": "2025-01-11T01:12:07.800800Z",
     "iopub.status.busy": "2025-01-11T01:12:07.800311Z",
     "iopub.status.idle": "2025-01-11T01:12:07.836949Z",
     "shell.execute_reply": "2025-01-11T01:12:07.836148Z",
     "shell.execute_reply.started": "2025-01-11T01:12:07.800771Z"
    }
   },
   "outputs": [
    {
     "data": {
      "text/html": [
       "<div>\n",
       "<style scoped>\n",
       "    .dataframe tbody tr th:only-of-type {\n",
       "        vertical-align: middle;\n",
       "    }\n",
       "\n",
       "    .dataframe tbody tr th {\n",
       "        vertical-align: top;\n",
       "    }\n",
       "\n",
       "    .dataframe thead th {\n",
       "        text-align: right;\n",
       "    }\n",
       "</style>\n",
       "<table border=\"1\" class=\"dataframe\">\n",
       "  <thead>\n",
       "    <tr style=\"text-align: right;\">\n",
       "      <th></th>\n",
       "      <th>state_name</th>\n",
       "      <th>number_dependants</th>\n",
       "      <th>age_customer</th>\n",
       "      <th>income</th>\n",
       "    </tr>\n",
       "  </thead>\n",
       "  <tbody>\n",
       "    <tr>\n",
       "      <th>0</th>\n",
       "      <td>Missouri</td>\n",
       "      <td>3</td>\n",
       "      <td>48</td>\n",
       "      <td>165665</td>\n",
       "    </tr>\n",
       "    <tr>\n",
       "      <th>8</th>\n",
       "      <td>Texas</td>\n",
       "      <td>1</td>\n",
       "      <td>47</td>\n",
       "      <td>162432</td>\n",
       "    </tr>\n",
       "    <tr>\n",
       "      <th>14</th>\n",
       "      <td>Colorado</td>\n",
       "      <td>2</td>\n",
       "      <td>51</td>\n",
       "      <td>146559</td>\n",
       "    </tr>\n",
       "    <tr>\n",
       "      <th>21</th>\n",
       "      <td>Arkansas</td>\n",
       "      <td>1</td>\n",
       "      <td>77</td>\n",
       "      <td>125977</td>\n",
       "    </tr>\n",
       "    <tr>\n",
       "      <th>24</th>\n",
       "      <td>Montana</td>\n",
       "      <td>0</td>\n",
       "      <td>72</td>\n",
       "      <td>135302</td>\n",
       "    </tr>\n",
       "    <tr>\n",
       "      <th>...</th>\n",
       "      <td>...</td>\n",
       "      <td>...</td>\n",
       "      <td>...</td>\n",
       "      <td>...</td>\n",
       "    </tr>\n",
       "    <tr>\n",
       "      <th>206196</th>\n",
       "      <td>Colorado</td>\n",
       "      <td>2</td>\n",
       "      <td>45</td>\n",
       "      <td>150954</td>\n",
       "    </tr>\n",
       "    <tr>\n",
       "      <th>206197</th>\n",
       "      <td>Minnesota</td>\n",
       "      <td>0</td>\n",
       "      <td>52</td>\n",
       "      <td>140700</td>\n",
       "    </tr>\n",
       "    <tr>\n",
       "      <th>206199</th>\n",
       "      <td>Wyoming</td>\n",
       "      <td>0</td>\n",
       "      <td>77</td>\n",
       "      <td>162239</td>\n",
       "    </tr>\n",
       "    <tr>\n",
       "      <th>206204</th>\n",
       "      <td>North Carolina</td>\n",
       "      <td>1</td>\n",
       "      <td>44</td>\n",
       "      <td>148828</td>\n",
       "    </tr>\n",
       "    <tr>\n",
       "      <th>206205</th>\n",
       "      <td>Hawaii</td>\n",
       "      <td>3</td>\n",
       "      <td>62</td>\n",
       "      <td>168639</td>\n",
       "    </tr>\n",
       "  </tbody>\n",
       "</table>\n",
       "<p>50744 rows × 4 columns</p>\n",
       "</div>"
      ],
      "text/plain": [
       "            state_name  number_dependants  age_customer  income\n",
       "0             Missouri                  3            48  165665\n",
       "8                Texas                  1            47  162432\n",
       "14            Colorado                  2            51  146559\n",
       "21            Arkansas                  1            77  125977\n",
       "24             Montana                  0            72  135302\n",
       "...                ...                ...           ...     ...\n",
       "206196        Colorado                  2            45  150954\n",
       "206197       Minnesota                  0            52  140700\n",
       "206199         Wyoming                  0            77  162239\n",
       "206204  North Carolina                  1            44  148828\n",
       "206205          Hawaii                  3            62  168639\n",
       "\n",
       "[50744 rows x 4 columns]"
      ]
     },
     "execution_count": 88,
     "metadata": {},
     "output_type": "execute_result"
    }
   ],
   "source": [
    "# Looking for the outlier income (over $125,000 chosen as this was the 75% quartile)\n",
    "\n",
    "df_customers_2[['state_name', 'number_dependants', 'age_customer','income']].loc[df_customers_2['income'] > 125000]"
   ]
  },
  {
   "cell_type": "code",
   "execution_count": 90,
   "id": "1239584d-0f5c-4c3f-8dd8-8571b88e5af6",
   "metadata": {
    "execution": {
     "iopub.execute_input": "2025-01-11T01:12:07.866334Z",
     "iopub.status.busy": "2025-01-11T01:12:07.863188Z",
     "iopub.status.idle": "2025-01-11T01:12:07.904981Z",
     "shell.execute_reply": "2025-01-11T01:12:07.904422Z",
     "shell.execute_reply.started": "2025-01-11T01:12:07.866291Z"
    }
   },
   "outputs": [
    {
     "data": {
      "text/html": [
       "<div>\n",
       "<style scoped>\n",
       "    .dataframe tbody tr th:only-of-type {\n",
       "        vertical-align: middle;\n",
       "    }\n",
       "\n",
       "    .dataframe tbody tr th {\n",
       "        vertical-align: top;\n",
       "    }\n",
       "\n",
       "    .dataframe thead th {\n",
       "        text-align: right;\n",
       "    }\n",
       "</style>\n",
       "<table border=\"1\" class=\"dataframe\">\n",
       "  <thead>\n",
       "    <tr style=\"text-align: right;\">\n",
       "      <th></th>\n",
       "      <th>state_name</th>\n",
       "      <th>number_dependants</th>\n",
       "      <th>age_customer</th>\n",
       "      <th>income</th>\n",
       "    </tr>\n",
       "  </thead>\n",
       "  <tbody>\n",
       "    <tr>\n",
       "      <th>2018</th>\n",
       "      <td>Mississippi</td>\n",
       "      <td>2</td>\n",
       "      <td>65</td>\n",
       "      <td>577728</td>\n",
       "    </tr>\n",
       "    <tr>\n",
       "      <th>6515</th>\n",
       "      <td>Louisiana</td>\n",
       "      <td>0</td>\n",
       "      <td>48</td>\n",
       "      <td>518122</td>\n",
       "    </tr>\n",
       "    <tr>\n",
       "      <th>12044</th>\n",
       "      <td>Vermont</td>\n",
       "      <td>0</td>\n",
       "      <td>75</td>\n",
       "      <td>576876</td>\n",
       "    </tr>\n",
       "    <tr>\n",
       "      <th>21704</th>\n",
       "      <td>Maryland</td>\n",
       "      <td>3</td>\n",
       "      <td>49</td>\n",
       "      <td>559700</td>\n",
       "    </tr>\n",
       "    <tr>\n",
       "      <th>21726</th>\n",
       "      <td>Washington</td>\n",
       "      <td>2</td>\n",
       "      <td>75</td>\n",
       "      <td>593901</td>\n",
       "    </tr>\n",
       "    <tr>\n",
       "      <th>...</th>\n",
       "      <td>...</td>\n",
       "      <td>...</td>\n",
       "      <td>...</td>\n",
       "      <td>...</td>\n",
       "    </tr>\n",
       "    <tr>\n",
       "      <th>199982</th>\n",
       "      <td>Hawaii</td>\n",
       "      <td>0</td>\n",
       "      <td>46</td>\n",
       "      <td>550917</td>\n",
       "    </tr>\n",
       "    <tr>\n",
       "      <th>200450</th>\n",
       "      <td>Indiana</td>\n",
       "      <td>1</td>\n",
       "      <td>57</td>\n",
       "      <td>579397</td>\n",
       "    </tr>\n",
       "    <tr>\n",
       "      <th>200774</th>\n",
       "      <td>Michigan</td>\n",
       "      <td>1</td>\n",
       "      <td>81</td>\n",
       "      <td>571932</td>\n",
       "    </tr>\n",
       "    <tr>\n",
       "      <th>202655</th>\n",
       "      <td>Washington</td>\n",
       "      <td>2</td>\n",
       "      <td>43</td>\n",
       "      <td>592409</td>\n",
       "    </tr>\n",
       "    <tr>\n",
       "      <th>204513</th>\n",
       "      <td>Tennessee</td>\n",
       "      <td>0</td>\n",
       "      <td>53</td>\n",
       "      <td>518856</td>\n",
       "    </tr>\n",
       "  </tbody>\n",
       "</table>\n",
       "<p>70 rows × 4 columns</p>\n",
       "</div>"
      ],
      "text/plain": [
       "         state_name  number_dependants  age_customer  income\n",
       "2018    Mississippi                  2            65  577728\n",
       "6515      Louisiana                  0            48  518122\n",
       "12044       Vermont                  0            75  576876\n",
       "21704      Maryland                  3            49  559700\n",
       "21726    Washington                  2            75  593901\n",
       "...             ...                ...           ...     ...\n",
       "199982       Hawaii                  0            46  550917\n",
       "200450      Indiana                  1            57  579397\n",
       "200774     Michigan                  1            81  571932\n",
       "202655   Washington                  2            43  592409\n",
       "204513    Tennessee                  0            53  518856\n",
       "\n",
       "[70 rows x 4 columns]"
      ]
     },
     "execution_count": 90,
     "metadata": {},
     "output_type": "execute_result"
    }
   ],
   "source": [
    "# Looking for the outlier income over $500,000\n",
    "\n",
    "df_customers_2[['state_name', 'number_dependants', 'age_customer','income']].loc[df_customers_2['income'] > 500000]"
   ]
  },
  {
   "cell_type": "markdown",
   "id": "43de36c7-3196-4561-90f9-eebe29288382",
   "metadata": {},
   "source": [
    "#### Notes:\n",
    "\n",
    "Because at least a quarter of the customers are above the 125,000 dollar mark and even 70 customers above the 500,000 dollar income level (and scatterplot looked relatively consistent), it seems relevant to keep all income levels and not eliminate any for this dataset. No one income seemed to be an odd outlier."
   ]
  },
  {
   "cell_type": "markdown",
   "id": "25bd1d31-2b80-4c22-aa45-3871abc00810",
   "metadata": {
    "jp-MarkdownHeadingCollapsed": true
   },
   "source": [
    "# 04. Combine Data"
   ]
  },
  {
   "cell_type": "markdown",
   "id": "9e2fec6d-3fc9-448f-8479-49e2d513fea2",
   "metadata": {},
   "source": [
    "## Merge df_customers_2 and ords_prods_merge_2"
   ]
  },
  {
   "cell_type": "code",
   "execution_count": 100,
   "id": "392aaf6c-aa4e-46a2-a8fa-93432715e1e1",
   "metadata": {
    "execution": {
     "iopub.execute_input": "2025-01-11T01:13:01.380617Z",
     "iopub.status.busy": "2025-01-11T01:13:01.380263Z",
     "iopub.status.idle": "2025-01-11T01:13:15.118099Z",
     "shell.execute_reply": "2025-01-11T01:13:15.117380Z",
     "shell.execute_reply.started": "2025-01-11T01:13:01.380594Z"
    }
   },
   "outputs": [],
   "source": [
    "# Merge df_customers_2 & df_ords_prods\n",
    "\n",
    "cust_ords_prods = ords_prods_merge.merge(df_customers_2, on = 'user_id', indicator = True)"
   ]
  },
  {
   "cell_type": "code",
   "execution_count": 106,
   "id": "8641b340-8a9c-47ec-a52e-eefb3a9e3a55",
   "metadata": {
    "execution": {
     "iopub.execute_input": "2025-01-11T01:14:06.803715Z",
     "iopub.status.busy": "2025-01-11T01:14:06.803088Z",
     "iopub.status.idle": "2025-01-11T01:14:06.822780Z",
     "shell.execute_reply": "2025-01-11T01:14:06.822026Z",
     "shell.execute_reply.started": "2025-01-11T01:14:06.803689Z"
    }
   },
   "outputs": [],
   "source": [
    "# Set the display option to show all columns\n",
    "\n",
    "pd.set_option('display.max_columns', None)"
   ]
  },
  {
   "cell_type": "code",
   "execution_count": 109,
   "id": "d445d591-d2c2-4f94-8524-5fb08ff8f147",
   "metadata": {
    "execution": {
     "iopub.execute_input": "2025-01-11T01:14:09.234520Z",
     "iopub.status.busy": "2025-01-11T01:14:09.234207Z",
     "iopub.status.idle": "2025-01-11T01:14:09.263809Z",
     "shell.execute_reply": "2025-01-11T01:14:09.262883Z",
     "shell.execute_reply.started": "2025-01-11T01:14:09.234499Z"
    }
   },
   "outputs": [
    {
     "data": {
      "text/html": [
       "<div>\n",
       "<style scoped>\n",
       "    .dataframe tbody tr th:only-of-type {\n",
       "        vertical-align: middle;\n",
       "    }\n",
       "\n",
       "    .dataframe tbody tr th {\n",
       "        vertical-align: top;\n",
       "    }\n",
       "\n",
       "    .dataframe thead th {\n",
       "        text-align: right;\n",
       "    }\n",
       "</style>\n",
       "<table border=\"1\" class=\"dataframe\">\n",
       "  <thead>\n",
       "    <tr style=\"text-align: right;\">\n",
       "      <th></th>\n",
       "      <th>order_id</th>\n",
       "      <th>user_id</th>\n",
       "      <th>order_number</th>\n",
       "      <th>orders_day_of_week</th>\n",
       "      <th>order_hour_of_day</th>\n",
       "      <th>days_since_prior_order</th>\n",
       "      <th>product_id</th>\n",
       "      <th>add_to_cart_order</th>\n",
       "      <th>reordered</th>\n",
       "      <th>product_name</th>\n",
       "      <th>aisle_id</th>\n",
       "      <th>department_id</th>\n",
       "      <th>prices</th>\n",
       "      <th>price_range_loc</th>\n",
       "      <th>busiest_day</th>\n",
       "      <th>busiest_days</th>\n",
       "      <th>busiest_period_of_day</th>\n",
       "      <th>max_order</th>\n",
       "      <th>loyalty_flag</th>\n",
       "      <th>mean_price</th>\n",
       "      <th>spender_flag</th>\n",
       "      <th>median_order</th>\n",
       "      <th>order_frequency_flag</th>\n",
       "      <th>gender</th>\n",
       "      <th>state_name</th>\n",
       "      <th>age_customer</th>\n",
       "      <th>date_joined</th>\n",
       "      <th>number_dependants</th>\n",
       "      <th>marital_status</th>\n",
       "      <th>income</th>\n",
       "      <th>_merge</th>\n",
       "    </tr>\n",
       "  </thead>\n",
       "  <tbody>\n",
       "    <tr>\n",
       "      <th>0</th>\n",
       "      <td>2617132</td>\n",
       "      <td>55630</td>\n",
       "      <td>6</td>\n",
       "      <td>2</td>\n",
       "      <td>15</td>\n",
       "      <td>5.00</td>\n",
       "      <td>31766</td>\n",
       "      <td>13</td>\n",
       "      <td>0</td>\n",
       "      <td>Cheese Pizza Snacks</td>\n",
       "      <td>129</td>\n",
       "      <td>1</td>\n",
       "      <td>14.30</td>\n",
       "      <td>Mid-range product</td>\n",
       "      <td>Regularly busy</td>\n",
       "      <td>Regularly busy</td>\n",
       "      <td>Most orders</td>\n",
       "      <td>50</td>\n",
       "      <td>Loyal customer</td>\n",
       "      <td>7.55</td>\n",
       "      <td>Low spender</td>\n",
       "      <td>5.00</td>\n",
       "      <td>Frequent customer</td>\n",
       "      <td>Female</td>\n",
       "      <td>Rhode Island</td>\n",
       "      <td>29</td>\n",
       "      <td>10/5/2017</td>\n",
       "      <td>2</td>\n",
       "      <td>married</td>\n",
       "      <td>71955</td>\n",
       "      <td>both</td>\n",
       "    </tr>\n",
       "    <tr>\n",
       "      <th>1</th>\n",
       "      <td>1262501</td>\n",
       "      <td>55630</td>\n",
       "      <td>17</td>\n",
       "      <td>2</td>\n",
       "      <td>14</td>\n",
       "      <td>12.00</td>\n",
       "      <td>27966</td>\n",
       "      <td>1</td>\n",
       "      <td>1</td>\n",
       "      <td>Organic Raspberries</td>\n",
       "      <td>123</td>\n",
       "      <td>4</td>\n",
       "      <td>4.40</td>\n",
       "      <td>Low-range product</td>\n",
       "      <td>Regularly busy</td>\n",
       "      <td>Regularly busy</td>\n",
       "      <td>Most orders</td>\n",
       "      <td>50</td>\n",
       "      <td>Loyal customer</td>\n",
       "      <td>7.55</td>\n",
       "      <td>Low spender</td>\n",
       "      <td>5.00</td>\n",
       "      <td>Frequent customer</td>\n",
       "      <td>Female</td>\n",
       "      <td>Rhode Island</td>\n",
       "      <td>29</td>\n",
       "      <td>10/5/2017</td>\n",
       "      <td>2</td>\n",
       "      <td>married</td>\n",
       "      <td>71955</td>\n",
       "      <td>both</td>\n",
       "    </tr>\n",
       "    <tr>\n",
       "      <th>2</th>\n",
       "      <td>841284</td>\n",
       "      <td>55630</td>\n",
       "      <td>26</td>\n",
       "      <td>2</td>\n",
       "      <td>10</td>\n",
       "      <td>4.00</td>\n",
       "      <td>27966</td>\n",
       "      <td>1</td>\n",
       "      <td>1</td>\n",
       "      <td>Organic Raspberries</td>\n",
       "      <td>123</td>\n",
       "      <td>4</td>\n",
       "      <td>4.40</td>\n",
       "      <td>Low-range product</td>\n",
       "      <td>Regularly busy</td>\n",
       "      <td>Regularly busy</td>\n",
       "      <td>Most orders</td>\n",
       "      <td>50</td>\n",
       "      <td>Loyal customer</td>\n",
       "      <td>7.55</td>\n",
       "      <td>Low spender</td>\n",
       "      <td>5.00</td>\n",
       "      <td>Frequent customer</td>\n",
       "      <td>Female</td>\n",
       "      <td>Rhode Island</td>\n",
       "      <td>29</td>\n",
       "      <td>10/5/2017</td>\n",
       "      <td>2</td>\n",
       "      <td>married</td>\n",
       "      <td>71955</td>\n",
       "      <td>both</td>\n",
       "    </tr>\n",
       "    <tr>\n",
       "      <th>3</th>\n",
       "      <td>3046848</td>\n",
       "      <td>55630</td>\n",
       "      <td>50</td>\n",
       "      <td>4</td>\n",
       "      <td>14</td>\n",
       "      <td>3.00</td>\n",
       "      <td>25659</td>\n",
       "      <td>6</td>\n",
       "      <td>0</td>\n",
       "      <td>Organic Coconut Milk</td>\n",
       "      <td>91</td>\n",
       "      <td>16</td>\n",
       "      <td>4.10</td>\n",
       "      <td>Low-range product</td>\n",
       "      <td>Least busy</td>\n",
       "      <td>Least busy days</td>\n",
       "      <td>Most orders</td>\n",
       "      <td>50</td>\n",
       "      <td>Loyal customer</td>\n",
       "      <td>7.55</td>\n",
       "      <td>Low spender</td>\n",
       "      <td>5.00</td>\n",
       "      <td>Frequent customer</td>\n",
       "      <td>Female</td>\n",
       "      <td>Rhode Island</td>\n",
       "      <td>29</td>\n",
       "      <td>10/5/2017</td>\n",
       "      <td>2</td>\n",
       "      <td>married</td>\n",
       "      <td>71955</td>\n",
       "      <td>both</td>\n",
       "    </tr>\n",
       "    <tr>\n",
       "      <th>4</th>\n",
       "      <td>1916379</td>\n",
       "      <td>55630</td>\n",
       "      <td>41</td>\n",
       "      <td>1</td>\n",
       "      <td>8</td>\n",
       "      <td>5.00</td>\n",
       "      <td>13176</td>\n",
       "      <td>9</td>\n",
       "      <td>1</td>\n",
       "      <td>Bag of Organic Bananas</td>\n",
       "      <td>24</td>\n",
       "      <td>4</td>\n",
       "      <td>10.30</td>\n",
       "      <td>Mid-range product</td>\n",
       "      <td>Regularly busy</td>\n",
       "      <td>Busiest days</td>\n",
       "      <td>Average orders</td>\n",
       "      <td>50</td>\n",
       "      <td>Loyal customer</td>\n",
       "      <td>7.55</td>\n",
       "      <td>Low spender</td>\n",
       "      <td>5.00</td>\n",
       "      <td>Frequent customer</td>\n",
       "      <td>Female</td>\n",
       "      <td>Rhode Island</td>\n",
       "      <td>29</td>\n",
       "      <td>10/5/2017</td>\n",
       "      <td>2</td>\n",
       "      <td>married</td>\n",
       "      <td>71955</td>\n",
       "      <td>both</td>\n",
       "    </tr>\n",
       "  </tbody>\n",
       "</table>\n",
       "</div>"
      ],
      "text/plain": [
       "   order_id  user_id  order_number  orders_day_of_week  order_hour_of_day  \\\n",
       "0   2617132    55630             6                   2                 15   \n",
       "1   1262501    55630            17                   2                 14   \n",
       "2    841284    55630            26                   2                 10   \n",
       "3   3046848    55630            50                   4                 14   \n",
       "4   1916379    55630            41                   1                  8   \n",
       "\n",
       "   days_since_prior_order  product_id  add_to_cart_order  reordered  \\\n",
       "0                    5.00       31766                 13          0   \n",
       "1                   12.00       27966                  1          1   \n",
       "2                    4.00       27966                  1          1   \n",
       "3                    3.00       25659                  6          0   \n",
       "4                    5.00       13176                  9          1   \n",
       "\n",
       "             product_name  aisle_id  department_id  prices    price_range_loc  \\\n",
       "0     Cheese Pizza Snacks       129              1   14.30  Mid-range product   \n",
       "1     Organic Raspberries       123              4    4.40  Low-range product   \n",
       "2     Organic Raspberries       123              4    4.40  Low-range product   \n",
       "3    Organic Coconut Milk        91             16    4.10  Low-range product   \n",
       "4  Bag of Organic Bananas        24              4   10.30  Mid-range product   \n",
       "\n",
       "      busiest_day     busiest_days busiest_period_of_day  max_order  \\\n",
       "0  Regularly busy   Regularly busy           Most orders         50   \n",
       "1  Regularly busy   Regularly busy           Most orders         50   \n",
       "2  Regularly busy   Regularly busy           Most orders         50   \n",
       "3      Least busy  Least busy days           Most orders         50   \n",
       "4  Regularly busy     Busiest days        Average orders         50   \n",
       "\n",
       "     loyalty_flag  mean_price spender_flag  median_order order_frequency_flag  \\\n",
       "0  Loyal customer        7.55  Low spender          5.00    Frequent customer   \n",
       "1  Loyal customer        7.55  Low spender          5.00    Frequent customer   \n",
       "2  Loyal customer        7.55  Low spender          5.00    Frequent customer   \n",
       "3  Loyal customer        7.55  Low spender          5.00    Frequent customer   \n",
       "4  Loyal customer        7.55  Low spender          5.00    Frequent customer   \n",
       "\n",
       "   gender    state_name  age_customer date_joined  number_dependants  \\\n",
       "0  Female  Rhode Island            29   10/5/2017                  2   \n",
       "1  Female  Rhode Island            29   10/5/2017                  2   \n",
       "2  Female  Rhode Island            29   10/5/2017                  2   \n",
       "3  Female  Rhode Island            29   10/5/2017                  2   \n",
       "4  Female  Rhode Island            29   10/5/2017                  2   \n",
       "\n",
       "  marital_status  income _merge  \n",
       "0        married   71955   both  \n",
       "1        married   71955   both  \n",
       "2        married   71955   both  \n",
       "3        married   71955   both  \n",
       "4        married   71955   both  "
      ]
     },
     "execution_count": 109,
     "metadata": {},
     "output_type": "execute_result"
    }
   ],
   "source": [
    "# Check merge output\n",
    "\n",
    "cust_ords_prods.head()"
   ]
  },
  {
   "cell_type": "code",
   "execution_count": 112,
   "id": "19f7d734-b0e6-40d5-9e6c-33b02d22ff4a",
   "metadata": {
    "execution": {
     "iopub.execute_input": "2025-01-11T01:14:22.580115Z",
     "iopub.status.busy": "2025-01-11T01:14:22.579608Z",
     "iopub.status.idle": "2025-01-11T01:14:22.641510Z",
     "shell.execute_reply": "2025-01-11T01:14:22.640769Z",
     "shell.execute_reply.started": "2025-01-11T01:14:22.580090Z"
    }
   },
   "outputs": [
    {
     "data": {
      "text/plain": [
       "_merge\n",
       "both          6480944\n",
       "left_only           0\n",
       "right_only          0\n",
       "Name: count, dtype: int64"
      ]
     },
     "execution_count": 112,
     "metadata": {},
     "output_type": "execute_result"
    }
   ],
   "source": [
    "# perform merge flag\n",
    "\n",
    "cust_ords_prods['_merge'].value_counts()"
   ]
  },
  {
   "cell_type": "code",
   "execution_count": 115,
   "id": "c6883d93-2e03-4f74-b658-7f917113ddbe",
   "metadata": {
    "execution": {
     "iopub.execute_input": "2025-01-11T01:14:25.233742Z",
     "iopub.status.busy": "2025-01-11T01:14:25.233181Z",
     "iopub.status.idle": "2025-01-11T01:14:25.250559Z",
     "shell.execute_reply": "2025-01-11T01:14:25.249883Z",
     "shell.execute_reply.started": "2025-01-11T01:14:25.233713Z"
    }
   },
   "outputs": [
    {
     "data": {
      "text/plain": [
       "(6480944, 31)"
      ]
     },
     "execution_count": 115,
     "metadata": {},
     "output_type": "execute_result"
    }
   ],
   "source": [
    "# Check merged dataframe shape\n",
    "\n",
    "cust_ords_prods.shape"
   ]
  },
  {
   "cell_type": "code",
   "execution_count": 118,
   "id": "97a024cc-ae1e-4eeb-899a-4022edc4816a",
   "metadata": {
    "execution": {
     "iopub.execute_input": "2025-01-11T01:14:35.545902Z",
     "iopub.status.busy": "2025-01-11T01:14:35.545596Z",
     "iopub.status.idle": "2025-01-11T01:14:36.628370Z",
     "shell.execute_reply": "2025-01-11T01:14:36.627327Z",
     "shell.execute_reply.started": "2025-01-11T01:14:35.545882Z"
    }
   },
   "outputs": [],
   "source": [
    "# Remove '_merge' column\n",
    "\n",
    "cust_ords_prods_2 = cust_ords_prods.drop(columns = '_merge')"
   ]
  },
  {
   "cell_type": "markdown",
   "id": "6eed511a-0388-4398-8394-03ba2c2a0502",
   "metadata": {},
   "source": [
    "# 05. Export as Pickle"
   ]
  },
  {
   "cell_type": "code",
   "execution_count": 124,
   "id": "f158a764-493c-43a6-9646-98cccb4334db",
   "metadata": {
    "execution": {
     "iopub.execute_input": "2025-01-11T01:15:09.556081Z",
     "iopub.status.busy": "2025-01-11T01:15:09.555622Z",
     "iopub.status.idle": "2025-01-11T01:15:16.175141Z",
     "shell.execute_reply": "2025-01-11T01:15:16.174307Z",
     "shell.execute_reply.started": "2025-01-11T01:15:09.556057Z"
    }
   },
   "outputs": [],
   "source": [
    "# Export merged dataframe as pickle\n",
    "\n",
    "cust_ords_prods_2.to_pickle(os.path.join(path, '02 Data', 'Prepared Data', 'customers_orders_products.pkl'))"
   ]
  }
 ],
 "metadata": {
  "kernelspec": {
   "display_name": "anaconda-2024.02-py310",
   "language": "python",
   "name": "conda-env-anaconda-2024.02-py310-py"
  },
  "language_info": {
   "codemirror_mode": {
    "name": "ipython",
    "version": 3
   },
   "file_extension": ".py",
   "mimetype": "text/x-python",
   "name": "python",
   "nbconvert_exporter": "python",
   "pygments_lexer": "ipython3",
   "version": "3.10.14"
  }
 },
 "nbformat": 4,
 "nbformat_minor": 5
}
